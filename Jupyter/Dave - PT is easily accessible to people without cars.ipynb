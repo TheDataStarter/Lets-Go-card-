{
 "cells": [
  {
   "cell_type": "markdown",
   "metadata": {},
   "source": [
    "# Hypothesis - public transport is easily accessible to people without cars"
   ]
  },
  {
   "cell_type": "markdown",
   "metadata": {},
   "source": [
    "Hey guys, back with a more challening hypothesis to address (because it's time to bring in new data outside of the original spec) - public transport is easily accessible to people without cars. My goal with this piece is to introduce some other ABS data, using the metadata listing Eric provided here - https://drive.google.com/open?id=1CCXJ1blJ6xoUeOgfEZVzWPVBOhwnXB3-\n",
    "\n",
    "Cheers Eric!\n",
    "\n",
    "From looking at this metadata file, the data subsets I'm thinking will be useful are:\n",
    "- G43 - Labour Force Status by Age by Sex (and using the next sheet, probably \"G9074 - P_Tot_Emp_Tot-Persons_Total_employed_Total\" (to get the nunber of persons per SA2 who are employed in some capacity))\n",
    "- G59 - Method of Travel to Work by Sex (and using the next sheet, \"G15526 - Worked_home_P - Worked_at_home_Persons\" (to get the number of workers who don't travel at all for work)\n",
    "- G59 - Method of Travel to Work by Sex (and using the next sheet, a _whole bunch of variables_ that indicate the number of people who used at least one of at least one of train, bus, tram or ferry (but not cars) in their travel to work - will need some deft aggregation to get a sensible answer out of this\n",
    "- G30 - Number of Motor Vehicles by Dwellings (and by using the next sheet, \"G7897 - Total_dwelings - Total_Dwellings\" and \"G7890 - Num_MVs_per_dweling_0_MVs - Number_of_motor_vehicles_per_dwelling_No_motor_vehicles_Dwellings\" to calculate an indicative percentage of the number of dwellings that have no cars in the area\")\n",
    "\n",
    "To make use of these datasets, I am planning on (attempting to):\n",
    "- only focus on the SA2 areas we are interested in for our analysis\n",
    "- for each SA2 area - have both the reported population (from 1F) and the number of people who are employed (from G43).\n",
    "- For each SA2 area - subtract the number of people who work at home (from G59) from the number of employed peoples.\n",
    "- For each SA2 area - aggregate the number of people who use at least one of train, bus, tram or ferry to travel to work (from G59) (but deliberately exclude all records that involve the use of a car) \n",
    "- For each SA2 area - calculate the percentage of dwellings in each area that do not have a car (from G30)\n",
    "\n",
    "This should allow us to discover some things on our way to evaluating this hypothesis:\n",
    "- is there a relationship between % employed and SAD index?\n",
    "- is there a relationship between % of people who are employed AND have to travel to work and SAD index? (in other words, which areas are more likely to encourage working from home?)\n",
    "- is there a relationship between SAD index and people who only use PT to get to work?\n",
    "- is there a relationship between SAD index and people who only use PT to get to work, normalised by the percentage of houses that don't have a car? (an extension of the previous one, will be interesting to see if/how this changes the relationship)\n",
    "\n",
    "Ultimately, I am trying to get the data to a point that shows whether there is a meaningful relationship in the data between the number of people who rely on public transport to get to work (normalised by houses without cars) and the number of services provided in that SA2 area (which I'll just lift from the \"Hypothesis - public transport serves people of relative wealth\" hypothesis, rather than reinventing the wheel).\n",
    "\n",
    "Finally, as always, I then plan to further analysis this relationship (if one can be found) by filtering on each of our SA2 areas to see what results.\n",
    "\n",
    "_Note_ - unlike the last hypothesis, this one has a lot of moving parts and data that I'm not as familiar with. As a result, I'm planning on tackling it in smaller, self-contained chunks that won't be as streamlined or optimised at first. As a result, depending on timing and energy, I might do a second notebook to replicate the findings of this one in a more cohesive, streamlined way (with fewer interim steps). We'll see how we go ;)\n",
    "\n",
    "_Also note_ - there are some assumptions being made here (due to the data we have available). Documenting them here as I find them:\n",
    "- people who travel to work using public transport but NOT using cars will be normalised by the percentage of dwellings in the area that don't have a car - this isn't an exact science, as it completely fails to capture people who have cars but choose not to use them to get to work. It should be noted that this will give an indicative number only suitable for relative comparison with other areas who have had the same calculations applied. The hope is that the relative errors between areas will be roughly equivalent. Ideally, we would seek out either better reference data to be more exact in this (or at least, validate our approach with a relevant subject matter expert - but I see this as outside the scope of this assignment)\n",
    "- any categorisation of \"travelled to work via Other\" or similar where it's not clear that a car was involved or not - assuming a car was involved. Excluded from PT numbers as a result, which may make these numbers appear lower than they should be. Nothing we can do to resolve, and hopefully treating every record with the same brush will result in similar scales of uncertainty, if nothing else.\n",
    "- As the focus is on people accessing PT where they don't have a car to get to work, things like taxis, walking to work, riding a bike, and so on are excluded from this dataset. \n",
    "\n",
    "My current workflow involves having both this Jupityr notebook and R Studio open in parallel. I perform every step in R Studio first and make sure it does what I want it to do (and correct anything that needs correcting), then paste the code in here to ensure Jupityer gives an identical result.\n",
    "\n",
    "I should also mention that I've copied all of the ABS datasets identified above into my local Processed Data folder, but they are identical to the ones from https://drive.google.com/open?id=1TSQcJvtTyzVh92KGNdPqcPpTtxMX9ixW\n",
    "\n",
    "First, as always, let's get some libraries.\n"
   ]
  },
  {
   "cell_type": "code",
   "execution_count": 1,
   "metadata": {},
   "outputs": [
    {
     "name": "stderr",
     "output_type": "stream",
     "text": [
      "Warning message:\n",
      "\"package 'readr' was built under R version 3.4.4\"Warning message:\n",
      "\"package 'plyr' was built under R version 3.4.4\"\n",
      "Attaching package: 'dplyr'\n",
      "\n",
      "The following objects are masked from 'package:plyr':\n",
      "\n",
      "    arrange, count, desc, failwith, id, mutate, rename, summarise,\n",
      "    summarize\n",
      "\n",
      "The following objects are masked from 'package:stats':\n",
      "\n",
      "    filter, lag\n",
      "\n",
      "The following objects are masked from 'package:base':\n",
      "\n",
      "    intersect, setdiff, setequal, union\n",
      "\n"
     ]
    }
   ],
   "source": [
    "library(readr)\n",
    "library(plyr)\n",
    "library(dplyr)\n",
    "# Note from Dave to Dave - ALWAYS load plyr before dplyr or group_by doesn't work properly\n",
    "# Note - have updated to use combined_quantity from the 1C dataset to give more meaningful results"
   ]
  },
  {
   "cell_type": "markdown",
   "metadata": {},
   "source": [
    "Next, I'm going to do an interim step that probably isn't a very effecient way of achieving this, but it'll help me keep everything straight in my head. Let's import 1F (as as discussed earlier, my version of 1F) to _just_ get the SA2 codes, names and population counts we need for now as a reference table."
   ]
  },
  {
   "cell_type": "code",
   "execution_count": 2,
   "metadata": {},
   "outputs": [
    {
     "data": {
      "text/html": [
       "<table>\n",
       "<thead><tr><th scope=col>SA2Code</th><th scope=col>SA2Name</th><th scope=col>Pop</th></tr></thead>\n",
       "<tbody>\n",
       "\t<tr><td>305011105    </td><td>Brisbane City</td><td>10192        </td></tr>\n",
       "\t<tr><td>305011105    </td><td>Brisbane City</td><td>10192        </td></tr>\n",
       "\t<tr><td>305011105    </td><td>Brisbane City</td><td>10192        </td></tr>\n",
       "\t<tr><td>305011111    </td><td>Spring Hill  </td><td> 6063        </td></tr>\n",
       "\t<tr><td>305011105    </td><td>Brisbane City</td><td>10192        </td></tr>\n",
       "\t<tr><td>305011105    </td><td>Brisbane City</td><td>10192        </td></tr>\n",
       "</tbody>\n",
       "</table>\n"
      ],
      "text/latex": [
       "\\begin{tabular}{r|lll}\n",
       " SA2Code & SA2Name & Pop\\\\\n",
       "\\hline\n",
       "\t 305011105     & Brisbane City & 10192        \\\\\n",
       "\t 305011105     & Brisbane City & 10192        \\\\\n",
       "\t 305011105     & Brisbane City & 10192        \\\\\n",
       "\t 305011111     & Spring Hill   &  6063        \\\\\n",
       "\t 305011105     & Brisbane City & 10192        \\\\\n",
       "\t 305011105     & Brisbane City & 10192        \\\\\n",
       "\\end{tabular}\n"
      ],
      "text/markdown": [
       "\n",
       "SA2Code | SA2Name | Pop | \n",
       "|---|---|---|---|---|---|\n",
       "| 305011105     | Brisbane City | 10192         | \n",
       "| 305011105     | Brisbane City | 10192         | \n",
       "| 305011105     | Brisbane City | 10192         | \n",
       "| 305011111     | Spring Hill   |  6063         | \n",
       "| 305011105     | Brisbane City | 10192         | \n",
       "| 305011105     | Brisbane City | 10192         | \n",
       "\n",
       "\n"
      ],
      "text/plain": [
       "  SA2Code   SA2Name       Pop  \n",
       "1 305011105 Brisbane City 10192\n",
       "2 305011105 Brisbane City 10192\n",
       "3 305011105 Brisbane City 10192\n",
       "4 305011111 Spring Hill    6063\n",
       "5 305011105 Brisbane City 10192\n",
       "6 305011105 Brisbane City 10192"
      ]
     },
     "metadata": {},
     "output_type": "display_data"
    }
   ],
   "source": [
    "our_SA2 <- read_csv(\"Processed Data/1F/SA2_stops_by_mode.csv\", col_types = cols(AREASQKM16 = col_skip(), Score = col_skip(), Team_Member = col_skip(), is_bus_stop = col_skip(), is_ferry_stop = col_skip(), is_train_station = col_skip(), is_tram_stop = col_skip(), stop_id = col_skip(), stop_lat = col_skip(), stop_lon = col_skip(), stop_name = col_skip(), stop_url = col_skip()))\n",
    "head(our_SA2)"
   ]
  },
  {
   "cell_type": "markdown",
   "metadata": {},
   "source": [
    "As you can see, this dataset is filled with now duplicate rows - we only need unique rows to move forward with. It's also worth ensuring we have no row with missing values.  I'll also generate some summary statistics for reference."
   ]
  },
  {
   "cell_type": "code",
   "execution_count": 3,
   "metadata": {},
   "outputs": [
    {
     "data": {
      "text/plain": [
       "    SA2Code            SA2Name               Pop       \n",
       " Min.   :112031254   Length:296         Min.   :  196  \n",
       " 1st Qu.:303051075   Class :character   1st Qu.: 6828  \n",
       " Median :309031236   Mode  :character   Median : 9484  \n",
       " Mean   :307264259                      Mean   :10597  \n",
       " 3rd Qu.:311051323                      3rd Qu.:13308  \n",
       " Max.   :319031514                      Max.   :31214  "
      ]
     },
     "metadata": {},
     "output_type": "display_data"
    }
   ],
   "source": [
    "our_SA2 <- na.omit(our_SA2)\n",
    "our_SA2 <- unique(our_SA2)\n",
    "summary(our_SA2)"
   ]
  },
  {
   "cell_type": "markdown",
   "metadata": {},
   "source": [
    "As you can see, we have 296 SA2 areas to work with in our universe of interest.\n",
    "\n",
    "This is another matter of personal preference - no reason why I couldn't work with all SA2 areas in the ABS data and filter at the end, but by doing it as we go it's working with a smaller dataset, which I always prefer.\n",
    "\n",
    "Next, let's bring in the first of our new ABS datasets - G43B (for some reason, G43 is split into A and B datasets - the data feature we want is in B). Also, as part of the import, I will be excluding _187_ columns to get the two I want... o_0"
   ]
  },
  {
   "cell_type": "code",
   "execution_count": 4,
   "metadata": {},
   "outputs": [
    {
     "data": {
      "text/html": [
       "<table>\n",
       "<thead><tr><th scope=col>SA2_MAINCODE_2016</th><th scope=col>P_Tot_Emp_Tot</th></tr></thead>\n",
       "<tbody>\n",
       "\t<tr><td>301011001</td><td>8311     </td></tr>\n",
       "\t<tr><td>301011002</td><td>3835     </td></tr>\n",
       "\t<tr><td>301011003</td><td>7349     </td></tr>\n",
       "\t<tr><td>301011004</td><td>8995     </td></tr>\n",
       "\t<tr><td>301011005</td><td>1836     </td></tr>\n",
       "\t<tr><td>301011006</td><td>5975     </td></tr>\n",
       "</tbody>\n",
       "</table>\n"
      ],
      "text/latex": [
       "\\begin{tabular}{r|ll}\n",
       " SA2\\_MAINCODE\\_2016 & P\\_Tot\\_Emp\\_Tot\\\\\n",
       "\\hline\n",
       "\t 301011001 & 8311     \\\\\n",
       "\t 301011002 & 3835     \\\\\n",
       "\t 301011003 & 7349     \\\\\n",
       "\t 301011004 & 8995     \\\\\n",
       "\t 301011005 & 1836     \\\\\n",
       "\t 301011006 & 5975     \\\\\n",
       "\\end{tabular}\n"
      ],
      "text/markdown": [
       "\n",
       "SA2_MAINCODE_2016 | P_Tot_Emp_Tot | \n",
       "|---|---|---|---|---|---|\n",
       "| 301011001 | 8311      | \n",
       "| 301011002 | 3835      | \n",
       "| 301011003 | 7349      | \n",
       "| 301011004 | 8995      | \n",
       "| 301011005 | 1836      | \n",
       "| 301011006 | 5975      | \n",
       "\n",
       "\n"
      ],
      "text/plain": [
       "  SA2_MAINCODE_2016 P_Tot_Emp_Tot\n",
       "1 301011001         8311         \n",
       "2 301011002         3835         \n",
       "3 301011003         7349         \n",
       "4 301011004         8995         \n",
       "5 301011005         1836         \n",
       "6 301011006         5975         "
      ]
     },
     "metadata": {},
     "output_type": "display_data"
    }
   ],
   "source": [
    "g43_data <- read_csv(\"Processed Data/ABS/2016Census_G43B_QLD_SA2.csv\", col_types = cols(F_LFS_NS_15_19 = col_skip(), F_LFS_NS_20_24 = col_skip(), F_LFS_NS_25_34 = col_skip(), F_LFS_NS_35_44 = col_skip(), F_LFS_NS_45_54 = col_skip(), F_LFS_NS_55_64 = col_skip(), F_LFS_NS_65_74 = col_skip(), F_LFS_NS_75_84 = col_skip(), F_LFS_NS_85ov = col_skip(), F_LFS_NS_Tot = col_skip(), F_Not_in_LF_15_19 = col_skip(), F_Not_in_LF_20_24 = col_skip(), F_Not_in_LF_25_34 = col_skip(), F_Not_in_LF_35_44 = col_skip(), F_Not_in_LF_45_54 = col_skip(), F_Not_in_LF_55_64 = col_skip(), F_Not_in_LF_65_74 = col_skip(), F_Not_in_LF_75_84 = col_skip(), F_Not_in_LF_85ov = col_skip(), F_Not_in_LF_Tot = col_skip(), F_Tot_15_19 = col_skip(), F_Tot_20_24 = col_skip(), F_Tot_25_34 = col_skip(), F_Tot_35_44 = col_skip(), F_Tot_45_54 = col_skip(), F_Tot_55_64 = col_skip(), F_Tot_65_74 = col_skip(), F_Tot_75_84 = col_skip(), F_Tot_85ov = col_skip(), F_Tot_LF_15_19 = col_skip(), F_Tot_LF_20_24 = col_skip(), F_Tot_LF_25_34 = col_skip(), F_Tot_LF_35_44 = col_skip(), F_Tot_LF_45_54 = col_skip(), F_Tot_LF_55_64 = col_skip(), F_Tot_LF_65_74 = col_skip(), F_Tot_LF_75_84 = col_skip(), F_Tot_LF_85ov = col_skip(), F_Tot_LF_Tot = col_skip(), F_Tot_Tot = col_skip(), P_Emp_FullT_15_19 = col_skip(), P_Emp_FullT_20_24 = col_skip(), P_Emp_FullT_25_34 = col_skip(), P_Emp_FullT_35_44 = col_skip(), P_Emp_FullT_45_54 = col_skip(), P_Emp_FullT_55_64 = col_skip(), P_Emp_FullT_65_74 = col_skip(), P_Emp_FullT_75_84 = col_skip(), P_Emp_FullT_85ov = col_skip(), P_Emp_FullT_Tot = col_skip(), P_Emp_PartT_15_19 = col_skip(), P_Emp_PartT_20_24 = col_skip(), P_Emp_PartT_25_34 = col_skip(), P_Emp_PartT_35_44 = col_skip(), P_Emp_PartT_45_54 = col_skip(), P_Emp_PartT_55_64 = col_skip(), P_Emp_PartT_65_74 = col_skip(), P_Emp_PartT_75_84 = col_skip(), P_Emp_PartT_85ov = col_skip(), P_Emp_PartT_Tot = col_skip(), P_Emp_awy_f_wrk_15_19 = col_skip(), P_Emp_awy_f_wrk_20_24 = col_skip(), P_Emp_awy_f_wrk_25_34 = col_skip(), P_Emp_awy_f_wrk_35_44 = col_skip(), P_Emp_awy_f_wrk_45_54 = col_skip(), P_Emp_awy_f_wrk_55_64 = col_skip(), P_Emp_awy_f_wrk_65_74 = col_skip(), P_Emp_awy_f_wrk_75_84 = col_skip(), P_Emp_awy_f_wrk_85ov = col_skip(), P_Emp_awy_f_wrk_Tot = col_skip(), P_Hours_wkd_NS_15_19 = col_skip(), P_Hours_wkd_NS_20_24 = col_skip(), P_Hours_wkd_NS_25_34 = col_skip(), P_Hours_wkd_NS_35_44 = col_skip(), P_Hours_wkd_NS_45_54 = col_skip(), P_Hours_wkd_NS_55_64 = col_skip(), P_Hours_wkd_NS_65_74 = col_skip(), P_Hours_wkd_NS_75_84 = col_skip(), P_Hours_wkd_NS_85ov = col_skip(), P_Hours_wkd_NS_Tot = col_skip(), P_LFS_NS_15_19 = col_skip(), P_LFS_NS_20_24 = col_skip(), P_LFS_NS_25_34 = col_skip(), P_LFS_NS_35_44 = col_skip(), P_LFS_NS_45_54 = col_skip(), P_LFS_NS_55_64 = col_skip(), P_LFS_NS_65_74 = col_skip(), P_LFS_NS_75_84 = col_skip(), P_LFS_NS_85ov = col_skip(), P_LFS_NS_Tot = col_skip(), P_Not_in_LF_15_19 = col_skip(), P_Not_in_LF_20_24 = col_skip(), P_Not_in_LF_25_34 = col_skip(), P_Not_in_LF_35_44 = col_skip(), P_Not_in_LF_45_54 = col_skip(), P_Not_in_LF_55_64 = col_skip(), P_Not_in_LF_65_74 = col_skip(), P_Not_in_LF_75_84 = col_skip(), P_Not_in_LF_85ov = col_skip(), P_Not_in_LF_Tot = col_skip(), P_Tot_15_19 = col_skip(), P_Tot_20_24 = col_skip(), P_Tot_25_34 = col_skip(), P_Tot_35_44 = col_skip(), P_Tot_45_54 = col_skip(), P_Tot_55_64 = col_skip(), P_Tot_65_74 = col_skip(), P_Tot_75_84 = col_skip(), P_Tot_85ov = col_skip(), P_Tot_Emp_15_19 = col_skip(), P_Tot_Emp_20_24 = col_skip(), P_Tot_Emp_25_34 = col_skip(), P_Tot_Emp_35_44 = col_skip(), P_Tot_Emp_45_54 = col_skip(), P_Tot_Emp_55_64 = col_skip(), P_Tot_Emp_65_74 = col_skip(), P_Tot_Emp_75_84 = col_skip(), P_Tot_Emp_85ov = col_skip(), P_Tot_LF_15_19 = col_skip(), P_Tot_LF_20_24 = col_skip(), P_Tot_LF_25_34 = col_skip(), P_Tot_LF_35_44 = col_skip(), P_Tot_LF_45_54 = col_skip(), P_Tot_LF_55_64 = col_skip(), P_Tot_LF_65_74 = col_skip(), P_Tot_LF_75_84 = col_skip(), P_Tot_LF_85ov = col_skip(), P_Tot_LF_Tot = col_skip(), P_Tot_Tot = col_skip(), P_Tot_Unemp_15_19 = col_skip(), P_Tot_Unemp_20_24 = col_skip(), P_Tot_Unemp_25_34 = col_skip(), P_Tot_Unemp_35_44 = col_skip(), P_Tot_Unemp_45_54 = col_skip(), P_Tot_Unemp_55_64 = col_skip(), P_Tot_Unemp_65_74 = col_skip(), P_Tot_Unemp_75_84 = col_skip(), P_Tot_Unemp_85ov = col_skip(), P_Tot_Unemp_Tot = col_skip(), P_Unem_look_FTW_15_19 = col_skip(), P_Unem_look_FTW_20_24 = col_skip(), P_Unem_look_FTW_25_34 = col_skip(), P_Unem_look_FTW_35_44 = col_skip(), P_Unem_look_FTW_45_54 = col_skip(), P_Unem_look_FTW_55_64 = col_skip(), P_Unem_look_FTW_65_74 = col_skip(), P_Unem_look_FTW_75_84 = col_skip(), P_Unem_look_FTW_85ov = col_skip(), P_Unem_look_FTW_Tot = col_skip(), P_Unem_look_PTW_15_19 = col_skip(), P_Unem_look_PTW_20_24 = col_skip(), P_Unem_look_PTW_25_34 = col_skip(), P_Unem_look_PTW_35_44 = col_skip(), P_Unem_look_PTW_45_54 = col_skip(), P_Unem_look_PTW_55_64 = col_skip(), P_Unem_look_PTW_65_74 = col_skip(), P_Unem_look_PTW_75_84 = col_skip(), P_Unem_look_PTW_85ov = col_skip(), P_Unem_look_PTW_Tot = col_skip()))\n",
    "head(g43_data)"
   ]
  },
  {
   "cell_type": "markdown",
   "metadata": {},
   "source": [
    "Let's clean up the column names a to be a little more meaningful...."
   ]
  },
  {
   "cell_type": "code",
   "execution_count": 5,
   "metadata": {},
   "outputs": [
    {
     "data": {
      "text/plain": [
       "    SA2Code          number_of_employees\n",
       " Min.   :301011001   Min.   :    0      \n",
       " 1st Qu.:305041133   1st Qu.: 2444      \n",
       " Median :309091402   Median : 3653      \n",
       " Mean   :310209722   Mean   : 4031      \n",
       " 3rd Qu.:315011397   3rd Qu.: 5223      \n",
       " Max.   :399999499   Max.   :14884      "
      ]
     },
     "metadata": {},
     "output_type": "display_data"
    }
   ],
   "source": [
    "colnames(g43_data)[colnames(g43_data)==\"SA2_MAINCODE_2016\"] <- \"SA2Code\"\n",
    "colnames(g43_data)[colnames(g43_data)==\"P_Tot_Emp_Tot\"] <- \"number_of_employees\"\n",
    "summary(g43_data)"
   ]
  },
  {
   "cell_type": "markdown",
   "metadata": {},
   "source": [
    "We can see the names are now better, but we can also see there are 530 SA2 codes in this list - it's the whole country, not just the bits we care about. Let's join with our 1F reference set from before to finish off this piece of the puzzle."
   ]
  },
  {
   "cell_type": "code",
   "execution_count": 6,
   "metadata": {},
   "outputs": [
    {
     "data": {
      "text/html": [
       "<table>\n",
       "<thead><tr><th scope=col>SA2Code</th><th scope=col>number_of_employees</th><th scope=col>SA2Name</th><th scope=col>Pop</th></tr></thead>\n",
       "<tbody>\n",
       "\t<tr><td>301011001        </td><td>8311             </td><td>Alexandra Hills  </td><td>16345            </td></tr>\n",
       "\t<tr><td>301011002        </td><td>3835             </td><td>Belmont - Gumdale</td><td> 7375            </td></tr>\n",
       "\t<tr><td>301011003        </td><td>7349             </td><td>Birkdale         </td><td>14923            </td></tr>\n",
       "\t<tr><td>301011004        </td><td>8995             </td><td>Capalaba         </td><td>17588            </td></tr>\n",
       "\t<tr><td>301011005        </td><td>1836             </td><td>Thorneside       </td><td> 3761            </td></tr>\n",
       "\t<tr><td>301011006        </td><td>5975             </td><td>Wellington Point </td><td>11576            </td></tr>\n",
       "</tbody>\n",
       "</table>\n"
      ],
      "text/latex": [
       "\\begin{tabular}{r|llll}\n",
       " SA2Code & number\\_of\\_employees & SA2Name & Pop\\\\\n",
       "\\hline\n",
       "\t 301011001         & 8311              & Alexandra Hills   & 16345            \\\\\n",
       "\t 301011002         & 3835              & Belmont - Gumdale &  7375            \\\\\n",
       "\t 301011003         & 7349              & Birkdale          & 14923            \\\\\n",
       "\t 301011004         & 8995              & Capalaba          & 17588            \\\\\n",
       "\t 301011005         & 1836              & Thorneside        &  3761            \\\\\n",
       "\t 301011006         & 5975              & Wellington Point  & 11576            \\\\\n",
       "\\end{tabular}\n"
      ],
      "text/markdown": [
       "\n",
       "SA2Code | number_of_employees | SA2Name | Pop | \n",
       "|---|---|---|---|---|---|\n",
       "| 301011001         | 8311              | Alexandra Hills   | 16345             | \n",
       "| 301011002         | 3835              | Belmont - Gumdale |  7375             | \n",
       "| 301011003         | 7349              | Birkdale          | 14923             | \n",
       "| 301011004         | 8995              | Capalaba          | 17588             | \n",
       "| 301011005         | 1836              | Thorneside        |  3761             | \n",
       "| 301011006         | 5975              | Wellington Point  | 11576             | \n",
       "\n",
       "\n"
      ],
      "text/plain": [
       "  SA2Code   number_of_employees SA2Name           Pop  \n",
       "1 301011001 8311                Alexandra Hills   16345\n",
       "2 301011002 3835                Belmont - Gumdale  7375\n",
       "3 301011003 7349                Birkdale          14923\n",
       "4 301011004 8995                Capalaba          17588\n",
       "5 301011005 1836                Thorneside         3761\n",
       "6 301011006 5975                Wellington Point  11576"
      ]
     },
     "metadata": {},
     "output_type": "display_data"
    }
   ],
   "source": [
    "g43_data <- join(g43_data, our_SA2, by=\"SA2Code\", type=\"inner\")\n",
    "head(g43_data)"
   ]
  },
  {
   "cell_type": "markdown",
   "metadata": {},
   "source": [
    "Finally, to sidetrack a little, let's also calculate the percentage of the population of each SA2 area that are unemployed."
   ]
  },
  {
   "cell_type": "code",
   "execution_count": 7,
   "metadata": {},
   "outputs": [
    {
     "data": {
      "text/html": [
       "<table>\n",
       "<thead><tr><th scope=col>SA2Code</th><th scope=col>number_of_employees</th><th scope=col>SA2Name</th><th scope=col>Pop</th><th scope=col>percent_unemployed</th></tr></thead>\n",
       "<tbody>\n",
       "\t<tr><td>301011001        </td><td>8311             </td><td>Alexandra Hills  </td><td>16345            </td><td>49.15265         </td></tr>\n",
       "\t<tr><td>301011002        </td><td>3835             </td><td>Belmont - Gumdale</td><td> 7375            </td><td>48.00000         </td></tr>\n",
       "\t<tr><td>301011003        </td><td>7349             </td><td>Birkdale         </td><td>14923            </td><td>50.75387         </td></tr>\n",
       "\t<tr><td>301011004        </td><td>8995             </td><td>Capalaba         </td><td>17588            </td><td>48.85718         </td></tr>\n",
       "\t<tr><td>301011005        </td><td>1836             </td><td>Thorneside       </td><td> 3761            </td><td>51.18320         </td></tr>\n",
       "\t<tr><td>301011006        </td><td>5975             </td><td>Wellington Point </td><td>11576            </td><td>48.38459         </td></tr>\n",
       "</tbody>\n",
       "</table>\n"
      ],
      "text/latex": [
       "\\begin{tabular}{r|lllll}\n",
       " SA2Code & number\\_of\\_employees & SA2Name & Pop & percent\\_unemployed\\\\\n",
       "\\hline\n",
       "\t 301011001         & 8311              & Alexandra Hills   & 16345             & 49.15265         \\\\\n",
       "\t 301011002         & 3835              & Belmont - Gumdale &  7375             & 48.00000         \\\\\n",
       "\t 301011003         & 7349              & Birkdale          & 14923             & 50.75387         \\\\\n",
       "\t 301011004         & 8995              & Capalaba          & 17588             & 48.85718         \\\\\n",
       "\t 301011005         & 1836              & Thorneside        &  3761             & 51.18320         \\\\\n",
       "\t 301011006         & 5975              & Wellington Point  & 11576             & 48.38459         \\\\\n",
       "\\end{tabular}\n"
      ],
      "text/markdown": [
       "\n",
       "SA2Code | number_of_employees | SA2Name | Pop | percent_unemployed | \n",
       "|---|---|---|---|---|---|\n",
       "| 301011001         | 8311              | Alexandra Hills   | 16345             | 49.15265          | \n",
       "| 301011002         | 3835              | Belmont - Gumdale |  7375             | 48.00000          | \n",
       "| 301011003         | 7349              | Birkdale          | 14923             | 50.75387          | \n",
       "| 301011004         | 8995              | Capalaba          | 17588             | 48.85718          | \n",
       "| 301011005         | 1836              | Thorneside        |  3761             | 51.18320          | \n",
       "| 301011006         | 5975              | Wellington Point  | 11576             | 48.38459          | \n",
       "\n",
       "\n"
      ],
      "text/plain": [
       "  SA2Code   number_of_employees SA2Name           Pop   percent_unemployed\n",
       "1 301011001 8311                Alexandra Hills   16345 49.15265          \n",
       "2 301011002 3835                Belmont - Gumdale  7375 48.00000          \n",
       "3 301011003 7349                Birkdale          14923 50.75387          \n",
       "4 301011004 8995                Capalaba          17588 48.85718          \n",
       "5 301011005 1836                Thorneside         3761 51.18320          \n",
       "6 301011006 5975                Wellington Point  11576 48.38459          "
      ]
     },
     "metadata": {},
     "output_type": "display_data"
    },
    {
     "data": {
      "text/plain": [
       "   Min. 1st Qu.  Median    Mean 3rd Qu.    Max. \n",
       "  35.35   48.86   51.91   52.78   56.39   85.63 "
      ]
     },
     "metadata": {},
     "output_type": "display_data"
    }
   ],
   "source": [
    "g43_data$percent_unemployed <- with(g43_data, ((g43_data$Pop - g43_data$number_of_employees) / g43_data$Pop) * 100)\n",
    "head(g43_data)\n",
    "summary(g43_data$percent_unemployed)"
   ]
  },
  {
   "cell_type": "markdown",
   "metadata": {},
   "source": [
    "Not at all relevant to our hypothesis, but I wonder if there's a correlation between % unemployed and SAD index score? Doesn't help us with public transport, so moving on...  (_also_ - should check which parts of employment stats are actually included in calculating SAD index scores, it might be correlated by design).\n",
    "\n",
    "Alright, so that's all the manipulation I was planning on doing to G43 for now. Next on my hit list was G59 to discover:\n",
    "- \"G15526 - Worked_home_P - Worked_at_home_Persons\" (to get the number of workers who don't travel at all for work\n",
    "- a _whole bunch of variables_ that indicate the number of people who used at least one of at least one of train, bus, tram or ferry (but not cars) in their travel to work - will need some deft aggregation to get a sensible answer out of this\n",
    "\n",
    "I'm going to import G59, but I'm going to do what I would normally do first - open in Excel, manually delete all the columns I don't have a use for, import the result from there. The G59 file I am working from is available from Project - Analysis - Dave - Dave Output on Google Drive (or from here - https://drive.google.com/open?id=1v6UKQoLlxoAoPcKwSN_c89iDyJwaSI30 )\n",
    "\n",
    "The columns I am going to keep here are:\n",
    "- SA2_MAINCODE_2016\n",
    "- One_method_Train_P - One_method_Train_Persons\n",
    "- One_method_Bus_P - One_method_Bus_Persons\n",
    "- One_method_Ferry_P - One_method_Ferry_Persons\n",
    "- One_met_Tram_incl_lt_rail_P - One_method_Tram_includes_light_rail_Persons\n",
    "- Two_methods_Train_Bus_P - Two_methods_Train_and_Bus_Persons\n",
    "- Two_methods_Train_Ferry_P - Two_methods_Train_and_Ferry_Persons\n",
    "- Two_mt_trn_Trm_incl_lt_rl_P - Two_methods_Train_and_Tram_includes_light_rail_Persons\n",
    "- Two_methods_Bus_Ferry_P - Two_methods_Bus_and_Ferry_Persons\n",
    "- Two_mth_Bu_Trm_inc_lt_rl_P - Two_methods_Bus_and_Tram_includes_light_rail_Persons\n",
    "- Worked_home_P - Worked_at_home_Persons\n"
   ]
  },
  {
   "cell_type": "code",
   "execution_count": 8,
   "metadata": {},
   "outputs": [
    {
     "name": "stderr",
     "output_type": "stream",
     "text": [
      "Parsed with column specification:\n",
      "cols(\n",
      "  SA2_MAINCODE_2016 = col_integer(),\n",
      "  One_method_Train_P = col_integer(),\n",
      "  One_method_Bus_P = col_integer(),\n",
      "  One_method_Ferry_P = col_integer(),\n",
      "  One_met_Tram_incl_lt_rail_P = col_integer(),\n",
      "  Two_methods_Train_Bus_P = col_integer(),\n",
      "  Two_methods_Train_Ferry_P = col_integer(),\n",
      "  Two_mt_trn_Trm_incl_lt_rl_P = col_integer(),\n",
      "  Two_methods_Bus_Ferry_P = col_integer(),\n",
      "  Two_mth_Bu_Trm_inc_lt_rl_P = col_integer(),\n",
      "  Worked_home_P = col_integer()\n",
      ")\n"
     ]
    },
    {
     "data": {
      "text/html": [
       "<table>\n",
       "<thead><tr><th scope=col>SA2_MAINCODE_2016</th><th scope=col>One_method_Train_P</th><th scope=col>One_method_Bus_P</th><th scope=col>One_method_Ferry_P</th><th scope=col>One_met_Tram_incl_lt_rail_P</th><th scope=col>Two_methods_Train_Bus_P</th><th scope=col>Two_methods_Train_Ferry_P</th><th scope=col>Two_mt_trn_Trm_incl_lt_rl_P</th><th scope=col>Two_methods_Bus_Ferry_P</th><th scope=col>Two_mth_Bu_Trm_inc_lt_rl_P</th><th scope=col>Worked_home_P</th></tr></thead>\n",
       "<tbody>\n",
       "\t<tr><td>301011001</td><td> 94      </td><td>231      </td><td>3        </td><td>0        </td><td>15       </td><td>0        </td><td>0        </td><td>0        </td><td>0        </td><td>291      </td></tr>\n",
       "\t<tr><td>301011002</td><td> 59      </td><td>145      </td><td>3        </td><td>0        </td><td> 4       </td><td>0        </td><td>0        </td><td>0        </td><td>0        </td><td>286      </td></tr>\n",
       "\t<tr><td>301011003</td><td>331      </td><td> 73      </td><td>0        </td><td>0        </td><td>27       </td><td>0        </td><td>0        </td><td>0        </td><td>0        </td><td>355      </td></tr>\n",
       "\t<tr><td>301011004</td><td> 55      </td><td>274      </td><td>3        </td><td>0        </td><td>12       </td><td>0        </td><td>0        </td><td>0        </td><td>0        </td><td>348      </td></tr>\n",
       "\t<tr><td>301011005</td><td>118      </td><td>  9      </td><td>3        </td><td>0        </td><td>11       </td><td>0        </td><td>0        </td><td>0        </td><td>0        </td><td> 75      </td></tr>\n",
       "\t<tr><td>301011006</td><td>279      </td><td> 53      </td><td>0        </td><td>0        </td><td>25       </td><td>0        </td><td>0        </td><td>0        </td><td>0        </td><td>302      </td></tr>\n",
       "</tbody>\n",
       "</table>\n"
      ],
      "text/latex": [
       "\\begin{tabular}{r|lllllllllll}\n",
       " SA2\\_MAINCODE\\_2016 & One\\_method\\_Train\\_P & One\\_method\\_Bus\\_P & One\\_method\\_Ferry\\_P & One\\_met\\_Tram\\_incl\\_lt\\_rail\\_P & Two\\_methods\\_Train\\_Bus\\_P & Two\\_methods\\_Train\\_Ferry\\_P & Two\\_mt\\_trn\\_Trm\\_incl\\_lt\\_rl\\_P & Two\\_methods\\_Bus\\_Ferry\\_P & Two\\_mth\\_Bu\\_Trm\\_inc\\_lt\\_rl\\_P & Worked\\_home\\_P\\\\\n",
       "\\hline\n",
       "\t 301011001 &  94       & 231       & 3         & 0         & 15        & 0         & 0         & 0         & 0         & 291      \\\\\n",
       "\t 301011002 &  59       & 145       & 3         & 0         &  4        & 0         & 0         & 0         & 0         & 286      \\\\\n",
       "\t 301011003 & 331       &  73       & 0         & 0         & 27        & 0         & 0         & 0         & 0         & 355      \\\\\n",
       "\t 301011004 &  55       & 274       & 3         & 0         & 12        & 0         & 0         & 0         & 0         & 348      \\\\\n",
       "\t 301011005 & 118       &   9       & 3         & 0         & 11        & 0         & 0         & 0         & 0         &  75      \\\\\n",
       "\t 301011006 & 279       &  53       & 0         & 0         & 25        & 0         & 0         & 0         & 0         & 302      \\\\\n",
       "\\end{tabular}\n"
      ],
      "text/markdown": [
       "\n",
       "SA2_MAINCODE_2016 | One_method_Train_P | One_method_Bus_P | One_method_Ferry_P | One_met_Tram_incl_lt_rail_P | Two_methods_Train_Bus_P | Two_methods_Train_Ferry_P | Two_mt_trn_Trm_incl_lt_rl_P | Two_methods_Bus_Ferry_P | Two_mth_Bu_Trm_inc_lt_rl_P | Worked_home_P | \n",
       "|---|---|---|---|---|---|\n",
       "| 301011001 |  94       | 231       | 3         | 0         | 15        | 0         | 0         | 0         | 0         | 291       | \n",
       "| 301011002 |  59       | 145       | 3         | 0         |  4        | 0         | 0         | 0         | 0         | 286       | \n",
       "| 301011003 | 331       |  73       | 0         | 0         | 27        | 0         | 0         | 0         | 0         | 355       | \n",
       "| 301011004 |  55       | 274       | 3         | 0         | 12        | 0         | 0         | 0         | 0         | 348       | \n",
       "| 301011005 | 118       |   9       | 3         | 0         | 11        | 0         | 0         | 0         | 0         |  75       | \n",
       "| 301011006 | 279       |  53       | 0         | 0         | 25        | 0         | 0         | 0         | 0         | 302       | \n",
       "\n",
       "\n"
      ],
      "text/plain": [
       "  SA2_MAINCODE_2016 One_method_Train_P One_method_Bus_P One_method_Ferry_P\n",
       "1 301011001          94                231              3                 \n",
       "2 301011002          59                145              3                 \n",
       "3 301011003         331                 73              0                 \n",
       "4 301011004          55                274              3                 \n",
       "5 301011005         118                  9              3                 \n",
       "6 301011006         279                 53              0                 \n",
       "  One_met_Tram_incl_lt_rail_P Two_methods_Train_Bus_P Two_methods_Train_Ferry_P\n",
       "1 0                           15                      0                        \n",
       "2 0                            4                      0                        \n",
       "3 0                           27                      0                        \n",
       "4 0                           12                      0                        \n",
       "5 0                           11                      0                        \n",
       "6 0                           25                      0                        \n",
       "  Two_mt_trn_Trm_incl_lt_rl_P Two_methods_Bus_Ferry_P\n",
       "1 0                           0                      \n",
       "2 0                           0                      \n",
       "3 0                           0                      \n",
       "4 0                           0                      \n",
       "5 0                           0                      \n",
       "6 0                           0                      \n",
       "  Two_mth_Bu_Trm_inc_lt_rl_P Worked_home_P\n",
       "1 0                          291          \n",
       "2 0                          286          \n",
       "3 0                          355          \n",
       "4 0                          348          \n",
       "5 0                           75          \n",
       "6 0                          302          "
      ]
     },
     "metadata": {},
     "output_type": "display_data"
    }
   ],
   "source": [
    "g59_data<- read_csv(\"Processed Data/ABS/g59.csv\")\n",
    "head(g59_data)"
   ]
  },
  {
   "cell_type": "markdown",
   "metadata": {},
   "source": [
    "Now, just like before, let's rename (some of) our columns and join to our 1F ref set to only get the SA2 areas we care about."
   ]
  },
  {
   "cell_type": "code",
   "execution_count": 9,
   "metadata": {},
   "outputs": [
    {
     "data": {
      "text/plain": [
       "    SA2Code          One_method_Train_P One_method_Bus_P One_method_Ferry_P\n",
       " Min.   :301011001   Min.   :   0.0     Min.   :   0.0   Min.   :  0.000   \n",
       " 1st Qu.:303051076   1st Qu.:  23.0     1st Qu.:  38.0   1st Qu.:  0.000   \n",
       " Median :309031237   Median :  62.0     Median :  83.0   Median :  0.000   \n",
       " Mean   :307926065   Mean   : 140.9     Mean   : 185.6   Mean   :  7.966   \n",
       " 3rd Qu.:311051324   3rd Qu.: 194.5     3rd Qu.: 228.0   3rd Qu.:  3.000   \n",
       " Max.   :319031514   Max.   :1353.0     Max.   :1331.0   Max.   :524.000   \n",
       " One_met_Tram_incl_lt_rail_P Two_methods_Train_Bus_P Two_methods_Train_Ferry_P\n",
       " Min.   :  0.00              Min.   :  0.00          Min.   :0.0000           \n",
       " 1st Qu.:  0.00              1st Qu.:  6.00          1st Qu.:0.0000           \n",
       " Median :  0.00              Median : 17.00          Median :0.0000           \n",
       " Mean   :  5.78              Mean   : 23.77          Mean   :0.1424           \n",
       " 3rd Qu.:  0.00              3rd Qu.: 33.50          3rd Qu.:0.0000           \n",
       " Max.   :627.00              Max.   :123.00          Max.   :5.0000           \n",
       " Two_mt_trn_Trm_incl_lt_rl_P Two_methods_Bus_Ferry_P Two_mth_Bu_Trm_inc_lt_rl_P\n",
       " Min.   : 0.00000            Min.   :  0.000         Min.   :  0.000           \n",
       " 1st Qu.: 0.00000            1st Qu.:  0.000         1st Qu.:  0.000           \n",
       " Median : 0.00000            Median :  0.000         Median :  0.000           \n",
       " Mean   : 0.09831            Mean   :  1.898         Mean   :  1.912           \n",
       " 3rd Qu.: 0.00000            3rd Qu.:  0.000         3rd Qu.:  0.000           \n",
       " Max.   :18.00000            Max.   :161.000         Max.   :129.000           \n",
       " number_worked_from_home   SA2Name               Pop       \n",
       " Min.   :  6.0           Length:295         Min.   :  196  \n",
       " 1st Qu.:140.5           Class :character   1st Qu.: 6813  \n",
       " Median :216.0           Mode  :character   Median : 9479  \n",
       " Mean   :248.9                              Mean   :10567  \n",
       " 3rd Qu.:324.5                              3rd Qu.:13269  \n",
       " Max.   :982.0                              Max.   :31214  "
      ]
     },
     "metadata": {},
     "output_type": "display_data"
    }
   ],
   "source": [
    "colnames(g59_data)[colnames(g59_data)==\"SA2_MAINCODE_2016\"] <- \"SA2Code\"\n",
    "colnames(g59_data)[colnames(g59_data)==\"Worked_home_P\"] <- \"number_worked_from_home\"\n",
    "g59_data <- join(g59_data, our_SA2, by=\"SA2Code\", type=\"inner\")\n",
    "summary(g59_data)"
   ]
  },
  {
   "cell_type": "markdown",
   "metadata": {},
   "source": [
    "Ok, now lets look at aggregating all of these different columns that represent different ways of using public transport to get to work - we only really need it as a single value per SA2 area for what we're trying to do here. So lets sum them and then get rid of the individual columns."
   ]
  },
  {
   "cell_type": "code",
   "execution_count": 10,
   "metadata": {},
   "outputs": [
    {
     "data": {
      "text/html": [
       "<table>\n",
       "<thead><tr><th scope=col>SA2Code</th><th scope=col>number_worked_from_home</th><th scope=col>SA2Name</th><th scope=col>Pop</th><th scope=col>pt_to_work</th></tr></thead>\n",
       "<tbody>\n",
       "\t<tr><td>301011001        </td><td>291              </td><td>Alexandra Hills  </td><td>16345            </td><td>343              </td></tr>\n",
       "\t<tr><td>301011002        </td><td>286              </td><td>Belmont - Gumdale</td><td> 7375            </td><td>211              </td></tr>\n",
       "\t<tr><td>301011003        </td><td>355              </td><td>Birkdale         </td><td>14923            </td><td>431              </td></tr>\n",
       "\t<tr><td>301011004        </td><td>348              </td><td>Capalaba         </td><td>17588            </td><td>344              </td></tr>\n",
       "\t<tr><td>301011005        </td><td> 75              </td><td>Thorneside       </td><td> 3761            </td><td>141              </td></tr>\n",
       "\t<tr><td>301011006        </td><td>302              </td><td>Wellington Point </td><td>11576            </td><td>357              </td></tr>\n",
       "</tbody>\n",
       "</table>\n"
      ],
      "text/latex": [
       "\\begin{tabular}{r|lllll}\n",
       " SA2Code & number\\_worked\\_from\\_home & SA2Name & Pop & pt\\_to\\_work\\\\\n",
       "\\hline\n",
       "\t 301011001         & 291               & Alexandra Hills   & 16345             & 343              \\\\\n",
       "\t 301011002         & 286               & Belmont - Gumdale &  7375             & 211              \\\\\n",
       "\t 301011003         & 355               & Birkdale          & 14923             & 431              \\\\\n",
       "\t 301011004         & 348               & Capalaba          & 17588             & 344              \\\\\n",
       "\t 301011005         &  75               & Thorneside        &  3761             & 141              \\\\\n",
       "\t 301011006         & 302               & Wellington Point  & 11576             & 357              \\\\\n",
       "\\end{tabular}\n"
      ],
      "text/markdown": [
       "\n",
       "SA2Code | number_worked_from_home | SA2Name | Pop | pt_to_work | \n",
       "|---|---|---|---|---|---|\n",
       "| 301011001         | 291               | Alexandra Hills   | 16345             | 343               | \n",
       "| 301011002         | 286               | Belmont - Gumdale |  7375             | 211               | \n",
       "| 301011003         | 355               | Birkdale          | 14923             | 431               | \n",
       "| 301011004         | 348               | Capalaba          | 17588             | 344               | \n",
       "| 301011005         |  75               | Thorneside        |  3761             | 141               | \n",
       "| 301011006         | 302               | Wellington Point  | 11576             | 357               | \n",
       "\n",
       "\n"
      ],
      "text/plain": [
       "  SA2Code   number_worked_from_home SA2Name           Pop   pt_to_work\n",
       "1 301011001 291                     Alexandra Hills   16345 343       \n",
       "2 301011002 286                     Belmont - Gumdale  7375 211       \n",
       "3 301011003 355                     Birkdale          14923 431       \n",
       "4 301011004 348                     Capalaba          17588 344       \n",
       "5 301011005  75                     Thorneside         3761 141       \n",
       "6 301011006 302                     Wellington Point  11576 357       "
      ]
     },
     "metadata": {},
     "output_type": "display_data"
    }
   ],
   "source": [
    "g59_data$pt_to_work <- with(g59_data, g59_data$One_method_Bus_P + g59_data$One_method_Ferry_P + g59_data$One_met_Tram_incl_lt_rail_P + g59_data$One_method_Train_P + g59_data$Two_methods_Train_Bus_P + g59_data$Two_methods_Train_Ferry_P + g59_data$Two_mt_trn_Trm_incl_lt_rl_P + g59_data$Two_methods_Bus_Ferry_P + g59_data$Two_mth_Bu_Trm_inc_lt_rl_P)\n",
    "g59_data$One_method_Train_P <- NULL\n",
    "g59_data$One_method_Bus_P <- NULL\n",
    "g59_data$One_method_Ferry_P <- NULL\n",
    "g59_data$One_met_Tram_incl_lt_rail_P <- NULL\n",
    "g59_data$Two_methods_Train_Bus_P <- NULL\n",
    "g59_data$Two_methods_Train_Ferry_P <- NULL\n",
    "g59_data$Two_mt_trn_Trm_incl_lt_rl_P <- NULL\n",
    "g59_data$Two_methods_Bus_Ferry_P <- NULL\n",
    "g59_data$Two_mth_Bu_Trm_inc_lt_rl_P <- NULL\n",
    "head(g59_data)"
   ]
  },
  {
   "cell_type": "markdown",
   "metadata": {},
   "source": [
    "From the head(), we can see that the number of people who took public transport to work seems low - but remember that this is only people who took ONLY public transport to work. If you drove or got a lift to your bus stop or train station or etc, you won't be included in these figures. Let's take a quick peek at the summary stats to see if this is true across the board."
   ]
  },
  {
   "cell_type": "code",
   "execution_count": 11,
   "metadata": {},
   "outputs": [
    {
     "data": {
      "text/plain": [
       "   Min. 1st Qu.  Median    Mean 3rd Qu.    Max. \n",
       "    4.0   121.5   268.0   368.0   536.0  1724.0 "
      ]
     },
     "metadata": {},
     "output_type": "display_data"
    }
   ],
   "source": [
    "summary(g59_data$pt_to_work)"
   ]
  },
  {
   "cell_type": "markdown",
   "metadata": {},
   "source": [
    "Alright, one ABS dataset let to nab. To refresh my memory, this one is:\n",
    "\n",
    "- G30 - Number of Motor Vehicles by Dwellings (and by using the next sheet, \"G7897 - Total_dwelings - Total_Dwellings\" and \"G7890 - Num_MVs_per_dweling_0_MVs - Number_of_motor_vehicles_per_dwelling_No_motor_vehicles_Dwellings\" to calculate an indicative percentage of the number of dwellings that have no cars in the area\")\n",
    "\n",
    "Unlike the last two imports, I'm going to import this one whole and then start excluding columns, just so I've provided examples for all three methods for doing it. The dataset is the G30 ABS file, available from https://drive.google.com/open?id=14Vt5tonuoq6VMFAGPHPaJM3SIHOQGdBl\n",
    "\n"
   ]
  },
  {
   "cell_type": "code",
   "execution_count": 12,
   "metadata": {},
   "outputs": [
    {
     "name": "stderr",
     "output_type": "stream",
     "text": [
      "Parsed with column specification:\n",
      "cols(\n",
      "  SA2_MAINCODE_2016 = col_integer(),\n",
      "  Num_MVs_per_dweling_0_MVs = col_integer(),\n",
      "  Num_MVs_per_dweling_1_MVs = col_integer(),\n",
      "  Num_MVs_per_dweling_2_MVs = col_integer(),\n",
      "  Num_MVs_per_dweling_3_MVs = col_integer(),\n",
      "  Num_MVs_per_dweling_4mo_MVs = col_integer(),\n",
      "  Num_MVs_per_dweling_Tot = col_integer(),\n",
      "  Num_MVs_NS = col_integer(),\n",
      "  Total_dwelings = col_integer()\n",
      ")\n"
     ]
    },
    {
     "data": {
      "text/html": [
       "<table>\n",
       "<thead><tr><th scope=col>SA2_MAINCODE_2016</th><th scope=col>Num_MVs_per_dweling_0_MVs</th><th scope=col>Total_dwelings</th></tr></thead>\n",
       "<tbody>\n",
       "\t<tr><td>301011001</td><td>202      </td><td>5619     </td></tr>\n",
       "\t<tr><td>301011002</td><td> 41      </td><td>2299     </td></tr>\n",
       "\t<tr><td>301011003</td><td>169      </td><td>5060     </td></tr>\n",
       "\t<tr><td>301011004</td><td>311      </td><td>6399     </td></tr>\n",
       "\t<tr><td>301011005</td><td> 61      </td><td>1530     </td></tr>\n",
       "\t<tr><td>301011006</td><td> 88      </td><td>3944     </td></tr>\n",
       "</tbody>\n",
       "</table>\n"
      ],
      "text/latex": [
       "\\begin{tabular}{r|lll}\n",
       " SA2\\_MAINCODE\\_2016 & Num\\_MVs\\_per\\_dweling\\_0\\_MVs & Total\\_dwelings\\\\\n",
       "\\hline\n",
       "\t 301011001 & 202       & 5619     \\\\\n",
       "\t 301011002 &  41       & 2299     \\\\\n",
       "\t 301011003 & 169       & 5060     \\\\\n",
       "\t 301011004 & 311       & 6399     \\\\\n",
       "\t 301011005 &  61       & 1530     \\\\\n",
       "\t 301011006 &  88       & 3944     \\\\\n",
       "\\end{tabular}\n"
      ],
      "text/markdown": [
       "\n",
       "SA2_MAINCODE_2016 | Num_MVs_per_dweling_0_MVs | Total_dwelings | \n",
       "|---|---|---|---|---|---|\n",
       "| 301011001 | 202       | 5619      | \n",
       "| 301011002 |  41       | 2299      | \n",
       "| 301011003 | 169       | 5060      | \n",
       "| 301011004 | 311       | 6399      | \n",
       "| 301011005 |  61       | 1530      | \n",
       "| 301011006 |  88       | 3944      | \n",
       "\n",
       "\n"
      ],
      "text/plain": [
       "  SA2_MAINCODE_2016 Num_MVs_per_dweling_0_MVs Total_dwelings\n",
       "1 301011001         202                       5619          \n",
       "2 301011002          41                       2299          \n",
       "3 301011003         169                       5060          \n",
       "4 301011004         311                       6399          \n",
       "5 301011005          61                       1530          \n",
       "6 301011006          88                       3944          "
      ]
     },
     "metadata": {},
     "output_type": "display_data"
    }
   ],
   "source": [
    "g30_data <- read_csv(\"Processed Data/ABS/2016Census_G30_QLD_SA2.csv\")\n",
    "g30_data$Num_MVs_per_dweling_1_MVs <- NULL\n",
    "g30_data$Num_MVs_per_dweling_2_MVs <- NULL\n",
    "g30_data$Num_MVs_per_dweling_3_MVs <- NULL\n",
    "g30_data$Num_MVs_per_dweling_4mo_MVs <- NULL\n",
    "g30_data$Num_MVs_per_dweling_Tot <- NULL\n",
    "g30_data$Num_MVs_NS <- NULL\n",
    "head(g30_data)"
   ]
  },
  {
   "cell_type": "markdown",
   "metadata": {},
   "source": [
    "As before, let's rename some columns and combine with our 1F reference set."
   ]
  },
  {
   "cell_type": "code",
   "execution_count": 13,
   "metadata": {},
   "outputs": [
    {
     "data": {
      "text/html": [
       "<table>\n",
       "<thead><tr><th scope=col>SA2Code</th><th scope=col>dwellings_with_no_cars</th><th scope=col>Total_dwelings</th><th scope=col>SA2Name</th><th scope=col>Pop</th></tr></thead>\n",
       "<tbody>\n",
       "\t<tr><td>301011001        </td><td>202              </td><td>5619             </td><td>Alexandra Hills  </td><td>16345            </td></tr>\n",
       "\t<tr><td>301011002        </td><td> 41              </td><td>2299             </td><td>Belmont - Gumdale</td><td> 7375            </td></tr>\n",
       "\t<tr><td>301011003        </td><td>169              </td><td>5060             </td><td>Birkdale         </td><td>14923            </td></tr>\n",
       "\t<tr><td>301011004        </td><td>311              </td><td>6399             </td><td>Capalaba         </td><td>17588            </td></tr>\n",
       "\t<tr><td>301011005        </td><td> 61              </td><td>1530             </td><td>Thorneside       </td><td> 3761            </td></tr>\n",
       "\t<tr><td>301011006        </td><td> 88              </td><td>3944             </td><td>Wellington Point </td><td>11576            </td></tr>\n",
       "</tbody>\n",
       "</table>\n"
      ],
      "text/latex": [
       "\\begin{tabular}{r|lllll}\n",
       " SA2Code & dwellings\\_with\\_no\\_cars & Total\\_dwelings & SA2Name & Pop\\\\\n",
       "\\hline\n",
       "\t 301011001         & 202               & 5619              & Alexandra Hills   & 16345            \\\\\n",
       "\t 301011002         &  41               & 2299              & Belmont - Gumdale &  7375            \\\\\n",
       "\t 301011003         & 169               & 5060              & Birkdale          & 14923            \\\\\n",
       "\t 301011004         & 311               & 6399              & Capalaba          & 17588            \\\\\n",
       "\t 301011005         &  61               & 1530              & Thorneside        &  3761            \\\\\n",
       "\t 301011006         &  88               & 3944              & Wellington Point  & 11576            \\\\\n",
       "\\end{tabular}\n"
      ],
      "text/markdown": [
       "\n",
       "SA2Code | dwellings_with_no_cars | Total_dwelings | SA2Name | Pop | \n",
       "|---|---|---|---|---|---|\n",
       "| 301011001         | 202               | 5619              | Alexandra Hills   | 16345             | \n",
       "| 301011002         |  41               | 2299              | Belmont - Gumdale |  7375             | \n",
       "| 301011003         | 169               | 5060              | Birkdale          | 14923             | \n",
       "| 301011004         | 311               | 6399              | Capalaba          | 17588             | \n",
       "| 301011005         |  61               | 1530              | Thorneside        |  3761             | \n",
       "| 301011006         |  88               | 3944              | Wellington Point  | 11576             | \n",
       "\n",
       "\n"
      ],
      "text/plain": [
       "  SA2Code   dwellings_with_no_cars Total_dwelings SA2Name           Pop  \n",
       "1 301011001 202                    5619           Alexandra Hills   16345\n",
       "2 301011002  41                    2299           Belmont - Gumdale  7375\n",
       "3 301011003 169                    5060           Birkdale          14923\n",
       "4 301011004 311                    6399           Capalaba          17588\n",
       "5 301011005  61                    1530           Thorneside         3761\n",
       "6 301011006  88                    3944           Wellington Point  11576"
      ]
     },
     "metadata": {},
     "output_type": "display_data"
    }
   ],
   "source": [
    "colnames(g30_data)[colnames(g30_data)==\"SA2_MAINCODE_2016\"] <- \"SA2Code\"\n",
    "colnames(g30_data)[colnames(g30_data)==\"Num_MVs_per_dweling_0_MVs\"] <- \"dwellings_with_no_cars\"\n",
    "g30_data <- join(g30_data, our_SA2, by=\"SA2Code\", type=\"inner\")\n",
    "head(g30_data)"
   ]
  },
  {
   "cell_type": "markdown",
   "metadata": {},
   "source": [
    "Final step on this one - adding a derived column that expresses percentage of dwellings that don't have cars per SA2 area."
   ]
  },
  {
   "cell_type": "code",
   "execution_count": 14,
   "metadata": {},
   "outputs": [
    {
     "data": {
      "text/html": [
       "<table>\n",
       "<thead><tr><th scope=col>SA2Code</th><th scope=col>dwellings_with_no_cars</th><th scope=col>Total_dwelings</th><th scope=col>SA2Name</th><th scope=col>Pop</th><th scope=col>percentage_houses_no_cars</th></tr></thead>\n",
       "<tbody>\n",
       "\t<tr><td>301011001        </td><td>202              </td><td>5619             </td><td>Alexandra Hills  </td><td>16345            </td><td>3.594946         </td></tr>\n",
       "\t<tr><td>301011002        </td><td> 41              </td><td>2299             </td><td>Belmont - Gumdale</td><td> 7375            </td><td>1.783384         </td></tr>\n",
       "\t<tr><td>301011003        </td><td>169              </td><td>5060             </td><td>Birkdale         </td><td>14923            </td><td>3.339921         </td></tr>\n",
       "\t<tr><td>301011004        </td><td>311              </td><td>6399             </td><td>Capalaba         </td><td>17588            </td><td>4.860134         </td></tr>\n",
       "\t<tr><td>301011005        </td><td> 61              </td><td>1530             </td><td>Thorneside       </td><td> 3761            </td><td>3.986928         </td></tr>\n",
       "\t<tr><td>301011006        </td><td> 88              </td><td>3944             </td><td>Wellington Point </td><td>11576            </td><td>2.231237         </td></tr>\n",
       "</tbody>\n",
       "</table>\n"
      ],
      "text/latex": [
       "\\begin{tabular}{r|llllll}\n",
       " SA2Code & dwellings\\_with\\_no\\_cars & Total\\_dwelings & SA2Name & Pop & percentage\\_houses\\_no\\_cars\\\\\n",
       "\\hline\n",
       "\t 301011001         & 202               & 5619              & Alexandra Hills   & 16345             & 3.594946         \\\\\n",
       "\t 301011002         &  41               & 2299              & Belmont - Gumdale &  7375             & 1.783384         \\\\\n",
       "\t 301011003         & 169               & 5060              & Birkdale          & 14923             & 3.339921         \\\\\n",
       "\t 301011004         & 311               & 6399              & Capalaba          & 17588             & 4.860134         \\\\\n",
       "\t 301011005         &  61               & 1530              & Thorneside        &  3761             & 3.986928         \\\\\n",
       "\t 301011006         &  88               & 3944              & Wellington Point  & 11576             & 2.231237         \\\\\n",
       "\\end{tabular}\n"
      ],
      "text/markdown": [
       "\n",
       "SA2Code | dwellings_with_no_cars | Total_dwelings | SA2Name | Pop | percentage_houses_no_cars | \n",
       "|---|---|---|---|---|---|\n",
       "| 301011001         | 202               | 5619              | Alexandra Hills   | 16345             | 3.594946          | \n",
       "| 301011002         |  41               | 2299              | Belmont - Gumdale |  7375             | 1.783384          | \n",
       "| 301011003         | 169               | 5060              | Birkdale          | 14923             | 3.339921          | \n",
       "| 301011004         | 311               | 6399              | Capalaba          | 17588             | 4.860134          | \n",
       "| 301011005         |  61               | 1530              | Thorneside        |  3761             | 3.986928          | \n",
       "| 301011006         |  88               | 3944              | Wellington Point  | 11576             | 2.231237          | \n",
       "\n",
       "\n"
      ],
      "text/plain": [
       "  SA2Code   dwellings_with_no_cars Total_dwelings SA2Name           Pop  \n",
       "1 301011001 202                    5619           Alexandra Hills   16345\n",
       "2 301011002  41                    2299           Belmont - Gumdale  7375\n",
       "3 301011003 169                    5060           Birkdale          14923\n",
       "4 301011004 311                    6399           Capalaba          17588\n",
       "5 301011005  61                    1530           Thorneside         3761\n",
       "6 301011006  88                    3944           Wellington Point  11576\n",
       "  percentage_houses_no_cars\n",
       "1 3.594946                 \n",
       "2 1.783384                 \n",
       "3 3.339921                 \n",
       "4 4.860134                 \n",
       "5 3.986928                 \n",
       "6 2.231237                 "
      ]
     },
     "metadata": {},
     "output_type": "display_data"
    }
   ],
   "source": [
    "g30_data$percentage_houses_no_cars <- with(g30_data, (g30_data$dwellings_with_no_cars / g30_data$Total_dwelings) * 100)\n",
    "head(g30_data)"
   ]
  },
  {
   "cell_type": "markdown",
   "metadata": {},
   "source": [
    " As can probably be expected for SE Queensland - not many houses without cars from the looks of it. Let's check with summary stats."
   ]
  },
  {
   "cell_type": "code",
   "execution_count": 15,
   "metadata": {},
   "outputs": [
    {
     "data": {
      "text/plain": [
       "   Min. 1st Qu.  Median    Mean 3rd Qu.    Max. \n",
       "  0.000   2.775   5.008   6.137   8.435  32.180 "
      ]
     },
     "metadata": {},
     "output_type": "display_data"
    }
   ],
   "source": [
    "summary(g30_data$percentage_houses_no_cars)"
   ]
  },
  {
   "cell_type": "markdown",
   "metadata": {},
   "source": [
    "From looking at the actual figures, we can see there's one SA2 area in SEQ where every single dwelling has at least one car - Brisbane airport. At the other end of the scale, there list of areas with more than 20% of dwellings not owning a car are all one's you would probably predict:\n",
    "\n",
    "- Spring Hill(inner city suburb with a short walk/free bus service to the CBD)\n",
    "- Brisbane City (lots of stuff in walking distance)\n",
    "- Fortitude Valley (same)\n",
    "- St Lucia (heavy University suburb)\n",
    "- South Brisbane (lots of stuff and access to PT, also heavy University suburb)\n",
    "\n",
    "So now that we have all these datasets... what do we do with 'em?\n",
    "\n",
    "Normally, I'd just look at the questions I'm trying to answer and use the appropriate dataset to work out an answer, joining if needed. But I've done all this work in a big bundle, so let's practice joinin' 'em up! To do that, I'm going to reimport a fresh 1F to get back some fields that we're missing that would be useful and start selectively joining the key columns from our other datasets."
   ]
  },
  {
   "cell_type": "code",
   "execution_count": 16,
   "metadata": {},
   "outputs": [
    {
     "data": {
      "text/html": [
       "<table>\n",
       "<thead><tr><th scope=col>SA2Code</th><th scope=col>SA2Name</th><th scope=col>Score</th><th scope=col>Team_Member</th></tr></thead>\n",
       "<tbody>\n",
       "\t<tr><td>305011105             </td><td>Brisbane City         </td><td>1083                  </td><td>Steff                 </td></tr>\n",
       "\t<tr><td>305011111             </td><td>Spring Hill           </td><td>1028                  </td><td>Dave                  </td></tr>\n",
       "\t<tr><td>305011106             </td><td>Fortitude Valley      </td><td>1064                  </td><td>Kate                  </td></tr>\n",
       "\t<tr><td>305031128             </td><td>Newstead - Bowen Hills</td><td>1132                  </td><td>Steff                 </td></tr>\n",
       "\t<tr><td>304041098             </td><td>Enoggera              </td><td>1053                  </td><td>Kate                  </td></tr>\n",
       "\t<tr><td>305041135             </td><td>Paddington - Milton   </td><td>1137                  </td><td>Steff                 </td></tr>\n",
       "</tbody>\n",
       "</table>\n"
      ],
      "text/latex": [
       "\\begin{tabular}{r|llll}\n",
       " SA2Code & SA2Name & Score & Team\\_Member\\\\\n",
       "\\hline\n",
       "\t 305011105              & Brisbane City          & 1083                   & Steff                 \\\\\n",
       "\t 305011111              & Spring Hill            & 1028                   & Dave                  \\\\\n",
       "\t 305011106              & Fortitude Valley       & 1064                   & Kate                  \\\\\n",
       "\t 305031128              & Newstead - Bowen Hills & 1132                   & Steff                 \\\\\n",
       "\t 304041098              & Enoggera               & 1053                   & Kate                  \\\\\n",
       "\t 305041135              & Paddington - Milton    & 1137                   & Steff                 \\\\\n",
       "\\end{tabular}\n"
      ],
      "text/markdown": [
       "\n",
       "SA2Code | SA2Name | Score | Team_Member | \n",
       "|---|---|---|---|---|---|\n",
       "| 305011105              | Brisbane City          | 1083                   | Steff                  | \n",
       "| 305011111              | Spring Hill            | 1028                   | Dave                   | \n",
       "| 305011106              | Fortitude Valley       | 1064                   | Kate                   | \n",
       "| 305031128              | Newstead - Bowen Hills | 1132                   | Steff                  | \n",
       "| 304041098              | Enoggera               | 1053                   | Kate                   | \n",
       "| 305041135              | Paddington - Milton    | 1137                   | Steff                  | \n",
       "\n",
       "\n"
      ],
      "text/plain": [
       "  SA2Code   SA2Name                Score Team_Member\n",
       "1 305011105 Brisbane City          1083  Steff      \n",
       "2 305011111 Spring Hill            1028  Dave       \n",
       "3 305011106 Fortitude Valley       1064  Kate       \n",
       "4 305031128 Newstead - Bowen Hills 1132  Steff      \n",
       "5 304041098 Enoggera               1053  Kate       \n",
       "6 305041135 Paddington - Milton    1137  Steff      "
      ]
     },
     "metadata": {},
     "output_type": "display_data"
    }
   ],
   "source": [
    "SA2_stops_by_mode <- read_csv(\"Processed Data/1F/SA2_stops_by_mode.csv\", col_types = cols(AREASQKM16 = col_skip(), Pop = col_skip(), is_bus_stop = col_skip(), is_ferry_stop = col_skip(), is_train_station = col_skip(), is_tram_stop = col_skip(), stop_id = col_skip(), stop_lat = col_skip(), stop_lon = col_skip(), stop_name = col_skip(), stop_url = col_skip()))\n",
    "SA2_stops_by_mode <- na.omit(SA2_stops_by_mode)\n",
    "SA2_stops_by_mode <- unique(SA2_stops_by_mode)\n",
    "head(SA2_stops_by_mode)"
   ]
  },
  {
   "cell_type": "markdown",
   "metadata": {},
   "source": [
    "Now, the G43 dataset."
   ]
  },
  {
   "cell_type": "code",
   "execution_count": 17,
   "metadata": {},
   "outputs": [
    {
     "data": {
      "text/html": [
       "<table>\n",
       "<thead><tr><th scope=col>SA2Code</th><th scope=col>SA2Name</th><th scope=col>Score</th><th scope=col>Team_Member</th><th scope=col>number_of_employees</th><th scope=col>Pop</th><th scope=col>percent_unemployed</th></tr></thead>\n",
       "<tbody>\n",
       "\t<tr><td>305011105             </td><td>Brisbane City         </td><td>1083                  </td><td>Steff                 </td><td>5397                  </td><td>10192                 </td><td>47.04670              </td></tr>\n",
       "\t<tr><td>305011111             </td><td>Spring Hill           </td><td>1028                  </td><td>Dave                  </td><td>3411                  </td><td> 6063                 </td><td>43.74072              </td></tr>\n",
       "\t<tr><td>305011106             </td><td>Fortitude Valley      </td><td>1064                  </td><td>Kate                  </td><td>4539                  </td><td> 7146                 </td><td>36.48195              </td></tr>\n",
       "\t<tr><td>305031128             </td><td>Newstead - Bowen Hills</td><td>1132                  </td><td>Steff                 </td><td>6877                  </td><td>10638                 </td><td>35.35439              </td></tr>\n",
       "\t<tr><td>304041098             </td><td>Enoggera              </td><td>1053                  </td><td>Kate                  </td><td>4684                  </td><td> 8158                 </td><td>42.58397              </td></tr>\n",
       "\t<tr><td>305041135             </td><td>Paddington - Milton   </td><td>1137                  </td><td>Steff                 </td><td>6522                  </td><td>10788                 </td><td>39.54394              </td></tr>\n",
       "</tbody>\n",
       "</table>\n"
      ],
      "text/latex": [
       "\\begin{tabular}{r|lllllll}\n",
       " SA2Code & SA2Name & Score & Team\\_Member & number\\_of\\_employees & Pop & percent\\_unemployed\\\\\n",
       "\\hline\n",
       "\t 305011105              & Brisbane City          & 1083                   & Steff                  & 5397                   & 10192                  & 47.04670              \\\\\n",
       "\t 305011111              & Spring Hill            & 1028                   & Dave                   & 3411                   &  6063                  & 43.74072              \\\\\n",
       "\t 305011106              & Fortitude Valley       & 1064                   & Kate                   & 4539                   &  7146                  & 36.48195              \\\\\n",
       "\t 305031128              & Newstead - Bowen Hills & 1132                   & Steff                  & 6877                   & 10638                  & 35.35439              \\\\\n",
       "\t 304041098              & Enoggera               & 1053                   & Kate                   & 4684                   &  8158                  & 42.58397              \\\\\n",
       "\t 305041135              & Paddington - Milton    & 1137                   & Steff                  & 6522                   & 10788                  & 39.54394              \\\\\n",
       "\\end{tabular}\n"
      ],
      "text/markdown": [
       "\n",
       "SA2Code | SA2Name | Score | Team_Member | number_of_employees | Pop | percent_unemployed | \n",
       "|---|---|---|---|---|---|\n",
       "| 305011105              | Brisbane City          | 1083                   | Steff                  | 5397                   | 10192                  | 47.04670               | \n",
       "| 305011111              | Spring Hill            | 1028                   | Dave                   | 3411                   |  6063                  | 43.74072               | \n",
       "| 305011106              | Fortitude Valley       | 1064                   | Kate                   | 4539                   |  7146                  | 36.48195               | \n",
       "| 305031128              | Newstead - Bowen Hills | 1132                   | Steff                  | 6877                   | 10638                  | 35.35439               | \n",
       "| 304041098              | Enoggera               | 1053                   | Kate                   | 4684                   |  8158                  | 42.58397               | \n",
       "| 305041135              | Paddington - Milton    | 1137                   | Steff                  | 6522                   | 10788                  | 39.54394               | \n",
       "\n",
       "\n"
      ],
      "text/plain": [
       "  SA2Code   SA2Name                Score Team_Member number_of_employees Pop  \n",
       "1 305011105 Brisbane City          1083  Steff       5397                10192\n",
       "2 305011111 Spring Hill            1028  Dave        3411                 6063\n",
       "3 305011106 Fortitude Valley       1064  Kate        4539                 7146\n",
       "4 305031128 Newstead - Bowen Hills 1132  Steff       6877                10638\n",
       "5 304041098 Enoggera               1053  Kate        4684                 8158\n",
       "6 305041135 Paddington - Milton    1137  Steff       6522                10788\n",
       "  percent_unemployed\n",
       "1 47.04670          \n",
       "2 43.74072          \n",
       "3 36.48195          \n",
       "4 35.35439          \n",
       "5 42.58397          \n",
       "6 39.54394          "
      ]
     },
     "metadata": {},
     "output_type": "display_data"
    }
   ],
   "source": [
    "g43_data$SA2Name <- NULL #duplicates a column already present\n",
    "accessible_data <- join(SA2_stops_by_mode, g43_data, by=\"SA2Code\", type=\"inner\")\n",
    "head(accessible_data)"
   ]
  },
  {
   "cell_type": "markdown",
   "metadata": {},
   "source": [
    "Now, g59."
   ]
  },
  {
   "cell_type": "code",
   "execution_count": 18,
   "metadata": {},
   "outputs": [
    {
     "data": {
      "text/html": [
       "<table>\n",
       "<thead><tr><th scope=col>SA2Code</th><th scope=col>number_worked_from_home</th><th scope=col>SA2Name</th><th scope=col>Pop</th><th scope=col>pt_to_work</th></tr></thead>\n",
       "<tbody>\n",
       "\t<tr><td>301011001        </td><td>291              </td><td>Alexandra Hills  </td><td>16345            </td><td>343              </td></tr>\n",
       "\t<tr><td>301011002        </td><td>286              </td><td>Belmont - Gumdale</td><td> 7375            </td><td>211              </td></tr>\n",
       "\t<tr><td>301011003        </td><td>355              </td><td>Birkdale         </td><td>14923            </td><td>431              </td></tr>\n",
       "\t<tr><td>301011004        </td><td>348              </td><td>Capalaba         </td><td>17588            </td><td>344              </td></tr>\n",
       "\t<tr><td>301011005        </td><td> 75              </td><td>Thorneside       </td><td> 3761            </td><td>141              </td></tr>\n",
       "\t<tr><td>301011006        </td><td>302              </td><td>Wellington Point </td><td>11576            </td><td>357              </td></tr>\n",
       "</tbody>\n",
       "</table>\n"
      ],
      "text/latex": [
       "\\begin{tabular}{r|lllll}\n",
       " SA2Code & number\\_worked\\_from\\_home & SA2Name & Pop & pt\\_to\\_work\\\\\n",
       "\\hline\n",
       "\t 301011001         & 291               & Alexandra Hills   & 16345             & 343              \\\\\n",
       "\t 301011002         & 286               & Belmont - Gumdale &  7375             & 211              \\\\\n",
       "\t 301011003         & 355               & Birkdale          & 14923             & 431              \\\\\n",
       "\t 301011004         & 348               & Capalaba          & 17588             & 344              \\\\\n",
       "\t 301011005         &  75               & Thorneside        &  3761             & 141              \\\\\n",
       "\t 301011006         & 302               & Wellington Point  & 11576             & 357              \\\\\n",
       "\\end{tabular}\n"
      ],
      "text/markdown": [
       "\n",
       "SA2Code | number_worked_from_home | SA2Name | Pop | pt_to_work | \n",
       "|---|---|---|---|---|---|\n",
       "| 301011001         | 291               | Alexandra Hills   | 16345             | 343               | \n",
       "| 301011002         | 286               | Belmont - Gumdale |  7375             | 211               | \n",
       "| 301011003         | 355               | Birkdale          | 14923             | 431               | \n",
       "| 301011004         | 348               | Capalaba          | 17588             | 344               | \n",
       "| 301011005         |  75               | Thorneside        |  3761             | 141               | \n",
       "| 301011006         | 302               | Wellington Point  | 11576             | 357               | \n",
       "\n",
       "\n"
      ],
      "text/plain": [
       "  SA2Code   number_worked_from_home SA2Name           Pop   pt_to_work\n",
       "1 301011001 291                     Alexandra Hills   16345 343       \n",
       "2 301011002 286                     Belmont - Gumdale  7375 211       \n",
       "3 301011003 355                     Birkdale          14923 431       \n",
       "4 301011004 348                     Capalaba          17588 344       \n",
       "5 301011005  75                     Thorneside         3761 141       \n",
       "6 301011006 302                     Wellington Point  11576 357       "
      ]
     },
     "metadata": {},
     "output_type": "display_data"
    }
   ],
   "source": [
    "head(g59_data)"
   ]
  },
  {
   "cell_type": "code",
   "execution_count": 19,
   "metadata": {},
   "outputs": [
    {
     "data": {
      "text/html": [
       "<table>\n",
       "<thead><tr><th scope=col>SA2Code</th><th scope=col>SA2Name</th><th scope=col>Score</th><th scope=col>Team_Member</th><th scope=col>number_of_employees</th><th scope=col>Pop</th><th scope=col>percent_unemployed</th><th scope=col>number_worked_from_home</th><th scope=col>pt_to_work</th></tr></thead>\n",
       "<tbody>\n",
       "\t<tr><td>305011105             </td><td>Brisbane City         </td><td>1083                  </td><td>Steff                 </td><td>5397                  </td><td>10192                 </td><td>47.04670              </td><td>254                   </td><td> 724                  </td></tr>\n",
       "\t<tr><td>305011111             </td><td>Spring Hill           </td><td>1028                  </td><td>Dave                  </td><td>3411                  </td><td> 6063                 </td><td>43.74072              </td><td>127                   </td><td> 478                  </td></tr>\n",
       "\t<tr><td>305011106             </td><td>Fortitude Valley      </td><td>1064                  </td><td>Kate                  </td><td>4539                  </td><td> 7146                 </td><td>36.48195              </td><td>139                   </td><td> 900                  </td></tr>\n",
       "\t<tr><td>305031128             </td><td>Newstead - Bowen Hills</td><td>1132                  </td><td>Steff                 </td><td>6877                  </td><td>10638                 </td><td>35.35439              </td><td>333                   </td><td>1421                  </td></tr>\n",
       "\t<tr><td>304041098             </td><td>Enoggera              </td><td>1053                  </td><td>Kate                  </td><td>4684                  </td><td> 8158                 </td><td>42.58397              </td><td>152                   </td><td> 698                  </td></tr>\n",
       "\t<tr><td>305041135             </td><td>Paddington - Milton   </td><td>1137                  </td><td>Steff                 </td><td>6522                  </td><td>10788                 </td><td>39.54394              </td><td>369                   </td><td>1065                  </td></tr>\n",
       "</tbody>\n",
       "</table>\n"
      ],
      "text/latex": [
       "\\begin{tabular}{r|lllllllll}\n",
       " SA2Code & SA2Name & Score & Team\\_Member & number\\_of\\_employees & Pop & percent\\_unemployed & number\\_worked\\_from\\_home & pt\\_to\\_work\\\\\n",
       "\\hline\n",
       "\t 305011105              & Brisbane City          & 1083                   & Steff                  & 5397                   & 10192                  & 47.04670               & 254                    &  724                  \\\\\n",
       "\t 305011111              & Spring Hill            & 1028                   & Dave                   & 3411                   &  6063                  & 43.74072               & 127                    &  478                  \\\\\n",
       "\t 305011106              & Fortitude Valley       & 1064                   & Kate                   & 4539                   &  7146                  & 36.48195               & 139                    &  900                  \\\\\n",
       "\t 305031128              & Newstead - Bowen Hills & 1132                   & Steff                  & 6877                   & 10638                  & 35.35439               & 333                    & 1421                  \\\\\n",
       "\t 304041098              & Enoggera               & 1053                   & Kate                   & 4684                   &  8158                  & 42.58397               & 152                    &  698                  \\\\\n",
       "\t 305041135              & Paddington - Milton    & 1137                   & Steff                  & 6522                   & 10788                  & 39.54394               & 369                    & 1065                  \\\\\n",
       "\\end{tabular}\n"
      ],
      "text/markdown": [
       "\n",
       "SA2Code | SA2Name | Score | Team_Member | number_of_employees | Pop | percent_unemployed | number_worked_from_home | pt_to_work | \n",
       "|---|---|---|---|---|---|\n",
       "| 305011105              | Brisbane City          | 1083                   | Steff                  | 5397                   | 10192                  | 47.04670               | 254                    |  724                   | \n",
       "| 305011111              | Spring Hill            | 1028                   | Dave                   | 3411                   |  6063                  | 43.74072               | 127                    |  478                   | \n",
       "| 305011106              | Fortitude Valley       | 1064                   | Kate                   | 4539                   |  7146                  | 36.48195               | 139                    |  900                   | \n",
       "| 305031128              | Newstead - Bowen Hills | 1132                   | Steff                  | 6877                   | 10638                  | 35.35439               | 333                    | 1421                   | \n",
       "| 304041098              | Enoggera               | 1053                   | Kate                   | 4684                   |  8158                  | 42.58397               | 152                    |  698                   | \n",
       "| 305041135              | Paddington - Milton    | 1137                   | Steff                  | 6522                   | 10788                  | 39.54394               | 369                    | 1065                   | \n",
       "\n",
       "\n"
      ],
      "text/plain": [
       "  SA2Code   SA2Name                Score Team_Member number_of_employees Pop  \n",
       "1 305011105 Brisbane City          1083  Steff       5397                10192\n",
       "2 305011111 Spring Hill            1028  Dave        3411                 6063\n",
       "3 305011106 Fortitude Valley       1064  Kate        4539                 7146\n",
       "4 305031128 Newstead - Bowen Hills 1132  Steff       6877                10638\n",
       "5 304041098 Enoggera               1053  Kate        4684                 8158\n",
       "6 305041135 Paddington - Milton    1137  Steff       6522                10788\n",
       "  percent_unemployed number_worked_from_home pt_to_work\n",
       "1 47.04670           254                      724      \n",
       "2 43.74072           127                      478      \n",
       "3 36.48195           139                      900      \n",
       "4 35.35439           333                     1421      \n",
       "5 42.58397           152                      698      \n",
       "6 39.54394           369                     1065      "
      ]
     },
     "metadata": {},
     "output_type": "display_data"
    }
   ],
   "source": [
    "g59_data$SA2Name <- NULL # duplicates a column already present\n",
    "g59_data$Pop <- NULL # duplicates a column already present\n",
    "accessible_data <- join(accessible_data, g59_data, by=\"SA2Code\", type=\"inner\")\n",
    "head(accessible_data)"
   ]
  },
  {
   "cell_type": "markdown",
   "metadata": {},
   "source": [
    "Finally, g30."
   ]
  },
  {
   "cell_type": "code",
   "execution_count": 21,
   "metadata": {},
   "outputs": [
    {
     "data": {
      "text/html": [
       "<table>\n",
       "<thead><tr><th scope=col>SA2Code</th><th scope=col>SA2Name</th><th scope=col>Score</th><th scope=col>Team_Member</th><th scope=col>number_of_employees</th><th scope=col>Pop</th><th scope=col>percent_unemployed</th><th scope=col>number_worked_from_home</th><th scope=col>pt_to_work</th><th scope=col>dwellings_with_no_cars</th><th scope=col>Total_dwelings</th><th scope=col>percentage_houses_no_cars</th><th scope=col>dwellings_with_no_cars</th><th scope=col>Total_dwelings</th><th scope=col>percentage_houses_no_cars</th></tr></thead>\n",
       "<tbody>\n",
       "\t<tr><td>305011105             </td><td>Brisbane City         </td><td>1083                  </td><td>Steff                 </td><td>5397                  </td><td>10192                 </td><td>47.04670              </td><td>254                   </td><td> 724                  </td><td>1280                  </td><td>4044                  </td><td>31.65183              </td><td>1280                  </td><td>4044                  </td><td>31.65183              </td></tr>\n",
       "\t<tr><td>305011111             </td><td>Spring Hill           </td><td>1028                  </td><td>Dave                  </td><td>3411                  </td><td> 6063                 </td><td>43.74072              </td><td>127                   </td><td> 478                  </td><td> 707                  </td><td>2197                  </td><td>32.18025              </td><td> 707                  </td><td>2197                  </td><td>32.18025              </td></tr>\n",
       "\t<tr><td>305011106             </td><td>Fortitude Valley      </td><td>1064                  </td><td>Kate                  </td><td>4539                  </td><td> 7146                 </td><td>36.48195              </td><td>139                   </td><td> 900                  </td><td> 973                  </td><td>3251                  </td><td>29.92925              </td><td> 973                  </td><td>3251                  </td><td>29.92925              </td></tr>\n",
       "\t<tr><td>305031128             </td><td>Newstead - Bowen Hills</td><td>1132                  </td><td>Steff                 </td><td>6877                  </td><td>10638                 </td><td>35.35439              </td><td>333                   </td><td>1421                  </td><td> 735                  </td><td>4802                  </td><td>15.30612              </td><td> 735                  </td><td>4802                  </td><td>15.30612              </td></tr>\n",
       "\t<tr><td>304041098             </td><td>Enoggera              </td><td>1053                  </td><td>Kate                  </td><td>4684                  </td><td> 8158                 </td><td>42.58397              </td><td>152                   </td><td> 698                  </td><td> 341                  </td><td>3021                  </td><td>11.28765              </td><td> 341                  </td><td>3021                  </td><td>11.28765              </td></tr>\n",
       "\t<tr><td>305041135             </td><td>Paddington - Milton   </td><td>1137                  </td><td>Steff                 </td><td>6522                  </td><td>10788                 </td><td>39.54394              </td><td>369                   </td><td>1065                  </td><td> 396                  </td><td>4159                  </td><td> 9.52152              </td><td> 396                  </td><td>4159                  </td><td> 9.52152              </td></tr>\n",
       "</tbody>\n",
       "</table>\n"
      ],
      "text/latex": [
       "\\begin{tabular}{r|lllllllllllllll}\n",
       " SA2Code & SA2Name & Score & Team\\_Member & number\\_of\\_employees & Pop & percent\\_unemployed & number\\_worked\\_from\\_home & pt\\_to\\_work & dwellings\\_with\\_no\\_cars & Total\\_dwelings & percentage\\_houses\\_no\\_cars & dwellings\\_with\\_no\\_cars & Total\\_dwelings & percentage\\_houses\\_no\\_cars\\\\\n",
       "\\hline\n",
       "\t 305011105              & Brisbane City          & 1083                   & Steff                  & 5397                   & 10192                  & 47.04670               & 254                    &  724                   & 1280                   & 4044                   & 31.65183               & 1280                   & 4044                   & 31.65183              \\\\\n",
       "\t 305011111              & Spring Hill            & 1028                   & Dave                   & 3411                   &  6063                  & 43.74072               & 127                    &  478                   &  707                   & 2197                   & 32.18025               &  707                   & 2197                   & 32.18025              \\\\\n",
       "\t 305011106              & Fortitude Valley       & 1064                   & Kate                   & 4539                   &  7146                  & 36.48195               & 139                    &  900                   &  973                   & 3251                   & 29.92925               &  973                   & 3251                   & 29.92925              \\\\\n",
       "\t 305031128              & Newstead - Bowen Hills & 1132                   & Steff                  & 6877                   & 10638                  & 35.35439               & 333                    & 1421                   &  735                   & 4802                   & 15.30612               &  735                   & 4802                   & 15.30612              \\\\\n",
       "\t 304041098              & Enoggera               & 1053                   & Kate                   & 4684                   &  8158                  & 42.58397               & 152                    &  698                   &  341                   & 3021                   & 11.28765               &  341                   & 3021                   & 11.28765              \\\\\n",
       "\t 305041135              & Paddington - Milton    & 1137                   & Steff                  & 6522                   & 10788                  & 39.54394               & 369                    & 1065                   &  396                   & 4159                   &  9.52152               &  396                   & 4159                   &  9.52152              \\\\\n",
       "\\end{tabular}\n"
      ],
      "text/markdown": [
       "\n",
       "SA2Code | SA2Name | Score | Team_Member | number_of_employees | Pop | percent_unemployed | number_worked_from_home | pt_to_work | dwellings_with_no_cars | Total_dwelings | percentage_houses_no_cars | dwellings_with_no_cars | Total_dwelings | percentage_houses_no_cars | \n",
       "|---|---|---|---|---|---|\n",
       "| 305011105              | Brisbane City          | 1083                   | Steff                  | 5397                   | 10192                  | 47.04670               | 254                    |  724                   | 1280                   | 4044                   | 31.65183               | 1280                   | 4044                   | 31.65183               | \n",
       "| 305011111              | Spring Hill            | 1028                   | Dave                   | 3411                   |  6063                  | 43.74072               | 127                    |  478                   |  707                   | 2197                   | 32.18025               |  707                   | 2197                   | 32.18025               | \n",
       "| 305011106              | Fortitude Valley       | 1064                   | Kate                   | 4539                   |  7146                  | 36.48195               | 139                    |  900                   |  973                   | 3251                   | 29.92925               |  973                   | 3251                   | 29.92925               | \n",
       "| 305031128              | Newstead - Bowen Hills | 1132                   | Steff                  | 6877                   | 10638                  | 35.35439               | 333                    | 1421                   |  735                   | 4802                   | 15.30612               |  735                   | 4802                   | 15.30612               | \n",
       "| 304041098              | Enoggera               | 1053                   | Kate                   | 4684                   |  8158                  | 42.58397               | 152                    |  698                   |  341                   | 3021                   | 11.28765               |  341                   | 3021                   | 11.28765               | \n",
       "| 305041135              | Paddington - Milton    | 1137                   | Steff                  | 6522                   | 10788                  | 39.54394               | 369                    | 1065                   |  396                   | 4159                   |  9.52152               |  396                   | 4159                   |  9.52152               | \n",
       "\n",
       "\n"
      ],
      "text/plain": [
       "  SA2Code   SA2Name                Score Team_Member number_of_employees Pop  \n",
       "1 305011105 Brisbane City          1083  Steff       5397                10192\n",
       "2 305011111 Spring Hill            1028  Dave        3411                 6063\n",
       "3 305011106 Fortitude Valley       1064  Kate        4539                 7146\n",
       "4 305031128 Newstead - Bowen Hills 1132  Steff       6877                10638\n",
       "5 304041098 Enoggera               1053  Kate        4684                 8158\n",
       "6 305041135 Paddington - Milton    1137  Steff       6522                10788\n",
       "  percent_unemployed number_worked_from_home pt_to_work dwellings_with_no_cars\n",
       "1 47.04670           254                      724       1280                  \n",
       "2 43.74072           127                      478        707                  \n",
       "3 36.48195           139                      900        973                  \n",
       "4 35.35439           333                     1421        735                  \n",
       "5 42.58397           152                      698        341                  \n",
       "6 39.54394           369                     1065        396                  \n",
       "  Total_dwelings percentage_houses_no_cars dwellings_with_no_cars\n",
       "1 4044           31.65183                  1280                  \n",
       "2 2197           32.18025                   707                  \n",
       "3 3251           29.92925                   973                  \n",
       "4 4802           15.30612                   735                  \n",
       "5 3021           11.28765                   341                  \n",
       "6 4159            9.52152                   396                  \n",
       "  Total_dwelings percentage_houses_no_cars\n",
       "1 4044           31.65183                 \n",
       "2 2197           32.18025                 \n",
       "3 3251           29.92925                 \n",
       "4 4802           15.30612                 \n",
       "5 3021           11.28765                 \n",
       "6 4159            9.52152                 "
      ]
     },
     "metadata": {},
     "output_type": "display_data"
    }
   ],
   "source": [
    "g30_data$SA2Name <- NULL\n",
    "g30_data$Pop <- NULL\n",
    "accessible_data <- join(accessible_data, g30_data, by=\"SA2Code\", type=\"inner\")\n",
    "head(accessible_data)\n",
    "\n",
    "# write.csv(accessible_data,\"accessible_data.csv\", row.names = FALSE)"
   ]
  },
  {
   "cell_type": "markdown",
   "metadata": {},
   "source": [
    "Alright - a big messy table full of derived values that allow us to operate on. Lets list out the things I wanted to learn at the start (and see if these can now be answered/if anything else has come up in the meantime).\n",
    "\n",
    "- is there a relationship between % employed and SAD index? (could be answered, but decided it doesn't help us analyse PT data)\n",
    "- is there a relationship between % of people who are employed AND have to travel to work and SAD index? (in other words, which areas are more likely to encourage working from home?)\n",
    "- is there a relationship between SAD index and people who only use PT to get to work?\n",
    "- is there a relationship between SAD index and people who only use PT to get to work, normalised by the percentage of houses that don't have a car? (an extension of the previous one, will be interesting to see if/how this changes the relationship)\n",
    "\n",
    "And finally, the big one, the question that addresses the hypothesis:\n",
    "- is there is a meaningful relationship in the data between the number of people who rely on public transport to get to work (normalised by houses without cars) and the number of services provided in that SA2 area?\n",
    "\n",
    "Let's start with - which areas are more likely to encourage working from home? Let's analyse using the Team_Member SA2 breakdowns (because I want to save the most detailed analysis for the hypothesis question).\n",
    "To answer this, creating a new temporary variable - percentage of people working from home out of the number who are employed."
   ]
  },
  {
   "cell_type": "code",
   "execution_count": 22,
   "metadata": {},
   "outputs": [
    {
     "data": {
      "text/html": [
       "<table>\n",
       "<thead><tr><th></th><th scope=col>SA2Code</th><th scope=col>SA2Name</th><th scope=col>Team_Member</th><th scope=col>number_of_employees</th><th scope=col>number_worked_from_home</th><th scope=col>percentage_wfh</th></tr></thead>\n",
       "<tbody>\n",
       "\t<tr><th scope=row>252</th><td>311031314                 </td><td>Crestmead                 </td><td>Eric                      </td><td> 4585                     </td><td> 64                       </td><td>0.01395856                </td></tr>\n",
       "\t<tr><th scope=row>264</th><td>310031291                 </td><td>Leichhardt - One Mile     </td><td>Eric                      </td><td> 2578                     </td><td> 43                       </td><td>0.01667960                </td></tr>\n",
       "\t<tr><th scope=row>282</th><td>311061336                 </td><td>Woodridge                 </td><td>Eric                      </td><td> 3837                     </td><td> 69                       </td><td>0.01798280                </td></tr>\n",
       "\t<tr><th scope=row>273</th><td>310031295                 </td><td>Riverview                 </td><td>Eric                      </td><td>  829                     </td><td> 15                       </td><td>0.01809409                </td></tr>\n",
       "\t<tr><th scope=row>243</th><td>311031317                 </td><td>Marsden                   </td><td>Eric                      </td><td> 5219                     </td><td> 95                       </td><td>0.01820272                </td></tr>\n",
       "\t<tr><th scope=row>235</th><td>310031285                 </td><td>Churchill - Yamanto       </td><td>Charlie                   </td><td> 3199                     </td><td> 60                       </td><td>0.01875586                </td></tr>\n",
       "\t<tr><th scope=row>241</th><td>310031284                 </td><td>Bundamba                  </td><td>Eric                      </td><td> 3640                     </td><td> 70                       </td><td>0.01923077                </td></tr>\n",
       "\t<tr><th scope=row>262</th><td>311061330                 </td><td>Kingston (Qld.)           </td><td>Eric                      </td><td> 3312                     </td><td> 65                       </td><td>0.01962560                </td></tr>\n",
       "\t<tr><th scope=row>255</th><td>310031293                 </td><td>Raceview                  </td><td>Eric                      </td><td> 6620                     </td><td>136                       </td><td>0.02054381                </td></tr>\n",
       "\t<tr><th scope=row>62</th><td>310011274                 </td><td>Inala - Richlands         </td><td>Eric                      </td><td> 5333                     </td><td>115                       </td><td>0.02156385                </td></tr>\n",
       "\t<tr><th scope=row>265</th><td>311051326                 </td><td>Loganlea                  </td><td>Eric                      </td><td> 4137                     </td><td> 92                       </td><td>0.02223834                </td></tr>\n",
       "\t<tr><th scope=row>231</th><td>310041302                 </td><td>Redbank Plains            </td><td>Eric                      </td><td> 7643                     </td><td>181                       </td><td>0.02368180                </td></tr>\n",
       "\t<tr><th scope=row>226</th><td>311061331                 </td><td>Logan Central             </td><td>Eric                      </td><td> 1628                     </td><td> 39                       </td><td>0.02395577                </td></tr>\n",
       "\t<tr><th scope=row>242</th><td>310031283                 </td><td>Brassall                  </td><td>Eric                      </td><td> 4534                     </td><td>109                       </td><td>0.02404058                </td></tr>\n",
       "\t<tr><th scope=row>21</th><td>303051076                 </td><td>Rocklea - Acacia Ridge    </td><td>Eric                      </td><td> 3784                     </td><td> 91                       </td><td>0.02404863                </td></tr>\n",
       "\t<tr><th scope=row>211</th><td>313021366                 </td><td>Caboolture - South        </td><td>Eric                      </td><td> 7530                     </td><td>184                       </td><td>0.02443559                </td></tr>\n",
       "\t<tr><th scope=row>38</th><td>302021028                 </td><td>Chermside                 </td><td>Charlie                   </td><td> 4318                     </td><td>107                       </td><td>0.02477999                </td></tr>\n",
       "\t<tr><th scope=row>228</th><td>310031292                 </td><td>North Ipswich - Tivoli    </td><td>Eric                      </td><td> 2472                     </td><td> 62                       </td><td>0.02508091                </td></tr>\n",
       "\t<tr><th scope=row>119</th><td>303041067                 </td><td>Coopers Plains            </td><td>Charlie                   </td><td> 2458                     </td><td> 62                       </td><td>0.02522376                </td></tr>\n",
       "\t<tr><th scope=row>230</th><td>310041299                 </td><td>Collingwood Park - Redbank</td><td>Eric                      </td><td> 3694                     </td><td> 94                       </td><td>0.02544667                </td></tr>\n",
       "\t<tr><th scope=row>133</th><td>311031312                 </td><td>Browns Plains             </td><td>Eric                      </td><td> 3157                     </td><td> 81                       </td><td>0.02565727                </td></tr>\n",
       "\t<tr><th scope=row>222</th><td>310041300                 </td><td>Goodna                    </td><td>Eric                      </td><td> 3778                     </td><td> 97                       </td><td>0.02567496                </td></tr>\n",
       "\t<tr><th scope=row>10</th><td>302031040                 </td><td>Nundah                    </td><td>Kate                      </td><td> 7298                     </td><td>190                       </td><td>0.02603453                </td></tr>\n",
       "\t<tr><th scope=row>257</th><td>317011448                 </td><td>Gatton                    </td><td>Eric                      </td><td> 2954                     </td><td> 78                       </td><td>0.02640487                </td></tr>\n",
       "\t<tr><th scope=row>216</th><td>310031287                 </td><td>Ipswich - East            </td><td>Eric                      </td><td> 7088                     </td><td>190                       </td><td>0.02680587                </td></tr>\n",
       "\t<tr><th scope=row>261</th><td>314021388                 </td><td>Dakabin - Kallangur       </td><td>Eric                      </td><td>10967                     </td><td>296                       </td><td>0.02699006                </td></tr>\n",
       "\t<tr><th scope=row>267</th><td>313021368                 </td><td>Morayfield - East         </td><td>Eric                      </td><td> 3613                     </td><td> 98                       </td><td>0.02712427                </td></tr>\n",
       "\t<tr><th scope=row>284</th><td>311021307                 </td><td>Eagleby                   </td><td>Eric                      </td><td> 4341                     </td><td>118                       </td><td>0.02718268                </td></tr>\n",
       "\t<tr><th scope=row>285</th><td>311021308                 </td><td>Edens Landing - Holmview  </td><td>Charlie                   </td><td> 3390                     </td><td> 93                       </td><td>0.02743363                </td></tr>\n",
       "\t<tr><th scope=row>283</th><td>314031391                 </td><td>Bray Park                 </td><td>Charlie                   </td><td> 4745                     </td><td>131                       </td><td>0.02760801                </td></tr>\n",
       "\t<tr><th scope=row>...</th><td>...</td><td>...</td><td>...</td><td>...</td><td>...</td><td>...</td></tr>\n",
       "\t<tr><th scope=row>207</th><td>316021421                    </td><td>Golden Beach - Pelican Waters</td><td>Charlie                      </td><td>4421                         </td><td>363                          </td><td>0.08210812                   </td></tr>\n",
       "\t<tr><th scope=row>46</th><td>304021088                    </td><td>Chapel Hill                  </td><td>Steff                        </td><td>5019                         </td><td>414                          </td><td>0.08248655                   </td></tr>\n",
       "\t<tr><th scope=row>54</th><td>305041134                    </td><td>Bardon                       </td><td>Steff                        </td><td>5065                         </td><td>418                          </td><td>0.08252715                   </td></tr>\n",
       "\t<tr><th scope=row>198</th><td>316011414                    </td><td>Buderim - South              </td><td>Kate                         </td><td>7747                         </td><td>648                          </td><td>0.08364528                   </td></tr>\n",
       "\t<tr><th scope=row>157</th><td>309011224                    </td><td>Broadbeach Waters            </td><td>Kate                         </td><td>3763                         </td><td>317                          </td><td>0.08424130                   </td></tr>\n",
       "\t<tr><th scope=row>160</th><td>309081259                    </td><td>Clear Island Waters          </td><td>Kate                         </td><td>1742                         </td><td>150                          </td><td>0.08610792                   </td></tr>\n",
       "\t<tr><th scope=row>149</th><td>309031240                    </td><td>Runaway Bay                  </td><td>Dave                         </td><td>3836                         </td><td>331                          </td><td>0.08628780                   </td></tr>\n",
       "\t<tr><th scope=row>156</th><td>309101267                    </td><td>Benowa                       </td><td>Kate                         </td><td>3886                         </td><td>337                          </td><td>0.08672156                   </td></tr>\n",
       "\t<tr><th scope=row>239</th><td>311011305                    </td><td>Beaudesert                   </td><td>Eric                         </td><td>5356                         </td><td>478                          </td><td>0.08924571                   </td></tr>\n",
       "\t<tr><th scope=row>57</th><td>304021089                    </td><td>Fig Tree Pocket              </td><td>Steff                        </td><td>1921                         </td><td>172                          </td><td>0.08953670                   </td></tr>\n",
       "\t<tr><th scope=row>177</th><td>309061250                    </td><td>Worongary - Tallai           </td><td>Kate                         </td><td>3718                         </td><td>341                          </td><td>0.09171598                   </td></tr>\n",
       "\t<tr><th scope=row>205</th><td>316061444                    </td><td>Palmwoods                    </td><td>Dave                         </td><td>4835                         </td><td>457                          </td><td>0.09451913                   </td></tr>\n",
       "\t<tr><th scope=row>204</th><td>316071546                    </td><td>Diddillibah - Rosemount      </td><td>Dave                         </td><td>1638                         </td><td>155                          </td><td>0.09462759                   </td></tr>\n",
       "\t<tr><th scope=row>210</th><td>316051544                    </td><td>Peregian Springs             </td><td>Kate                         </td><td>2958                         </td><td>280                          </td><td>0.09465855                   </td></tr>\n",
       "\t<tr><th scope=row>166</th><td>309031239                    </td><td>Paradise Point - Hollywell   </td><td>Kate                         </td><td>4308                         </td><td>417                          </td><td>0.09679666                   </td></tr>\n",
       "\t<tr><th scope=row>158</th><td>309101268                    </td><td>Bundall                      </td><td>Kate                         </td><td>2232                         </td><td>223                          </td><td>0.09991039                   </td></tr>\n",
       "\t<tr><th scope=row>291</th><td>314011387                    </td><td>Samford Valley               </td><td>Steff                        </td><td>5845                         </td><td>587                          </td><td>0.10042772                   </td></tr>\n",
       "\t<tr><th scope=row>254</th><td>310021278                    </td><td>Esk                          </td><td>Eric                         </td><td>1690                         </td><td>172                          </td><td>0.10177515                   </td></tr>\n",
       "\t<tr><th scope=row>202</th><td>316081549                    </td><td>Noosa Hinterland             </td><td>Charlie                      </td><td>9278                         </td><td>982                          </td><td>0.10584178                   </td></tr>\n",
       "\t<tr><th scope=row>206</th><td>316071547                    </td><td>Eumundi - Yandina            </td><td>Charlie                      </td><td>4753                         </td><td>504                          </td><td>0.10603829                   </td></tr>\n",
       "\t<tr><th scope=row>26</th><td>304021087                    </td><td>Brookfield - Kenmore Hills   </td><td>Steff                        </td><td>3154                         </td><td>337                          </td><td>0.10684845                   </td></tr>\n",
       "\t<tr><th scope=row>118</th><td>304021091                    </td><td>Pinjarra Hills - Pullenvale  </td><td>Steff                        </td><td>2642                         </td><td>289                          </td><td>0.10938683                   </td></tr>\n",
       "\t<tr><th scope=row>167</th><td>309071253                    </td><td>Hope Island                  </td><td>Kate                         </td><td>4992                         </td><td>551                          </td><td>0.11037660                   </td></tr>\n",
       "\t<tr><th scope=row>190</th><td>316051435                    </td><td>Noosaville                   </td><td>Dave                         </td><td>3481                         </td><td>389                          </td><td>0.11174950                   </td></tr>\n",
       "\t<tr><th scope=row>209</th><td>316051543                    </td><td>Peregian Beach - Marcus Beach</td><td>Kate                         </td><td>1775                         </td><td>199                          </td><td>0.11211268                   </td></tr>\n",
       "\t<tr><th scope=row>294</th><td>319031514                    </td><td>Gympie Region                </td><td>Eric                         </td><td>7162                         </td><td>805                          </td><td>0.11239877                   </td></tr>\n",
       "\t<tr><th scope=row>104</th><td>302031036                    </td><td>Brisbane Airport             </td><td>Steff                        </td><td>  53                         </td><td>  6                          </td><td>0.11320755                   </td></tr>\n",
       "\t<tr><th scope=row>143</th><td>309101269                    </td><td>Main Beach                   </td><td>Kate                         </td><td>1850                         </td><td>210                          </td><td>0.11351351                   </td></tr>\n",
       "\t<tr><th scope=row>181</th><td>316051437                    </td><td>Sunshine Beach               </td><td>Dave                         </td><td>3198                         </td><td>385                          </td><td>0.12038774                   </td></tr>\n",
       "\t<tr><th scope=row>189</th><td>316051434                    </td><td>Noosa Heads                  </td><td>Kate                         </td><td>1903                         </td><td>300                          </td><td>0.15764582                   </td></tr>\n",
       "</tbody>\n",
       "</table>\n"
      ],
      "text/latex": [
       "\\begin{tabular}{r|llllll}\n",
       "  & SA2Code & SA2Name & Team\\_Member & number\\_of\\_employees & number\\_worked\\_from\\_home & percentage\\_wfh\\\\\n",
       "\\hline\n",
       "\t252 & 311031314                  & Crestmead                  & Eric                       &  4585                      &  64                        & 0.01395856                \\\\\n",
       "\t264 & 310031291                  & Leichhardt - One Mile      & Eric                       &  2578                      &  43                        & 0.01667960                \\\\\n",
       "\t282 & 311061336                  & Woodridge                  & Eric                       &  3837                      &  69                        & 0.01798280                \\\\\n",
       "\t273 & 310031295                  & Riverview                  & Eric                       &   829                      &  15                        & 0.01809409                \\\\\n",
       "\t243 & 311031317                  & Marsden                    & Eric                       &  5219                      &  95                        & 0.01820272                \\\\\n",
       "\t235 & 310031285                  & Churchill - Yamanto        & Charlie                    &  3199                      &  60                        & 0.01875586                \\\\\n",
       "\t241 & 310031284                  & Bundamba                   & Eric                       &  3640                      &  70                        & 0.01923077                \\\\\n",
       "\t262 & 311061330                  & Kingston (Qld.)            & Eric                       &  3312                      &  65                        & 0.01962560                \\\\\n",
       "\t255 & 310031293                  & Raceview                   & Eric                       &  6620                      & 136                        & 0.02054381                \\\\\n",
       "\t62 & 310011274                  & Inala - Richlands          & Eric                       &  5333                      & 115                        & 0.02156385                \\\\\n",
       "\t265 & 311051326                  & Loganlea                   & Eric                       &  4137                      &  92                        & 0.02223834                \\\\\n",
       "\t231 & 310041302                  & Redbank Plains             & Eric                       &  7643                      & 181                        & 0.02368180                \\\\\n",
       "\t226 & 311061331                  & Logan Central              & Eric                       &  1628                      &  39                        & 0.02395577                \\\\\n",
       "\t242 & 310031283                  & Brassall                   & Eric                       &  4534                      & 109                        & 0.02404058                \\\\\n",
       "\t21 & 303051076                  & Rocklea - Acacia Ridge     & Eric                       &  3784                      &  91                        & 0.02404863                \\\\\n",
       "\t211 & 313021366                  & Caboolture - South         & Eric                       &  7530                      & 184                        & 0.02443559                \\\\\n",
       "\t38 & 302021028                  & Chermside                  & Charlie                    &  4318                      & 107                        & 0.02477999                \\\\\n",
       "\t228 & 310031292                  & North Ipswich - Tivoli     & Eric                       &  2472                      &  62                        & 0.02508091                \\\\\n",
       "\t119 & 303041067                  & Coopers Plains             & Charlie                    &  2458                      &  62                        & 0.02522376                \\\\\n",
       "\t230 & 310041299                  & Collingwood Park - Redbank & Eric                       &  3694                      &  94                        & 0.02544667                \\\\\n",
       "\t133 & 311031312                  & Browns Plains              & Eric                       &  3157                      &  81                        & 0.02565727                \\\\\n",
       "\t222 & 310041300                  & Goodna                     & Eric                       &  3778                      &  97                        & 0.02567496                \\\\\n",
       "\t10 & 302031040                  & Nundah                     & Kate                       &  7298                      & 190                        & 0.02603453                \\\\\n",
       "\t257 & 317011448                  & Gatton                     & Eric                       &  2954                      &  78                        & 0.02640487                \\\\\n",
       "\t216 & 310031287                  & Ipswich - East             & Eric                       &  7088                      & 190                        & 0.02680587                \\\\\n",
       "\t261 & 314021388                  & Dakabin - Kallangur        & Eric                       & 10967                      & 296                        & 0.02699006                \\\\\n",
       "\t267 & 313021368                  & Morayfield - East          & Eric                       &  3613                      &  98                        & 0.02712427                \\\\\n",
       "\t284 & 311021307                  & Eagleby                    & Eric                       &  4341                      & 118                        & 0.02718268                \\\\\n",
       "\t285 & 311021308                  & Edens Landing - Holmview   & Charlie                    &  3390                      &  93                        & 0.02743363                \\\\\n",
       "\t283 & 314031391                  & Bray Park                  & Charlie                    &  4745                      & 131                        & 0.02760801                \\\\\n",
       "\t... & ... & ... & ... & ... & ... & ...\\\\\n",
       "\t207 & 316021421                     & Golden Beach - Pelican Waters & Charlie                       & 4421                          & 363                           & 0.08210812                   \\\\\n",
       "\t46 & 304021088                     & Chapel Hill                   & Steff                         & 5019                          & 414                           & 0.08248655                   \\\\\n",
       "\t54 & 305041134                     & Bardon                        & Steff                         & 5065                          & 418                           & 0.08252715                   \\\\\n",
       "\t198 & 316011414                     & Buderim - South               & Kate                          & 7747                          & 648                           & 0.08364528                   \\\\\n",
       "\t157 & 309011224                     & Broadbeach Waters             & Kate                          & 3763                          & 317                           & 0.08424130                   \\\\\n",
       "\t160 & 309081259                     & Clear Island Waters           & Kate                          & 1742                          & 150                           & 0.08610792                   \\\\\n",
       "\t149 & 309031240                     & Runaway Bay                   & Dave                          & 3836                          & 331                           & 0.08628780                   \\\\\n",
       "\t156 & 309101267                     & Benowa                        & Kate                          & 3886                          & 337                           & 0.08672156                   \\\\\n",
       "\t239 & 311011305                     & Beaudesert                    & Eric                          & 5356                          & 478                           & 0.08924571                   \\\\\n",
       "\t57 & 304021089                     & Fig Tree Pocket               & Steff                         & 1921                          & 172                           & 0.08953670                   \\\\\n",
       "\t177 & 309061250                     & Worongary - Tallai            & Kate                          & 3718                          & 341                           & 0.09171598                   \\\\\n",
       "\t205 & 316061444                     & Palmwoods                     & Dave                          & 4835                          & 457                           & 0.09451913                   \\\\\n",
       "\t204 & 316071546                     & Diddillibah - Rosemount       & Dave                          & 1638                          & 155                           & 0.09462759                   \\\\\n",
       "\t210 & 316051544                     & Peregian Springs              & Kate                          & 2958                          & 280                           & 0.09465855                   \\\\\n",
       "\t166 & 309031239                     & Paradise Point - Hollywell    & Kate                          & 4308                          & 417                           & 0.09679666                   \\\\\n",
       "\t158 & 309101268                     & Bundall                       & Kate                          & 2232                          & 223                           & 0.09991039                   \\\\\n",
       "\t291 & 314011387                     & Samford Valley                & Steff                         & 5845                          & 587                           & 0.10042772                   \\\\\n",
       "\t254 & 310021278                     & Esk                           & Eric                          & 1690                          & 172                           & 0.10177515                   \\\\\n",
       "\t202 & 316081549                     & Noosa Hinterland              & Charlie                       & 9278                          & 982                           & 0.10584178                   \\\\\n",
       "\t206 & 316071547                     & Eumundi - Yandina             & Charlie                       & 4753                          & 504                           & 0.10603829                   \\\\\n",
       "\t26 & 304021087                     & Brookfield - Kenmore Hills    & Steff                         & 3154                          & 337                           & 0.10684845                   \\\\\n",
       "\t118 & 304021091                     & Pinjarra Hills - Pullenvale   & Steff                         & 2642                          & 289                           & 0.10938683                   \\\\\n",
       "\t167 & 309071253                     & Hope Island                   & Kate                          & 4992                          & 551                           & 0.11037660                   \\\\\n",
       "\t190 & 316051435                     & Noosaville                    & Dave                          & 3481                          & 389                           & 0.11174950                   \\\\\n",
       "\t209 & 316051543                     & Peregian Beach - Marcus Beach & Kate                          & 1775                          & 199                           & 0.11211268                   \\\\\n",
       "\t294 & 319031514                     & Gympie Region                 & Eric                          & 7162                          & 805                           & 0.11239877                   \\\\\n",
       "\t104 & 302031036                     & Brisbane Airport              & Steff                         &   53                          &   6                           & 0.11320755                   \\\\\n",
       "\t143 & 309101269                     & Main Beach                    & Kate                          & 1850                          & 210                           & 0.11351351                   \\\\\n",
       "\t181 & 316051437                     & Sunshine Beach                & Dave                          & 3198                          & 385                           & 0.12038774                   \\\\\n",
       "\t189 & 316051434                     & Noosa Heads                   & Kate                          & 1903                          & 300                           & 0.15764582                   \\\\\n",
       "\\end{tabular}\n"
      ],
      "text/markdown": [
       "\n",
       "| <!--/--> | SA2Code | SA2Name | Team_Member | number_of_employees | number_worked_from_home | percentage_wfh | \n",
       "|---|---|---|---|---|---|---|---|---|---|---|---|---|---|---|---|---|---|---|---|---|---|---|---|---|---|---|---|---|---|---|---|---|---|---|---|---|---|---|---|---|---|---|---|---|---|---|---|---|---|---|---|---|---|---|---|---|---|---|---|---|\n",
       "| 252 | 311031314                  | Crestmead                  | Eric                       |  4585                      |  64                        | 0.01395856                 | \n",
       "| 264 | 310031291                  | Leichhardt - One Mile      | Eric                       |  2578                      |  43                        | 0.01667960                 | \n",
       "| 282 | 311061336                  | Woodridge                  | Eric                       |  3837                      |  69                        | 0.01798280                 | \n",
       "| 273 | 310031295                  | Riverview                  | Eric                       |   829                      |  15                        | 0.01809409                 | \n",
       "| 243 | 311031317                  | Marsden                    | Eric                       |  5219                      |  95                        | 0.01820272                 | \n",
       "| 235 | 310031285                  | Churchill - Yamanto        | Charlie                    |  3199                      |  60                        | 0.01875586                 | \n",
       "| 241 | 310031284                  | Bundamba                   | Eric                       |  3640                      |  70                        | 0.01923077                 | \n",
       "| 262 | 311061330                  | Kingston (Qld.)            | Eric                       |  3312                      |  65                        | 0.01962560                 | \n",
       "| 255 | 310031293                  | Raceview                   | Eric                       |  6620                      | 136                        | 0.02054381                 | \n",
       "| 62 | 310011274                  | Inala - Richlands          | Eric                       |  5333                      | 115                        | 0.02156385                 | \n",
       "| 265 | 311051326                  | Loganlea                   | Eric                       |  4137                      |  92                        | 0.02223834                 | \n",
       "| 231 | 310041302                  | Redbank Plains             | Eric                       |  7643                      | 181                        | 0.02368180                 | \n",
       "| 226 | 311061331                  | Logan Central              | Eric                       |  1628                      |  39                        | 0.02395577                 | \n",
       "| 242 | 310031283                  | Brassall                   | Eric                       |  4534                      | 109                        | 0.02404058                 | \n",
       "| 21 | 303051076                  | Rocklea - Acacia Ridge     | Eric                       |  3784                      |  91                        | 0.02404863                 | \n",
       "| 211 | 313021366                  | Caboolture - South         | Eric                       |  7530                      | 184                        | 0.02443559                 | \n",
       "| 38 | 302021028                  | Chermside                  | Charlie                    |  4318                      | 107                        | 0.02477999                 | \n",
       "| 228 | 310031292                  | North Ipswich - Tivoli     | Eric                       |  2472                      |  62                        | 0.02508091                 | \n",
       "| 119 | 303041067                  | Coopers Plains             | Charlie                    |  2458                      |  62                        | 0.02522376                 | \n",
       "| 230 | 310041299                  | Collingwood Park - Redbank | Eric                       |  3694                      |  94                        | 0.02544667                 | \n",
       "| 133 | 311031312                  | Browns Plains              | Eric                       |  3157                      |  81                        | 0.02565727                 | \n",
       "| 222 | 310041300                  | Goodna                     | Eric                       |  3778                      |  97                        | 0.02567496                 | \n",
       "| 10 | 302031040                  | Nundah                     | Kate                       |  7298                      | 190                        | 0.02603453                 | \n",
       "| 257 | 317011448                  | Gatton                     | Eric                       |  2954                      |  78                        | 0.02640487                 | \n",
       "| 216 | 310031287                  | Ipswich - East             | Eric                       |  7088                      | 190                        | 0.02680587                 | \n",
       "| 261 | 314021388                  | Dakabin - Kallangur        | Eric                       | 10967                      | 296                        | 0.02699006                 | \n",
       "| 267 | 313021368                  | Morayfield - East          | Eric                       |  3613                      |  98                        | 0.02712427                 | \n",
       "| 284 | 311021307                  | Eagleby                    | Eric                       |  4341                      | 118                        | 0.02718268                 | \n",
       "| 285 | 311021308                  | Edens Landing - Holmview   | Charlie                    |  3390                      |  93                        | 0.02743363                 | \n",
       "| 283 | 314031391                  | Bray Park                  | Charlie                    |  4745                      | 131                        | 0.02760801                 | \n",
       "| ... | ... | ... | ... | ... | ... | ... | \n",
       "| 207 | 316021421                     | Golden Beach - Pelican Waters | Charlie                       | 4421                          | 363                           | 0.08210812                    | \n",
       "| 46 | 304021088                     | Chapel Hill                   | Steff                         | 5019                          | 414                           | 0.08248655                    | \n",
       "| 54 | 305041134                     | Bardon                        | Steff                         | 5065                          | 418                           | 0.08252715                    | \n",
       "| 198 | 316011414                     | Buderim - South               | Kate                          | 7747                          | 648                           | 0.08364528                    | \n",
       "| 157 | 309011224                     | Broadbeach Waters             | Kate                          | 3763                          | 317                           | 0.08424130                    | \n",
       "| 160 | 309081259                     | Clear Island Waters           | Kate                          | 1742                          | 150                           | 0.08610792                    | \n",
       "| 149 | 309031240                     | Runaway Bay                   | Dave                          | 3836                          | 331                           | 0.08628780                    | \n",
       "| 156 | 309101267                     | Benowa                        | Kate                          | 3886                          | 337                           | 0.08672156                    | \n",
       "| 239 | 311011305                     | Beaudesert                    | Eric                          | 5356                          | 478                           | 0.08924571                    | \n",
       "| 57 | 304021089                     | Fig Tree Pocket               | Steff                         | 1921                          | 172                           | 0.08953670                    | \n",
       "| 177 | 309061250                     | Worongary - Tallai            | Kate                          | 3718                          | 341                           | 0.09171598                    | \n",
       "| 205 | 316061444                     | Palmwoods                     | Dave                          | 4835                          | 457                           | 0.09451913                    | \n",
       "| 204 | 316071546                     | Diddillibah - Rosemount       | Dave                          | 1638                          | 155                           | 0.09462759                    | \n",
       "| 210 | 316051544                     | Peregian Springs              | Kate                          | 2958                          | 280                           | 0.09465855                    | \n",
       "| 166 | 309031239                     | Paradise Point - Hollywell    | Kate                          | 4308                          | 417                           | 0.09679666                    | \n",
       "| 158 | 309101268                     | Bundall                       | Kate                          | 2232                          | 223                           | 0.09991039                    | \n",
       "| 291 | 314011387                     | Samford Valley                | Steff                         | 5845                          | 587                           | 0.10042772                    | \n",
       "| 254 | 310021278                     | Esk                           | Eric                          | 1690                          | 172                           | 0.10177515                    | \n",
       "| 202 | 316081549                     | Noosa Hinterland              | Charlie                       | 9278                          | 982                           | 0.10584178                    | \n",
       "| 206 | 316071547                     | Eumundi - Yandina             | Charlie                       | 4753                          | 504                           | 0.10603829                    | \n",
       "| 26 | 304021087                     | Brookfield - Kenmore Hills    | Steff                         | 3154                          | 337                           | 0.10684845                    | \n",
       "| 118 | 304021091                     | Pinjarra Hills - Pullenvale   | Steff                         | 2642                          | 289                           | 0.10938683                    | \n",
       "| 167 | 309071253                     | Hope Island                   | Kate                          | 4992                          | 551                           | 0.11037660                    | \n",
       "| 190 | 316051435                     | Noosaville                    | Dave                          | 3481                          | 389                           | 0.11174950                    | \n",
       "| 209 | 316051543                     | Peregian Beach - Marcus Beach | Kate                          | 1775                          | 199                           | 0.11211268                    | \n",
       "| 294 | 319031514                     | Gympie Region                 | Eric                          | 7162                          | 805                           | 0.11239877                    | \n",
       "| 104 | 302031036                     | Brisbane Airport              | Steff                         |   53                          |   6                           | 0.11320755                    | \n",
       "| 143 | 309101269                     | Main Beach                    | Kate                          | 1850                          | 210                           | 0.11351351                    | \n",
       "| 181 | 316051437                     | Sunshine Beach                | Dave                          | 3198                          | 385                           | 0.12038774                    | \n",
       "| 189 | 316051434                     | Noosa Heads                   | Kate                          | 1903                          | 300                           | 0.15764582                    | \n",
       "\n",
       "\n"
      ],
      "text/plain": [
       "    SA2Code   SA2Name                       Team_Member number_of_employees\n",
       "252 311031314 Crestmead                     Eric         4585              \n",
       "264 310031291 Leichhardt - One Mile         Eric         2578              \n",
       "282 311061336 Woodridge                     Eric         3837              \n",
       "273 310031295 Riverview                     Eric          829              \n",
       "243 311031317 Marsden                       Eric         5219              \n",
       "235 310031285 Churchill - Yamanto           Charlie      3199              \n",
       "241 310031284 Bundamba                      Eric         3640              \n",
       "262 311061330 Kingston (Qld.)               Eric         3312              \n",
       "255 310031293 Raceview                      Eric         6620              \n",
       "62  310011274 Inala - Richlands             Eric         5333              \n",
       "265 311051326 Loganlea                      Eric         4137              \n",
       "231 310041302 Redbank Plains                Eric         7643              \n",
       "226 311061331 Logan Central                 Eric         1628              \n",
       "242 310031283 Brassall                      Eric         4534              \n",
       "21  303051076 Rocklea - Acacia Ridge        Eric         3784              \n",
       "211 313021366 Caboolture - South            Eric         7530              \n",
       "38  302021028 Chermside                     Charlie      4318              \n",
       "228 310031292 North Ipswich - Tivoli        Eric         2472              \n",
       "119 303041067 Coopers Plains                Charlie      2458              \n",
       "230 310041299 Collingwood Park - Redbank    Eric         3694              \n",
       "133 311031312 Browns Plains                 Eric         3157              \n",
       "222 310041300 Goodna                        Eric         3778              \n",
       "10  302031040 Nundah                        Kate         7298              \n",
       "257 317011448 Gatton                        Eric         2954              \n",
       "216 310031287 Ipswich - East                Eric         7088              \n",
       "261 314021388 Dakabin - Kallangur           Eric        10967              \n",
       "267 313021368 Morayfield - East             Eric         3613              \n",
       "284 311021307 Eagleby                       Eric         4341              \n",
       "285 311021308 Edens Landing - Holmview      Charlie      3390              \n",
       "283 314031391 Bray Park                     Charlie      4745              \n",
       "... ...       ...                           ...         ...                \n",
       "207 316021421 Golden Beach - Pelican Waters Charlie     4421               \n",
       "46  304021088 Chapel Hill                   Steff       5019               \n",
       "54  305041134 Bardon                        Steff       5065               \n",
       "198 316011414 Buderim - South               Kate        7747               \n",
       "157 309011224 Broadbeach Waters             Kate        3763               \n",
       "160 309081259 Clear Island Waters           Kate        1742               \n",
       "149 309031240 Runaway Bay                   Dave        3836               \n",
       "156 309101267 Benowa                        Kate        3886               \n",
       "239 311011305 Beaudesert                    Eric        5356               \n",
       "57  304021089 Fig Tree Pocket               Steff       1921               \n",
       "177 309061250 Worongary - Tallai            Kate        3718               \n",
       "205 316061444 Palmwoods                     Dave        4835               \n",
       "204 316071546 Diddillibah - Rosemount       Dave        1638               \n",
       "210 316051544 Peregian Springs              Kate        2958               \n",
       "166 309031239 Paradise Point - Hollywell    Kate        4308               \n",
       "158 309101268 Bundall                       Kate        2232               \n",
       "291 314011387 Samford Valley                Steff       5845               \n",
       "254 310021278 Esk                           Eric        1690               \n",
       "202 316081549 Noosa Hinterland              Charlie     9278               \n",
       "206 316071547 Eumundi - Yandina             Charlie     4753               \n",
       "26  304021087 Brookfield - Kenmore Hills    Steff       3154               \n",
       "118 304021091 Pinjarra Hills - Pullenvale   Steff       2642               \n",
       "167 309071253 Hope Island                   Kate        4992               \n",
       "190 316051435 Noosaville                    Dave        3481               \n",
       "209 316051543 Peregian Beach - Marcus Beach Kate        1775               \n",
       "294 319031514 Gympie Region                 Eric        7162               \n",
       "104 302031036 Brisbane Airport              Steff         53               \n",
       "143 309101269 Main Beach                    Kate        1850               \n",
       "181 316051437 Sunshine Beach                Dave        3198               \n",
       "189 316051434 Noosa Heads                   Kate        1903               \n",
       "    number_worked_from_home percentage_wfh\n",
       "252  64                     0.01395856    \n",
       "264  43                     0.01667960    \n",
       "282  69                     0.01798280    \n",
       "273  15                     0.01809409    \n",
       "243  95                     0.01820272    \n",
       "235  60                     0.01875586    \n",
       "241  70                     0.01923077    \n",
       "262  65                     0.01962560    \n",
       "255 136                     0.02054381    \n",
       "62  115                     0.02156385    \n",
       "265  92                     0.02223834    \n",
       "231 181                     0.02368180    \n",
       "226  39                     0.02395577    \n",
       "242 109                     0.02404058    \n",
       "21   91                     0.02404863    \n",
       "211 184                     0.02443559    \n",
       "38  107                     0.02477999    \n",
       "228  62                     0.02508091    \n",
       "119  62                     0.02522376    \n",
       "230  94                     0.02544667    \n",
       "133  81                     0.02565727    \n",
       "222  97                     0.02567496    \n",
       "10  190                     0.02603453    \n",
       "257  78                     0.02640487    \n",
       "216 190                     0.02680587    \n",
       "261 296                     0.02699006    \n",
       "267  98                     0.02712427    \n",
       "284 118                     0.02718268    \n",
       "285  93                     0.02743363    \n",
       "283 131                     0.02760801    \n",
       "... ...                     ...           \n",
       "207 363                     0.08210812    \n",
       "46  414                     0.08248655    \n",
       "54  418                     0.08252715    \n",
       "198 648                     0.08364528    \n",
       "157 317                     0.08424130    \n",
       "160 150                     0.08610792    \n",
       "149 331                     0.08628780    \n",
       "156 337                     0.08672156    \n",
       "239 478                     0.08924571    \n",
       "57  172                     0.08953670    \n",
       "177 341                     0.09171598    \n",
       "205 457                     0.09451913    \n",
       "204 155                     0.09462759    \n",
       "210 280                     0.09465855    \n",
       "166 417                     0.09679666    \n",
       "158 223                     0.09991039    \n",
       "291 587                     0.10042772    \n",
       "254 172                     0.10177515    \n",
       "202 982                     0.10584178    \n",
       "206 504                     0.10603829    \n",
       "26  337                     0.10684845    \n",
       "118 289                     0.10938683    \n",
       "167 551                     0.11037660    \n",
       "190 389                     0.11174950    \n",
       "209 199                     0.11211268    \n",
       "294 805                     0.11239877    \n",
       "104   6                     0.11320755    \n",
       "143 210                     0.11351351    \n",
       "181 385                     0.12038774    \n",
       "189 300                     0.15764582    "
      ]
     },
     "metadata": {},
     "output_type": "display_data"
    }
   ],
   "source": [
    "wfh_index <- subset(accessible_data, select=c(\"SA2Code\", \"SA2Name\", \"Team_Member\", \"number_of_employees\", \"number_worked_from_home\"))\n",
    "wfh_index$percentage_wfh <- with(wfh_index, number_worked_from_home / number_of_employees)\n",
    "wfh_index <- wfh_index[order(wfh_index$percentage_wfh),]\n",
    "wfh_index\n",
    "\n",
    "# write.csv(wfh_index,\"wfh_index.csv\", row.names = FALSE)"
   ]
  },
  {
   "cell_type": "markdown",
   "metadata": {},
   "source": [
    "Now we can do our usual dance - filter by each of our SA2 areas and compare summary stats."
   ]
  },
  {
   "cell_type": "code",
   "execution_count": 24,
   "metadata": {},
   "outputs": [
    {
     "data": {
      "text/plain": [
       "   Min. 1st Qu.  Median    Mean 3rd Qu.    Max. \n",
       "0.01396 0.03682 0.04731 0.05163 0.06157 0.15765 "
      ]
     },
     "metadata": {},
     "output_type": "display_data"
    }
   ],
   "source": [
    " summary(wfh_index$percentage_wfh)\n",
    "\n",
    "# Note - to use this code block, only uncomment one of the indiv_data lines. Trying to use more than one will overwrite with \n",
    "# the last one and not give the desired result.\n",
    "\n",
    "# indiv_data <- subset(wfh_index, Team_Member == \"Eric\") # only consider Eric's SA2 areas\n",
    "# indiv_data <- subset(wfh_index, Team_Member == \"Charlie\") # only consider Charlie's SA2 areas\n",
    "# indiv_data <- subset(wfh_index, Team_Member == \"Dave\") # only consider my SA2 areas\n",
    "# indiv_data <- subset(wfh_index, Team_Member == \"Kate\") # only consider Kate's SA2 areas\n",
    "# indiv_data <- subset(wfh_index, Team_Member == \"Steff\") # only consider Steff's SA2 areas\n",
    "\n",
    "# Once you've selected A name, use the below to either summarise or export. (Or, y'know, whatever you want to do with it \n",
    "# from here))\n",
    "\n",
    "# write.csv(indiv_data,\"indiv_data.csv\", row.names = FALSE)\n",
    "# summary(indiv_data$percentage_wfh)"
   ]
  },
  {
   "cell_type": "markdown",
   "metadata": {},
   "source": [
    "Percentages of working from home per SA2 area:\n",
    "- All SA2 - between 0.014% and 0.156% wfh, median is 0.047%, mean is 0.052%\n",
    "- Eric's SA2 - between 0.014% and 0.112% wfh, median is 0.030%, mean is 0.037% ( less than average)\n",
    "- Charlie's SA2 - between 0.019% and 0.106% wfh, median is 0.047%, mean is 0.049% (slightly less than average)\n",
    "- my SA2s - between 0.028% and 0.120% wfh, median is 0.049%, mean is 0.054% (right on average)\n",
    "- Kate's SA2s - between 0.026% and 0.158% wfh, median is 0.046%, mean is 0.067% (slightly above average)\n",
    "- Steff's SA2s - between 0.040% and 0.113% wfh, median is 0.055%, mean is 0.068% (above average)\n",
    "\n",
    "In summary, there is a faint but discernable trend upwards as SAD index scores improve - I would be comfortable saying that there is a relationship between areas that are relatively better-off socio-economically and the availability of work from home arrangements."
   ]
  },
  {
   "cell_type": "markdown",
   "metadata": {},
   "source": [
    "Next - is there a relationship between SAD index and people who only use PT to get to work? (And to save time, let's also do the legwork to answer the next one - is there a relationship between SAD index and people who only use PT to get to work, normalised by the percentage of houses that don't have a car?\n",
    "\n",
    "Let's create a temporary variable to help us find out!"
   ]
  },
  {
   "cell_type": "code",
   "execution_count": 25,
   "metadata": {},
   "outputs": [
    {
     "data": {
      "text/html": [
       "<table>\n",
       "<thead><tr><th scope=col>SA2Code</th><th scope=col>SA2Name</th><th scope=col>Score</th><th scope=col>Team_Member</th><th scope=col>number_of_employees</th><th scope=col>Pop</th><th scope=col>percent_unemployed</th><th scope=col>number_worked_from_home</th><th scope=col>pt_to_work</th><th scope=col>dwellings_with_no_cars</th><th scope=col>Total_dwelings</th><th scope=col>percentage_houses_no_cars</th><th scope=col>dwellings_with_no_cars</th><th scope=col>Total_dwelings</th><th scope=col>percentage_houses_no_cars</th></tr></thead>\n",
       "<tbody>\n",
       "\t<tr><td>305011105             </td><td>Brisbane City         </td><td>1083                  </td><td>Steff                 </td><td>5397                  </td><td>10192                 </td><td>47.04670              </td><td>254                   </td><td> 724                  </td><td>1280                  </td><td>4044                  </td><td>31.65183              </td><td>1280                  </td><td>4044                  </td><td>31.65183              </td></tr>\n",
       "\t<tr><td>305011111             </td><td>Spring Hill           </td><td>1028                  </td><td>Dave                  </td><td>3411                  </td><td> 6063                 </td><td>43.74072              </td><td>127                   </td><td> 478                  </td><td> 707                  </td><td>2197                  </td><td>32.18025              </td><td> 707                  </td><td>2197                  </td><td>32.18025              </td></tr>\n",
       "\t<tr><td>305011106             </td><td>Fortitude Valley      </td><td>1064                  </td><td>Kate                  </td><td>4539                  </td><td> 7146                 </td><td>36.48195              </td><td>139                   </td><td> 900                  </td><td> 973                  </td><td>3251                  </td><td>29.92925              </td><td> 973                  </td><td>3251                  </td><td>29.92925              </td></tr>\n",
       "\t<tr><td>305031128             </td><td>Newstead - Bowen Hills</td><td>1132                  </td><td>Steff                 </td><td>6877                  </td><td>10638                 </td><td>35.35439              </td><td>333                   </td><td>1421                  </td><td> 735                  </td><td>4802                  </td><td>15.30612              </td><td> 735                  </td><td>4802                  </td><td>15.30612              </td></tr>\n",
       "\t<tr><td>304041098             </td><td>Enoggera              </td><td>1053                  </td><td>Kate                  </td><td>4684                  </td><td> 8158                 </td><td>42.58397              </td><td>152                   </td><td> 698                  </td><td> 341                  </td><td>3021                  </td><td>11.28765              </td><td> 341                  </td><td>3021                  </td><td>11.28765              </td></tr>\n",
       "\t<tr><td>305041135             </td><td>Paddington - Milton   </td><td>1137                  </td><td>Steff                 </td><td>6522                  </td><td>10788                 </td><td>39.54394              </td><td>369                   </td><td>1065                  </td><td> 396                  </td><td>4159                  </td><td> 9.52152              </td><td> 396                  </td><td>4159                  </td><td> 9.52152              </td></tr>\n",
       "</tbody>\n",
       "</table>\n"
      ],
      "text/latex": [
       "\\begin{tabular}{r|lllllllllllllll}\n",
       " SA2Code & SA2Name & Score & Team\\_Member & number\\_of\\_employees & Pop & percent\\_unemployed & number\\_worked\\_from\\_home & pt\\_to\\_work & dwellings\\_with\\_no\\_cars & Total\\_dwelings & percentage\\_houses\\_no\\_cars & dwellings\\_with\\_no\\_cars & Total\\_dwelings & percentage\\_houses\\_no\\_cars\\\\\n",
       "\\hline\n",
       "\t 305011105              & Brisbane City          & 1083                   & Steff                  & 5397                   & 10192                  & 47.04670               & 254                    &  724                   & 1280                   & 4044                   & 31.65183               & 1280                   & 4044                   & 31.65183              \\\\\n",
       "\t 305011111              & Spring Hill            & 1028                   & Dave                   & 3411                   &  6063                  & 43.74072               & 127                    &  478                   &  707                   & 2197                   & 32.18025               &  707                   & 2197                   & 32.18025              \\\\\n",
       "\t 305011106              & Fortitude Valley       & 1064                   & Kate                   & 4539                   &  7146                  & 36.48195               & 139                    &  900                   &  973                   & 3251                   & 29.92925               &  973                   & 3251                   & 29.92925              \\\\\n",
       "\t 305031128              & Newstead - Bowen Hills & 1132                   & Steff                  & 6877                   & 10638                  & 35.35439               & 333                    & 1421                   &  735                   & 4802                   & 15.30612               &  735                   & 4802                   & 15.30612              \\\\\n",
       "\t 304041098              & Enoggera               & 1053                   & Kate                   & 4684                   &  8158                  & 42.58397               & 152                    &  698                   &  341                   & 3021                   & 11.28765               &  341                   & 3021                   & 11.28765              \\\\\n",
       "\t 305041135              & Paddington - Milton    & 1137                   & Steff                  & 6522                   & 10788                  & 39.54394               & 369                    & 1065                   &  396                   & 4159                   &  9.52152               &  396                   & 4159                   &  9.52152              \\\\\n",
       "\\end{tabular}\n"
      ],
      "text/markdown": [
       "\n",
       "SA2Code | SA2Name | Score | Team_Member | number_of_employees | Pop | percent_unemployed | number_worked_from_home | pt_to_work | dwellings_with_no_cars | Total_dwelings | percentage_houses_no_cars | dwellings_with_no_cars | Total_dwelings | percentage_houses_no_cars | \n",
       "|---|---|---|---|---|---|\n",
       "| 305011105              | Brisbane City          | 1083                   | Steff                  | 5397                   | 10192                  | 47.04670               | 254                    |  724                   | 1280                   | 4044                   | 31.65183               | 1280                   | 4044                   | 31.65183               | \n",
       "| 305011111              | Spring Hill            | 1028                   | Dave                   | 3411                   |  6063                  | 43.74072               | 127                    |  478                   |  707                   | 2197                   | 32.18025               |  707                   | 2197                   | 32.18025               | \n",
       "| 305011106              | Fortitude Valley       | 1064                   | Kate                   | 4539                   |  7146                  | 36.48195               | 139                    |  900                   |  973                   | 3251                   | 29.92925               |  973                   | 3251                   | 29.92925               | \n",
       "| 305031128              | Newstead - Bowen Hills | 1132                   | Steff                  | 6877                   | 10638                  | 35.35439               | 333                    | 1421                   |  735                   | 4802                   | 15.30612               |  735                   | 4802                   | 15.30612               | \n",
       "| 304041098              | Enoggera               | 1053                   | Kate                   | 4684                   |  8158                  | 42.58397               | 152                    |  698                   |  341                   | 3021                   | 11.28765               |  341                   | 3021                   | 11.28765               | \n",
       "| 305041135              | Paddington - Milton    | 1137                   | Steff                  | 6522                   | 10788                  | 39.54394               | 369                    | 1065                   |  396                   | 4159                   |  9.52152               |  396                   | 4159                   |  9.52152               | \n",
       "\n",
       "\n"
      ],
      "text/plain": [
       "  SA2Code   SA2Name                Score Team_Member number_of_employees Pop  \n",
       "1 305011105 Brisbane City          1083  Steff       5397                10192\n",
       "2 305011111 Spring Hill            1028  Dave        3411                 6063\n",
       "3 305011106 Fortitude Valley       1064  Kate        4539                 7146\n",
       "4 305031128 Newstead - Bowen Hills 1132  Steff       6877                10638\n",
       "5 304041098 Enoggera               1053  Kate        4684                 8158\n",
       "6 305041135 Paddington - Milton    1137  Steff       6522                10788\n",
       "  percent_unemployed number_worked_from_home pt_to_work dwellings_with_no_cars\n",
       "1 47.04670           254                      724       1280                  \n",
       "2 43.74072           127                      478        707                  \n",
       "3 36.48195           139                      900        973                  \n",
       "4 35.35439           333                     1421        735                  \n",
       "5 42.58397           152                      698        341                  \n",
       "6 39.54394           369                     1065        396                  \n",
       "  Total_dwelings percentage_houses_no_cars dwellings_with_no_cars\n",
       "1 4044           31.65183                  1280                  \n",
       "2 2197           32.18025                   707                  \n",
       "3 3251           29.92925                   973                  \n",
       "4 4802           15.30612                   735                  \n",
       "5 3021           11.28765                   341                  \n",
       "6 4159            9.52152                   396                  \n",
       "  Total_dwelings percentage_houses_no_cars\n",
       "1 4044           31.65183                 \n",
       "2 2197           32.18025                 \n",
       "3 3251           29.92925                 \n",
       "4 4802           15.30612                 \n",
       "5 3021           11.28765                 \n",
       "6 4159            9.52152                 "
      ]
     },
     "metadata": {},
     "output_type": "display_data"
    }
   ],
   "source": [
    "head(accessible_data)"
   ]
  },
  {
   "cell_type": "code",
   "execution_count": 26,
   "metadata": {},
   "outputs": [
    {
     "data": {
      "text/html": [
       "<table>\n",
       "<thead><tr><th scope=col>SA2Code</th><th scope=col>SA2Name</th><th scope=col>Team_Member</th><th scope=col>pt_to_work</th><th scope=col>percentage_houses_no_cars</th></tr></thead>\n",
       "<tbody>\n",
       "\t<tr><td>305011105             </td><td>Brisbane City         </td><td>Steff                 </td><td> 724                  </td><td>31.65183              </td></tr>\n",
       "\t<tr><td>305011111             </td><td>Spring Hill           </td><td>Dave                  </td><td> 478                  </td><td>32.18025              </td></tr>\n",
       "\t<tr><td>305011106             </td><td>Fortitude Valley      </td><td>Kate                  </td><td> 900                  </td><td>29.92925              </td></tr>\n",
       "\t<tr><td>305031128             </td><td>Newstead - Bowen Hills</td><td>Steff                 </td><td>1421                  </td><td>15.30612              </td></tr>\n",
       "\t<tr><td>304041098             </td><td>Enoggera              </td><td>Kate                  </td><td> 698                  </td><td>11.28765              </td></tr>\n",
       "\t<tr><td>305041135             </td><td>Paddington - Milton   </td><td>Steff                 </td><td>1065                  </td><td> 9.52152              </td></tr>\n",
       "</tbody>\n",
       "</table>\n"
      ],
      "text/latex": [
       "\\begin{tabular}{r|lllll}\n",
       " SA2Code & SA2Name & Team\\_Member & pt\\_to\\_work & percentage\\_houses\\_no\\_cars\\\\\n",
       "\\hline\n",
       "\t 305011105              & Brisbane City          & Steff                  &  724                   & 31.65183              \\\\\n",
       "\t 305011111              & Spring Hill            & Dave                   &  478                   & 32.18025              \\\\\n",
       "\t 305011106              & Fortitude Valley       & Kate                   &  900                   & 29.92925              \\\\\n",
       "\t 305031128              & Newstead - Bowen Hills & Steff                  & 1421                   & 15.30612              \\\\\n",
       "\t 304041098              & Enoggera               & Kate                   &  698                   & 11.28765              \\\\\n",
       "\t 305041135              & Paddington - Milton    & Steff                  & 1065                   &  9.52152              \\\\\n",
       "\\end{tabular}\n"
      ],
      "text/markdown": [
       "\n",
       "SA2Code | SA2Name | Team_Member | pt_to_work | percentage_houses_no_cars | \n",
       "|---|---|---|---|---|---|\n",
       "| 305011105              | Brisbane City          | Steff                  |  724                   | 31.65183               | \n",
       "| 305011111              | Spring Hill            | Dave                   |  478                   | 32.18025               | \n",
       "| 305011106              | Fortitude Valley       | Kate                   |  900                   | 29.92925               | \n",
       "| 305031128              | Newstead - Bowen Hills | Steff                  | 1421                   | 15.30612               | \n",
       "| 304041098              | Enoggera               | Kate                   |  698                   | 11.28765               | \n",
       "| 305041135              | Paddington - Milton    | Steff                  | 1065                   |  9.52152               | \n",
       "\n",
       "\n"
      ],
      "text/plain": [
       "  SA2Code   SA2Name                Team_Member pt_to_work\n",
       "1 305011105 Brisbane City          Steff        724      \n",
       "2 305011111 Spring Hill            Dave         478      \n",
       "3 305011106 Fortitude Valley       Kate         900      \n",
       "4 305031128 Newstead - Bowen Hills Steff       1421      \n",
       "5 304041098 Enoggera               Kate         698      \n",
       "6 305041135 Paddington - Milton    Steff       1065      \n",
       "  percentage_houses_no_cars\n",
       "1 31.65183                 \n",
       "2 32.18025                 \n",
       "3 29.92925                 \n",
       "4 15.30612                 \n",
       "5 11.28765                 \n",
       "6  9.52152                 "
      ]
     },
     "metadata": {},
     "output_type": "display_data"
    }
   ],
   "source": [
    "pt_only_commuters <- subset(accessible_data, select=c(\"SA2Code\", \"SA2Name\", \"Team_Member\", \"pt_to_work\", \"percentage_houses_no_cars\"))\n",
    "head(pt_only_commuters)"
   ]
  },
  {
   "cell_type": "markdown",
   "metadata": {},
   "source": [
    "Ok, like before, let's explore the relationship (if any) between areas that rely on PT (and no cars) to commute to work against each of our SA2 areas. Let's _also_ do this comparison with the number of people relying on only PT for commute normalised by the percentage of houses without cars in that area (to try to correct for areas where people are choosing to take PT, rather than having no practical option to take PT). Let's create the normalised index first -"
   ]
  },
  {
   "cell_type": "code",
   "execution_count": 27,
   "metadata": {},
   "outputs": [
    {
     "data": {
      "text/html": [
       "<table>\n",
       "<thead><tr><th></th><th scope=col>SA2Code</th><th scope=col>SA2Name</th><th scope=col>Team_Member</th><th scope=col>pt_to_work</th><th scope=col>percentage_houses_no_cars</th><th scope=col>normalised_pt_users</th></tr></thead>\n",
       "<tbody>\n",
       "\t<tr><th scope=row>254</th><td>310021278              </td><td>Esk                    </td><td>Eric                   </td><td> 6                     </td><td> 3.905091              </td><td>153.6456               </td></tr>\n",
       "\t<tr><th scope=row>257</th><td>317011448              </td><td>Gatton                 </td><td>Eric                   </td><td>17                     </td><td> 7.704465              </td><td>220.6513               </td></tr>\n",
       "\t<tr><th scope=row>295</th><td>319031512              </td><td>Gympie - North         </td><td>Eric                   </td><td>43                     </td><td> 9.264006              </td><td>464.1621               </td></tr>\n",
       "\t<tr><th scope=row>182</th><td>316021419              </td><td>Caloundra - Kings Beach</td><td>Eric                   </td><td>56                     </td><td>11.716898              </td><td>477.9422               </td></tr>\n",
       "\t<tr><th scope=row>161</th><td>309021230              </td><td>Coolangatta            </td><td>Charlie                </td><td>55                     </td><td>11.343738              </td><td>484.8490               </td></tr>\n",
       "\t<tr><th scope=row>160</th><td>309081259              </td><td>Clear Island Waters    </td><td>Kate                   </td><td>24                     </td><td> 4.795396              </td><td>500.4800               </td></tr>\n",
       "</tbody>\n",
       "</table>\n"
      ],
      "text/latex": [
       "\\begin{tabular}{r|llllll}\n",
       "  & SA2Code & SA2Name & Team\\_Member & pt\\_to\\_work & percentage\\_houses\\_no\\_cars & normalised\\_pt\\_users\\\\\n",
       "\\hline\n",
       "\t254 & 310021278               & Esk                     & Eric                    &  6                      &  3.905091               & 153.6456               \\\\\n",
       "\t257 & 317011448               & Gatton                  & Eric                    & 17                      &  7.704465               & 220.6513               \\\\\n",
       "\t295 & 319031512               & Gympie - North          & Eric                    & 43                      &  9.264006               & 464.1621               \\\\\n",
       "\t182 & 316021419               & Caloundra - Kings Beach & Eric                    & 56                      & 11.716898               & 477.9422               \\\\\n",
       "\t161 & 309021230               & Coolangatta             & Charlie                 & 55                      & 11.343738               & 484.8490               \\\\\n",
       "\t160 & 309081259               & Clear Island Waters     & Kate                    & 24                      &  4.795396               & 500.4800               \\\\\n",
       "\\end{tabular}\n"
      ],
      "text/markdown": [
       "\n",
       "| <!--/--> | SA2Code | SA2Name | Team_Member | pt_to_work | percentage_houses_no_cars | normalised_pt_users | \n",
       "|---|---|---|---|---|---|\n",
       "| 254 | 310021278               | Esk                     | Eric                    |  6                      |  3.905091               | 153.6456                | \n",
       "| 257 | 317011448               | Gatton                  | Eric                    | 17                      |  7.704465               | 220.6513                | \n",
       "| 295 | 319031512               | Gympie - North          | Eric                    | 43                      |  9.264006               | 464.1621                | \n",
       "| 182 | 316021419               | Caloundra - Kings Beach | Eric                    | 56                      | 11.716898               | 477.9422                | \n",
       "| 161 | 309021230               | Coolangatta             | Charlie                 | 55                      | 11.343738               | 484.8490                | \n",
       "| 160 | 309081259               | Clear Island Waters     | Kate                    | 24                      |  4.795396               | 500.4800                | \n",
       "\n",
       "\n"
      ],
      "text/plain": [
       "    SA2Code   SA2Name                 Team_Member pt_to_work\n",
       "254 310021278 Esk                     Eric         6        \n",
       "257 317011448 Gatton                  Eric        17        \n",
       "295 319031512 Gympie - North          Eric        43        \n",
       "182 316021419 Caloundra - Kings Beach Eric        56        \n",
       "161 309021230 Coolangatta             Charlie     55        \n",
       "160 309081259 Clear Island Waters     Kate        24        \n",
       "    percentage_houses_no_cars normalised_pt_users\n",
       "254  3.905091                 153.6456           \n",
       "257  7.704465                 220.6513           \n",
       "295  9.264006                 464.1621           \n",
       "182 11.716898                 477.9422           \n",
       "161 11.343738                 484.8490           \n",
       "160  4.795396                 500.4800           "
      ]
     },
     "metadata": {},
     "output_type": "display_data"
    }
   ],
   "source": [
    "pt_only_commuters$normalised_pt_users <- with(pt_only_commuters, pt_only_commuters$pt_to_work * (100 / pt_only_commuters$percentage_houses_no_cars))\n",
    "pt_only_commuters <- pt_only_commuters[order(pt_only_commuters$normalised_pt_users),]\n",
    "head(pt_only_commuters)"
   ]
  },
  {
   "cell_type": "markdown",
   "metadata": {},
   "source": [
    "Now, comparisons filtering on Team_Member"
   ]
  },
  {
   "cell_type": "code",
   "execution_count": 28,
   "metadata": {},
   "outputs": [
    {
     "data": {
      "text/plain": [
       "   Min. 1st Qu.  Median    Mean 3rd Qu.    Max. \n",
       "    4.0   293.0   539.0   599.1   818.0  1724.0 "
      ]
     },
     "metadata": {},
     "output_type": "display_data"
    },
    {
     "data": {
      "text/plain": [
       "   Min. 1st Qu.  Median    Mean 3rd Qu.    Max. \n",
       "   2287    6940    9326     Inf   18154     Inf "
      ]
     },
     "metadata": {},
     "output_type": "display_data"
    }
   ],
   "source": [
    "#summary(pt_only_commuters$pt_to_work)\n",
    "# pt_only_commuters = pt_only_commuters[!pt_only_commuters$SA2Code == \"302031036\",] # Bris airport has 0 houses without cars - breaks this calculation\n",
    "#summary(pt_only_commuters$normalised_pt_users)\n",
    "\n",
    "# Note - to use this code block, only uncomment one of the indiv_data lines. Trying to use more than one will overwrite with \n",
    "# the last one and not give the desired result.\n",
    "\n",
    " indiv_data <- subset(pt_only_commuters, Team_Member == \"Eric\") # only consider Eric's SA2 areas\n",
    "# indiv_data <- subset(pt_only_commuters, Team_Member == \"Charlie\") # only consider Charlie's SA2 areas\n",
    "# indiv_data <- subset(pt_only_commuters, Team_Member == \"Dave\") # only consider my SA2 areas\n",
    "# indiv_data <- subset(pt_only_commuters, Team_Member == \"Kate\") # only consider Kate's SA2 areas\n",
    " indiv_data <- subset(pt_only_commuters, Team_Member == \"Steff\") # only consider Steff's SA2 areas\n",
    "\n",
    "# Once you've selected A name, use the below to either summarise or export. (Or, y'know, whatever you want to do with it \n",
    "# from here))\n",
    "\n",
    "# write.csv(indiv_data,\"indiv_data.csv\", row.names = FALSE)\n",
    " summary(indiv_data$pt_to_work)\n",
    " summary(indiv_data$normalised_pt_users)"
   ]
  },
  {
   "cell_type": "markdown",
   "metadata": {},
   "source": [
    "Users per area who catch only public transport to work:\n",
    "- All SA2s - between 4 and 1,724 users, median is 268, mean is 368\n",
    "- Eric's SA2s - between 6 and 691 users, median is 167.5, mean is 199 (fewer PT-only commuters than average)\n",
    "- Charlie's SA2s - between 15 and 1,181 users, median is 141, mean is 243 (fewer PT-only commuters than average)\n",
    "- Dave's SA2 - between 20 and 1,070 users, median is 222, mean is 322 (fewer PT-only commuters than average)\n",
    "- Kate's SA2s - between 24 and 1,698 users, median of 409, mean of 467.6 (more PT-only commuters than average)\n",
    "- Steff's SA2s - between 99 and 1,724 users, median of 545.5, mean of 609.1 (much more PT-only commuters than average)\n",
    "\n",
    "Users per area who catch only public transport to work, normalised by the percentage of houses without cars in that area:\n",
    "- All SA2s - between 153.6 and 61696.1 on the index, median is 5,284.2, mean is 8,418.8 \n",
    "- Eric's SAs - between 153.6 and 14,133.3 on the index, median is 2,490.8, mean is 3787.5 (fewer PT-only commuters than average once normalised)\n",
    "- Charlies SA2s - between 484.8 and 25,976 on the index, median is 3,919.2, mean is 5,712.7 (fewer PT-only commuters than average once normalised)\n",
    "- Dave's SA2s - between 784.7 and 53.966.4 on the index, median of 6,584.9, mean is 9,110.5 (more PT-only commuters than average once normalised)\n",
    "- Kate's SA2s - between 500.5 and 61,696.1 on the index, median of 7,496.2, mean of 11,257.1 (much more PT-only commuters than average once normalised)\n",
    "- Steff's SA2s - between 2,287 and 58,004 on the index, median of 9,305, mean of 13,040 (much more PT-only commuters than average once normalised)\n",
    "\n",
    "(NOTE - had to exclude Brisbane airport from the normalisation calculation for both ALL SA2 and Steff's SA2, as it was the only SA2 area with 0 houses without cars - and therefore doesn't make sense to apply this normalisation to. Code used for this is in the block above and commented out for reference. On reflection, a simpler solution would have been to add +1 to all houses without cars as part of the normalisation formula. Oh well!).\n",
    "\n",
    "So what does this show us? In both raw figures and normalised figures, there is a clear relationship between the reliance of commuters on PT and SAD index scores - but this by itself doesn't give us an answer to our hypothesis, as it's only half the equation! We have now quantified the reliance of each area on public transport, both in absolute percentage and in terms of their relative reliance on PT for their commute. What we don't have yet is how the public transport responds to this situation - how accessible are PT services to these people who rely upon it??\n",
    "\n",
    "To answer this question, we would have to understand the number of available public transport services available in each SA2 area, which would normally mean it's time to combine with dataset 1A. In this particular case, we have an ace up our sleeves - understanding number of transport services per SA2 area was a large part of the analysis we performed last night, in our Hypothesis - public transport serves people of relative wealth notebook (available here - https://drive.google.com/open?id=10TCZ_6lgOCP4pTtrrSl6kitZ6_2VUcnt ). As a quick refresher, this workbook got us to the point where we could visualise something like this - https://drive.google.com/open?id=1Q1B-gHk0EFjjLjP23GlxhM2GGZhA6Eag\n",
    "\n",
    "So let us leverage our prior good work and import the workbook from last night to use."
   ]
  },
  {
   "cell_type": "code",
   "execution_count": 29,
   "metadata": {},
   "outputs": [
    {
     "data": {
      "text/html": [
       "<table>\n",
       "<thead><tr><th scope=col>SA2Code</th><th scope=col>Score</th><th scope=col>n</th></tr></thead>\n",
       "<tbody>\n",
       "\t<tr><td>112031254</td><td> 933     </td><td>4467     </td></tr>\n",
       "\t<tr><td>301011001</td><td> 987     </td><td>3486     </td></tr>\n",
       "\t<tr><td>301011002</td><td>1093     </td><td>3147     </td></tr>\n",
       "\t<tr><td>301011003</td><td>1034     </td><td>2881     </td></tr>\n",
       "\t<tr><td>301011004</td><td> 991     </td><td>4788     </td></tr>\n",
       "\t<tr><td>301011005</td><td> 983     </td><td>1519     </td></tr>\n",
       "</tbody>\n",
       "</table>\n"
      ],
      "text/latex": [
       "\\begin{tabular}{r|lll}\n",
       " SA2Code & Score & n\\\\\n",
       "\\hline\n",
       "\t 112031254 &  933      & 4467     \\\\\n",
       "\t 301011001 &  987      & 3486     \\\\\n",
       "\t 301011002 & 1093      & 3147     \\\\\n",
       "\t 301011003 & 1034      & 2881     \\\\\n",
       "\t 301011004 &  991      & 4788     \\\\\n",
       "\t 301011005 &  983      & 1519     \\\\\n",
       "\\end{tabular}\n"
      ],
      "text/markdown": [
       "\n",
       "SA2Code | Score | n | \n",
       "|---|---|---|---|---|---|\n",
       "| 112031254 |  933      | 4467      | \n",
       "| 301011001 |  987      | 3486      | \n",
       "| 301011002 | 1093      | 3147      | \n",
       "| 301011003 | 1034      | 2881      | \n",
       "| 301011004 |  991      | 4788      | \n",
       "| 301011005 |  983      | 1519      | \n",
       "\n",
       "\n"
      ],
      "text/plain": [
       "  SA2Code   Score n   \n",
       "1 112031254  933  4467\n",
       "2 301011001  987  3486\n",
       "3 301011002 1093  3147\n",
       "4 301011003 1034  2881\n",
       "5 301011004  991  4788\n",
       "6 301011005  983  1519"
      ]
     },
     "metadata": {},
     "output_type": "display_data"
    }
   ],
   "source": [
    "pt_services <- read_csv(\"pt_services_by_SA2_v2.csv\", col_types = cols(SA2Name = col_skip(), Team_Member = col_skip()))\n",
    "head(pt_services)"
   ]
  },
  {
   "cell_type": "markdown",
   "metadata": {},
   "source": [
    "Sweet, sweet reuse. Let's join! Or why not, let's merge!"
   ]
  },
  {
   "cell_type": "code",
   "execution_count": 30,
   "metadata": {},
   "outputs": [
    {
     "data": {
      "text/html": [
       "<table>\n",
       "<thead><tr><th scope=col>SA2Code</th><th scope=col>Score</th><th scope=col>n</th><th scope=col>SA2Name</th><th scope=col>Team_Member</th><th scope=col>pt_to_work</th><th scope=col>percentage_houses_no_cars</th><th scope=col>normalised_pt_users</th></tr></thead>\n",
       "<tbody>\n",
       "\t<tr><td>301011001        </td><td> 987             </td><td>3486             </td><td>Alexandra Hills  </td><td>Charlie          </td><td>343              </td><td>3.594946         </td><td> 9541.173        </td></tr>\n",
       "\t<tr><td>301011002        </td><td>1093             </td><td>3147             </td><td>Belmont - Gumdale</td><td>Steff            </td><td>211              </td><td>1.783384         </td><td>11831.439        </td></tr>\n",
       "\t<tr><td>301011003        </td><td>1034             </td><td>2881             </td><td>Birkdale         </td><td>Dave             </td><td>431              </td><td>3.339921         </td><td>12904.497        </td></tr>\n",
       "\t<tr><td>301011004        </td><td> 991             </td><td>4788             </td><td>Capalaba         </td><td>Charlie          </td><td>344              </td><td>4.860134         </td><td> 7077.994        </td></tr>\n",
       "\t<tr><td>301011005        </td><td> 983             </td><td>1519             </td><td>Thorneside       </td><td>Charlie          </td><td>141              </td><td>3.986928         </td><td> 3536.557        </td></tr>\n",
       "\t<tr><td>301011006        </td><td>1062             </td><td>2062             </td><td>Wellington Point </td><td>Kate             </td><td>357              </td><td>2.231237         </td><td>16000.091        </td></tr>\n",
       "</tbody>\n",
       "</table>\n"
      ],
      "text/latex": [
       "\\begin{tabular}{r|llllllll}\n",
       " SA2Code & Score & n & SA2Name & Team\\_Member & pt\\_to\\_work & percentage\\_houses\\_no\\_cars & normalised\\_pt\\_users\\\\\n",
       "\\hline\n",
       "\t 301011001         &  987              & 3486              & Alexandra Hills   & Charlie           & 343               & 3.594946          &  9541.173        \\\\\n",
       "\t 301011002         & 1093              & 3147              & Belmont - Gumdale & Steff             & 211               & 1.783384          & 11831.439        \\\\\n",
       "\t 301011003         & 1034              & 2881              & Birkdale          & Dave              & 431               & 3.339921          & 12904.497        \\\\\n",
       "\t 301011004         &  991              & 4788              & Capalaba          & Charlie           & 344               & 4.860134          &  7077.994        \\\\\n",
       "\t 301011005         &  983              & 1519              & Thorneside        & Charlie           & 141               & 3.986928          &  3536.557        \\\\\n",
       "\t 301011006         & 1062              & 2062              & Wellington Point  & Kate              & 357               & 2.231237          & 16000.091        \\\\\n",
       "\\end{tabular}\n"
      ],
      "text/markdown": [
       "\n",
       "SA2Code | Score | n | SA2Name | Team_Member | pt_to_work | percentage_houses_no_cars | normalised_pt_users | \n",
       "|---|---|---|---|---|---|\n",
       "| 301011001         |  987              | 3486              | Alexandra Hills   | Charlie           | 343               | 3.594946          |  9541.173         | \n",
       "| 301011002         | 1093              | 3147              | Belmont - Gumdale | Steff             | 211               | 1.783384          | 11831.439         | \n",
       "| 301011003         | 1034              | 2881              | Birkdale          | Dave              | 431               | 3.339921          | 12904.497         | \n",
       "| 301011004         |  991              | 4788              | Capalaba          | Charlie           | 344               | 4.860134          |  7077.994         | \n",
       "| 301011005         |  983              | 1519              | Thorneside        | Charlie           | 141               | 3.986928          |  3536.557         | \n",
       "| 301011006         | 1062              | 2062              | Wellington Point  | Kate              | 357               | 2.231237          | 16000.091         | \n",
       "\n",
       "\n"
      ],
      "text/plain": [
       "  SA2Code   Score n    SA2Name           Team_Member pt_to_work\n",
       "1 301011001  987  3486 Alexandra Hills   Charlie     343       \n",
       "2 301011002 1093  3147 Belmont - Gumdale Steff       211       \n",
       "3 301011003 1034  2881 Birkdale          Dave        431       \n",
       "4 301011004  991  4788 Capalaba          Charlie     344       \n",
       "5 301011005  983  1519 Thorneside        Charlie     141       \n",
       "6 301011006 1062  2062 Wellington Point  Kate        357       \n",
       "  percentage_houses_no_cars normalised_pt_users\n",
       "1 3.594946                   9541.173          \n",
       "2 1.783384                  11831.439          \n",
       "3 3.339921                  12904.497          \n",
       "4 4.860134                   7077.994          \n",
       "5 3.986928                   3536.557          \n",
       "6 2.231237                  16000.091          "
      ]
     },
     "metadata": {},
     "output_type": "display_data"
    }
   ],
   "source": [
    "final_ultra_data <- merge(pt_services, pt_only_commuters, by = \"SA2Code\")\n",
    "head(final_ultra_data)"
   ]
  },
  {
   "cell_type": "markdown",
   "metadata": {},
   "source": [
    "And this is the part where there's a few things that I'd normally do.\n",
    "\n",
    "- First is to export this dataset to import to Tableau, with a view of plotting the the count of services per area vs the number of PT-only commuters AND  the normalised index of the same. If it looks like there's a clear pattern, great - write it up and assess the original hypothesis\n",
    "- If the visual EDA doesn't show a clear pattern, but has the hints there is a pattern to be found, I'd come back to R Studio/Jupityer notebooks, filter the data by Team_Member and start doing comparison there. The extra level of aggregation might reveal a clearer pattern that is otherwise obscured by outliers at the SA2 level. If that turns up a pattern - great, write it up as a weaker relationship (but still a relationship) and assess the original hypotheses.\n",
    "- If there's no pattern at that point - see what it does reveal to see if there's anything else I'd like to explore futher - possibly there is something that hints at another hypothesis we can test.\n",
    "- If not that either - write it up as hypothesis is unproven. Not a bad outcome and not a failure - we now know something else about the world as revealed by this data (just not something that we can action in any meaningful way).\n",
    "With that captured, let's get doin' in Tableau. Exporting the working dataset and will post the resulting plot in a sec...\n",
    "\n",
    "(output file is here if you need - https://drive.google.com/open?id=1vcz9tog6nuCgdgThkYAxPROZXVRIAKTa ) As you can probably guess, it's Project - Analysis - Dave - Dave Output."
   ]
  },
  {
   "cell_type": "code",
   "execution_count": 31,
   "metadata": {},
   "outputs": [],
   "source": [
    " # write.csv(final_ultra_data,\"final_ultra_data.csv\", row.names = FALSE)"
   ]
  },
  {
   "cell_type": "markdown",
   "metadata": {},
   "source": [
    "And the results are in... and are the most interesting set of results yet!\n",
    "\n",
    "Ok, resulting visualisation can be seen at https://drive.google.com/open?id=1A3nHNnGSvVI2594CGCkLPqBkD7SRNWv9\n",
    "\n",
    "Please have it open before proceeding, coz it's a little nuts! On the left, we have a simple scatter plot of the number of passenger transport services vs. the number of people who rely on PT only to commute to work. To assess the hypothesis of whether public transport is easily accessible to people without cars (and following the leaps in logic and assumptions documented in the first markdown box about without cars Vs have a car but choose not to use it to get to work), I would expect to see the number of services increasing as the number of people who need to rely on them increase. This graph's trend line suggests that this exact relationship exists, albeit with a gigantic amount of noise. If the generated trend line wasn't there, I don't think I would have been able to discern this relationship visually. \n",
    "\n",
    "_Can someone with a better grasp on statistical mathematics suggest some ways of quantifying this result?_\n",
    "\n",
    "Of more interest to me personally is the graph on the right, which attempts to use normalisation to distinguish between _people who have cars but choose not to use them to commute_ and _people who rely on PT to commute because they don't have a car_. You can see the difference this normalisation is having on the trend line, which is almost entirely horizontal. \n",
    "\n",
    "My stab at interpretation of what this means - at a whole-of-system level, there is a relationship between people who rely soley on PT and the availability of PT services. The second graph implies something about this relationship - it is _more likely_ that people are reliant on PT to commute in areas where there are more PT services available, but _not the other way around_. We can see that the number of services is almost entirely static despite how badly people NEED public transport to get to work (ie. not having a car appears not to have been a factor when deciding which services should run, and how frequently).\n",
    "\n",
    "My final takeaway is that we have possibly proven two hypothesis, including one that is very, very close to our original hypothesis:\n",
    "- hypothesis - the accessibility of public transport is a factor in people deciding how they want to commute - proven\n",
    "- hypothesis - public transport is _as easily_ accessible to people without cars as to people with cars - proven\n",
    "\n",
    "Open to other ways of interpreting these results, I'm feeling a little out of my comfort zone but would happily stand by the block of text above in the absense of better ideas =p"
   ]
  },
  {
   "cell_type": "markdown",
   "metadata": {},
   "source": [
    "### Peace"
   ]
  }
 ],
 "metadata": {
  "kernelspec": {
   "display_name": "R",
   "language": "R",
   "name": "ir"
  },
  "language_info": {
   "codemirror_mode": "r",
   "file_extension": ".r",
   "mimetype": "text/x-r-source",
   "name": "R",
   "pygments_lexer": "r",
   "version": "3.4.3"
  }
 },
 "nbformat": 4,
 "nbformat_minor": 2
}
