{
 "cells": [
  {
   "cell_type": "markdown",
   "metadata": {},
   "source": [
    "# Taking all we've learned through hypothesis and using k-means clustering to find clusters of similar SA2 ares - looking at our derived personas for PT users"
   ]
  },
  {
   "cell_type": "markdown",
   "metadata": {},
   "source": [
    "Now to bring it all together - import all of the different indexes, values and counts that represent different aspects of PT use that I've explored so far and work out where the most logical clusters are."
   ]
  },
  {
   "cell_type": "code",
   "execution_count": 196,
   "metadata": {},
   "outputs": [],
   "source": [
    "library(readr)\n",
    "library(plyr)\n",
    "library(dplyr)\n",
    "# Note from Dave to Dave - ALWAYS load plyr before dplyr or group_by doesn't work properly\n",
    "# Note - have updated to use combined_quantity from the 1C dataset to give more meaningful results"
   ]
  },
  {
   "cell_type": "markdown",
   "metadata": {},
   "source": [
    "Will bring in 1F to serve as the framework for joining. I only need it at SA2 level, so also going to do some aggregation as I go."
   ]
  },
  {
   "cell_type": "code",
   "execution_count": 197,
   "metadata": {},
   "outputs": [
    {
     "data": {
      "text/html": [
       "<table>\n",
       "<thead><tr><th scope=col>AREASQKM16</th><th scope=col>SA2Code</th><th scope=col>SA2Name</th><th scope=col>Pop</th><th scope=col>Score</th><th scope=col>Team_Member</th></tr></thead>\n",
       "<tbody>\n",
       "\t<tr><td>2.3663                </td><td>305011105             </td><td>Brisbane City         </td><td>10192                 </td><td>1083                  </td><td>Steff                 </td></tr>\n",
       "\t<tr><td>1.2432                </td><td>305011111             </td><td>Spring Hill           </td><td> 6063                 </td><td>1028                  </td><td>Dave                  </td></tr>\n",
       "\t<tr><td>1.2745                </td><td>305011106             </td><td>Fortitude Valley      </td><td> 7146                 </td><td>1064                  </td><td>Kate                  </td></tr>\n",
       "\t<tr><td>3.0555                </td><td>305031128             </td><td>Newstead - Bowen Hills</td><td>10638                 </td><td>1132                  </td><td>Steff                 </td></tr>\n",
       "\t<tr><td>9.6008                </td><td>304041098             </td><td>Enoggera              </td><td> 8158                 </td><td>1053                  </td><td>Kate                  </td></tr>\n",
       "\t<tr><td>3.5836                </td><td>305041135             </td><td>Paddington - Milton   </td><td>10788                 </td><td>1137                  </td><td>Steff                 </td></tr>\n",
       "</tbody>\n",
       "</table>\n"
      ],
      "text/latex": [
       "\\begin{tabular}{r|llllll}\n",
       " AREASQKM16 & SA2Code & SA2Name & Pop & Score & Team\\_Member\\\\\n",
       "\\hline\n",
       "\t 2.3663                 & 305011105              & Brisbane City          & 10192                  & 1083                   & Steff                 \\\\\n",
       "\t 1.2432                 & 305011111              & Spring Hill            &  6063                  & 1028                   & Dave                  \\\\\n",
       "\t 1.2745                 & 305011106              & Fortitude Valley       &  7146                  & 1064                   & Kate                  \\\\\n",
       "\t 3.0555                 & 305031128              & Newstead - Bowen Hills & 10638                  & 1132                   & Steff                 \\\\\n",
       "\t 9.6008                 & 304041098              & Enoggera               &  8158                  & 1053                   & Kate                  \\\\\n",
       "\t 3.5836                 & 305041135              & Paddington - Milton    & 10788                  & 1137                   & Steff                 \\\\\n",
       "\\end{tabular}\n"
      ],
      "text/markdown": [
       "\n",
       "AREASQKM16 | SA2Code | SA2Name | Pop | Score | Team_Member | \n",
       "|---|---|---|---|---|---|\n",
       "| 2.3663                 | 305011105              | Brisbane City          | 10192                  | 1083                   | Steff                  | \n",
       "| 1.2432                 | 305011111              | Spring Hill            |  6063                  | 1028                   | Dave                   | \n",
       "| 1.2745                 | 305011106              | Fortitude Valley       |  7146                  | 1064                   | Kate                   | \n",
       "| 3.0555                 | 305031128              | Newstead - Bowen Hills | 10638                  | 1132                   | Steff                  | \n",
       "| 9.6008                 | 304041098              | Enoggera               |  8158                  | 1053                   | Kate                   | \n",
       "| 3.5836                 | 305041135              | Paddington - Milton    | 10788                  | 1137                   | Steff                  | \n",
       "\n",
       "\n"
      ],
      "text/plain": [
       "  AREASQKM16 SA2Code   SA2Name                Pop   Score Team_Member\n",
       "1 2.3663     305011105 Brisbane City          10192 1083  Steff      \n",
       "2 1.2432     305011111 Spring Hill             6063 1028  Dave       \n",
       "3 1.2745     305011106 Fortitude Valley        7146 1064  Kate       \n",
       "4 3.0555     305031128 Newstead - Bowen Hills 10638 1132  Steff      \n",
       "5 9.6008     304041098 Enoggera                8158 1053  Kate       \n",
       "6 3.5836     305041135 Paddington - Milton    10788 1137  Steff      "
      ]
     },
     "metadata": {},
     "output_type": "display_data"
    }
   ],
   "source": [
    "SA2_stops_by_mode <- read_csv(\"Processed Data/1F/SA2_stops_by_mode.csv\", col_types = cols(is_bus_stop = col_skip(), is_ferry_stop = col_skip(), is_train_station = col_skip(), is_tram_stop = col_skip(), stop_id = col_skip(), stop_lat = col_skip(), stop_lon = col_skip(), stop_name = col_skip(), stop_url = col_skip()))\n",
    "SA2_stops_by_mode <- SA2_stops_by_mode %>% group_by (SA2Code, SA2Name, Pop, Score, Team_Member)\n",
    "SA2_stops_by_mode <- unique(SA2_stops_by_mode)\n",
    "head(SA2_stops_by_mode)"
   ]
  },
  {
   "cell_type": "markdown",
   "metadata": {},
   "source": [
    "Now, let's do a series of importing our output datasets from other notebooks that represent different outputs from our hypothesis.\n",
    "\n",
    "First, accessible_data from the xxxxx hypothesis. This will bring in:\n",
    "- number of employees\n",
    "- percentage of population unemployed\n",
    "- number of people who work from home\n",
    "- number of people who only use PT to commute\n",
    "- number of houses in the area\n",
    "- the percentage of houses without access to a car in the area"
   ]
  },
  {
   "cell_type": "code",
   "execution_count": 198,
   "metadata": {},
   "outputs": [
    {
     "name": "stderr",
     "output_type": "stream",
     "text": [
      "Warning message:\n",
      "\"Duplicated column names deduplicated: 'dwellings_with_no_cars' => 'dwellings_with_no_cars_1' [13], 'Total_dwelings' => 'Total_dwelings_1' [14], 'percentage_houses_no_cars' => 'percentage_houses_no_cars_1' [15]\""
     ]
    },
    {
     "data": {
      "text/html": [
       "<table>\n",
       "<thead><tr><th scope=col>SA2Code</th><th scope=col>AREASQKM16</th><th scope=col>SA2Name</th><th scope=col>Pop</th><th scope=col>Score</th><th scope=col>Team_Member</th><th scope=col>number_of_employees</th><th scope=col>percent_unemployed</th><th scope=col>number_worked_from_home</th><th scope=col>pt_to_work</th><th scope=col>Total_dwelings</th><th scope=col>percentage_houses_no_cars</th></tr></thead>\n",
       "<tbody>\n",
       "\t<tr><td>301011001        </td><td>13.6312          </td><td>Alexandra Hills  </td><td>16345            </td><td> 987             </td><td>Charlie          </td><td>8311             </td><td>49.15265         </td><td>291              </td><td>343              </td><td>5619             </td><td>3.594946         </td></tr>\n",
       "\t<tr><td>301011002        </td><td>33.1072          </td><td>Belmont - Gumdale</td><td> 7375            </td><td>1093             </td><td>Steff            </td><td>3835             </td><td>48.00000         </td><td>286              </td><td>211              </td><td>2299             </td><td>1.783384         </td></tr>\n",
       "\t<tr><td>301011003        </td><td>11.5987          </td><td>Birkdale         </td><td>14923            </td><td>1034             </td><td>Dave             </td><td>7349             </td><td>50.75387         </td><td>355              </td><td>431              </td><td>5060             </td><td>3.339921         </td></tr>\n",
       "\t<tr><td>301011004        </td><td>18.8890          </td><td>Capalaba         </td><td>17588            </td><td> 991             </td><td>Charlie          </td><td>8995             </td><td>48.85718         </td><td>348              </td><td>344              </td><td>6399             </td><td>4.860134         </td></tr>\n",
       "\t<tr><td>301011005        </td><td> 2.6658          </td><td>Thorneside       </td><td> 3761            </td><td> 983             </td><td>Charlie          </td><td>1836             </td><td>51.18320         </td><td> 75              </td><td>141              </td><td>1530             </td><td>3.986928         </td></tr>\n",
       "\t<tr><td>301011006        </td><td> 9.4040          </td><td>Wellington Point </td><td>11576            </td><td>1062             </td><td>Kate             </td><td>5975             </td><td>48.38459         </td><td>302              </td><td>357              </td><td>3944             </td><td>2.231237         </td></tr>\n",
       "</tbody>\n",
       "</table>\n"
      ],
      "text/latex": [
       "\\begin{tabular}{r|llllllllllll}\n",
       " SA2Code & AREASQKM16 & SA2Name & Pop & Score & Team\\_Member & number\\_of\\_employees & percent\\_unemployed & number\\_worked\\_from\\_home & pt\\_to\\_work & Total\\_dwelings & percentage\\_houses\\_no\\_cars\\\\\n",
       "\\hline\n",
       "\t 301011001         & 13.6312           & Alexandra Hills   & 16345             &  987              & Charlie           & 8311              & 49.15265          & 291               & 343               & 5619              & 3.594946         \\\\\n",
       "\t 301011002         & 33.1072           & Belmont - Gumdale &  7375             & 1093              & Steff             & 3835              & 48.00000          & 286               & 211               & 2299              & 1.783384         \\\\\n",
       "\t 301011003         & 11.5987           & Birkdale          & 14923             & 1034              & Dave              & 7349              & 50.75387          & 355               & 431               & 5060              & 3.339921         \\\\\n",
       "\t 301011004         & 18.8890           & Capalaba          & 17588             &  991              & Charlie           & 8995              & 48.85718          & 348               & 344               & 6399              & 4.860134         \\\\\n",
       "\t 301011005         &  2.6658           & Thorneside        &  3761             &  983              & Charlie           & 1836              & 51.18320          &  75               & 141               & 1530              & 3.986928         \\\\\n",
       "\t 301011006         &  9.4040           & Wellington Point  & 11576             & 1062              & Kate              & 5975              & 48.38459          & 302               & 357               & 3944              & 2.231237         \\\\\n",
       "\\end{tabular}\n"
      ],
      "text/markdown": [
       "\n",
       "SA2Code | AREASQKM16 | SA2Name | Pop | Score | Team_Member | number_of_employees | percent_unemployed | number_worked_from_home | pt_to_work | Total_dwelings | percentage_houses_no_cars | \n",
       "|---|---|---|---|---|---|\n",
       "| 301011001         | 13.6312           | Alexandra Hills   | 16345             |  987              | Charlie           | 8311              | 49.15265          | 291               | 343               | 5619              | 3.594946          | \n",
       "| 301011002         | 33.1072           | Belmont - Gumdale |  7375             | 1093              | Steff             | 3835              | 48.00000          | 286               | 211               | 2299              | 1.783384          | \n",
       "| 301011003         | 11.5987           | Birkdale          | 14923             | 1034              | Dave              | 7349              | 50.75387          | 355               | 431               | 5060              | 3.339921          | \n",
       "| 301011004         | 18.8890           | Capalaba          | 17588             |  991              | Charlie           | 8995              | 48.85718          | 348               | 344               | 6399              | 4.860134          | \n",
       "| 301011005         |  2.6658           | Thorneside        |  3761             |  983              | Charlie           | 1836              | 51.18320          |  75               | 141               | 1530              | 3.986928          | \n",
       "| 301011006         |  9.4040           | Wellington Point  | 11576             | 1062              | Kate              | 5975              | 48.38459          | 302               | 357               | 3944              | 2.231237          | \n",
       "\n",
       "\n"
      ],
      "text/plain": [
       "  SA2Code   AREASQKM16 SA2Name           Pop   Score Team_Member\n",
       "1 301011001 13.6312    Alexandra Hills   16345  987  Charlie    \n",
       "2 301011002 33.1072    Belmont - Gumdale  7375 1093  Steff      \n",
       "3 301011003 11.5987    Birkdale          14923 1034  Dave       \n",
       "4 301011004 18.8890    Capalaba          17588  991  Charlie    \n",
       "5 301011005  2.6658    Thorneside         3761  983  Charlie    \n",
       "6 301011006  9.4040    Wellington Point  11576 1062  Kate       \n",
       "  number_of_employees percent_unemployed number_worked_from_home pt_to_work\n",
       "1 8311                49.15265           291                     343       \n",
       "2 3835                48.00000           286                     211       \n",
       "3 7349                50.75387           355                     431       \n",
       "4 8995                48.85718           348                     344       \n",
       "5 1836                51.18320            75                     141       \n",
       "6 5975                48.38459           302                     357       \n",
       "  Total_dwelings percentage_houses_no_cars\n",
       "1 5619           3.594946                 \n",
       "2 2299           1.783384                 \n",
       "3 5060           3.339921                 \n",
       "4 6399           4.860134                 \n",
       "5 1530           3.986928                 \n",
       "6 3944           2.231237                 "
      ]
     },
     "metadata": {},
     "output_type": "display_data"
    }
   ],
   "source": [
    "accessible_data <- read_csv(\"Cluster/accessible_data.csv\", col_types = cols(Pop = col_skip(), SA2Name = col_skip(), Score = col_skip(), Team_Member = col_skip(), Total_dwelings_1 = col_skip(), dwellings_with_no_cars = col_skip(), dwellings_with_no_cars_1 = col_skip(), percentage_houses_no_cars_1 = col_skip()))\n",
    "working_data <- merge(SA2_stops_by_mode, accessible_data, by=\"SA2Code\")\n",
    "head(working_data)"
   ]
  },
  {
   "cell_type": "markdown",
   "metadata": {},
   "source": [
    "Next, our working from home index from the XXXX hypothesis, which will add:\n",
    "- percentage of people working from home"
   ]
  },
  {
   "cell_type": "code",
   "execution_count": 199,
   "metadata": {},
   "outputs": [
    {
     "data": {
      "text/html": [
       "<table>\n",
       "<thead><tr><th scope=col>SA2Code</th><th scope=col>AREASQKM16</th><th scope=col>SA2Name</th><th scope=col>Pop</th><th scope=col>Score</th><th scope=col>Team_Member</th><th scope=col>number_of_employees</th><th scope=col>percent_unemployed</th><th scope=col>number_worked_from_home</th><th scope=col>pt_to_work</th><th scope=col>Total_dwelings</th><th scope=col>percentage_houses_no_cars</th><th scope=col>percentage_wfh</th></tr></thead>\n",
       "<tbody>\n",
       "\t<tr><td>301011001        </td><td>13.6312          </td><td>Alexandra Hills  </td><td>16345            </td><td> 987             </td><td>Charlie          </td><td>8311             </td><td>49.15265         </td><td>291              </td><td>343              </td><td>5619             </td><td>3.594946         </td><td>0.03501384       </td></tr>\n",
       "\t<tr><td>301011002        </td><td>33.1072          </td><td>Belmont - Gumdale</td><td> 7375            </td><td>1093             </td><td>Steff            </td><td>3835             </td><td>48.00000         </td><td>286              </td><td>211              </td><td>2299             </td><td>1.783384         </td><td>0.07457627       </td></tr>\n",
       "\t<tr><td>301011003        </td><td>11.5987          </td><td>Birkdale         </td><td>14923            </td><td>1034             </td><td>Dave             </td><td>7349             </td><td>50.75387         </td><td>355              </td><td>431              </td><td>5060             </td><td>3.339921         </td><td>0.04830589       </td></tr>\n",
       "\t<tr><td>301011004        </td><td>18.8890          </td><td>Capalaba         </td><td>17588            </td><td> 991             </td><td>Charlie          </td><td>8995             </td><td>48.85718         </td><td>348              </td><td>344              </td><td>6399             </td><td>4.860134         </td><td>0.03868816       </td></tr>\n",
       "\t<tr><td>301011005        </td><td> 2.6658          </td><td>Thorneside       </td><td> 3761            </td><td> 983             </td><td>Charlie          </td><td>1836             </td><td>51.18320         </td><td> 75              </td><td>141              </td><td>1530             </td><td>3.986928         </td><td>0.04084967       </td></tr>\n",
       "\t<tr><td>301011006        </td><td> 9.4040          </td><td>Wellington Point </td><td>11576            </td><td>1062             </td><td>Kate             </td><td>5975             </td><td>48.38459         </td><td>302              </td><td>357              </td><td>3944             </td><td>2.231237         </td><td>0.05054393       </td></tr>\n",
       "</tbody>\n",
       "</table>\n"
      ],
      "text/latex": [
       "\\begin{tabular}{r|lllllllllllll}\n",
       " SA2Code & AREASQKM16 & SA2Name & Pop & Score & Team\\_Member & number\\_of\\_employees & percent\\_unemployed & number\\_worked\\_from\\_home & pt\\_to\\_work & Total\\_dwelings & percentage\\_houses\\_no\\_cars & percentage\\_wfh\\\\\n",
       "\\hline\n",
       "\t 301011001         & 13.6312           & Alexandra Hills   & 16345             &  987              & Charlie           & 8311              & 49.15265          & 291               & 343               & 5619              & 3.594946          & 0.03501384       \\\\\n",
       "\t 301011002         & 33.1072           & Belmont - Gumdale &  7375             & 1093              & Steff             & 3835              & 48.00000          & 286               & 211               & 2299              & 1.783384          & 0.07457627       \\\\\n",
       "\t 301011003         & 11.5987           & Birkdale          & 14923             & 1034              & Dave              & 7349              & 50.75387          & 355               & 431               & 5060              & 3.339921          & 0.04830589       \\\\\n",
       "\t 301011004         & 18.8890           & Capalaba          & 17588             &  991              & Charlie           & 8995              & 48.85718          & 348               & 344               & 6399              & 4.860134          & 0.03868816       \\\\\n",
       "\t 301011005         &  2.6658           & Thorneside        &  3761             &  983              & Charlie           & 1836              & 51.18320          &  75               & 141               & 1530              & 3.986928          & 0.04084967       \\\\\n",
       "\t 301011006         &  9.4040           & Wellington Point  & 11576             & 1062              & Kate              & 5975              & 48.38459          & 302               & 357               & 3944              & 2.231237          & 0.05054393       \\\\\n",
       "\\end{tabular}\n"
      ],
      "text/markdown": [
       "\n",
       "SA2Code | AREASQKM16 | SA2Name | Pop | Score | Team_Member | number_of_employees | percent_unemployed | number_worked_from_home | pt_to_work | Total_dwelings | percentage_houses_no_cars | percentage_wfh | \n",
       "|---|---|---|---|---|---|\n",
       "| 301011001         | 13.6312           | Alexandra Hills   | 16345             |  987              | Charlie           | 8311              | 49.15265          | 291               | 343               | 5619              | 3.594946          | 0.03501384        | \n",
       "| 301011002         | 33.1072           | Belmont - Gumdale |  7375             | 1093              | Steff             | 3835              | 48.00000          | 286               | 211               | 2299              | 1.783384          | 0.07457627        | \n",
       "| 301011003         | 11.5987           | Birkdale          | 14923             | 1034              | Dave              | 7349              | 50.75387          | 355               | 431               | 5060              | 3.339921          | 0.04830589        | \n",
       "| 301011004         | 18.8890           | Capalaba          | 17588             |  991              | Charlie           | 8995              | 48.85718          | 348               | 344               | 6399              | 4.860134          | 0.03868816        | \n",
       "| 301011005         |  2.6658           | Thorneside        |  3761             |  983              | Charlie           | 1836              | 51.18320          |  75               | 141               | 1530              | 3.986928          | 0.04084967        | \n",
       "| 301011006         |  9.4040           | Wellington Point  | 11576             | 1062              | Kate              | 5975              | 48.38459          | 302               | 357               | 3944              | 2.231237          | 0.05054393        | \n",
       "\n",
       "\n"
      ],
      "text/plain": [
       "  SA2Code   AREASQKM16 SA2Name           Pop   Score Team_Member\n",
       "1 301011001 13.6312    Alexandra Hills   16345  987  Charlie    \n",
       "2 301011002 33.1072    Belmont - Gumdale  7375 1093  Steff      \n",
       "3 301011003 11.5987    Birkdale          14923 1034  Dave       \n",
       "4 301011004 18.8890    Capalaba          17588  991  Charlie    \n",
       "5 301011005  2.6658    Thorneside         3761  983  Charlie    \n",
       "6 301011006  9.4040    Wellington Point  11576 1062  Kate       \n",
       "  number_of_employees percent_unemployed number_worked_from_home pt_to_work\n",
       "1 8311                49.15265           291                     343       \n",
       "2 3835                48.00000           286                     211       \n",
       "3 7349                50.75387           355                     431       \n",
       "4 8995                48.85718           348                     344       \n",
       "5 1836                51.18320            75                     141       \n",
       "6 5975                48.38459           302                     357       \n",
       "  Total_dwelings percentage_houses_no_cars percentage_wfh\n",
       "1 5619           3.594946                  0.03501384    \n",
       "2 2299           1.783384                  0.07457627    \n",
       "3 5060           3.339921                  0.04830589    \n",
       "4 6399           4.860134                  0.03868816    \n",
       "5 1530           3.986928                  0.04084967    \n",
       "6 3944           2.231237                  0.05054393    "
      ]
     },
     "metadata": {},
     "output_type": "display_data"
    }
   ],
   "source": [
    "wfh_index <- read_csv(\"Cluster/wfh_index.csv\", col_types = cols(SA2Name = col_skip(), Team_Member = col_skip(), number_of_employees = col_skip(), number_worked_from_home = col_skip()))\n",
    "working_data <- merge(working_data, wfh_index, by=\"SA2Code\")\n",
    "head(working_data)"
   ]
  },
  {
   "cell_type": "markdown",
   "metadata": {},
   "source": [
    "Next, our number of physical stops from the XXXX hypothesis, which will add:\n",
    "- the number of available physical stops"
   ]
  },
  {
   "cell_type": "code",
   "execution_count": 200,
   "metadata": {},
   "outputs": [
    {
     "data": {
      "text/html": [
       "<table>\n",
       "<thead><tr><th scope=col>SA2Code</th><th scope=col>AREASQKM16</th><th scope=col>SA2Name</th><th scope=col>Pop</th><th scope=col>Score</th><th scope=col>Team_Member</th><th scope=col>number_of_employees</th><th scope=col>percent_unemployed</th><th scope=col>number_worked_from_home</th><th scope=col>pt_to_work</th><th scope=col>Total_dwelings</th><th scope=col>percentage_houses_no_cars</th><th scope=col>percentage_wfh</th><th scope=col>number_of_stops</th></tr></thead>\n",
       "<tbody>\n",
       "\t<tr><td>301011001        </td><td>13.6312          </td><td>Alexandra Hills  </td><td>16345            </td><td> 987             </td><td>Charlie          </td><td>8311             </td><td>49.15265         </td><td>291              </td><td>343              </td><td>5619             </td><td>3.594946         </td><td>0.03501384       </td><td>3486             </td></tr>\n",
       "\t<tr><td>301011002        </td><td>33.1072          </td><td>Belmont - Gumdale</td><td> 7375            </td><td>1093             </td><td>Steff            </td><td>3835             </td><td>48.00000         </td><td>286              </td><td>211              </td><td>2299             </td><td>1.783384         </td><td>0.07457627       </td><td>3147             </td></tr>\n",
       "\t<tr><td>301011003        </td><td>11.5987          </td><td>Birkdale         </td><td>14923            </td><td>1034             </td><td>Dave             </td><td>7349             </td><td>50.75387         </td><td>355              </td><td>431              </td><td>5060             </td><td>3.339921         </td><td>0.04830589       </td><td>2881             </td></tr>\n",
       "\t<tr><td>301011004        </td><td>18.8890          </td><td>Capalaba         </td><td>17588            </td><td> 991             </td><td>Charlie          </td><td>8995             </td><td>48.85718         </td><td>348              </td><td>344              </td><td>6399             </td><td>4.860134         </td><td>0.03868816       </td><td>4788             </td></tr>\n",
       "\t<tr><td>301011005        </td><td> 2.6658          </td><td>Thorneside       </td><td> 3761            </td><td> 983             </td><td>Charlie          </td><td>1836             </td><td>51.18320         </td><td> 75              </td><td>141              </td><td>1530             </td><td>3.986928         </td><td>0.04084967       </td><td>1519             </td></tr>\n",
       "\t<tr><td>301011006        </td><td> 9.4040          </td><td>Wellington Point </td><td>11576            </td><td>1062             </td><td>Kate             </td><td>5975             </td><td>48.38459         </td><td>302              </td><td>357              </td><td>3944             </td><td>2.231237         </td><td>0.05054393       </td><td>2062             </td></tr>\n",
       "</tbody>\n",
       "</table>\n"
      ],
      "text/latex": [
       "\\begin{tabular}{r|llllllllllllll}\n",
       " SA2Code & AREASQKM16 & SA2Name & Pop & Score & Team\\_Member & number\\_of\\_employees & percent\\_unemployed & number\\_worked\\_from\\_home & pt\\_to\\_work & Total\\_dwelings & percentage\\_houses\\_no\\_cars & percentage\\_wfh & number\\_of\\_stops\\\\\n",
       "\\hline\n",
       "\t 301011001         & 13.6312           & Alexandra Hills   & 16345             &  987              & Charlie           & 8311              & 49.15265          & 291               & 343               & 5619              & 3.594946          & 0.03501384        & 3486             \\\\\n",
       "\t 301011002         & 33.1072           & Belmont - Gumdale &  7375             & 1093              & Steff             & 3835              & 48.00000          & 286               & 211               & 2299              & 1.783384          & 0.07457627        & 3147             \\\\\n",
       "\t 301011003         & 11.5987           & Birkdale          & 14923             & 1034              & Dave              & 7349              & 50.75387          & 355               & 431               & 5060              & 3.339921          & 0.04830589        & 2881             \\\\\n",
       "\t 301011004         & 18.8890           & Capalaba          & 17588             &  991              & Charlie           & 8995              & 48.85718          & 348               & 344               & 6399              & 4.860134          & 0.03868816        & 4788             \\\\\n",
       "\t 301011005         &  2.6658           & Thorneside        &  3761             &  983              & Charlie           & 1836              & 51.18320          &  75               & 141               & 1530              & 3.986928          & 0.04084967        & 1519             \\\\\n",
       "\t 301011006         &  9.4040           & Wellington Point  & 11576             & 1062              & Kate              & 5975              & 48.38459          & 302               & 357               & 3944              & 2.231237          & 0.05054393        & 2062             \\\\\n",
       "\\end{tabular}\n"
      ],
      "text/markdown": [
       "\n",
       "SA2Code | AREASQKM16 | SA2Name | Pop | Score | Team_Member | number_of_employees | percent_unemployed | number_worked_from_home | pt_to_work | Total_dwelings | percentage_houses_no_cars | percentage_wfh | number_of_stops | \n",
       "|---|---|---|---|---|---|\n",
       "| 301011001         | 13.6312           | Alexandra Hills   | 16345             |  987              | Charlie           | 8311              | 49.15265          | 291               | 343               | 5619              | 3.594946          | 0.03501384        | 3486              | \n",
       "| 301011002         | 33.1072           | Belmont - Gumdale |  7375             | 1093              | Steff             | 3835              | 48.00000          | 286               | 211               | 2299              | 1.783384          | 0.07457627        | 3147              | \n",
       "| 301011003         | 11.5987           | Birkdale          | 14923             | 1034              | Dave              | 7349              | 50.75387          | 355               | 431               | 5060              | 3.339921          | 0.04830589        | 2881              | \n",
       "| 301011004         | 18.8890           | Capalaba          | 17588             |  991              | Charlie           | 8995              | 48.85718          | 348               | 344               | 6399              | 4.860134          | 0.03868816        | 4788              | \n",
       "| 301011005         |  2.6658           | Thorneside        |  3761             |  983              | Charlie           | 1836              | 51.18320          |  75               | 141               | 1530              | 3.986928          | 0.04084967        | 1519              | \n",
       "| 301011006         |  9.4040           | Wellington Point  | 11576             | 1062              | Kate              | 5975              | 48.38459          | 302               | 357               | 3944              | 2.231237          | 0.05054393        | 2062              | \n",
       "\n",
       "\n"
      ],
      "text/plain": [
       "  SA2Code   AREASQKM16 SA2Name           Pop   Score Team_Member\n",
       "1 301011001 13.6312    Alexandra Hills   16345  987  Charlie    \n",
       "2 301011002 33.1072    Belmont - Gumdale  7375 1093  Steff      \n",
       "3 301011003 11.5987    Birkdale          14923 1034  Dave       \n",
       "4 301011004 18.8890    Capalaba          17588  991  Charlie    \n",
       "5 301011005  2.6658    Thorneside         3761  983  Charlie    \n",
       "6 301011006  9.4040    Wellington Point  11576 1062  Kate       \n",
       "  number_of_employees percent_unemployed number_worked_from_home pt_to_work\n",
       "1 8311                49.15265           291                     343       \n",
       "2 3835                48.00000           286                     211       \n",
       "3 7349                50.75387           355                     431       \n",
       "4 8995                48.85718           348                     344       \n",
       "5 1836                51.18320            75                     141       \n",
       "6 5975                48.38459           302                     357       \n",
       "  Total_dwelings percentage_houses_no_cars percentage_wfh number_of_stops\n",
       "1 5619           3.594946                  0.03501384     3486           \n",
       "2 2299           1.783384                  0.07457627     3147           \n",
       "3 5060           3.339921                  0.04830589     2881           \n",
       "4 6399           4.860134                  0.03868816     4788           \n",
       "5 1530           3.986928                  0.04084967     1519           \n",
       "6 3944           2.231237                  0.05054393     2062           "
      ]
     },
     "metadata": {},
     "output_type": "display_data"
    }
   ],
   "source": [
    "pt_services_by_SA2_v2 <- read_csv(\"Cluster/pt_services_by_SA2_v2.csv\", col_types = cols(SA2Name = col_skip(), Score = col_skip(), Team_Member = col_skip()))\n",
    "colnames(pt_services_by_SA2_v2)[colnames(pt_services_by_SA2_v2)==\"n\"] <- \"number_of_stops\"\n",
    "working_data <- merge(working_data, pt_services_by_SA2_v2, by=\"SA2Code\")\n",
    "head(working_data)"
   ]
  },
  {
   "cell_type": "markdown",
   "metadata": {},
   "source": [
    "Next, let's grab the total number of trips taken per SA2 and the average number of trips taken per available physical stop from the XXXX hypothesis. This will add:\n",
    "- total number of trips\n",
    "- average trips per stop"
   ]
  },
  {
   "cell_type": "code",
   "execution_count": 201,
   "metadata": {},
   "outputs": [
    {
     "data": {
      "text/html": [
       "<table>\n",
       "<thead><tr><th scope=col>SA2Code</th><th scope=col>AREASQKM16</th><th scope=col>SA2Name</th><th scope=col>Pop</th><th scope=col>Score</th><th scope=col>Team_Member</th><th scope=col>number_of_employees</th><th scope=col>percent_unemployed</th><th scope=col>number_worked_from_home</th><th scope=col>pt_to_work</th><th scope=col>Total_dwelings</th><th scope=col>percentage_houses_no_cars</th><th scope=col>percentage_wfh</th><th scope=col>number_of_stops</th><th scope=col>total_trips</th><th scope=col>avg_trips_per_stop</th></tr></thead>\n",
       "<tbody>\n",
       "\t<tr><td>301011001        </td><td>13.6312          </td><td>Alexandra Hills  </td><td>16345            </td><td> 987             </td><td>Charlie          </td><td>8311             </td><td>49.15265         </td><td>291              </td><td>343              </td><td>5619             </td><td>3.594946         </td><td>0.03501384       </td><td>3486             </td><td>231473           </td><td>2048.434         </td></tr>\n",
       "\t<tr><td>301011002        </td><td>33.1072          </td><td>Belmont - Gumdale</td><td> 7375            </td><td>1093             </td><td>Steff            </td><td>3835             </td><td>48.00000         </td><td>286              </td><td>211              </td><td>2299             </td><td>1.783384         </td><td>0.07457627       </td><td>3147             </td><td>125180           </td><td>2663.404         </td></tr>\n",
       "\t<tr><td>301011003        </td><td>11.5987          </td><td>Birkdale         </td><td>14923            </td><td>1034             </td><td>Dave             </td><td>7349             </td><td>50.75387         </td><td>355              </td><td>431              </td><td>5060             </td><td>3.339921         </td><td>0.04830589       </td><td>2881             </td><td>446086           </td><td>7826.070         </td></tr>\n",
       "\t<tr><td>301011004        </td><td>18.8890          </td><td>Capalaba         </td><td>17588            </td><td> 991             </td><td>Charlie          </td><td>8995             </td><td>48.85718         </td><td>348              </td><td>344              </td><td>6399             </td><td>4.860134         </td><td>0.03868816       </td><td>4788             </td><td>684247           </td><td>5702.058         </td></tr>\n",
       "\t<tr><td>301011005        </td><td> 2.6658          </td><td>Thorneside       </td><td> 3761            </td><td> 983             </td><td>Charlie          </td><td>1836             </td><td>51.18320         </td><td> 75              </td><td>141              </td><td>1530             </td><td>3.986928         </td><td>0.04084967       </td><td>1519             </td><td>159068           </td><td>6362.720         </td></tr>\n",
       "\t<tr><td>301011006        </td><td> 9.4040          </td><td>Wellington Point </td><td>11576            </td><td>1062             </td><td>Kate             </td><td>5975             </td><td>48.38459         </td><td>302              </td><td>357              </td><td>3944             </td><td>2.231237         </td><td>0.05054393       </td><td>2062             </td><td>274407           </td><td>7036.077         </td></tr>\n",
       "</tbody>\n",
       "</table>\n"
      ],
      "text/latex": [
       "\\begin{tabular}{r|llllllllllllllll}\n",
       " SA2Code & AREASQKM16 & SA2Name & Pop & Score & Team\\_Member & number\\_of\\_employees & percent\\_unemployed & number\\_worked\\_from\\_home & pt\\_to\\_work & Total\\_dwelings & percentage\\_houses\\_no\\_cars & percentage\\_wfh & number\\_of\\_stops & total\\_trips & avg\\_trips\\_per\\_stop\\\\\n",
       "\\hline\n",
       "\t 301011001         & 13.6312           & Alexandra Hills   & 16345             &  987              & Charlie           & 8311              & 49.15265          & 291               & 343               & 5619              & 3.594946          & 0.03501384        & 3486              & 231473            & 2048.434         \\\\\n",
       "\t 301011002         & 33.1072           & Belmont - Gumdale &  7375             & 1093              & Steff             & 3835              & 48.00000          & 286               & 211               & 2299              & 1.783384          & 0.07457627        & 3147              & 125180            & 2663.404         \\\\\n",
       "\t 301011003         & 11.5987           & Birkdale          & 14923             & 1034              & Dave              & 7349              & 50.75387          & 355               & 431               & 5060              & 3.339921          & 0.04830589        & 2881              & 446086            & 7826.070         \\\\\n",
       "\t 301011004         & 18.8890           & Capalaba          & 17588             &  991              & Charlie           & 8995              & 48.85718          & 348               & 344               & 6399              & 4.860134          & 0.03868816        & 4788              & 684247            & 5702.058         \\\\\n",
       "\t 301011005         &  2.6658           & Thorneside        &  3761             &  983              & Charlie           & 1836              & 51.18320          &  75               & 141               & 1530              & 3.986928          & 0.04084967        & 1519              & 159068            & 6362.720         \\\\\n",
       "\t 301011006         &  9.4040           & Wellington Point  & 11576             & 1062              & Kate              & 5975              & 48.38459          & 302               & 357               & 3944              & 2.231237          & 0.05054393        & 2062              & 274407            & 7036.077         \\\\\n",
       "\\end{tabular}\n"
      ],
      "text/markdown": [
       "\n",
       "SA2Code | AREASQKM16 | SA2Name | Pop | Score | Team_Member | number_of_employees | percent_unemployed | number_worked_from_home | pt_to_work | Total_dwelings | percentage_houses_no_cars | percentage_wfh | number_of_stops | total_trips | avg_trips_per_stop | \n",
       "|---|---|---|---|---|---|\n",
       "| 301011001         | 13.6312           | Alexandra Hills   | 16345             |  987              | Charlie           | 8311              | 49.15265          | 291               | 343               | 5619              | 3.594946          | 0.03501384        | 3486              | 231473            | 2048.434          | \n",
       "| 301011002         | 33.1072           | Belmont - Gumdale |  7375             | 1093              | Steff             | 3835              | 48.00000          | 286               | 211               | 2299              | 1.783384          | 0.07457627        | 3147              | 125180            | 2663.404          | \n",
       "| 301011003         | 11.5987           | Birkdale          | 14923             | 1034              | Dave              | 7349              | 50.75387          | 355               | 431               | 5060              | 3.339921          | 0.04830589        | 2881              | 446086            | 7826.070          | \n",
       "| 301011004         | 18.8890           | Capalaba          | 17588             |  991              | Charlie           | 8995              | 48.85718          | 348               | 344               | 6399              | 4.860134          | 0.03868816        | 4788              | 684247            | 5702.058          | \n",
       "| 301011005         |  2.6658           | Thorneside        |  3761             |  983              | Charlie           | 1836              | 51.18320          |  75               | 141               | 1530              | 3.986928          | 0.04084967        | 1519              | 159068            | 6362.720          | \n",
       "| 301011006         |  9.4040           | Wellington Point  | 11576             | 1062              | Kate              | 5975              | 48.38459          | 302               | 357               | 3944              | 2.231237          | 0.05054393        | 2062              | 274407            | 7036.077          | \n",
       "\n",
       "\n"
      ],
      "text/plain": [
       "  SA2Code   AREASQKM16 SA2Name           Pop   Score Team_Member\n",
       "1 301011001 13.6312    Alexandra Hills   16345  987  Charlie    \n",
       "2 301011002 33.1072    Belmont - Gumdale  7375 1093  Steff      \n",
       "3 301011003 11.5987    Birkdale          14923 1034  Dave       \n",
       "4 301011004 18.8890    Capalaba          17588  991  Charlie    \n",
       "5 301011005  2.6658    Thorneside         3761  983  Charlie    \n",
       "6 301011006  9.4040    Wellington Point  11576 1062  Kate       \n",
       "  number_of_employees percent_unemployed number_worked_from_home pt_to_work\n",
       "1 8311                49.15265           291                     343       \n",
       "2 3835                48.00000           286                     211       \n",
       "3 7349                50.75387           355                     431       \n",
       "4 8995                48.85718           348                     344       \n",
       "5 1836                51.18320            75                     141       \n",
       "6 5975                48.38459           302                     357       \n",
       "  Total_dwelings percentage_houses_no_cars percentage_wfh number_of_stops\n",
       "1 5619           3.594946                  0.03501384     3486           \n",
       "2 2299           1.783384                  0.07457627     3147           \n",
       "3 5060           3.339921                  0.04830589     2881           \n",
       "4 6399           4.860134                  0.03868816     4788           \n",
       "5 1530           3.986928                  0.04084967     1519           \n",
       "6 3944           2.231237                  0.05054393     2062           \n",
       "  total_trips avg_trips_per_stop\n",
       "1 231473      2048.434          \n",
       "2 125180      2663.404          \n",
       "3 446086      7826.070          \n",
       "4 684247      5702.058          \n",
       "5 159068      6362.720          \n",
       "6 274407      7036.077          "
      ]
     },
     "metadata": {},
     "output_type": "display_data"
    }
   ],
   "source": [
    "SA2_with_qty_stops_and_avg <- read_csv(\"Cluster/SA2_with_qty_stops_and_avg.csv\", col_types = cols(Pop = col_skip(), SA2Name = col_skip(), Score = col_skip(), Team_Member = col_skip(), n = col_skip()))\n",
    "colnames(SA2_with_qty_stops_and_avg)[colnames(SA2_with_qty_stops_and_avg)==\"combined_quantity\"] <- \"total_trips\"\n",
    "working_data <- merge(working_data, SA2_with_qty_stops_and_avg, by=\"SA2Code\")\n",
    "head(working_data)"
   ]
  },
  {
   "cell_type": "markdown",
   "metadata": {},
   "source": [
    "Now let's bring in our travel hub index score from the XXXX hypothesis. This will give us:\n",
    "- travel hub index, where a smaller numbers are less likely to be hubs and larger numbers are more likely to be hubs"
   ]
  },
  {
   "cell_type": "code",
   "execution_count": 202,
   "metadata": {
    "scrolled": true
   },
   "outputs": [
    {
     "data": {
      "text/html": [
       "<table>\n",
       "<thead><tr><th scope=col>SA2Code</th><th scope=col>AREASQKM16</th><th scope=col>SA2Name</th><th scope=col>Pop</th><th scope=col>Score</th><th scope=col>Team_Member</th><th scope=col>number_of_employees</th><th scope=col>percent_unemployed</th><th scope=col>number_worked_from_home</th><th scope=col>pt_to_work</th><th scope=col>Total_dwelings</th><th scope=col>percentage_houses_no_cars</th><th scope=col>percentage_wfh</th><th scope=col>number_of_stops</th><th scope=col>total_trips</th><th scope=col>avg_trips_per_stop</th><th scope=col>travel_hub_index</th></tr></thead>\n",
       "<tbody>\n",
       "\t<tr><td>301011001        </td><td>13.6312          </td><td>Alexandra Hills  </td><td>16345            </td><td> 987             </td><td>Charlie          </td><td>8311             </td><td>49.15265         </td><td>291              </td><td>343              </td><td>5619             </td><td>3.594946         </td><td>0.03501384       </td><td>3486             </td><td>231473           </td><td>2048.434         </td><td>0.1253248        </td></tr>\n",
       "\t<tr><td>301011002        </td><td>33.1072          </td><td>Belmont - Gumdale</td><td> 7375            </td><td>1093             </td><td>Steff            </td><td>3835             </td><td>48.00000         </td><td>286              </td><td>211              </td><td>2299             </td><td>1.783384         </td><td>0.07457627       </td><td>3147             </td><td>125180           </td><td>2663.404         </td><td>0.3611396        </td></tr>\n",
       "\t<tr><td>301011003        </td><td>11.5987          </td><td>Birkdale         </td><td>14923            </td><td>1034             </td><td>Dave             </td><td>7349             </td><td>50.75387         </td><td>355              </td><td>431              </td><td>5060             </td><td>3.339921         </td><td>0.04830589       </td><td>2881             </td><td>446086           </td><td>7826.070         </td><td>0.5244301        </td></tr>\n",
       "\t<tr><td>301011004        </td><td>18.8890          </td><td>Capalaba         </td><td>17588            </td><td> 991             </td><td>Charlie          </td><td>8995             </td><td>48.85718         </td><td>348              </td><td>344              </td><td>6399             </td><td>4.860134         </td><td>0.03868816       </td><td>4788             </td><td>684247           </td><td>5702.058         </td><td>0.3242016        </td></tr>\n",
       "\t<tr><td>301011005        </td><td> 2.6658          </td><td>Thorneside       </td><td> 3761            </td><td> 983             </td><td>Charlie          </td><td>1836             </td><td>51.18320         </td><td> 75              </td><td>141              </td><td>1530             </td><td>3.986928         </td><td>0.04084967       </td><td>1519             </td><td>159068           </td><td>6362.720         </td><td>1.6917628        </td></tr>\n",
       "\t<tr><td>301011006        </td><td> 9.4040          </td><td>Wellington Point </td><td>11576            </td><td>1062             </td><td>Kate             </td><td>5975             </td><td>48.38459         </td><td>302              </td><td>357              </td><td>3944             </td><td>2.231237         </td><td>0.05054393       </td><td>2062             </td><td>274407           </td><td>7036.077         </td><td>0.6078159        </td></tr>\n",
       "</tbody>\n",
       "</table>\n"
      ],
      "text/latex": [
       "\\begin{tabular}{r|lllllllllllllllll}\n",
       " SA2Code & AREASQKM16 & SA2Name & Pop & Score & Team\\_Member & number\\_of\\_employees & percent\\_unemployed & number\\_worked\\_from\\_home & pt\\_to\\_work & Total\\_dwelings & percentage\\_houses\\_no\\_cars & percentage\\_wfh & number\\_of\\_stops & total\\_trips & avg\\_trips\\_per\\_stop & travel\\_hub\\_index\\\\\n",
       "\\hline\n",
       "\t 301011001         & 13.6312           & Alexandra Hills   & 16345             &  987              & Charlie           & 8311              & 49.15265          & 291               & 343               & 5619              & 3.594946          & 0.03501384        & 3486              & 231473            & 2048.434          & 0.1253248        \\\\\n",
       "\t 301011002         & 33.1072           & Belmont - Gumdale &  7375             & 1093              & Steff             & 3835              & 48.00000          & 286               & 211               & 2299              & 1.783384          & 0.07457627        & 3147              & 125180            & 2663.404          & 0.3611396        \\\\\n",
       "\t 301011003         & 11.5987           & Birkdale          & 14923             & 1034              & Dave              & 7349              & 50.75387          & 355               & 431               & 5060              & 3.339921          & 0.04830589        & 2881              & 446086            & 7826.070          & 0.5244301        \\\\\n",
       "\t 301011004         & 18.8890           & Capalaba          & 17588             &  991              & Charlie           & 8995              & 48.85718          & 348               & 344               & 6399              & 4.860134          & 0.03868816        & 4788              & 684247            & 5702.058          & 0.3242016        \\\\\n",
       "\t 301011005         &  2.6658           & Thorneside        &  3761             &  983              & Charlie           & 1836              & 51.18320          &  75               & 141               & 1530              & 3.986928          & 0.04084967        & 1519              & 159068            & 6362.720          & 1.6917628        \\\\\n",
       "\t 301011006         &  9.4040           & Wellington Point  & 11576             & 1062              & Kate              & 5975              & 48.38459          & 302               & 357               & 3944              & 2.231237          & 0.05054393        & 2062              & 274407            & 7036.077          & 0.6078159        \\\\\n",
       "\\end{tabular}\n"
      ],
      "text/markdown": [
       "\n",
       "SA2Code | AREASQKM16 | SA2Name | Pop | Score | Team_Member | number_of_employees | percent_unemployed | number_worked_from_home | pt_to_work | Total_dwelings | percentage_houses_no_cars | percentage_wfh | number_of_stops | total_trips | avg_trips_per_stop | travel_hub_index | \n",
       "|---|---|---|---|---|---|\n",
       "| 301011001         | 13.6312           | Alexandra Hills   | 16345             |  987              | Charlie           | 8311              | 49.15265          | 291               | 343               | 5619              | 3.594946          | 0.03501384        | 3486              | 231473            | 2048.434          | 0.1253248         | \n",
       "| 301011002         | 33.1072           | Belmont - Gumdale |  7375             | 1093              | Steff             | 3835              | 48.00000          | 286               | 211               | 2299              | 1.783384          | 0.07457627        | 3147              | 125180            | 2663.404          | 0.3611396         | \n",
       "| 301011003         | 11.5987           | Birkdale          | 14923             | 1034              | Dave              | 7349              | 50.75387          | 355               | 431               | 5060              | 3.339921          | 0.04830589        | 2881              | 446086            | 7826.070          | 0.5244301         | \n",
       "| 301011004         | 18.8890           | Capalaba          | 17588             |  991              | Charlie           | 8995              | 48.85718          | 348               | 344               | 6399              | 4.860134          | 0.03868816        | 4788              | 684247            | 5702.058          | 0.3242016         | \n",
       "| 301011005         |  2.6658           | Thorneside        |  3761             |  983              | Charlie           | 1836              | 51.18320          |  75               | 141               | 1530              | 3.986928          | 0.04084967        | 1519              | 159068            | 6362.720          | 1.6917628         | \n",
       "| 301011006         |  9.4040           | Wellington Point  | 11576             | 1062              | Kate              | 5975              | 48.38459          | 302               | 357               | 3944              | 2.231237          | 0.05054393        | 2062              | 274407            | 7036.077          | 0.6078159         | \n",
       "\n",
       "\n"
      ],
      "text/plain": [
       "  SA2Code   AREASQKM16 SA2Name           Pop   Score Team_Member\n",
       "1 301011001 13.6312    Alexandra Hills   16345  987  Charlie    \n",
       "2 301011002 33.1072    Belmont - Gumdale  7375 1093  Steff      \n",
       "3 301011003 11.5987    Birkdale          14923 1034  Dave       \n",
       "4 301011004 18.8890    Capalaba          17588  991  Charlie    \n",
       "5 301011005  2.6658    Thorneside         3761  983  Charlie    \n",
       "6 301011006  9.4040    Wellington Point  11576 1062  Kate       \n",
       "  number_of_employees percent_unemployed number_worked_from_home pt_to_work\n",
       "1 8311                49.15265           291                     343       \n",
       "2 3835                48.00000           286                     211       \n",
       "3 7349                50.75387           355                     431       \n",
       "4 8995                48.85718           348                     344       \n",
       "5 1836                51.18320            75                     141       \n",
       "6 5975                48.38459           302                     357       \n",
       "  Total_dwelings percentage_houses_no_cars percentage_wfh number_of_stops\n",
       "1 5619           3.594946                  0.03501384     3486           \n",
       "2 2299           1.783384                  0.07457627     3147           \n",
       "3 5060           3.339921                  0.04830589     2881           \n",
       "4 6399           4.860134                  0.03868816     4788           \n",
       "5 1530           3.986928                  0.04084967     1519           \n",
       "6 3944           2.231237                  0.05054393     2062           \n",
       "  total_trips avg_trips_per_stop travel_hub_index\n",
       "1 231473      2048.434           0.1253248       \n",
       "2 125180      2663.404           0.3611396       \n",
       "3 446086      7826.070           0.5244301       \n",
       "4 684247      5702.058           0.3242016       \n",
       "5 159068      6362.720           1.6917628       \n",
       "6 274407      7036.077           0.6078159       "
      ]
     },
     "metadata": {},
     "output_type": "display_data"
    }
   ],
   "source": [
    "travel_hub_index <- read_csv(\"Cluster/travel_hub_index.csv\", col_types = cols(Pop = col_skip(), SA2Name = col_skip(), Score = col_skip(), Team_Member = col_skip(), avg_trips_per_stop = col_skip(), combined_quantity = col_skip(), n = col_skip()))\n",
    "colnames(travel_hub_index)[colnames(travel_hub_index)==\"index\"] <- \"travel_hub_index\"\n",
    "working_data <- merge(working_data, travel_hub_index, by=\"SA2Code\")\n",
    "head(working_data)"
   ]
  },
  {
   "cell_type": "markdown",
   "metadata": {},
   "source": [
    "Finally, let's bring in the percentage of trips that happen on weekends from the XXXX hypothesis."
   ]
  },
  {
   "cell_type": "code",
   "execution_count": 203,
   "metadata": {},
   "outputs": [
    {
     "data": {
      "text/html": [
       "<table>\n",
       "<thead><tr><th scope=col>SA2Code</th><th scope=col>AREASQKM16</th><th scope=col>SA2Name</th><th scope=col>Pop</th><th scope=col>Score</th><th scope=col>Team_Member</th><th scope=col>number_of_employees</th><th scope=col>percent_unemployed</th><th scope=col>number_worked_from_home</th><th scope=col>pt_to_work</th><th scope=col>Total_dwelings</th><th scope=col>percentage_houses_no_cars</th><th scope=col>percentage_wfh</th><th scope=col>number_of_stops</th><th scope=col>total_trips</th><th scope=col>avg_trips_per_stop</th><th scope=col>travel_hub_index</th><th scope=col>norm_weekend_percentage</th><th scope=col>reliance_on_PT</th></tr></thead>\n",
       "<tbody>\n",
       "\t<tr><td>301011001        </td><td>13.6312          </td><td>Alexandra Hills  </td><td>16345            </td><td> 987             </td><td>Charlie          </td><td>8311             </td><td>49.15265         </td><td>291              </td><td>343              </td><td>5619             </td><td>3.594946         </td><td>0.03501384       </td><td>3486             </td><td>231473           </td><td>2048.434         </td><td>0.1253248        </td><td> 9.637096        </td><td>4.127061         </td></tr>\n",
       "\t<tr><td>301011002        </td><td>33.1072          </td><td>Belmont - Gumdale</td><td> 7375            </td><td>1093             </td><td>Steff            </td><td>3835             </td><td>48.00000         </td><td>286              </td><td>211              </td><td>2299             </td><td>1.783384         </td><td>0.07457627       </td><td>3147             </td><td>125180           </td><td>2663.404         </td><td>0.3611396        </td><td>11.032762        </td><td>5.501956         </td></tr>\n",
       "\t<tr><td>301011003        </td><td>11.5987          </td><td>Birkdale         </td><td>14923            </td><td>1034             </td><td>Dave             </td><td>7349             </td><td>50.75387         </td><td>355              </td><td>431              </td><td>5060             </td><td>3.339921         </td><td>0.04830589       </td><td>2881             </td><td>446086           </td><td>7826.070         </td><td>0.5244301        </td><td>11.133305        </td><td>5.864744         </td></tr>\n",
       "\t<tr><td>301011004        </td><td>18.8890          </td><td>Capalaba         </td><td>17588            </td><td> 991             </td><td>Charlie          </td><td>8995             </td><td>48.85718         </td><td>348              </td><td>344              </td><td>6399             </td><td>4.860134         </td><td>0.03868816       </td><td>4788             </td><td>684247           </td><td>5702.058         </td><td>0.3242016        </td><td>12.428423        </td><td>3.824347         </td></tr>\n",
       "\t<tr><td>301011005        </td><td> 2.6658          </td><td>Thorneside       </td><td> 3761            </td><td> 983             </td><td>Charlie          </td><td>1836             </td><td>51.18320         </td><td> 75              </td><td>141              </td><td>1530             </td><td>3.986928         </td><td>0.04084967       </td><td>1519             </td><td>159068           </td><td>6362.720         </td><td>1.6917628        </td><td> 8.483446        </td><td>7.679739         </td></tr>\n",
       "\t<tr><td>301011006        </td><td> 9.4040          </td><td>Wellington Point </td><td>11576            </td><td>1062             </td><td>Kate             </td><td>5975             </td><td>48.38459         </td><td>302              </td><td>357              </td><td>3944             </td><td>2.231237         </td><td>0.05054393       </td><td>2062             </td><td>274407           </td><td>7036.077         </td><td>0.6078159        </td><td> 9.686038        </td><td>5.974895         </td></tr>\n",
       "</tbody>\n",
       "</table>\n"
      ],
      "text/latex": [
       "\\begin{tabular}{r|lllllllllllllllllll}\n",
       " SA2Code & AREASQKM16 & SA2Name & Pop & Score & Team\\_Member & number\\_of\\_employees & percent\\_unemployed & number\\_worked\\_from\\_home & pt\\_to\\_work & Total\\_dwelings & percentage\\_houses\\_no\\_cars & percentage\\_wfh & number\\_of\\_stops & total\\_trips & avg\\_trips\\_per\\_stop & travel\\_hub\\_index & norm\\_weekend\\_percentage & reliance\\_on\\_PT\\\\\n",
       "\\hline\n",
       "\t 301011001         & 13.6312           & Alexandra Hills   & 16345             &  987              & Charlie           & 8311              & 49.15265          & 291               & 343               & 5619              & 3.594946          & 0.03501384        & 3486              & 231473            & 2048.434          & 0.1253248         &  9.637096         & 4.127061         \\\\\n",
       "\t 301011002         & 33.1072           & Belmont - Gumdale &  7375             & 1093              & Steff             & 3835              & 48.00000          & 286               & 211               & 2299              & 1.783384          & 0.07457627        & 3147              & 125180            & 2663.404          & 0.3611396         & 11.032762         & 5.501956         \\\\\n",
       "\t 301011003         & 11.5987           & Birkdale          & 14923             & 1034              & Dave              & 7349              & 50.75387          & 355               & 431               & 5060              & 3.339921          & 0.04830589        & 2881              & 446086            & 7826.070          & 0.5244301         & 11.133305         & 5.864744         \\\\\n",
       "\t 301011004         & 18.8890           & Capalaba          & 17588             &  991              & Charlie           & 8995              & 48.85718          & 348               & 344               & 6399              & 4.860134          & 0.03868816        & 4788              & 684247            & 5702.058          & 0.3242016         & 12.428423         & 3.824347         \\\\\n",
       "\t 301011005         &  2.6658           & Thorneside        &  3761             &  983              & Charlie           & 1836              & 51.18320          &  75               & 141               & 1530              & 3.986928          & 0.04084967        & 1519              & 159068            & 6362.720          & 1.6917628         &  8.483446         & 7.679739         \\\\\n",
       "\t 301011006         &  9.4040           & Wellington Point  & 11576             & 1062              & Kate              & 5975              & 48.38459          & 302               & 357               & 3944              & 2.231237          & 0.05054393        & 2062              & 274407            & 7036.077          & 0.6078159         &  9.686038         & 5.974895         \\\\\n",
       "\\end{tabular}\n"
      ],
      "text/markdown": [
       "\n",
       "SA2Code | AREASQKM16 | SA2Name | Pop | Score | Team_Member | number_of_employees | percent_unemployed | number_worked_from_home | pt_to_work | Total_dwelings | percentage_houses_no_cars | percentage_wfh | number_of_stops | total_trips | avg_trips_per_stop | travel_hub_index | norm_weekend_percentage | reliance_on_PT | \n",
       "|---|---|---|---|---|---|\n",
       "| 301011001         | 13.6312           | Alexandra Hills   | 16345             |  987              | Charlie           | 8311              | 49.15265          | 291               | 343               | 5619              | 3.594946          | 0.03501384        | 3486              | 231473            | 2048.434          | 0.1253248         |  9.637096         | 4.127061          | \n",
       "| 301011002         | 33.1072           | Belmont - Gumdale |  7375             | 1093              | Steff             | 3835              | 48.00000          | 286               | 211               | 2299              | 1.783384          | 0.07457627        | 3147              | 125180            | 2663.404          | 0.3611396         | 11.032762         | 5.501956          | \n",
       "| 301011003         | 11.5987           | Birkdale          | 14923             | 1034              | Dave              | 7349              | 50.75387          | 355               | 431               | 5060              | 3.339921          | 0.04830589        | 2881              | 446086            | 7826.070          | 0.5244301         | 11.133305         | 5.864744          | \n",
       "| 301011004         | 18.8890           | Capalaba          | 17588             |  991              | Charlie           | 8995              | 48.85718          | 348               | 344               | 6399              | 4.860134          | 0.03868816        | 4788              | 684247            | 5702.058          | 0.3242016         | 12.428423         | 3.824347          | \n",
       "| 301011005         |  2.6658           | Thorneside        |  3761             |  983              | Charlie           | 1836              | 51.18320          |  75               | 141               | 1530              | 3.986928          | 0.04084967        | 1519              | 159068            | 6362.720          | 1.6917628         |  8.483446         | 7.679739          | \n",
       "| 301011006         |  9.4040           | Wellington Point  | 11576             | 1062              | Kate              | 5975              | 48.38459          | 302               | 357               | 3944              | 2.231237          | 0.05054393        | 2062              | 274407            | 7036.077          | 0.6078159         |  9.686038         | 5.974895          | \n",
       "\n",
       "\n"
      ],
      "text/plain": [
       "  SA2Code   AREASQKM16 SA2Name           Pop   Score Team_Member\n",
       "1 301011001 13.6312    Alexandra Hills   16345  987  Charlie    \n",
       "2 301011002 33.1072    Belmont - Gumdale  7375 1093  Steff      \n",
       "3 301011003 11.5987    Birkdale          14923 1034  Dave       \n",
       "4 301011004 18.8890    Capalaba          17588  991  Charlie    \n",
       "5 301011005  2.6658    Thorneside         3761  983  Charlie    \n",
       "6 301011006  9.4040    Wellington Point  11576 1062  Kate       \n",
       "  number_of_employees percent_unemployed number_worked_from_home pt_to_work\n",
       "1 8311                49.15265           291                     343       \n",
       "2 3835                48.00000           286                     211       \n",
       "3 7349                50.75387           355                     431       \n",
       "4 8995                48.85718           348                     344       \n",
       "5 1836                51.18320            75                     141       \n",
       "6 5975                48.38459           302                     357       \n",
       "  Total_dwelings percentage_houses_no_cars percentage_wfh number_of_stops\n",
       "1 5619           3.594946                  0.03501384     3486           \n",
       "2 2299           1.783384                  0.07457627     3147           \n",
       "3 5060           3.339921                  0.04830589     2881           \n",
       "4 6399           4.860134                  0.03868816     4788           \n",
       "5 1530           3.986928                  0.04084967     1519           \n",
       "6 3944           2.231237                  0.05054393     2062           \n",
       "  total_trips avg_trips_per_stop travel_hub_index norm_weekend_percentage\n",
       "1 231473      2048.434           0.1253248         9.637096              \n",
       "2 125180      2663.404           0.3611396        11.032762              \n",
       "3 446086      7826.070           0.5244301        11.133305              \n",
       "4 684247      5702.058           0.3242016        12.428423              \n",
       "5 159068      6362.720           1.6917628         8.483446              \n",
       "6 274407      7036.077           0.6078159         9.686038              \n",
       "  reliance_on_PT\n",
       "1 4.127061      \n",
       "2 5.501956      \n",
       "3 5.864744      \n",
       "4 3.824347      \n",
       "5 7.679739      \n",
       "6 5.974895      "
      ]
     },
     "metadata": {},
     "output_type": "display_data"
    }
   ],
   "source": [
    "SA2_norm_weekend_percentage <- read_csv(\"Cluster/SA2__norm_weekend_percentage.csv\", col_types = cols(SA2Name = col_skip(), Team_Member = col_skip(), normalised_non_working_time = col_skip(), normalised_working_time = col_skip()))\n",
    "working_data <- merge(working_data, SA2_norm_weekend_percentage, by=\"SA2Code\")\n",
    "working_data$reliance_on_PT <-  with(working_data, (pt_to_work / number_of_employees)*100)\n",
    "head(working_data)"
   ]
  },
  {
   "cell_type": "markdown",
   "metadata": {},
   "source": [
    "Now we've got a big working dataset, lets play with a few different subsets to see which gives us meaningful/the most useful clusters of areas to work with."
   ]
  },
  {
   "cell_type": "code",
   "execution_count": 204,
   "metadata": {},
   "outputs": [
    {
     "data": {
      "text/html": [
       "<table>\n",
       "<thead><tr><th scope=col>SA2Name</th><th scope=col>Score</th><th scope=col>norm_weekend_percentage</th><th scope=col>avg_trips_per_stop</th><th scope=col>reliance_on_PT</th></tr></thead>\n",
       "<tbody>\n",
       "\t<tr><td>Alexandra Hills  </td><td> 987             </td><td> 9.637096        </td><td>2048.434         </td><td>4.127061         </td></tr>\n",
       "\t<tr><td>Belmont - Gumdale</td><td>1093             </td><td>11.032762        </td><td>2663.404         </td><td>5.501956         </td></tr>\n",
       "\t<tr><td>Birkdale         </td><td>1034             </td><td>11.133305        </td><td>7826.070         </td><td>5.864744         </td></tr>\n",
       "\t<tr><td>Capalaba         </td><td> 991             </td><td>12.428423        </td><td>5702.058         </td><td>3.824347         </td></tr>\n",
       "\t<tr><td>Thorneside       </td><td> 983             </td><td> 8.483446        </td><td>6362.720         </td><td>7.679739         </td></tr>\n",
       "\t<tr><td>Wellington Point </td><td>1062             </td><td> 9.686038        </td><td>7036.077         </td><td>5.974895         </td></tr>\n",
       "</tbody>\n",
       "</table>\n"
      ],
      "text/latex": [
       "\\begin{tabular}{r|lllll}\n",
       " SA2Name & Score & norm\\_weekend\\_percentage & avg\\_trips\\_per\\_stop & reliance\\_on\\_PT\\\\\n",
       "\\hline\n",
       "\t Alexandra Hills   &  987              &  9.637096         & 2048.434          & 4.127061         \\\\\n",
       "\t Belmont - Gumdale & 1093              & 11.032762         & 2663.404          & 5.501956         \\\\\n",
       "\t Birkdale          & 1034              & 11.133305         & 7826.070          & 5.864744         \\\\\n",
       "\t Capalaba          &  991              & 12.428423         & 5702.058          & 3.824347         \\\\\n",
       "\t Thorneside        &  983              &  8.483446         & 6362.720          & 7.679739         \\\\\n",
       "\t Wellington Point  & 1062              &  9.686038         & 7036.077          & 5.974895         \\\\\n",
       "\\end{tabular}\n"
      ],
      "text/markdown": [
       "\n",
       "SA2Name | Score | norm_weekend_percentage | avg_trips_per_stop | reliance_on_PT | \n",
       "|---|---|---|---|---|---|\n",
       "| Alexandra Hills   |  987              |  9.637096         | 2048.434          | 4.127061          | \n",
       "| Belmont - Gumdale | 1093              | 11.032762         | 2663.404          | 5.501956          | \n",
       "| Birkdale          | 1034              | 11.133305         | 7826.070          | 5.864744          | \n",
       "| Capalaba          |  991              | 12.428423         | 5702.058          | 3.824347          | \n",
       "| Thorneside        |  983              |  8.483446         | 6362.720          | 7.679739          | \n",
       "| Wellington Point  | 1062              |  9.686038         | 7036.077          | 5.974895          | \n",
       "\n",
       "\n"
      ],
      "text/plain": [
       "  SA2Name           Score norm_weekend_percentage avg_trips_per_stop\n",
       "1 Alexandra Hills    987   9.637096               2048.434          \n",
       "2 Belmont - Gumdale 1093  11.032762               2663.404          \n",
       "3 Birkdale          1034  11.133305               7826.070          \n",
       "4 Capalaba           991  12.428423               5702.058          \n",
       "5 Thorneside         983   8.483446               6362.720          \n",
       "6 Wellington Point  1062   9.686038               7036.077          \n",
       "  reliance_on_PT\n",
       "1 4.127061      \n",
       "2 5.501956      \n",
       "3 5.864744      \n",
       "4 3.824347      \n",
       "5 7.679739      \n",
       "6 5.974895      "
      ]
     },
     "metadata": {},
     "output_type": "display_data"
    }
   ],
   "source": [
    "# data_cluster <- working_data[,c(\"SA2Name\", \"Score\", \"norm_weekend_percentage\", \"avg_trips_per_stop\", \"percentage_houses_no_cars\")]\n",
    "data_cluster <- working_data[,c(\"SA2Name\", \"Score\", \"norm_weekend_percentage\", \"avg_trips_per_stop\", \"reliance_on_PT\")]\n",
    "\n",
    "head(data_cluster)"
   ]
  },
  {
   "cell_type": "code",
   "execution_count": 205,
   "metadata": {},
   "outputs": [
    {
     "data": {
      "text/html": [
       "<table>\n",
       "<thead><tr><th scope=col>SA2Name</th><th scope=col>Score</th><th scope=col>norm_weekend_percentage</th><th scope=col>avg_trips_per_stop</th><th scope=col>reliance_on_PT</th><th scope=col>cluster</th></tr></thead>\n",
       "<tbody>\n",
       "\t<tr><td>Alexandra Hills  </td><td> 987             </td><td> 9.637096        </td><td>2048.434         </td><td>4.127061         </td><td>5                </td></tr>\n",
       "\t<tr><td>Belmont - Gumdale</td><td>1093             </td><td>11.032762        </td><td>2663.404         </td><td>5.501956         </td><td>5                </td></tr>\n",
       "\t<tr><td>Birkdale         </td><td>1034             </td><td>11.133305        </td><td>7826.070         </td><td>5.864744         </td><td>5                </td></tr>\n",
       "\t<tr><td>Capalaba         </td><td> 991             </td><td>12.428423        </td><td>5702.058         </td><td>3.824347         </td><td>5                </td></tr>\n",
       "\t<tr><td>Thorneside       </td><td> 983             </td><td> 8.483446        </td><td>6362.720         </td><td>7.679739         </td><td>5                </td></tr>\n",
       "\t<tr><td>Wellington Point </td><td>1062             </td><td> 9.686038        </td><td>7036.077         </td><td>5.974895         </td><td>5                </td></tr>\n",
       "</tbody>\n",
       "</table>\n"
      ],
      "text/latex": [
       "\\begin{tabular}{r|llllll}\n",
       " SA2Name & Score & norm\\_weekend\\_percentage & avg\\_trips\\_per\\_stop & reliance\\_on\\_PT & cluster\\\\\n",
       "\\hline\n",
       "\t Alexandra Hills   &  987              &  9.637096         & 2048.434          & 4.127061          & 5                \\\\\n",
       "\t Belmont - Gumdale & 1093              & 11.032762         & 2663.404          & 5.501956          & 5                \\\\\n",
       "\t Birkdale          & 1034              & 11.133305         & 7826.070          & 5.864744          & 5                \\\\\n",
       "\t Capalaba          &  991              & 12.428423         & 5702.058          & 3.824347          & 5                \\\\\n",
       "\t Thorneside        &  983              &  8.483446         & 6362.720          & 7.679739          & 5                \\\\\n",
       "\t Wellington Point  & 1062              &  9.686038         & 7036.077          & 5.974895          & 5                \\\\\n",
       "\\end{tabular}\n"
      ],
      "text/markdown": [
       "\n",
       "SA2Name | Score | norm_weekend_percentage | avg_trips_per_stop | reliance_on_PT | cluster | \n",
       "|---|---|---|---|---|---|\n",
       "| Alexandra Hills   |  987              |  9.637096         | 2048.434          | 4.127061          | 5                 | \n",
       "| Belmont - Gumdale | 1093              | 11.032762         | 2663.404          | 5.501956          | 5                 | \n",
       "| Birkdale          | 1034              | 11.133305         | 7826.070          | 5.864744          | 5                 | \n",
       "| Capalaba          |  991              | 12.428423         | 5702.058          | 3.824347          | 5                 | \n",
       "| Thorneside        |  983              |  8.483446         | 6362.720          | 7.679739          | 5                 | \n",
       "| Wellington Point  | 1062              |  9.686038         | 7036.077          | 5.974895          | 5                 | \n",
       "\n",
       "\n"
      ],
      "text/plain": [
       "  SA2Name           Score norm_weekend_percentage avg_trips_per_stop\n",
       "1 Alexandra Hills    987   9.637096               2048.434          \n",
       "2 Belmont - Gumdale 1093  11.032762               2663.404          \n",
       "3 Birkdale          1034  11.133305               7826.070          \n",
       "4 Capalaba           991  12.428423               5702.058          \n",
       "5 Thorneside         983   8.483446               6362.720          \n",
       "6 Wellington Point  1062   9.686038               7036.077          \n",
       "  reliance_on_PT cluster\n",
       "1 4.127061       5      \n",
       "2 5.501956       5      \n",
       "3 5.864744       5      \n",
       "4 3.824347       5      \n",
       "5 7.679739       5      \n",
       "6 5.974895       5      "
      ]
     },
     "metadata": {},
     "output_type": "display_data"
    }
   ],
   "source": [
    "cluster_results <- kmeans(data_cluster[,2:5], 5)\n",
    "data_cluster$cluster <- as.factor(cluster_results$cluster)\n",
    "head(data_cluster)"
   ]
  },
  {
   "cell_type": "code",
   "execution_count": 206,
   "metadata": {
    "scrolled": true
   },
   "outputs": [
    {
     "data": {
      "text/html": [
       "<table>\n",
       "<thead><tr><th></th><th scope=col>SA2Name</th><th scope=col>Score</th><th scope=col>norm_weekend_percentage</th><th scope=col>avg_trips_per_stop</th><th scope=col>reliance_on_PT</th><th scope=col>cluster</th></tr></thead>\n",
       "<tbody>\n",
       "\t<tr><th scope=row>102</th><td>Brisbane City </td><td>1083          </td><td>25.59937      </td><td>318995.1      </td><td>13.41486      </td><td>1             </td></tr>\n",
       "\t<tr><th scope=row>107</th><td>South Brisbane</td><td>1082          </td><td>33.70133      </td><td>447138.6      </td><td>19.67861      </td><td>1             </td></tr>\n",
       "</tbody>\n",
       "</table>\n"
      ],
      "text/latex": [
       "\\begin{tabular}{r|llllll}\n",
       "  & SA2Name & Score & norm\\_weekend\\_percentage & avg\\_trips\\_per\\_stop & reliance\\_on\\_PT & cluster\\\\\n",
       "\\hline\n",
       "\t102 & Brisbane City  & 1083           & 25.59937       & 318995.1       & 13.41486       & 1             \\\\\n",
       "\t107 & South Brisbane & 1082           & 33.70133       & 447138.6       & 19.67861       & 1             \\\\\n",
       "\\end{tabular}\n"
      ],
      "text/markdown": [
       "\n",
       "| <!--/--> | SA2Name | Score | norm_weekend_percentage | avg_trips_per_stop | reliance_on_PT | cluster | \n",
       "|---|---|\n",
       "| 102 | Brisbane City  | 1083           | 25.59937       | 318995.1       | 13.41486       | 1              | \n",
       "| 107 | South Brisbane | 1082           | 33.70133       | 447138.6       | 19.67861       | 1              | \n",
       "\n",
       "\n"
      ],
      "text/plain": [
       "    SA2Name        Score norm_weekend_percentage avg_trips_per_stop\n",
       "102 Brisbane City  1083  25.59937                318995.1          \n",
       "107 South Brisbane 1082  33.70133                447138.6          \n",
       "    reliance_on_PT cluster\n",
       "102 13.41486       1      \n",
       "107 19.67861       1      "
      ]
     },
     "metadata": {},
     "output_type": "display_data"
    },
    {
     "data": {
      "text/plain": [
       "   SA2Name              Score      norm_weekend_percentage avg_trips_per_stop\n",
       " Length:2           Min.   :1082   Min.   :25.60           Min.   :318995    \n",
       " Class :character   1st Qu.:1082   1st Qu.:27.62           1st Qu.:351031    \n",
       " Mode  :character   Median :1082   Median :29.65           Median :383067    \n",
       "                    Mean   :1082   Mean   :29.65           Mean   :383067    \n",
       "                    3rd Qu.:1083   3rd Qu.:31.68           3rd Qu.:415103    \n",
       "                    Max.   :1083   Max.   :33.70           Max.   :447139    \n",
       " reliance_on_PT  cluster\n",
       " Min.   :13.41   1:2    \n",
       " 1st Qu.:14.98   2:0    \n",
       " Median :16.55   3:0    \n",
       " Mean   :16.55   4:0    \n",
       " 3rd Qu.:18.11   5:0    \n",
       " Max.   :19.68          "
      ]
     },
     "metadata": {},
     "output_type": "display_data"
    },
    {
     "data": {
      "text/html": [
       "<table>\n",
       "<thead><tr><th></th><th scope=col>SA2Name</th><th scope=col>Score</th><th scope=col>norm_weekend_percentage</th><th scope=col>avg_trips_per_stop</th><th scope=col>reliance_on_PT</th><th scope=col>cluster</th></tr></thead>\n",
       "<tbody>\n",
       "\t<tr><th scope=row>16</th><td>Murarrie            </td><td>1066                </td><td>13.616687           </td><td>22796.47            </td><td>11.87050            </td><td>2                   </td></tr>\n",
       "\t<tr><th scope=row>21</th><td>Bald Hills          </td><td>1013                </td><td> 8.460389           </td><td>15503.35            </td><td>10.63479            </td><td>2                   </td></tr>\n",
       "\t<tr><th scope=row>27</th><td>Chermside           </td><td> 975                </td><td>25.395911           </td><td>24267.43            </td><td>16.11857            </td><td>2                   </td></tr>\n",
       "\t<tr><th scope=row>34</th><td>Boondall            </td><td>1009                </td><td>15.302779           </td><td>15405.05            </td><td>11.40137            </td><td>2                   </td></tr>\n",
       "\t<tr><th scope=row>35</th><td>Brisbane Airport    </td><td>1134                </td><td>36.392373           </td><td>29481.24            </td><td> 7.54717            </td><td>2                   </td></tr>\n",
       "\t<tr><th scope=row>37</th><td>Northgate - Virginia</td><td>1049                </td><td>14.704025           </td><td>25880.02            </td><td>18.27160            </td><td>2                   </td></tr>\n",
       "</tbody>\n",
       "</table>\n"
      ],
      "text/latex": [
       "\\begin{tabular}{r|llllll}\n",
       "  & SA2Name & Score & norm\\_weekend\\_percentage & avg\\_trips\\_per\\_stop & reliance\\_on\\_PT & cluster\\\\\n",
       "\\hline\n",
       "\t16 & Murarrie             & 1066                 & 13.616687            & 22796.47             & 11.87050             & 2                   \\\\\n",
       "\t21 & Bald Hills           & 1013                 &  8.460389            & 15503.35             & 10.63479             & 2                   \\\\\n",
       "\t27 & Chermside            &  975                 & 25.395911            & 24267.43             & 16.11857             & 2                   \\\\\n",
       "\t34 & Boondall             & 1009                 & 15.302779            & 15405.05             & 11.40137             & 2                   \\\\\n",
       "\t35 & Brisbane Airport     & 1134                 & 36.392373            & 29481.24             &  7.54717             & 2                   \\\\\n",
       "\t37 & Northgate - Virginia & 1049                 & 14.704025            & 25880.02             & 18.27160             & 2                   \\\\\n",
       "\\end{tabular}\n"
      ],
      "text/markdown": [
       "\n",
       "| <!--/--> | SA2Name | Score | norm_weekend_percentage | avg_trips_per_stop | reliance_on_PT | cluster | \n",
       "|---|---|---|---|---|---|\n",
       "| 16 | Murarrie             | 1066                 | 13.616687            | 22796.47             | 11.87050             | 2                    | \n",
       "| 21 | Bald Hills           | 1013                 |  8.460389            | 15503.35             | 10.63479             | 2                    | \n",
       "| 27 | Chermside            |  975                 | 25.395911            | 24267.43             | 16.11857             | 2                    | \n",
       "| 34 | Boondall             | 1009                 | 15.302779            | 15405.05             | 11.40137             | 2                    | \n",
       "| 35 | Brisbane Airport     | 1134                 | 36.392373            | 29481.24             |  7.54717             | 2                    | \n",
       "| 37 | Northgate - Virginia | 1049                 | 14.704025            | 25880.02             | 18.27160             | 2                    | \n",
       "\n",
       "\n"
      ],
      "text/plain": [
       "   SA2Name              Score norm_weekend_percentage avg_trips_per_stop\n",
       "16 Murarrie             1066  13.616687               22796.47          \n",
       "21 Bald Hills           1013   8.460389               15503.35          \n",
       "27 Chermside             975  25.395911               24267.43          \n",
       "34 Boondall             1009  15.302779               15405.05          \n",
       "35 Brisbane Airport     1134  36.392373               29481.24          \n",
       "37 Northgate - Virginia 1049  14.704025               25880.02          \n",
       "   reliance_on_PT cluster\n",
       "16 11.87050       2      \n",
       "21 10.63479       2      \n",
       "27 16.11857       2      \n",
       "34 11.40137       2      \n",
       "35  7.54717       2      \n",
       "37 18.27160       2      "
      ]
     },
     "metadata": {},
     "output_type": "display_data"
    },
    {
     "data": {
      "text/plain": [
       "   SA2Name              Score        norm_weekend_percentage avg_trips_per_stop\n",
       " Length:86          Min.   : 773.0   Min.   : 7.663          Min.   :15167     \n",
       " Class :character   1st Qu.: 982.8   1st Qu.:14.171          1st Qu.:18870     \n",
       " Mode  :character   Median :1041.0   Median :17.414          Median :23530     \n",
       "                    Mean   :1029.3   Mean   :19.393          Mean   :24271     \n",
       "                    3rd Qu.:1084.8   3rd Qu.:22.893          3rd Qu.:29302     \n",
       "                    Max.   :1146.0   Max.   :41.385          Max.   :42896     \n",
       " reliance_on_PT   cluster\n",
       " Min.   : 1.536   1: 0   \n",
       " 1st Qu.: 6.156   2:86   \n",
       " Median :12.496   3: 0   \n",
       " Mean   :11.654   4: 0   \n",
       " 3rd Qu.:16.231   5: 0   \n",
       " Max.   :23.267          "
      ]
     },
     "metadata": {},
     "output_type": "display_data"
    },
    {
     "data": {
      "text/html": [
       "<table>\n",
       "<thead><tr><th></th><th scope=col>SA2Name</th><th scope=col>Score</th><th scope=col>norm_weekend_percentage</th><th scope=col>avg_trips_per_stop</th><th scope=col>reliance_on_PT</th><th scope=col>cluster</th></tr></thead>\n",
       "<tbody>\n",
       "\t<tr><th scope=row>13</th><td>Redland Islands           </td><td> 852                      </td><td>27.98498                  </td><td>250349.0                  </td><td> 5.664926                 </td><td>3                         </td></tr>\n",
       "\t<tr><th scope=row>57</th><td>Woolloongabba             </td><td>1051                      </td><td>19.45062                  </td><td>133340.8                  </td><td>23.239197                 </td><td>3                         </td></tr>\n",
       "\t<tr><th scope=row>95</th><td>St Lucia                  </td><td>1096                      </td><td>25.74922                  </td><td>135426.5                  </td><td>18.044949                 </td><td>3                         </td></tr>\n",
       "\t<tr><th scope=row>103</th><td>Fortitude Valley          </td><td>1064                      </td><td>25.73140                  </td><td>185168.0                  </td><td>19.828156                 </td><td>3                         </td></tr>\n",
       "\t<tr><th scope=row>138</th><td>Mermaid Beach - Broadbeach</td><td>1022                      </td><td>43.95823                  </td><td>179614.2                  </td><td> 6.591887                 </td><td>3                         </td></tr>\n",
       "\t<tr><th scope=row>178</th><td>Surfers Paradise          </td><td> 983                      </td><td>45.46037                  </td><td>131691.0                  </td><td>10.523971                 </td><td>3                         </td></tr>\n",
       "</tbody>\n",
       "</table>\n"
      ],
      "text/latex": [
       "\\begin{tabular}{r|llllll}\n",
       "  & SA2Name & Score & norm\\_weekend\\_percentage & avg\\_trips\\_per\\_stop & reliance\\_on\\_PT & cluster\\\\\n",
       "\\hline\n",
       "\t13 & Redland Islands            &  852                       & 27.98498                   & 250349.0                   &  5.664926                  & 3                         \\\\\n",
       "\t57 & Woolloongabba              & 1051                       & 19.45062                   & 133340.8                   & 23.239197                  & 3                         \\\\\n",
       "\t95 & St Lucia                   & 1096                       & 25.74922                   & 135426.5                   & 18.044949                  & 3                         \\\\\n",
       "\t103 & Fortitude Valley           & 1064                       & 25.73140                   & 185168.0                   & 19.828156                  & 3                         \\\\\n",
       "\t138 & Mermaid Beach - Broadbeach & 1022                       & 43.95823                   & 179614.2                   &  6.591887                  & 3                         \\\\\n",
       "\t178 & Surfers Paradise           &  983                       & 45.46037                   & 131691.0                   & 10.523971                  & 3                         \\\\\n",
       "\\end{tabular}\n"
      ],
      "text/markdown": [
       "\n",
       "| <!--/--> | SA2Name | Score | norm_weekend_percentage | avg_trips_per_stop | reliance_on_PT | cluster | \n",
       "|---|---|---|---|---|---|\n",
       "| 13 | Redland Islands            |  852                       | 27.98498                   | 250349.0                   |  5.664926                  | 3                          | \n",
       "| 57 | Woolloongabba              | 1051                       | 19.45062                   | 133340.8                   | 23.239197                  | 3                          | \n",
       "| 95 | St Lucia                   | 1096                       | 25.74922                   | 135426.5                   | 18.044949                  | 3                          | \n",
       "| 103 | Fortitude Valley           | 1064                       | 25.73140                   | 185168.0                   | 19.828156                  | 3                          | \n",
       "| 138 | Mermaid Beach - Broadbeach | 1022                       | 43.95823                   | 179614.2                   |  6.591887                  | 3                          | \n",
       "| 178 | Surfers Paradise           |  983                       | 45.46037                   | 131691.0                   | 10.523971                  | 3                          | \n",
       "\n",
       "\n"
      ],
      "text/plain": [
       "    SA2Name                    Score norm_weekend_percentage avg_trips_per_stop\n",
       "13  Redland Islands             852  27.98498                250349.0          \n",
       "57  Woolloongabba              1051  19.45062                133340.8          \n",
       "95  St Lucia                   1096  25.74922                135426.5          \n",
       "103 Fortitude Valley           1064  25.73140                185168.0          \n",
       "138 Mermaid Beach - Broadbeach 1022  43.95823                179614.2          \n",
       "178 Surfers Paradise            983  45.46037                131691.0          \n",
       "    reliance_on_PT cluster\n",
       "13   5.664926      3      \n",
       "57  23.239197      3      \n",
       "95  18.044949      3      \n",
       "103 19.828156      3      \n",
       "138  6.591887      3      \n",
       "178 10.523971      3      "
      ]
     },
     "metadata": {},
     "output_type": "display_data"
    },
    {
     "data": {
      "text/plain": [
       "   SA2Name              Score        norm_weekend_percentage avg_trips_per_stop\n",
       " Length:6           Min.   : 852.0   Min.   :19.45           Min.   :131691    \n",
       " Class :character   1st Qu.: 992.8   1st Qu.:25.74           1st Qu.:133862    \n",
       " Mode  :character   Median :1036.5   Median :26.87           Median :157520    \n",
       "                    Mean   :1011.3   Mean   :31.39           Mean   :169265    \n",
       "                    3rd Qu.:1060.8   3rd Qu.:39.96           3rd Qu.:183780    \n",
       "                    Max.   :1096.0   Max.   :45.46           Max.   :250349    \n",
       " reliance_on_PT   cluster\n",
       " Min.   : 5.665   1:0    \n",
       " 1st Qu.: 7.575   2:0    \n",
       " Median :14.284   3:6    \n",
       " Mean   :13.982   4:0    \n",
       " 3rd Qu.:19.382   5:0    \n",
       " Max.   :23.239          "
      ]
     },
     "metadata": {},
     "output_type": "display_data"
    },
    {
     "data": {
      "text/html": [
       "<table>\n",
       "<thead><tr><th></th><th scope=col>SA2Name</th><th scope=col>Score</th><th scope=col>norm_weekend_percentage</th><th scope=col>avg_trips_per_stop</th><th scope=col>reliance_on_PT</th><th scope=col>cluster</th></tr></thead>\n",
       "<tbody>\n",
       "\t<tr><th scope=row>64</th><td>Upper Mount Gravatt       </td><td>1016                      </td><td>25.93583                  </td><td> 74199.35                 </td><td>14.15071                  </td><td>4                         </td></tr>\n",
       "\t<tr><th scope=row>68</th><td>Robertson                 </td><td>1038                      </td><td>34.95169                  </td><td> 66083.00                 </td><td>15.40643                  </td><td>4                         </td></tr>\n",
       "\t<tr><th scope=row>93</th><td>Indooroopilly             </td><td>1097                      </td><td>22.85364                  </td><td> 47930.14                 </td><td>19.41256                  </td><td>4                         </td></tr>\n",
       "\t<tr><th scope=row>101</th><td>Upper Kedron - Ferny Grove</td><td>1090                      </td><td> 9.37141                  </td><td> 50519.50                 </td><td>12.99069                  </td><td>4                         </td></tr>\n",
       "\t<tr><th scope=row>123</th><td>Kelvin Grove - Herston    </td><td>1067                      </td><td>19.70315                  </td><td>102239.21                 </td><td>19.37184                  </td><td>4                         </td></tr>\n",
       "\t<tr><th scope=row>124</th><td>Newmarket                 </td><td>1082                      </td><td>21.38739                  </td><td> 46677.50                 </td><td>19.48465                  </td><td>4                         </td></tr>\n",
       "</tbody>\n",
       "</table>\n"
      ],
      "text/latex": [
       "\\begin{tabular}{r|llllll}\n",
       "  & SA2Name & Score & norm\\_weekend\\_percentage & avg\\_trips\\_per\\_stop & reliance\\_on\\_PT & cluster\\\\\n",
       "\\hline\n",
       "\t64 & Upper Mount Gravatt        & 1016                       & 25.93583                   &  74199.35                  & 14.15071                   & 4                         \\\\\n",
       "\t68 & Robertson                  & 1038                       & 34.95169                   &  66083.00                  & 15.40643                   & 4                         \\\\\n",
       "\t93 & Indooroopilly              & 1097                       & 22.85364                   &  47930.14                  & 19.41256                   & 4                         \\\\\n",
       "\t101 & Upper Kedron - Ferny Grove & 1090                       &  9.37141                   &  50519.50                  & 12.99069                   & 4                         \\\\\n",
       "\t123 & Kelvin Grove - Herston     & 1067                       & 19.70315                   & 102239.21                  & 19.37184                   & 4                         \\\\\n",
       "\t124 & Newmarket                  & 1082                       & 21.38739                   &  46677.50                  & 19.48465                   & 4                         \\\\\n",
       "\\end{tabular}\n"
      ],
      "text/markdown": [
       "\n",
       "| <!--/--> | SA2Name | Score | norm_weekend_percentage | avg_trips_per_stop | reliance_on_PT | cluster | \n",
       "|---|---|---|---|---|---|\n",
       "| 64 | Upper Mount Gravatt        | 1016                       | 25.93583                   |  74199.35                  | 14.15071                   | 4                          | \n",
       "| 68 | Robertson                  | 1038                       | 34.95169                   |  66083.00                  | 15.40643                   | 4                          | \n",
       "| 93 | Indooroopilly              | 1097                       | 22.85364                   |  47930.14                  | 19.41256                   | 4                          | \n",
       "| 101 | Upper Kedron - Ferny Grove | 1090                       |  9.37141                   |  50519.50                  | 12.99069                   | 4                          | \n",
       "| 123 | Kelvin Grove - Herston     | 1067                       | 19.70315                   | 102239.21                  | 19.37184                   | 4                          | \n",
       "| 124 | Newmarket                  | 1082                       | 21.38739                   |  46677.50                  | 19.48465                   | 4                          | \n",
       "\n",
       "\n"
      ],
      "text/plain": [
       "    SA2Name                    Score norm_weekend_percentage avg_trips_per_stop\n",
       "64  Upper Mount Gravatt        1016  25.93583                 74199.35         \n",
       "68  Robertson                  1038  34.95169                 66083.00         \n",
       "93  Indooroopilly              1097  22.85364                 47930.14         \n",
       "101 Upper Kedron - Ferny Grove 1090   9.37141                 50519.50         \n",
       "123 Kelvin Grove - Herston     1067  19.70315                102239.21         \n",
       "124 Newmarket                  1082  21.38739                 46677.50         \n",
       "    reliance_on_PT cluster\n",
       "64  14.15071       4      \n",
       "68  15.40643       4      \n",
       "93  19.41256       4      \n",
       "101 12.99069       4      \n",
       "123 19.37184       4      \n",
       "124 19.48465       4      "
      ]
     },
     "metadata": {},
     "output_type": "display_data"
    },
    {
     "data": {
      "text/plain": [
       "   SA2Name              Score      norm_weekend_percentage avg_trips_per_stop\n",
       " Length:12          Min.   : 939   Min.   : 9.371          Min.   : 46350    \n",
       " Class :character   1st Qu.:1012   1st Qu.:20.061          1st Qu.: 47963    \n",
       " Mode  :character   Median :1074   Median :21.449          Median : 54340    \n",
       "                    Mean   :1058   Mean   :22.240          Mean   : 63865    \n",
       "                    3rd Qu.:1101   3rd Qu.:26.334          3rd Qu.: 75727    \n",
       "                    Max.   :1132   Max.   :34.952          Max.   :102239    \n",
       " reliance_on_PT   cluster\n",
       " Min.   : 1.684   1: 0   \n",
       " 1st Qu.:12.200   2: 0   \n",
       " Median :17.389   3: 0   \n",
       " Mean   :15.174   4:12   \n",
       " 3rd Qu.:19.593   5: 0   \n",
       " Max.   :20.663          "
      ]
     },
     "metadata": {},
     "output_type": "display_data"
    },
    {
     "data": {
      "text/html": [
       "<table>\n",
       "<thead><tr><th scope=col>SA2Name</th><th scope=col>Score</th><th scope=col>norm_weekend_percentage</th><th scope=col>avg_trips_per_stop</th><th scope=col>reliance_on_PT</th><th scope=col>cluster</th></tr></thead>\n",
       "<tbody>\n",
       "\t<tr><td>Alexandra Hills  </td><td> 987             </td><td> 9.637096        </td><td>2048.434         </td><td>4.127061         </td><td>5                </td></tr>\n",
       "\t<tr><td>Belmont - Gumdale</td><td>1093             </td><td>11.032762        </td><td>2663.404         </td><td>5.501956         </td><td>5                </td></tr>\n",
       "\t<tr><td>Birkdale         </td><td>1034             </td><td>11.133305        </td><td>7826.070         </td><td>5.864744         </td><td>5                </td></tr>\n",
       "\t<tr><td>Capalaba         </td><td> 991             </td><td>12.428423        </td><td>5702.058         </td><td>3.824347         </td><td>5                </td></tr>\n",
       "\t<tr><td>Thorneside       </td><td> 983             </td><td> 8.483446        </td><td>6362.720         </td><td>7.679739         </td><td>5                </td></tr>\n",
       "\t<tr><td>Wellington Point </td><td>1062             </td><td> 9.686038        </td><td>7036.077         </td><td>5.974895         </td><td>5                </td></tr>\n",
       "</tbody>\n",
       "</table>\n"
      ],
      "text/latex": [
       "\\begin{tabular}{r|llllll}\n",
       " SA2Name & Score & norm\\_weekend\\_percentage & avg\\_trips\\_per\\_stop & reliance\\_on\\_PT & cluster\\\\\n",
       "\\hline\n",
       "\t Alexandra Hills   &  987              &  9.637096         & 2048.434          & 4.127061          & 5                \\\\\n",
       "\t Belmont - Gumdale & 1093              & 11.032762         & 2663.404          & 5.501956          & 5                \\\\\n",
       "\t Birkdale          & 1034              & 11.133305         & 7826.070          & 5.864744          & 5                \\\\\n",
       "\t Capalaba          &  991              & 12.428423         & 5702.058          & 3.824347          & 5                \\\\\n",
       "\t Thorneside        &  983              &  8.483446         & 6362.720          & 7.679739          & 5                \\\\\n",
       "\t Wellington Point  & 1062              &  9.686038         & 7036.077          & 5.974895          & 5                \\\\\n",
       "\\end{tabular}\n"
      ],
      "text/markdown": [
       "\n",
       "SA2Name | Score | norm_weekend_percentage | avg_trips_per_stop | reliance_on_PT | cluster | \n",
       "|---|---|---|---|---|---|\n",
       "| Alexandra Hills   |  987              |  9.637096         | 2048.434          | 4.127061          | 5                 | \n",
       "| Belmont - Gumdale | 1093              | 11.032762         | 2663.404          | 5.501956          | 5                 | \n",
       "| Birkdale          | 1034              | 11.133305         | 7826.070          | 5.864744          | 5                 | \n",
       "| Capalaba          |  991              | 12.428423         | 5702.058          | 3.824347          | 5                 | \n",
       "| Thorneside        |  983              |  8.483446         | 6362.720          | 7.679739          | 5                 | \n",
       "| Wellington Point  | 1062              |  9.686038         | 7036.077          | 5.974895          | 5                 | \n",
       "\n",
       "\n"
      ],
      "text/plain": [
       "  SA2Name           Score norm_weekend_percentage avg_trips_per_stop\n",
       "1 Alexandra Hills    987   9.637096               2048.434          \n",
       "2 Belmont - Gumdale 1093  11.032762               2663.404          \n",
       "3 Birkdale          1034  11.133305               7826.070          \n",
       "4 Capalaba           991  12.428423               5702.058          \n",
       "5 Thorneside         983   8.483446               6362.720          \n",
       "6 Wellington Point  1062   9.686038               7036.077          \n",
       "  reliance_on_PT cluster\n",
       "1 4.127061       5      \n",
       "2 5.501956       5      \n",
       "3 5.864744       5      \n",
       "4 3.824347       5      \n",
       "5 7.679739       5      \n",
       "6 5.974895       5      "
      ]
     },
     "metadata": {},
     "output_type": "display_data"
    },
    {
     "data": {
      "text/plain": [
       "   SA2Name              Score        norm_weekend_percentage avg_trips_per_stop\n",
       " Length:186         Min.   : 793.0   Min.   : 0.4744         Min.   :   23.67  \n",
       " Class :character   1st Qu.: 957.5   1st Qu.:12.0791         1st Qu.: 2868.17  \n",
       " Mode  :character   Median :1018.0   Median :15.7452         Median : 4992.28  \n",
       "                    Mean   :1009.5   Mean   :17.1896         Mean   : 5913.80  \n",
       "                    3rd Qu.:1057.8   3rd Qu.:20.6575         3rd Qu.: 9123.06  \n",
       "                    Max.   :1170.0   Max.   :44.0364         Max.   :14918.50  \n",
       " reliance_on_PT   cluster\n",
       " Min.   : 0.355   1:  0  \n",
       " 1st Qu.: 2.116   2:  0  \n",
       " Median : 3.858   3:  0  \n",
       " Mean   : 5.401   4:  0  \n",
       " 3rd Qu.: 7.963   5:186  \n",
       " Max.   :17.197          "
      ]
     },
     "metadata": {},
     "output_type": "display_data"
    }
   ],
   "source": [
    "indiv_cluster <- subset(data_cluster, cluster == \"1\")\n",
    "head(indiv_cluster)\n",
    "summary(indiv_cluster)\n",
    "\n",
    "indiv_cluster <- subset(data_cluster, cluster == \"2\")\n",
    "head(indiv_cluster)\n",
    "summary(indiv_cluster)\n",
    "\n",
    "indiv_cluster <- subset(data_cluster, cluster == \"3\")\n",
    "head(indiv_cluster)\n",
    "summary(indiv_cluster)\n",
    "\n",
    "indiv_cluster <- subset(data_cluster, cluster == \"4\")\n",
    "head(indiv_cluster)\n",
    "summary(indiv_cluster)\n",
    "\n",
    "indiv_cluster <- subset(data_cluster, cluster == \"5\")\n",
    "head(indiv_cluster)\n",
    "summary(indiv_cluster)\n"
   ]
  },
  {
   "cell_type": "code",
   "execution_count": 208,
   "metadata": {
    "scrolled": false
   },
   "outputs": [
    {
     "data": {
      "image/png": "[encoded data removed]",
      "text/plain": [
       "plot without title"
      ]
     },
     "metadata": {},
     "output_type": "display_data"
    }
   ],
   "source": [
    "my_cols <- c(\"#00AFBB\", \"#E7B800\", \"#FC4E07\",\"#204dcf\", \"#19e02c\" )  \n",
    "pairs(data_cluster[,2:5], col = my_cols[data_cluster$cluster])"
   ]
  },
  {
   "cell_type": "markdown",
   "metadata": {},
   "source": [
    "Happy with results, it looks like there's a few clusters that are specific enough to become personas. Going to explore to look at visually."
   ]
  },
  {
   "cell_type": "code",
   "execution_count": 209,
   "metadata": {
    "scrolled": true
   },
   "outputs": [
    {
     "data": {
      "text/plain": [
       "   SA2Name             SA2Code              Score      norm_weekend_percentage\n",
       " Length:292         Min.   :301011001   Min.   : 773   Min.   : 0.4744        \n",
       " Class :character   1st Qu.:303051075   1st Qu.: 977   1st Qu.:12.8778        \n",
       " Mode  :character   Median :309031236   Median :1024   Median :16.6853        \n",
       "                    Mean   :307873614   Mean   :1018   Mean   :18.4231        \n",
       "                    3rd Qu.:311051323   3rd Qu.:1067   3rd Qu.:22.6742        \n",
       "                    Max.   :319031514   Max.   :1170   Max.   :45.4604        \n",
       " avg_trips_per_stop reliance_on_PT   cluster\n",
       " Min.   :    23.7   Min.   : 0.355   1:  2  \n",
       " 1st Qu.:  3724.3   1st Qu.: 2.605   2: 86  \n",
       " Median :  9457.0   Median : 6.196   3:  6  \n",
       " Mean   : 19641.6   Mean   : 7.897   4: 12  \n",
       " 3rd Qu.: 21002.8   3rd Qu.:12.611   5:186  \n",
       " Max.   :447138.6   Max.   :23.267          "
      ]
     },
     "metadata": {},
     "output_type": "display_data"
    }
   ],
   "source": [
    "ref_data<- read_csv(\"Processed Data/1F/SA2_stops_by_mode.csv\", col_types = cols(AREASQKM16 = col_skip(), Pop = col_skip(), Score = col_skip(), Team_Member = col_skip(), is_bus_stop = col_skip(), is_ferry_stop = col_skip(), is_train_station = col_skip(),  is_tram_stop = col_skip(), stop_id = col_skip(),  stop_lat = col_skip(), stop_lon = col_skip(), stop_name = col_skip(), stop_url = col_skip()))\n",
    "ref_data <- unique(ref_data)\n",
    "data_cluster <- merge(ref_data, data_cluster, by=\"SA2Name\")\n",
    "\n",
    "summary(data_cluster)\n",
    "# write.csv(data_cluster,\"data_cluster.csv\", row.names = FALSE)"
   ]
  },
  {
   "cell_type": "code",
   "execution_count": 210,
   "metadata": {},
   "outputs": [
    {
     "data": {
      "text/plain": [
       "   SA2Name             SA2Code              Score       \n",
       " Length:280         Min.   :301011001   Min.   : 773.0  \n",
       " Class :character   1st Qu.:303051074   1st Qu.: 975.8  \n",
       " Mode  :character   Median :309031238   Median :1023.0  \n",
       "                    Mean   :307930681   Mean   :1016.1  \n",
       "                    3rd Qu.:311051324   3rd Qu.:1065.2  \n",
       "                    Max.   :319031514   Max.   :1170.0  \n",
       " norm_weekend_percentage avg_trips_per_stop reliance_on_PT   cluster\n",
       " Min.   : 0.4744         Min.   :    23.7   Min.   : 0.355   1:  2  \n",
       " 1st Qu.:12.8351         1st Qu.:  3640.3   1st Qu.: 2.549   2: 86  \n",
       " Median :16.5444         Median :  9159.0   Median : 5.874   3:  6  \n",
       " Mean   :18.2595         Mean   : 17746.3   Mean   : 7.585   4:  0  \n",
       " 3rd Qu.:22.4640         3rd Qu.: 19432.5   3rd Qu.:11.893   5:186  \n",
       " Max.   :45.4604         Max.   :447138.6   Max.   :23.267          "
      ]
     },
     "metadata": {},
     "output_type": "display_data"
    }
   ],
   "source": [
    "data_cluster_2 <- subset(data_cluster, cluster ==\"1\" | cluster == \"2\" | cluster == \"3\" | cluster == \"5\")\n",
    "summary(data_cluster_2)\n",
    "# write.csv(data_cluster_2,\"data_cluster_2.csv\", row.names = FALSE)"
   ]
  }
 ],
 "metadata": {
  "kernelspec": {
   "display_name": "R",
   "language": "R",
   "name": "ir"
  },
  "language_info": {
   "codemirror_mode": "r",
   "file_extension": ".r",
   "mimetype": "text/x-r-source",
   "name": "R",
   "pygments_lexer": "r",
   "version": "3.4.3"
  }
 },
 "nbformat": 4,
 "nbformat_minor": 2
}
