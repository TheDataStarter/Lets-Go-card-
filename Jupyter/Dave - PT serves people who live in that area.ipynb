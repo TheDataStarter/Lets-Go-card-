{
 "cells": [
  {
   "cell_type": "markdown",
   "metadata": {},
   "source": [
    "# Hypothesis - public transport serves people who live in that area (ie. public transport infrastructure and services are built where the population is highest)"
   ]
  },
  {
   "cell_type": "markdown",
   "metadata": {},
   "source": [
    "Initialise needed libraries"
   ]
  },
  {
   "cell_type": "code",
   "execution_count": 1,
   "metadata": {},
   "outputs": [
    {
     "name": "stderr",
     "output_type": "stream",
     "text": [
      "Warning message:\n",
      "\"package 'readr' was built under R version 3.4.4\"Warning message:\n",
      "\"package 'plyr' was built under R version 3.4.4\"\n",
      "Attaching package: 'dplyr'\n",
      "\n",
      "The following objects are masked from 'package:plyr':\n",
      "\n",
      "    arrange, count, desc, failwith, id, mutate, rename, summarise,\n",
      "    summarize\n",
      "\n",
      "The following objects are masked from 'package:stats':\n",
      "\n",
      "    filter, lag\n",
      "\n",
      "The following objects are masked from 'package:base':\n",
      "\n",
      "    intersect, setdiff, setequal, union\n",
      "\n"
     ]
    }
   ],
   "source": [
    "library(readr)\n",
    "library(plyr)\n",
    "library(dplyr)\n",
    "# Note from Dave to Dave - ALWAYS load plyr before dplyr or group_by doesn't work properly\n",
    "# Note - have updated to use combined_quantity from the 1C dataset to give more meaningful results"
   ]
  },
  {
   "cell_type": "markdown",
   "metadata": {},
   "source": [
    "Get access to the data we need (saved in a Processed Data folder from the working directory)\n",
    "In this case, we need to get access to all of the stops by SA2, some of the SA2 characteristics (all from 1F), the number of stops per SA2 (calculated from 1F) and the quantity of trips per SA2 (from file 1C). \n",
    "\n",
    "1F is read in to only retrieve the following columns:\n",
    "- stop_id\n",
    "- AREASQKM16\n",
    "- SA2Name\n",
    "- SA2Code\n",
    "- Team_Member\n",
    "- Pop\n",
    "- Score\n",
    "as other columns are not needed for this analysis\n",
    "\n",
    "1C is read in as-is for now\n",
    "\n",
    "** In a future revision, the number of stops per SA2 should be replaced by the quantity of services (from file 1A), but this isn't ready to use at the time of coding."
   ]
  },
  {
   "cell_type": "code",
   "execution_count": 2,
   "metadata": {},
   "outputs": [
    {
     "name": "stderr",
     "output_type": "stream",
     "text": [
      "Parsed with column specification:\n",
      "cols(\n",
      "  month = col_character(),\n",
      "  time = col_character(),\n",
      "  stop_id = col_integer(),\n",
      "  origin_quantity = col_integer(),\n",
      "  destination_quantity = col_integer(),\n",
      "  combined_quantity = col_integer()\n",
      ")\n"
     ]
    }
   ],
   "source": [
    "data_1F <- read_csv(\"Processed data/1F/SA2_stops_by_mode.csv\", col_types = cols(is_bus_stop = col_skip(), is_ferry_stop = col_skip(), is_train_station = col_skip(), is_tram_stop = col_skip(), stop_lat = col_skip(), stop_lon = col_skip(), stop_name = col_skip(), stop_url = col_skip()))\n",
    "data_1C <- read_csv(\"Processed data/1C/1C_trip_freq.csv\")"
   ]
  },
  {
   "cell_type": "markdown",
   "metadata": {},
   "source": [
    "First, we want to aggregate the number of trips taken from each stop, so we can then aggregate these into the number of trips taken from each SA2 area. To do that, we want to operate on the 1C dataset."
   ]
  },
  {
   "cell_type": "code",
   "execution_count": 3,
   "metadata": {},
   "outputs": [
    {
     "data": {
      "text/plain": [
       "    stop_id       combined_quantity \n",
       " Min.   :     1   Min.   :       1  \n",
       " 1st Qu.:  5586   1st Qu.:     324  \n",
       " Median :301610   Median :    1328  \n",
       " Mean   :189427   Mean   :   17863  \n",
       " 3rd Qu.:313994   3rd Qu.:    4740  \n",
       " Max.   :600831   Max.   :18326237  "
      ]
     },
     "metadata": {},
     "output_type": "display_data"
    }
   ],
   "source": [
    "trips_per_stop<- data_1C %>% group_by(stop_id) %>% summarise(combined_quantity = sum(combined_quantity))\n",
    "summary(trips_per_stop)"
   ]
  },
  {
   "cell_type": "markdown",
   "metadata": {},
   "source": [
    "From this operation, we can see some interesting summary statistics about the relationship between stops and the number of trips. \n",
    "\n",
    "We can see that there is at least one stop that only had a single trip recorded in the 12 months we have data for.\n",
    "\n",
    "We can see that the median number of trips is 1,328 per stop, but the mean is 17,863 - which implies that there are some outliers in terms of stops with a huge quantity of trips.\n",
    "\n",
    "FInally, we can see that one incredibly-busy stop had over 18 million trips from it over this 12 month period. Interesting (but not particularly useful here).\n",
    "\n",
    "We then want to join this new dataset with our 1F dataset so we can operate from there."
   ]
  },
  {
   "cell_type": "code",
   "execution_count": 4,
   "metadata": {},
   "outputs": [],
   "source": [
    "data_1F_with_qty <- join(data_1F, trips_per_stop, by=\"stop_id\", type=\"inner\")"
   ]
  },
  {
   "cell_type": "markdown",
   "metadata": {},
   "source": [
    "Next, we want to stop considering individual stops altogether (for this particular analysis). To do this, we want to both take a count of the number of stops per SA2 area (which we will use with the quantity of trips later) and also to group by SA2 area."
   ]
  },
  {
   "cell_type": "code",
   "execution_count": 5,
   "metadata": {},
   "outputs": [],
   "source": [
    "num_stops_per_SA2 <- data_1F_with_qty %>% count(SA2Code)\n",
    "data_1F_with_qty <- merge(data_1F_with_qty, num_stops_per_SA2, by = \"SA2Code\")\n",
    "SA2_working_data <- data_1F_with_qty %>% group_by (SA2Code, SA2Name, Pop, Score, Team_Member, n) %>% summarise(combined_quantity = sum(combined_quantity))\n",
    "SA2_working_data <- SA2_working_data[complete.cases(SA2_working_data), ]"
   ]
  },
  {
   "cell_type": "markdown",
   "metadata": {},
   "source": [
    "Finally, I want to add one last column that is derived from the calulation of quantity divided by number of stops (n). This allows us to analyse data based on either the number of stops in each area OR the average \"busy-ness\" of stops within each area."
   ]
  },
  {
   "cell_type": "code",
   "execution_count": 6,
   "metadata": {},
   "outputs": [
    {
     "data": {
      "text/html": [
       "<table>\n",
       "<thead><tr><th scope=col>SA2Code</th><th scope=col>SA2Name</th><th scope=col>Pop</th><th scope=col>Score</th><th scope=col>Team_Member</th><th scope=col>n</th><th scope=col>combined_quantity</th><th scope=col>avg_trips_per_stop</th></tr></thead>\n",
       "<tbody>\n",
       "\t<tr><td>112031254        </td><td>Tweed Heads      </td><td>19417            </td><td> 933             </td><td>Eric             </td><td>  3              </td><td>158677           </td><td>52892.333        </td></tr>\n",
       "\t<tr><td>301011001        </td><td>Alexandra Hills  </td><td>16345            </td><td> 987             </td><td>Charlie          </td><td>113              </td><td>231473           </td><td> 2048.434        </td></tr>\n",
       "\t<tr><td>301011002        </td><td>Belmont - Gumdale</td><td> 7375            </td><td>1093             </td><td>Steff            </td><td> 47              </td><td>125180           </td><td> 2663.404        </td></tr>\n",
       "\t<tr><td>301011003        </td><td>Birkdale         </td><td>14923            </td><td>1034             </td><td>Dave             </td><td> 57              </td><td>446086           </td><td> 7826.070        </td></tr>\n",
       "\t<tr><td>301011004        </td><td>Capalaba         </td><td>17588            </td><td> 991             </td><td>Charlie          </td><td>120              </td><td>684247           </td><td> 5702.058        </td></tr>\n",
       "\t<tr><td>301011005        </td><td>Thorneside       </td><td> 3761            </td><td> 983             </td><td>Charlie          </td><td> 25              </td><td>159068           </td><td> 6362.720        </td></tr>\n",
       "</tbody>\n",
       "</table>\n"
      ],
      "text/latex": [
       "\\begin{tabular}{r|llllllll}\n",
       " SA2Code & SA2Name & Pop & Score & Team\\_Member & n & combined\\_quantity & avg\\_trips\\_per\\_stop\\\\\n",
       "\\hline\n",
       "\t 112031254         & Tweed Heads       & 19417             &  933              & Eric              &   3               & 158677            & 52892.333        \\\\\n",
       "\t 301011001         & Alexandra Hills   & 16345             &  987              & Charlie           & 113               & 231473            &  2048.434        \\\\\n",
       "\t 301011002         & Belmont - Gumdale &  7375             & 1093              & Steff             &  47               & 125180            &  2663.404        \\\\\n",
       "\t 301011003         & Birkdale          & 14923             & 1034              & Dave              &  57               & 446086            &  7826.070        \\\\\n",
       "\t 301011004         & Capalaba          & 17588             &  991              & Charlie           & 120               & 684247            &  5702.058        \\\\\n",
       "\t 301011005         & Thorneside        &  3761             &  983              & Charlie           &  25               & 159068            &  6362.720        \\\\\n",
       "\\end{tabular}\n"
      ],
      "text/markdown": [
       "\n",
       "SA2Code | SA2Name | Pop | Score | Team_Member | n | combined_quantity | avg_trips_per_stop | \n",
       "|---|---|---|---|---|---|\n",
       "| 112031254         | Tweed Heads       | 19417             |  933              | Eric              |   3               | 158677            | 52892.333         | \n",
       "| 301011001         | Alexandra Hills   | 16345             |  987              | Charlie           | 113               | 231473            |  2048.434         | \n",
       "| 301011002         | Belmont - Gumdale |  7375             | 1093              | Steff             |  47               | 125180            |  2663.404         | \n",
       "| 301011003         | Birkdale          | 14923             | 1034              | Dave              |  57               | 446086            |  7826.070         | \n",
       "| 301011004         | Capalaba          | 17588             |  991              | Charlie           | 120               | 684247            |  5702.058         | \n",
       "| 301011005         | Thorneside        |  3761             |  983              | Charlie           |  25               | 159068            |  6362.720         | \n",
       "\n",
       "\n"
      ],
      "text/plain": [
       "  SA2Code   SA2Name           Pop   Score Team_Member n   combined_quantity\n",
       "1 112031254 Tweed Heads       19417  933  Eric          3 158677           \n",
       "2 301011001 Alexandra Hills   16345  987  Charlie     113 231473           \n",
       "3 301011002 Belmont - Gumdale  7375 1093  Steff        47 125180           \n",
       "4 301011003 Birkdale          14923 1034  Dave         57 446086           \n",
       "5 301011004 Capalaba          17588  991  Charlie     120 684247           \n",
       "6 301011005 Thorneside         3761  983  Charlie      25 159068           \n",
       "  avg_trips_per_stop\n",
       "1 52892.333         \n",
       "2  2048.434         \n",
       "3  2663.404         \n",
       "4  7826.070         \n",
       "5  5702.058         \n",
       "6  6362.720         "
      ]
     },
     "metadata": {},
     "output_type": "display_data"
    }
   ],
   "source": [
    "SA2_working_data$avg_trips_per_stop <- with(SA2_working_data, combined_quantity / n)\n",
    "head(SA2_working_data)"
   ]
  },
  {
   "cell_type": "markdown",
   "metadata": {},
   "source": [
    "At this point, I'm going to write this resulting file out to a new CSV, import into Tableau and do some visual EDA. Depending on what I find there, it may (or may not) be worth building on this notebook more to do more structured EDA."
   ]
  },
  {
   "cell_type": "code",
   "execution_count": 7,
   "metadata": {},
   "outputs": [],
   "source": [
    "# have commented it out so it doesn't keep overwriting this file - uncomment if you need to pump out the file yourself\n",
    "# write.csv(SA2_working_data,\"SA2_with_qty_stops_and_avg.csv\", row.names = FALSE)"
   ]
  },
  {
   "cell_type": "markdown",
   "metadata": {},
   "source": [
    "The intention of the plotting in Tableau is to explore the relationship between the population of each SA2 area and the number of stops/avg_trips_per_stop to see if there is a linear relationship between # of people vs. where the stops have been built. The avg_trips_per_stop is not used in this hypothesis, but has been brought forward for other use later on.\n",
    "\n",
    "From plotting in Tableau, it appears that the answer to the initial hypotheis is:\n",
    "NOTE - image of plot is in Analysis - Dave - Dave Vis as \"population by # stops _ all SA2\" - if you have access, it's here - https://drive.google.com/open?id=1sS2rLgqcbU7ppCw9RLaMzLG9k97mHK9J\n",
    "\n",
    "Hypothesis - public transport serves people who live in that area (ie. public transport infrastructure and services are built where the population is highest)\n",
    "\n",
    "Answer - largely no, from the plot you can see a large number of data points are BELOW the confidence interval (and therefore under-served) and just as many are ABOVE the interval (and thus over-served). Relatively few are within the confidence interval you'd expect to see if public transport was built according to where people live.\n",
    "\n",
    "Note - raw # of stops is a worse indicator than frequency of services, so I'll re-run once we have a final 1A dataset.\n",
    "\n",
    "Note - this version contains ALL SA2 areas. To use in Tableau, I can filter on the Team_Member variable to look only at mine. If you wanted to use this for yours, just filter on your name =)\n",
    "\n",
    "Note - when filtering to each of our groups, same result. Steff's is maybe closer to showing a linear relationship, but the rest seem just as disjointed and misaligned.\n",
    "\n",
    "Final CSV file is added to the Dave output folder in this folder."
   ]
  },
  {
   "cell_type": "markdown",
   "metadata": {},
   "source": [
    "Everything up to this point is applicable to all SA2 areas and uses all records. Everyone is welcome to use this notebook, or follow along and build their own, or to ignore this entirely and use another method - all of these are good options =)\n",
    "\n",
    "If you do it yourself and learn something new, please share it back so I can also get better at doing this.\n",
    "\n",
    "I'm adding some more code below so we can do some point comparisons between lower and higher socioeconomic areas. Simply comment out the lines that don't apply to the data you are looking at. Feedback on how to make this even easier to work with always welcome =)"
   ]
  },
  {
   "cell_type": "code",
   "execution_count": 40,
   "metadata": {},
   "outputs": [],
   "source": [
    "# Note - to use this code block, only uncomment one of the indiv_data lines. Trying to use more than one will overwrite with \n",
    "# the last one and not give the desired result.\n",
    "\n",
    "# indiv_data <- subset(SA2_working_data, Team_Member == \"Eric\") # only consider Eric's SA2 areas\n",
    "# indiv_data <- subset(SA2_working_data, Team_Member == \"Charlie\") # only consider Charlie's SA2 areas\n",
    "# indiv_data <- subset(SA2_working_data, Team_Member == \"Dave\") # only consider my SA2 areas\n",
    "# indiv_data <- subset(SA2_working_data, Team_Member == \"Kate\") # only consider Kate's SA2 areas\n",
    "# indiv_data <- subset(SA2_working_data, Team_Member == \"Steff\") # only consider Steff's SA2 areas\n",
    "\n",
    "# Once you've selected A name, use the below to either summarise or export. (Or, y'know, whatever you want to do with it \n",
    "# from here))\n",
    "\n",
    "# write.csv(indiv_data,\"indiv_data.csv\", row.names = FALSE)\n",
    "# summary(indiv_data)"
   ]
  },
  {
   "cell_type": "markdown",
   "metadata": {},
   "source": [
    "Some summary stats of interest:\n",
    "\n",
    "Population:\n",
    "- All SA2 - between 196 and 31,214 people per area, median of 9,484, mean of 10,597\n",
    "- Eric - between 3,073 and 26,827 people per area, median of 10,884, mean of 12,208 (more populated than average)\n",
    "- Charlie - between 3,675 and 25,744 people per area, median of 10,298, mean of 11,303 (more populated than average)\n",
    "- Dave - between 3,764 and 31,214 people per area, median of 10,246, mean of 11,682 (more populated than average)\n",
    "- Kate - berween 822 and 30,105 people per area, median of 8,370, mean of 9,649 (less populated than average)\n",
    "- Steff - between 196 and 16,477 people per area, median of 7,909, mean of 8,205 (less populated than average)\n",
    "\n",
    "Average trips per stop:\n",
    "- All SA2 - between 23.7 and 447,138.6 trips per stop, median of 9,368.4, mean of 19,,564.1\n",
    "- Eric - between 152 and 250,349 trips per stop, median of 6,297, mean of 14,637 (less utilisation per stop than average)\n",
    "- Charlie - between 122.7 and 131,691.0 trips per stop, median of 8.175.2, mean of 14,263.6 (less utilisation per stop than average)\n",
    "- Dave - between 23.67 and 179,614.17 trips per stop, median of 6,294.63, mean of 14,623.44 (less utilisation per stop than average)\n",
    "- Kate - between 882.2 and 185,168.0 trips per stop, median of 10,464.0, mean of 19,864.2 (slightly higher utilisation than average, but pretty close to exact)\n",
    "- Steff - between 346.2 and 447,138.6 trips per stop, median of 16,729.6, mean of 33,948.3 (massively higher utilisation than average)"
   ]
  },
  {
   "cell_type": "markdown",
   "metadata": {},
   "source": [
    "### Note - now going to use this existing work to try to address \"Exploration - where are SE QLD's transport hubs (e.g. City, Upper Mount Gravatt, UQ, Indooroopilly?) i.e. Could this show where the government want people working? Vis option: heat map? (KM)\""
   ]
  },
  {
   "cell_type": "markdown",
   "metadata": {},
   "source": [
    "Some general takeaways, areas with lower SA2 scores have more people that areas with higher SA2 scores, and people are more likely to travel to/from higher SA2 scoring areas than lower ones. To further explore this relationship, it's worth creating a new index score that is (number of trips/number of stops) / population. \n",
    "\n",
    "The lower the score, the more likely that public transport is being used primarily by people who live in that area. Conversely, the higher scores are more likely to be used primarily by people travelling to areas outside of there they live."
   ]
  },
  {
   "cell_type": "code",
   "execution_count": 8,
   "metadata": {},
   "outputs": [
    {
     "data": {
      "text/html": [
       "<table>\n",
       "<thead><tr><th scope=col>SA2Code</th><th scope=col>SA2Name</th><th scope=col>Pop</th><th scope=col>Score</th><th scope=col>Team_Member</th><th scope=col>n</th><th scope=col>combined_quantity</th><th scope=col>avg_trips_per_stop</th><th scope=col>index</th></tr></thead>\n",
       "<tbody>\n",
       "\t<tr><td>310031288                    </td><td>Ipswich - North              </td><td> 4644                        </td><td>1033                         </td><td>Dave                         </td><td>  6                          </td><td>   142                       </td><td>  23.66667                   </td><td>0.005096181                  </td></tr>\n",
       "\t<tr><td>319031514                    </td><td>Gympie Region                </td><td>18564                        </td><td> 935                         </td><td>Eric                         </td><td>  1                          </td><td>   152                       </td><td> 152.00000                   </td><td>0.008187891                  </td></tr>\n",
       "\t<tr><td>317011451                    </td><td>Lockyer Valley - West        </td><td>11362                        </td><td> 979                         </td><td>Charlie                      </td><td>  3                          </td><td>   368                       </td><td> 122.66667                   </td><td>0.010796221                  </td></tr>\n",
       "\t<tr><td>309071255                    </td><td>Ormeau - Yatala              </td><td>19674                        </td><td>1030                         </td><td>Dave                         </td><td> 76                          </td><td> 37024                       </td><td> 487.15789                   </td><td>0.024761507                  </td></tr>\n",
       "\t<tr><td>314011387                    </td><td>Samford Valley               </td><td>11754                        </td><td>1130                         </td><td>Steff                        </td><td> 16                          </td><td>  5539                       </td><td> 346.18750                   </td><td>0.029452739                  </td></tr>\n",
       "\t<tr><td>310021278                    </td><td>Esk                          </td><td> 5158                        </td><td> 908                         </td><td>Eric                         </td><td>  5                          </td><td>   831                       </td><td> 166.20000                   </td><td>0.032221791                  </td></tr>\n",
       "\t<tr><td>311041320                    </td><td>Greenbank                    </td><td>12852                        </td><td>1028                         </td><td>Dave                         </td><td>  4                          </td><td>  2072                       </td><td> 518.00000                   </td><td>0.040305011                  </td></tr>\n",
       "\t<tr><td>310021281                    </td><td>Lowood                       </td><td>14052                        </td><td> 918                         </td><td>Eric                         </td><td> 12                          </td><td>  8043                       </td><td> 670.25000                   </td><td>0.047697837                  </td></tr>\n",
       "\t<tr><td>313011362                    </td><td>Beachmere - Sandstone Point  </td><td>14892                        </td><td> 931                         </td><td>Eric                         </td><td> 87                          </td><td> 69804                       </td><td> 802.34483                   </td><td>0.053877574                  </td></tr>\n",
       "\t<tr><td>309071258                    </td><td>Upper Coomera - Willow Vale  </td><td>31214                        </td><td>1012                         </td><td>Dave                         </td><td> 52                          </td><td>105123                       </td><td>2021.59615                   </td><td>0.064765687                  </td></tr>\n",
       "\t<tr><td>309021233                    </td><td>Elanora                      </td><td>12145                        </td><td>1010                         </td><td>Charlie                      </td><td> 46                          </td><td> 37301                       </td><td> 810.89130                   </td><td>0.066767501                  </td></tr>\n",
       "\t<tr><td>309021232                    </td><td>Currumbin Waters             </td><td> 9121                        </td><td> 994                         </td><td>Charlie                      </td><td> 34                          </td><td> 22288                       </td><td> 655.52941                   </td><td>0.071870344                  </td></tr>\n",
       "\t<tr><td>314011386                    </td><td>The Hills District           </td><td>23369                        </td><td>1073                         </td><td>Kate                         </td><td> 92                          </td><td>165899                       </td><td>1803.25000                   </td><td>0.077164192                  </td></tr>\n",
       "\t<tr><td>316021420                    </td><td>Caloundra - West             </td><td>20277                        </td><td> 993                         </td><td>Charlie                      </td><td> 42                          </td><td> 66843                       </td><td>1591.50000                   </td><td>0.078487942                  </td></tr>\n",
       "\t<tr><td>311041321                    </td><td>Jimboomba                    </td><td>25744                        </td><td> 997                         </td><td>Charlie                      </td><td>  8                          </td><td> 16827                       </td><td>2103.37500                   </td><td>0.081703504                  </td></tr>\n",
       "\t<tr><td>316021421                    </td><td>Golden Beach - Pelican Waters</td><td>11854                        </td><td>1004                         </td><td>Charlie                      </td><td> 36                          </td><td> 42778                       </td><td>1188.27778                   </td><td>0.100242768                  </td></tr>\n",
       "\t<tr><td>309051244                    </td><td>Mudgeeraba - Bonogin         </td><td>18263                        </td><td>1040                         </td><td>Dave                         </td><td> 33                          </td><td> 62634                       </td><td>1898.00000                   </td><td>0.103925971                  </td></tr>\n",
       "\t<tr><td>309061250                    </td><td>Worongary - Tallai           </td><td> 7884                        </td><td>1052                         </td><td>Kate                         </td><td> 12                          </td><td> 10586                       </td><td> 882.16667                   </td><td>0.111893286                  </td></tr>\n",
       "\t<tr><td>316081549                    </td><td>Noosa Hinterland             </td><td>21852                        </td><td> 994                         </td><td>Charlie                      </td><td> 25                          </td><td> 61330                       </td><td>2453.20000                   </td><td>0.112264324                  </td></tr>\n",
       "\t<tr><td>309061249                    </td><td>Pacific Pines - Gaven        </td><td>18320                        </td><td>1019                         </td><td>Dave                         </td><td> 57                          </td><td>118771                       </td><td>2083.70175                   </td><td>0.113739179                  </td></tr>\n",
       "\t<tr><td>309051245                    </td><td>Reedy Creek - Andrews        </td><td> 7976                        </td><td>1061                         </td><td>Kate                         </td><td> 22                          </td><td> 21073                       </td><td> 957.86364                   </td><td>0.120093234                  </td></tr>\n",
       "\t<tr><td>311031319                    </td><td>Regents Park - Heritage Park </td><td>15934                        </td><td> 977                         </td><td>Charlie                      </td><td> 66                          </td><td>131126                       </td><td>1986.75758                   </td><td>0.124686681                  </td></tr>\n",
       "\t<tr><td>301011001                    </td><td>Alexandra Hills              </td><td>16345                        </td><td> 987                         </td><td>Charlie                      </td><td>113                          </td><td>231473                       </td><td>2048.43363                   </td><td>0.125324786                  </td></tr>\n",
       "\t<tr><td>313011363                    </td><td>Bribie Island                </td><td>18142                        </td><td> 925                         </td><td>Eric                         </td><td> 98                          </td><td>241119                       </td><td>2460.39796                   </td><td>0.135618893                  </td></tr>\n",
       "\t<tr><td>310021280                    </td><td>Lockyer Valley - East        </td><td>19814                        </td><td> 917                         </td><td>Eric                         </td><td> 10                          </td><td> 27137                       </td><td>2713.70000                   </td><td>0.136958716                  </td></tr>\n",
       "\t<tr><td>310031293                    </td><td>Raceview                     </td><td>15176                        </td><td> 948                         </td><td>Eric                         </td><td> 47                          </td><td>100882                       </td><td>2146.42553                   </td><td>0.141435525                  </td></tr>\n",
       "\t<tr><td>314011383                    </td><td>Cashmere                     </td><td>18805                        </td><td>1081                         </td><td>Kate                         </td><td> 25                          </td><td> 66493                       </td><td>2659.72000                   </td><td>0.141436852                  </td></tr>\n",
       "\t<tr><td>301021012                    </td><td>Thornlands                   </td><td>14694                        </td><td>1067                         </td><td>Kate                         </td><td> 72                          </td><td>155043                       </td><td>2153.37500                   </td><td>0.146547911                  </td></tr>\n",
       "\t<tr><td>310041302                    </td><td>Redbank Plains               </td><td>19299                        </td><td> 906                         </td><td>Eric                         </td><td> 42                          </td><td>120032                       </td><td>2857.90476                   </td><td>0.148085640                  </td></tr>\n",
       "\t<tr><td>311011305                    </td><td>Beaudesert                   </td><td>13915                        </td><td> 913                         </td><td>Eric                         </td><td>  9                          </td><td> 18751                       </td><td>2083.44444                   </td><td>0.149726514                  </td></tr>\n",
       "\t<tr><td>...</td><td>...</td><td>...</td><td>...</td><td>...</td><td>...</td><td>...</td><td>...</td><td>...</td></tr>\n",
       "\t<tr><td>309021230                 </td><td>Coolangatta               </td><td> 5948                     </td><td> 963                      </td><td>Charlie                   </td><td> 12                       </td><td>  353470                  </td><td> 29455.83                 </td><td>  4.952225                </td></tr>\n",
       "\t<tr><td>302041044                 </td><td>Sandgate - Shorncliffe    </td><td> 6783                     </td><td>1039                      </td><td>Dave                      </td><td> 45                       </td><td> 1555489                  </td><td> 34566.42                 </td><td>  5.096037                </td></tr>\n",
       "\t<tr><td>304041104                 </td><td>Upper Kedron - Ferny Grove</td><td> 9907                     </td><td>1090                      </td><td>Steff                     </td><td> 26                       </td><td> 1313507                  </td><td> 50519.50                 </td><td>  5.099374                </td></tr>\n",
       "\t<tr><td>303031061                 </td><td>Macgregor (Qld)           </td><td> 5849                     </td><td>1019                      </td><td>Dave                      </td><td> 36                       </td><td> 1091096                  </td><td> 30308.22                 </td><td>  5.181778                </td></tr>\n",
       "\t<tr><td>316051434                 </td><td>Noosa Heads               </td><td> 4484                     </td><td>1055                      </td><td>Kate                      </td><td> 21                       </td><td>  497599                  </td><td> 23695.19                 </td><td>  5.284387                </td></tr>\n",
       "\t<tr><td>314031393                 </td><td>Petrie                    </td><td> 8690                     </td><td>1001                      </td><td>Charlie                   </td><td> 25                       </td><td> 1158756                  </td><td> 46350.24                 </td><td>  5.333745                </td></tr>\n",
       "\t<tr><td>305041137                 </td><td>Toowong                   </td><td>10800                     </td><td>1112                      </td><td>Steff                     </td><td> 64                       </td><td> 3722249                  </td><td> 58160.14                 </td><td>  5.385198                </td></tr>\n",
       "\t<tr><td>305021115                 </td><td>East Brisbane             </td><td> 5786                     </td><td>1084                      </td><td>Steff                     </td><td> 27                       </td><td>  848794                  </td><td> 31436.81                 </td><td>  5.433255                </td></tr>\n",
       "\t<tr><td>301031017                 </td><td>Murarrie                  </td><td> 4118                     </td><td>1066                      </td><td>Kate                      </td><td> 15                       </td><td>  341947                  </td><td> 22796.47                 </td><td>  5.535810                </td></tr>\n",
       "\t<tr><td>316021418                 </td><td>Buddina - Minyama         </td><td> 6433                     </td><td>1016                      </td><td>Dave                      </td><td>  6                       </td><td>  213869                  </td><td> 35644.83                 </td><td>  5.540935                </td></tr>\n",
       "\t<tr><td>309101270                 </td><td>Surfers Paradise          </td><td>23689                     </td><td> 983                      </td><td>Charlie                   </td><td> 46                       </td><td> 6057787                  </td><td>131691.02                 </td><td>  5.559163                </td></tr>\n",
       "\t<tr><td>309091540                 </td><td>Southport - North         </td><td>14697                     </td><td> 939                      </td><td>Eric                      </td><td> 74                       </td><td> 7145876                  </td><td> 96565.89                 </td><td>  6.570449                </td></tr>\n",
       "\t<tr><td>310011271                 </td><td>Darra - Sumner            </td><td> 4932                     </td><td> 959                      </td><td>Charlie                   </td><td> 30                       </td><td> 1030495                  </td><td> 34349.83                 </td><td>  6.964686                </td></tr>\n",
       "\t<tr><td>305031128                 </td><td>Newstead - Bowen Hills    </td><td>10638                     </td><td>1132                      </td><td>Steff                     </td><td> 43                       </td><td> 3453369                  </td><td> 80310.91                 </td><td>  7.549437                </td></tr>\n",
       "\t<tr><td>303031065                 </td><td>Upper Mount Gravatt       </td><td> 9396                     </td><td>1016                      </td><td>Dave                      </td><td> 88                       </td><td> 6529543                  </td><td> 74199.35                 </td><td>  7.896909                </td></tr>\n",
       "\t<tr><td>309101269                 </td><td>Main Beach                </td><td> 3883                     </td><td>1064                      </td><td>Kate                      </td><td> 19                       </td><td>  643609                  </td><td> 33874.16                 </td><td>  8.723708                </td></tr>\n",
       "\t<tr><td>305041133                 </td><td>Auchenflower              </td><td> 5499                     </td><td>1127                      </td><td>Steff                     </td><td> 22                       </td><td> 1055414                  </td><td> 47973.36                 </td><td>  8.724016                </td></tr>\n",
       "\t<tr><td>303021054                 </td><td>Fairfield - Dutton Park   </td><td> 4790                     </td><td>1064                      </td><td>Kate                      </td><td> 48                       </td><td> 2059015                  </td><td> 42896.15                 </td><td>  8.955354                </td></tr>\n",
       "\t<tr><td>305031127                 </td><td>Newmarket                 </td><td> 4979                     </td><td>1082                      </td><td>Steff                     </td><td> 18                       </td><td>  840195                  </td><td> 46677.50                 </td><td>  9.374874                </td></tr>\n",
       "\t<tr><td>305031126                 </td><td>Kelvin Grove - Herston    </td><td>10081                     </td><td>1067                      </td><td>Kate                      </td><td> 53                       </td><td> 5418678                  </td><td>102239.21                 </td><td> 10.141772                </td></tr>\n",
       "\t<tr><td>304031096                 </td><td>St Lucia                  </td><td>12574                     </td><td>1096                      </td><td>Steff                     </td><td> 56                       </td><td> 7583885                  </td><td>135426.52                 </td><td> 10.770361                </td></tr>\n",
       "\t<tr><td>303041069                 </td><td>Robertson                 </td><td> 5101                     </td><td>1038                      </td><td>Dave                      </td><td> 14                       </td><td>  925162                  </td><td> 66083.00                 </td><td> 12.954911                </td></tr>\n",
       "\t<tr><td>305031119                 </td><td>Albion                    </td><td> 2791                     </td><td>1094                      </td><td>Steff                     </td><td> 24                       </td><td>  952783                  </td><td> 39699.29                 </td><td> 14.224039                </td></tr>\n",
       "\t<tr><td>309011227                 </td><td>Mermaid Beach - Broadbeach</td><td>11921                     </td><td>1022                      </td><td>Dave                      </td><td> 30                       </td><td> 5388425                  </td><td>179614.17                 </td><td> 15.067039                </td></tr>\n",
       "\t<tr><td>303021058                 </td><td>Woolloongabba             </td><td> 5529                     </td><td>1051                      </td><td>Kate                      </td><td> 44                       </td><td> 5866994                  </td><td>133340.77                 </td><td> 24.116617                </td></tr>\n",
       "\t<tr><td>305011106                 </td><td>Fortitude Valley          </td><td> 7146                     </td><td>1064                      </td><td>Kate                      </td><td> 45                       </td><td> 8332558                  </td><td>185167.96                 </td><td> 25.912112                </td></tr>\n",
       "\t<tr><td>301021527                 </td><td>Redland Islands           </td><td> 9016                     </td><td> 852                      </td><td>Eric                      </td><td>  4                       </td><td> 1001396                  </td><td>250349.00                 </td><td> 27.767192                </td></tr>\n",
       "\t<tr><td>305011105                 </td><td>Brisbane City             </td><td>10192                     </td><td>1083                      </td><td>Steff                     </td><td>161                       </td><td>51358219                  </td><td>318995.15                 </td><td> 31.298582                </td></tr>\n",
       "\t<tr><td>305011110                 </td><td>South Brisbane            </td><td> 7235                     </td><td>1082                      </td><td>Steff                     </td><td> 46                       </td><td>20568376                  </td><td>447138.61                 </td><td> 61.802157                </td></tr>\n",
       "\t<tr><td>302031036                 </td><td>Brisbane Airport          </td><td>  196                     </td><td>1134                      </td><td>Steff                     </td><td> 21                       </td><td>  619106                  </td><td> 29481.24                 </td><td>150.414480                </td></tr>\n",
       "</tbody>\n",
       "</table>\n"
      ],
      "text/latex": [
       "\\begin{tabular}{r|lllllllll}\n",
       " SA2Code & SA2Name & Pop & Score & Team\\_Member & n & combined\\_quantity & avg\\_trips\\_per\\_stop & index\\\\\n",
       "\\hline\n",
       "\t 310031288                     & Ipswich - North               &  4644                         & 1033                          & Dave                          &   6                           &    142                        &   23.66667                    & 0.005096181                  \\\\\n",
       "\t 319031514                     & Gympie Region                 & 18564                         &  935                          & Eric                          &   1                           &    152                        &  152.00000                    & 0.008187891                  \\\\\n",
       "\t 317011451                     & Lockyer Valley - West         & 11362                         &  979                          & Charlie                       &   3                           &    368                        &  122.66667                    & 0.010796221                  \\\\\n",
       "\t 309071255                     & Ormeau - Yatala               & 19674                         & 1030                          & Dave                          &  76                           &  37024                        &  487.15789                    & 0.024761507                  \\\\\n",
       "\t 314011387                     & Samford Valley                & 11754                         & 1130                          & Steff                         &  16                           &   5539                        &  346.18750                    & 0.029452739                  \\\\\n",
       "\t 310021278                     & Esk                           &  5158                         &  908                          & Eric                          &   5                           &    831                        &  166.20000                    & 0.032221791                  \\\\\n",
       "\t 311041320                     & Greenbank                     & 12852                         & 1028                          & Dave                          &   4                           &   2072                        &  518.00000                    & 0.040305011                  \\\\\n",
       "\t 310021281                     & Lowood                        & 14052                         &  918                          & Eric                          &  12                           &   8043                        &  670.25000                    & 0.047697837                  \\\\\n",
       "\t 313011362                     & Beachmere - Sandstone Point   & 14892                         &  931                          & Eric                          &  87                           &  69804                        &  802.34483                    & 0.053877574                  \\\\\n",
       "\t 309071258                     & Upper Coomera - Willow Vale   & 31214                         & 1012                          & Dave                          &  52                           & 105123                        & 2021.59615                    & 0.064765687                  \\\\\n",
       "\t 309021233                     & Elanora                       & 12145                         & 1010                          & Charlie                       &  46                           &  37301                        &  810.89130                    & 0.066767501                  \\\\\n",
       "\t 309021232                     & Currumbin Waters              &  9121                         &  994                          & Charlie                       &  34                           &  22288                        &  655.52941                    & 0.071870344                  \\\\\n",
       "\t 314011386                     & The Hills District            & 23369                         & 1073                          & Kate                          &  92                           & 165899                        & 1803.25000                    & 0.077164192                  \\\\\n",
       "\t 316021420                     & Caloundra - West              & 20277                         &  993                          & Charlie                       &  42                           &  66843                        & 1591.50000                    & 0.078487942                  \\\\\n",
       "\t 311041321                     & Jimboomba                     & 25744                         &  997                          & Charlie                       &   8                           &  16827                        & 2103.37500                    & 0.081703504                  \\\\\n",
       "\t 316021421                     & Golden Beach - Pelican Waters & 11854                         & 1004                          & Charlie                       &  36                           &  42778                        & 1188.27778                    & 0.100242768                  \\\\\n",
       "\t 309051244                     & Mudgeeraba - Bonogin          & 18263                         & 1040                          & Dave                          &  33                           &  62634                        & 1898.00000                    & 0.103925971                  \\\\\n",
       "\t 309061250                     & Worongary - Tallai            &  7884                         & 1052                          & Kate                          &  12                           &  10586                        &  882.16667                    & 0.111893286                  \\\\\n",
       "\t 316081549                     & Noosa Hinterland              & 21852                         &  994                          & Charlie                       &  25                           &  61330                        & 2453.20000                    & 0.112264324                  \\\\\n",
       "\t 309061249                     & Pacific Pines - Gaven         & 18320                         & 1019                          & Dave                          &  57                           & 118771                        & 2083.70175                    & 0.113739179                  \\\\\n",
       "\t 309051245                     & Reedy Creek - Andrews         &  7976                         & 1061                          & Kate                          &  22                           &  21073                        &  957.86364                    & 0.120093234                  \\\\\n",
       "\t 311031319                     & Regents Park - Heritage Park  & 15934                         &  977                          & Charlie                       &  66                           & 131126                        & 1986.75758                    & 0.124686681                  \\\\\n",
       "\t 301011001                     & Alexandra Hills               & 16345                         &  987                          & Charlie                       & 113                           & 231473                        & 2048.43363                    & 0.125324786                  \\\\\n",
       "\t 313011363                     & Bribie Island                 & 18142                         &  925                          & Eric                          &  98                           & 241119                        & 2460.39796                    & 0.135618893                  \\\\\n",
       "\t 310021280                     & Lockyer Valley - East         & 19814                         &  917                          & Eric                          &  10                           &  27137                        & 2713.70000                    & 0.136958716                  \\\\\n",
       "\t 310031293                     & Raceview                      & 15176                         &  948                          & Eric                          &  47                           & 100882                        & 2146.42553                    & 0.141435525                  \\\\\n",
       "\t 314011383                     & Cashmere                      & 18805                         & 1081                          & Kate                          &  25                           &  66493                        & 2659.72000                    & 0.141436852                  \\\\\n",
       "\t 301021012                     & Thornlands                    & 14694                         & 1067                          & Kate                          &  72                           & 155043                        & 2153.37500                    & 0.146547911                  \\\\\n",
       "\t 310041302                     & Redbank Plains                & 19299                         &  906                          & Eric                          &  42                           & 120032                        & 2857.90476                    & 0.148085640                  \\\\\n",
       "\t 311011305                     & Beaudesert                    & 13915                         &  913                          & Eric                          &   9                           &  18751                        & 2083.44444                    & 0.149726514                  \\\\\n",
       "\t ... & ... & ... & ... & ... & ... & ... & ... & ...\\\\\n",
       "\t 309021230                  & Coolangatta                &  5948                      &  963                       & Charlie                    &  12                        &   353470                   &  29455.83                  &   4.952225                \\\\\n",
       "\t 302041044                  & Sandgate - Shorncliffe     &  6783                      & 1039                       & Dave                       &  45                        &  1555489                   &  34566.42                  &   5.096037                \\\\\n",
       "\t 304041104                  & Upper Kedron - Ferny Grove &  9907                      & 1090                       & Steff                      &  26                        &  1313507                   &  50519.50                  &   5.099374                \\\\\n",
       "\t 303031061                  & Macgregor (Qld)            &  5849                      & 1019                       & Dave                       &  36                        &  1091096                   &  30308.22                  &   5.181778                \\\\\n",
       "\t 316051434                  & Noosa Heads                &  4484                      & 1055                       & Kate                       &  21                        &   497599                   &  23695.19                  &   5.284387                \\\\\n",
       "\t 314031393                  & Petrie                     &  8690                      & 1001                       & Charlie                    &  25                        &  1158756                   &  46350.24                  &   5.333745                \\\\\n",
       "\t 305041137                  & Toowong                    & 10800                      & 1112                       & Steff                      &  64                        &  3722249                   &  58160.14                  &   5.385198                \\\\\n",
       "\t 305021115                  & East Brisbane              &  5786                      & 1084                       & Steff                      &  27                        &   848794                   &  31436.81                  &   5.433255                \\\\\n",
       "\t 301031017                  & Murarrie                   &  4118                      & 1066                       & Kate                       &  15                        &   341947                   &  22796.47                  &   5.535810                \\\\\n",
       "\t 316021418                  & Buddina - Minyama          &  6433                      & 1016                       & Dave                       &   6                        &   213869                   &  35644.83                  &   5.540935                \\\\\n",
       "\t 309101270                  & Surfers Paradise           & 23689                      &  983                       & Charlie                    &  46                        &  6057787                   & 131691.02                  &   5.559163                \\\\\n",
       "\t 309091540                  & Southport - North          & 14697                      &  939                       & Eric                       &  74                        &  7145876                   &  96565.89                  &   6.570449                \\\\\n",
       "\t 310011271                  & Darra - Sumner             &  4932                      &  959                       & Charlie                    &  30                        &  1030495                   &  34349.83                  &   6.964686                \\\\\n",
       "\t 305031128                  & Newstead - Bowen Hills     & 10638                      & 1132                       & Steff                      &  43                        &  3453369                   &  80310.91                  &   7.549437                \\\\\n",
       "\t 303031065                  & Upper Mount Gravatt        &  9396                      & 1016                       & Dave                       &  88                        &  6529543                   &  74199.35                  &   7.896909                \\\\\n",
       "\t 309101269                  & Main Beach                 &  3883                      & 1064                       & Kate                       &  19                        &   643609                   &  33874.16                  &   8.723708                \\\\\n",
       "\t 305041133                  & Auchenflower               &  5499                      & 1127                       & Steff                      &  22                        &  1055414                   &  47973.36                  &   8.724016                \\\\\n",
       "\t 303021054                  & Fairfield - Dutton Park    &  4790                      & 1064                       & Kate                       &  48                        &  2059015                   &  42896.15                  &   8.955354                \\\\\n",
       "\t 305031127                  & Newmarket                  &  4979                      & 1082                       & Steff                      &  18                        &   840195                   &  46677.50                  &   9.374874                \\\\\n",
       "\t 305031126                  & Kelvin Grove - Herston     & 10081                      & 1067                       & Kate                       &  53                        &  5418678                   & 102239.21                  &  10.141772                \\\\\n",
       "\t 304031096                  & St Lucia                   & 12574                      & 1096                       & Steff                      &  56                        &  7583885                   & 135426.52                  &  10.770361                \\\\\n",
       "\t 303041069                  & Robertson                  &  5101                      & 1038                       & Dave                       &  14                        &   925162                   &  66083.00                  &  12.954911                \\\\\n",
       "\t 305031119                  & Albion                     &  2791                      & 1094                       & Steff                      &  24                        &   952783                   &  39699.29                  &  14.224039                \\\\\n",
       "\t 309011227                  & Mermaid Beach - Broadbeach & 11921                      & 1022                       & Dave                       &  30                        &  5388425                   & 179614.17                  &  15.067039                \\\\\n",
       "\t 303021058                  & Woolloongabba              &  5529                      & 1051                       & Kate                       &  44                        &  5866994                   & 133340.77                  &  24.116617                \\\\\n",
       "\t 305011106                  & Fortitude Valley           &  7146                      & 1064                       & Kate                       &  45                        &  8332558                   & 185167.96                  &  25.912112                \\\\\n",
       "\t 301021527                  & Redland Islands            &  9016                      &  852                       & Eric                       &   4                        &  1001396                   & 250349.00                  &  27.767192                \\\\\n",
       "\t 305011105                  & Brisbane City              & 10192                      & 1083                       & Steff                      & 161                        & 51358219                   & 318995.15                  &  31.298582                \\\\\n",
       "\t 305011110                  & South Brisbane             &  7235                      & 1082                       & Steff                      &  46                        & 20568376                   & 447138.61                  &  61.802157                \\\\\n",
       "\t 302031036                  & Brisbane Airport           &   196                      & 1134                       & Steff                      &  21                        &   619106                   &  29481.24                  & 150.414480                \\\\\n",
       "\\end{tabular}\n"
      ],
      "text/markdown": [
       "\n",
       "SA2Code | SA2Name | Pop | Score | Team_Member | n | combined_quantity | avg_trips_per_stop | index | \n",
       "|---|---|---|---|---|---|---|---|---|---|---|---|---|---|---|---|---|---|---|---|---|---|---|---|---|---|---|---|---|---|---|---|---|---|---|---|---|---|---|---|---|---|---|---|---|---|---|---|---|---|---|---|---|---|---|---|---|---|---|---|---|\n",
       "| 310031288                     | Ipswich - North               |  4644                         | 1033                          | Dave                          |   6                           |    142                        |   23.66667                    | 0.005096181                   | \n",
       "| 319031514                     | Gympie Region                 | 18564                         |  935                          | Eric                          |   1                           |    152                        |  152.00000                    | 0.008187891                   | \n",
       "| 317011451                     | Lockyer Valley - West         | 11362                         |  979                          | Charlie                       |   3                           |    368                        |  122.66667                    | 0.010796221                   | \n",
       "| 309071255                     | Ormeau - Yatala               | 19674                         | 1030                          | Dave                          |  76                           |  37024                        |  487.15789                    | 0.024761507                   | \n",
       "| 314011387                     | Samford Valley                | 11754                         | 1130                          | Steff                         |  16                           |   5539                        |  346.18750                    | 0.029452739                   | \n",
       "| 310021278                     | Esk                           |  5158                         |  908                          | Eric                          |   5                           |    831                        |  166.20000                    | 0.032221791                   | \n",
       "| 311041320                     | Greenbank                     | 12852                         | 1028                          | Dave                          |   4                           |   2072                        |  518.00000                    | 0.040305011                   | \n",
       "| 310021281                     | Lowood                        | 14052                         |  918                          | Eric                          |  12                           |   8043                        |  670.25000                    | 0.047697837                   | \n",
       "| 313011362                     | Beachmere - Sandstone Point   | 14892                         |  931                          | Eric                          |  87                           |  69804                        |  802.34483                    | 0.053877574                   | \n",
       "| 309071258                     | Upper Coomera - Willow Vale   | 31214                         | 1012                          | Dave                          |  52                           | 105123                        | 2021.59615                    | 0.064765687                   | \n",
       "| 309021233                     | Elanora                       | 12145                         | 1010                          | Charlie                       |  46                           |  37301                        |  810.89130                    | 0.066767501                   | \n",
       "| 309021232                     | Currumbin Waters              |  9121                         |  994                          | Charlie                       |  34                           |  22288                        |  655.52941                    | 0.071870344                   | \n",
       "| 314011386                     | The Hills District            | 23369                         | 1073                          | Kate                          |  92                           | 165899                        | 1803.25000                    | 0.077164192                   | \n",
       "| 316021420                     | Caloundra - West              | 20277                         |  993                          | Charlie                       |  42                           |  66843                        | 1591.50000                    | 0.078487942                   | \n",
       "| 311041321                     | Jimboomba                     | 25744                         |  997                          | Charlie                       |   8                           |  16827                        | 2103.37500                    | 0.081703504                   | \n",
       "| 316021421                     | Golden Beach - Pelican Waters | 11854                         | 1004                          | Charlie                       |  36                           |  42778                        | 1188.27778                    | 0.100242768                   | \n",
       "| 309051244                     | Mudgeeraba - Bonogin          | 18263                         | 1040                          | Dave                          |  33                           |  62634                        | 1898.00000                    | 0.103925971                   | \n",
       "| 309061250                     | Worongary - Tallai            |  7884                         | 1052                          | Kate                          |  12                           |  10586                        |  882.16667                    | 0.111893286                   | \n",
       "| 316081549                     | Noosa Hinterland              | 21852                         |  994                          | Charlie                       |  25                           |  61330                        | 2453.20000                    | 0.112264324                   | \n",
       "| 309061249                     | Pacific Pines - Gaven         | 18320                         | 1019                          | Dave                          |  57                           | 118771                        | 2083.70175                    | 0.113739179                   | \n",
       "| 309051245                     | Reedy Creek - Andrews         |  7976                         | 1061                          | Kate                          |  22                           |  21073                        |  957.86364                    | 0.120093234                   | \n",
       "| 311031319                     | Regents Park - Heritage Park  | 15934                         |  977                          | Charlie                       |  66                           | 131126                        | 1986.75758                    | 0.124686681                   | \n",
       "| 301011001                     | Alexandra Hills               | 16345                         |  987                          | Charlie                       | 113                           | 231473                        | 2048.43363                    | 0.125324786                   | \n",
       "| 313011363                     | Bribie Island                 | 18142                         |  925                          | Eric                          |  98                           | 241119                        | 2460.39796                    | 0.135618893                   | \n",
       "| 310021280                     | Lockyer Valley - East         | 19814                         |  917                          | Eric                          |  10                           |  27137                        | 2713.70000                    | 0.136958716                   | \n",
       "| 310031293                     | Raceview                      | 15176                         |  948                          | Eric                          |  47                           | 100882                        | 2146.42553                    | 0.141435525                   | \n",
       "| 314011383                     | Cashmere                      | 18805                         | 1081                          | Kate                          |  25                           |  66493                        | 2659.72000                    | 0.141436852                   | \n",
       "| 301021012                     | Thornlands                    | 14694                         | 1067                          | Kate                          |  72                           | 155043                        | 2153.37500                    | 0.146547911                   | \n",
       "| 310041302                     | Redbank Plains                | 19299                         |  906                          | Eric                          |  42                           | 120032                        | 2857.90476                    | 0.148085640                   | \n",
       "| 311011305                     | Beaudesert                    | 13915                         |  913                          | Eric                          |   9                           |  18751                        | 2083.44444                    | 0.149726514                   | \n",
       "| ... | ... | ... | ... | ... | ... | ... | ... | ... | \n",
       "| 309021230                  | Coolangatta                |  5948                      |  963                       | Charlie                    |  12                        |   353470                   |  29455.83                  |   4.952225                 | \n",
       "| 302041044                  | Sandgate - Shorncliffe     |  6783                      | 1039                       | Dave                       |  45                        |  1555489                   |  34566.42                  |   5.096037                 | \n",
       "| 304041104                  | Upper Kedron - Ferny Grove |  9907                      | 1090                       | Steff                      |  26                        |  1313507                   |  50519.50                  |   5.099374                 | \n",
       "| 303031061                  | Macgregor (Qld)            |  5849                      | 1019                       | Dave                       |  36                        |  1091096                   |  30308.22                  |   5.181778                 | \n",
       "| 316051434                  | Noosa Heads                |  4484                      | 1055                       | Kate                       |  21                        |   497599                   |  23695.19                  |   5.284387                 | \n",
       "| 314031393                  | Petrie                     |  8690                      | 1001                       | Charlie                    |  25                        |  1158756                   |  46350.24                  |   5.333745                 | \n",
       "| 305041137                  | Toowong                    | 10800                      | 1112                       | Steff                      |  64                        |  3722249                   |  58160.14                  |   5.385198                 | \n",
       "| 305021115                  | East Brisbane              |  5786                      | 1084                       | Steff                      |  27                        |   848794                   |  31436.81                  |   5.433255                 | \n",
       "| 301031017                  | Murarrie                   |  4118                      | 1066                       | Kate                       |  15                        |   341947                   |  22796.47                  |   5.535810                 | \n",
       "| 316021418                  | Buddina - Minyama          |  6433                      | 1016                       | Dave                       |   6                        |   213869                   |  35644.83                  |   5.540935                 | \n",
       "| 309101270                  | Surfers Paradise           | 23689                      |  983                       | Charlie                    |  46                        |  6057787                   | 131691.02                  |   5.559163                 | \n",
       "| 309091540                  | Southport - North          | 14697                      |  939                       | Eric                       |  74                        |  7145876                   |  96565.89                  |   6.570449                 | \n",
       "| 310011271                  | Darra - Sumner             |  4932                      |  959                       | Charlie                    |  30                        |  1030495                   |  34349.83                  |   6.964686                 | \n",
       "| 305031128                  | Newstead - Bowen Hills     | 10638                      | 1132                       | Steff                      |  43                        |  3453369                   |  80310.91                  |   7.549437                 | \n",
       "| 303031065                  | Upper Mount Gravatt        |  9396                      | 1016                       | Dave                       |  88                        |  6529543                   |  74199.35                  |   7.896909                 | \n",
       "| 309101269                  | Main Beach                 |  3883                      | 1064                       | Kate                       |  19                        |   643609                   |  33874.16                  |   8.723708                 | \n",
       "| 305041133                  | Auchenflower               |  5499                      | 1127                       | Steff                      |  22                        |  1055414                   |  47973.36                  |   8.724016                 | \n",
       "| 303021054                  | Fairfield - Dutton Park    |  4790                      | 1064                       | Kate                       |  48                        |  2059015                   |  42896.15                  |   8.955354                 | \n",
       "| 305031127                  | Newmarket                  |  4979                      | 1082                       | Steff                      |  18                        |   840195                   |  46677.50                  |   9.374874                 | \n",
       "| 305031126                  | Kelvin Grove - Herston     | 10081                      | 1067                       | Kate                       |  53                        |  5418678                   | 102239.21                  |  10.141772                 | \n",
       "| 304031096                  | St Lucia                   | 12574                      | 1096                       | Steff                      |  56                        |  7583885                   | 135426.52                  |  10.770361                 | \n",
       "| 303041069                  | Robertson                  |  5101                      | 1038                       | Dave                       |  14                        |   925162                   |  66083.00                  |  12.954911                 | \n",
       "| 305031119                  | Albion                     |  2791                      | 1094                       | Steff                      |  24                        |   952783                   |  39699.29                  |  14.224039                 | \n",
       "| 309011227                  | Mermaid Beach - Broadbeach | 11921                      | 1022                       | Dave                       |  30                        |  5388425                   | 179614.17                  |  15.067039                 | \n",
       "| 303021058                  | Woolloongabba              |  5529                      | 1051                       | Kate                       |  44                        |  5866994                   | 133340.77                  |  24.116617                 | \n",
       "| 305011106                  | Fortitude Valley           |  7146                      | 1064                       | Kate                       |  45                        |  8332558                   | 185167.96                  |  25.912112                 | \n",
       "| 301021527                  | Redland Islands            |  9016                      |  852                       | Eric                       |   4                        |  1001396                   | 250349.00                  |  27.767192                 | \n",
       "| 305011105                  | Brisbane City              | 10192                      | 1083                       | Steff                      | 161                        | 51358219                   | 318995.15                  |  31.298582                 | \n",
       "| 305011110                  | South Brisbane             |  7235                      | 1082                       | Steff                      |  46                        | 20568376                   | 447138.61                  |  61.802157                 | \n",
       "| 302031036                  | Brisbane Airport           |   196                      | 1134                       | Steff                      |  21                        |   619106                   |  29481.24                  | 150.414480                 | \n",
       "\n",
       "\n"
      ],
      "text/plain": [
       "    SA2Code   SA2Name                       Pop   Score Team_Member n  \n",
       "1   310031288 Ipswich - North                4644 1033  Dave          6\n",
       "2   319031514 Gympie Region                 18564  935  Eric          1\n",
       "3   317011451 Lockyer Valley - West         11362  979  Charlie       3\n",
       "4   309071255 Ormeau - Yatala               19674 1030  Dave         76\n",
       "5   314011387 Samford Valley                11754 1130  Steff        16\n",
       "6   310021278 Esk                            5158  908  Eric          5\n",
       "7   311041320 Greenbank                     12852 1028  Dave          4\n",
       "8   310021281 Lowood                        14052  918  Eric         12\n",
       "9   313011362 Beachmere - Sandstone Point   14892  931  Eric         87\n",
       "10  309071258 Upper Coomera - Willow Vale   31214 1012  Dave         52\n",
       "11  309021233 Elanora                       12145 1010  Charlie      46\n",
       "12  309021232 Currumbin Waters               9121  994  Charlie      34\n",
       "13  314011386 The Hills District            23369 1073  Kate         92\n",
       "14  316021420 Caloundra - West              20277  993  Charlie      42\n",
       "15  311041321 Jimboomba                     25744  997  Charlie       8\n",
       "16  316021421 Golden Beach - Pelican Waters 11854 1004  Charlie      36\n",
       "17  309051244 Mudgeeraba - Bonogin          18263 1040  Dave         33\n",
       "18  309061250 Worongary - Tallai             7884 1052  Kate         12\n",
       "19  316081549 Noosa Hinterland              21852  994  Charlie      25\n",
       "20  309061249 Pacific Pines - Gaven         18320 1019  Dave         57\n",
       "21  309051245 Reedy Creek - Andrews          7976 1061  Kate         22\n",
       "22  311031319 Regents Park - Heritage Park  15934  977  Charlie      66\n",
       "23  301011001 Alexandra Hills               16345  987  Charlie     113\n",
       "24  313011363 Bribie Island                 18142  925  Eric         98\n",
       "25  310021280 Lockyer Valley - East         19814  917  Eric         10\n",
       "26  310031293 Raceview                      15176  948  Eric         47\n",
       "27  314011383 Cashmere                      18805 1081  Kate         25\n",
       "28  301021012 Thornlands                    14694 1067  Kate         72\n",
       "29  310041302 Redbank Plains                19299  906  Eric         42\n",
       "30  311011305 Beaudesert                    13915  913  Eric          9\n",
       "... ...       ...                           ...   ...   ...         ...\n",
       "267 309021230 Coolangatta                    5948  963  Charlie      12\n",
       "268 302041044 Sandgate - Shorncliffe         6783 1039  Dave         45\n",
       "269 304041104 Upper Kedron - Ferny Grove     9907 1090  Steff        26\n",
       "270 303031061 Macgregor (Qld)                5849 1019  Dave         36\n",
       "271 316051434 Noosa Heads                    4484 1055  Kate         21\n",
       "272 314031393 Petrie                         8690 1001  Charlie      25\n",
       "273 305041137 Toowong                       10800 1112  Steff        64\n",
       "274 305021115 East Brisbane                  5786 1084  Steff        27\n",
       "275 301031017 Murarrie                       4118 1066  Kate         15\n",
       "276 316021418 Buddina - Minyama              6433 1016  Dave          6\n",
       "277 309101270 Surfers Paradise              23689  983  Charlie      46\n",
       "278 309091540 Southport - North             14697  939  Eric         74\n",
       "279 310011271 Darra - Sumner                 4932  959  Charlie      30\n",
       "280 305031128 Newstead - Bowen Hills        10638 1132  Steff        43\n",
       "281 303031065 Upper Mount Gravatt            9396 1016  Dave         88\n",
       "282 309101269 Main Beach                     3883 1064  Kate         19\n",
       "283 305041133 Auchenflower                   5499 1127  Steff        22\n",
       "284 303021054 Fairfield - Dutton Park        4790 1064  Kate         48\n",
       "285 305031127 Newmarket                      4979 1082  Steff        18\n",
       "286 305031126 Kelvin Grove - Herston        10081 1067  Kate         53\n",
       "287 304031096 St Lucia                      12574 1096  Steff        56\n",
       "288 303041069 Robertson                      5101 1038  Dave         14\n",
       "289 305031119 Albion                         2791 1094  Steff        24\n",
       "290 309011227 Mermaid Beach - Broadbeach    11921 1022  Dave         30\n",
       "291 303021058 Woolloongabba                  5529 1051  Kate         44\n",
       "292 305011106 Fortitude Valley               7146 1064  Kate         45\n",
       "293 301021527 Redland Islands                9016  852  Eric          4\n",
       "294 305011105 Brisbane City                 10192 1083  Steff       161\n",
       "295 305011110 South Brisbane                 7235 1082  Steff        46\n",
       "296 302031036 Brisbane Airport                196 1134  Steff        21\n",
       "    combined_quantity avg_trips_per_stop index      \n",
       "1      142              23.66667         0.005096181\n",
       "2      152             152.00000         0.008187891\n",
       "3      368             122.66667         0.010796221\n",
       "4    37024             487.15789         0.024761507\n",
       "5     5539             346.18750         0.029452739\n",
       "6      831             166.20000         0.032221791\n",
       "7     2072             518.00000         0.040305011\n",
       "8     8043             670.25000         0.047697837\n",
       "9    69804             802.34483         0.053877574\n",
       "10  105123            2021.59615         0.064765687\n",
       "11   37301             810.89130         0.066767501\n",
       "12   22288             655.52941         0.071870344\n",
       "13  165899            1803.25000         0.077164192\n",
       "14   66843            1591.50000         0.078487942\n",
       "15   16827            2103.37500         0.081703504\n",
       "16   42778            1188.27778         0.100242768\n",
       "17   62634            1898.00000         0.103925971\n",
       "18   10586             882.16667         0.111893286\n",
       "19   61330            2453.20000         0.112264324\n",
       "20  118771            2083.70175         0.113739179\n",
       "21   21073             957.86364         0.120093234\n",
       "22  131126            1986.75758         0.124686681\n",
       "23  231473            2048.43363         0.125324786\n",
       "24  241119            2460.39796         0.135618893\n",
       "25   27137            2713.70000         0.136958716\n",
       "26  100882            2146.42553         0.141435525\n",
       "27   66493            2659.72000         0.141436852\n",
       "28  155043            2153.37500         0.146547911\n",
       "29  120032            2857.90476         0.148085640\n",
       "30   18751            2083.44444         0.149726514\n",
       "... ...               ...                ...        \n",
       "267   353470           29455.83            4.952225 \n",
       "268  1555489           34566.42            5.096037 \n",
       "269  1313507           50519.50            5.099374 \n",
       "270  1091096           30308.22            5.181778 \n",
       "271   497599           23695.19            5.284387 \n",
       "272  1158756           46350.24            5.333745 \n",
       "273  3722249           58160.14            5.385198 \n",
       "274   848794           31436.81            5.433255 \n",
       "275   341947           22796.47            5.535810 \n",
       "276   213869           35644.83            5.540935 \n",
       "277  6057787          131691.02            5.559163 \n",
       "278  7145876           96565.89            6.570449 \n",
       "279  1030495           34349.83            6.964686 \n",
       "280  3453369           80310.91            7.549437 \n",
       "281  6529543           74199.35            7.896909 \n",
       "282   643609           33874.16            8.723708 \n",
       "283  1055414           47973.36            8.724016 \n",
       "284  2059015           42896.15            8.955354 \n",
       "285   840195           46677.50            9.374874 \n",
       "286  5418678          102239.21           10.141772 \n",
       "287  7583885          135426.52           10.770361 \n",
       "288   925162           66083.00           12.954911 \n",
       "289   952783           39699.29           14.224039 \n",
       "290  5388425          179614.17           15.067039 \n",
       "291  5866994          133340.77           24.116617 \n",
       "292  8332558          185167.96           25.912112 \n",
       "293  1001396          250349.00           27.767192 \n",
       "294 51358219          318995.15           31.298582 \n",
       "295 20568376          447138.61           61.802157 \n",
       "296   619106           29481.24          150.414480 "
      ]
     },
     "metadata": {},
     "output_type": "display_data"
    }
   ],
   "source": [
    "SA2_working_data$index <- with(SA2_working_data, avg_trips_per_stop / Pop)\n",
    "SA2_working_data[order(SA2_working_data$index),]"
   ]
  },
  {
   "cell_type": "markdown",
   "metadata": {},
   "source": [
    "From looking at these results, we can see that the highest index scores (smallest percentage of locals using the service) are the ones you would expect:\n",
    "- Brisbane airport\n",
    "- South Brisbane\n",
    "- Brisbane City\n",
    "- Redland Islands\n",
    "- Fortitude Valley\n",
    "- Woolloongabba\n",
    "\n",
    "With the exception of Redland Islands, these areas are all major transport hubs. Logically, this result seems to make sense - while there are some people who live in these areas, the majority of the travel is from people travelling to these areas from somewhere else.\n",
    "\n",
    "Conversely, the smallest index scores (most likely to be locals using the service) are:\n",
    "- Ipswich - North\n",
    "- Gympie Region\n",
    "- Lockyer Valley - West\n",
    "- Ormeau - Yatala\n",
    "- Samford Valley\n",
    "- Esk\n",
    "- Greenbank\t"
   ]
  },
  {
   "cell_type": "code",
   "execution_count": 1,
   "metadata": {},
   "outputs": [],
   "source": [
    "# write.csv(SA2_working_data,\"travel_hub_index.csv\", row.names = FALSE)\n",
    "# I have uploaded this file under Project - Analysis - Dave - Dave Output - travel_hub_index.csv if anyone would like to \n",
    "# play around with it"
   ]
  }
 ],
 "metadata": {
  "kernelspec": {
   "display_name": "R",
   "language": "R",
   "name": "ir"
  },
  "language_info": {
   "codemirror_mode": "r",
   "file_extension": ".r",
   "mimetype": "text/x-r-source",
   "name": "R",
   "pygments_lexer": "r",
   "version": "3.4.3"
  }
 },
 "nbformat": 4,
 "nbformat_minor": 2
}
