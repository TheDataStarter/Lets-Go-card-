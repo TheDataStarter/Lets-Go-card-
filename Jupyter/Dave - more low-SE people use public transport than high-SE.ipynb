{
 "cells": [
  {
   "cell_type": "markdown",
   "metadata": {},
   "source": [
    "# Hypothesis - more low-SE people use public transport than high-SE, therefore it needs to be more affordable!"
   ]
  },
  {
   "cell_type": "markdown",
   "metadata": {},
   "source": [
    "Today's hypothesis is another great one submitted by Kate - Hypothesis - more low-SE people use public transport than high-SE, therefore it needs to be more affordable!\n",
    "\n",
    "My understanding of what this means isn't complete, so here's my thought process\n",
    "- is there a relationship between the number of available stops and SAD index scores, where there are more stops available in lower scoring areas? (doesn't really address whether more people use it, only that more infrastructure is available)\n",
    "- is there a relationship between the number of journeys taken on public transport and SAD index scores, where people in lower SAD index areas are taking more trips? (might be an indicator of people from lower-SE areas using public transport more BUT it doesn't account for the extremely-common scenario of people in low SE areas travelling to higher SE areas - this sort of journey would show up in both areas and would dilute this relationship)\n",
    "- is there a relationship between utlilisation of public transport stops in different SAD index-scoring areas, where pt stops in lower scoring areas show more utilisation than higher scoring areas? (might be a way of solving this hypothesis, utilisation as an index should help correct for the problem in the line above - but it's imperfect. Good as a backup, but I think I may have an alternative)\n",
    "\n",
    "- _is there a relationship between the number of journeys taken on public transport (when only considering arrival stops and only considering time bin 1 (between midnight and 8:30am)) and SAD index scores, where people in lower scoring areas are taking more trips_\n",
    "\n",
    "This is the best measure I can currently think of to demonstrate what I believe this hypothesis is asking for. The assumptions I am making in this one are:\n",
    "\n",
    "- _most trips_ of people travelling in the early morning are likely to be from the SA2 area they reside in (obviously this isn't perfect, as it misses people travelling home after being out at night, people coming home after shift work, probably many other scenarios). Despite that, and noting this is the assumption I am making, I'm comfortable enough for now.\n",
    "\n",
    "Ok, so I need to get to a working dataset, aggregated by SA2 area, that includes:\n",
    "- number of trips (using arrival_time and in time bin 1)\n",
    "- SAD index scores (and by extension, Team_Member)\n",
    "- number of transport stops per SA2 area (might not be needed, but may be useful to flip the question to look at utilisation instead of raw trips in our question above. I define utilisation as the number of trips taken _divided by_ the number of available stops\n",
    "- _(Question - should I also normalise by population of each area? Going to bring Pop in as well so I can think about this more)_\n",
    "\n",
    "Let's get the libraries:"
   ]
  },
  {
   "cell_type": "code",
   "execution_count": 27,
   "metadata": {},
   "outputs": [],
   "source": [
    "library(readr)\n",
    "library(plyr)\n",
    "library(dplyr)\n",
    "# Note from Dave to Dave - ALWAYS load plyr before dplyr or group_by doesn't work properly\n",
    "# Note - have updated to use combined_quantity from the 1C dataset to give more meaningful results"
   ]
  },
  {
   "cell_type": "markdown",
   "metadata": {},
   "source": [
    "Let's just grab the base datasets we'll need - 1F and 1C_trip_freq"
   ]
  },
  {
   "cell_type": "code",
   "execution_count": 28,
   "metadata": {},
   "outputs": [
    {
     "data": {
      "text/html": [
       "<table>\n",
       "<thead><tr><th scope=col>stop_id</th><th scope=col>SA2Code</th><th scope=col>SA2Name</th><th scope=col>Pop</th><th scope=col>Score</th><th scope=col>Team_Member</th></tr></thead>\n",
       "<tbody>\n",
       "\t<tr><td>1            </td><td>305011105    </td><td>Brisbane City</td><td>10192        </td><td>1083         </td><td>Steff        </td></tr>\n",
       "\t<tr><td>2            </td><td>305011105    </td><td>Brisbane City</td><td>10192        </td><td>1083         </td><td>Steff        </td></tr>\n",
       "\t<tr><td>3            </td><td>305011105    </td><td>Brisbane City</td><td>10192        </td><td>1083         </td><td>Steff        </td></tr>\n",
       "\t<tr><td>4            </td><td>305011111    </td><td>Spring Hill  </td><td> 6063        </td><td>1028         </td><td>Dave         </td></tr>\n",
       "\t<tr><td>5            </td><td>305011105    </td><td>Brisbane City</td><td>10192        </td><td>1083         </td><td>Steff        </td></tr>\n",
       "\t<tr><td>6            </td><td>305011105    </td><td>Brisbane City</td><td>10192        </td><td>1083         </td><td>Steff        </td></tr>\n",
       "</tbody>\n",
       "</table>\n"
      ],
      "text/latex": [
       "\\begin{tabular}{r|llllll}\n",
       " stop\\_id & SA2Code & SA2Name & Pop & Score & Team\\_Member\\\\\n",
       "\\hline\n",
       "\t 1             & 305011105     & Brisbane City & 10192         & 1083          & Steff        \\\\\n",
       "\t 2             & 305011105     & Brisbane City & 10192         & 1083          & Steff        \\\\\n",
       "\t 3             & 305011105     & Brisbane City & 10192         & 1083          & Steff        \\\\\n",
       "\t 4             & 305011111     & Spring Hill   &  6063         & 1028          & Dave         \\\\\n",
       "\t 5             & 305011105     & Brisbane City & 10192         & 1083          & Steff        \\\\\n",
       "\t 6             & 305011105     & Brisbane City & 10192         & 1083          & Steff        \\\\\n",
       "\\end{tabular}\n"
      ],
      "text/markdown": [
       "\n",
       "stop_id | SA2Code | SA2Name | Pop | Score | Team_Member | \n",
       "|---|---|---|---|---|---|\n",
       "| 1             | 305011105     | Brisbane City | 10192         | 1083          | Steff         | \n",
       "| 2             | 305011105     | Brisbane City | 10192         | 1083          | Steff         | \n",
       "| 3             | 305011105     | Brisbane City | 10192         | 1083          | Steff         | \n",
       "| 4             | 305011111     | Spring Hill   |  6063         | 1028          | Dave          | \n",
       "| 5             | 305011105     | Brisbane City | 10192         | 1083          | Steff         | \n",
       "| 6             | 305011105     | Brisbane City | 10192         | 1083          | Steff         | \n",
       "\n",
       "\n"
      ],
      "text/plain": [
       "  stop_id SA2Code   SA2Name       Pop   Score Team_Member\n",
       "1 1       305011105 Brisbane City 10192 1083  Steff      \n",
       "2 2       305011105 Brisbane City 10192 1083  Steff      \n",
       "3 3       305011105 Brisbane City 10192 1083  Steff      \n",
       "4 4       305011111 Spring Hill    6063 1028  Dave       \n",
       "5 5       305011105 Brisbane City 10192 1083  Steff      \n",
       "6 6       305011105 Brisbane City 10192 1083  Steff      "
      ]
     },
     "metadata": {},
     "output_type": "display_data"
    },
    {
     "data": {
      "text/html": [
       "<table>\n",
       "<thead><tr><th scope=col>month</th><th scope=col>time</th><th scope=col>stop_id</th><th scope=col>origin_quantity</th></tr></thead>\n",
       "<tbody>\n",
       "\t<tr><td>2016-02                    </td><td>Weekday (12:00am-8:29:59am)</td><td>1                          </td><td> 42                        </td></tr>\n",
       "\t<tr><td>2016-02                    </td><td>Weekday (3:00pm-6:59:59pm) </td><td>1                          </td><td>150                        </td></tr>\n",
       "\t<tr><td>2016-02                    </td><td>Weekday (7:00pm-11:59:59pm)</td><td>1                          </td><td> 21                        </td></tr>\n",
       "\t<tr><td>2016-02                    </td><td>Weekday (8:30am-2:59:59pm) </td><td>1                          </td><td>208                        </td></tr>\n",
       "\t<tr><td>2016-02                    </td><td>Weekend                    </td><td>1                          </td><td> 83                        </td></tr>\n",
       "\t<tr><td>2016-03                    </td><td>Weekday (12:00am-8:29:59am)</td><td>1                          </td><td> 65                        </td></tr>\n",
       "</tbody>\n",
       "</table>\n"
      ],
      "text/latex": [
       "\\begin{tabular}{r|llll}\n",
       " month & time & stop\\_id & origin\\_quantity\\\\\n",
       "\\hline\n",
       "\t 2016-02                     & Weekday (12:00am-8:29:59am) & 1                           &  42                        \\\\\n",
       "\t 2016-02                     & Weekday (3:00pm-6:59:59pm)  & 1                           & 150                        \\\\\n",
       "\t 2016-02                     & Weekday (7:00pm-11:59:59pm) & 1                           &  21                        \\\\\n",
       "\t 2016-02                     & Weekday (8:30am-2:59:59pm)  & 1                           & 208                        \\\\\n",
       "\t 2016-02                     & Weekend                     & 1                           &  83                        \\\\\n",
       "\t 2016-03                     & Weekday (12:00am-8:29:59am) & 1                           &  65                        \\\\\n",
       "\\end{tabular}\n"
      ],
      "text/markdown": [
       "\n",
       "month | time | stop_id | origin_quantity | \n",
       "|---|---|---|---|---|---|\n",
       "| 2016-02                     | Weekday (12:00am-8:29:59am) | 1                           |  42                         | \n",
       "| 2016-02                     | Weekday (3:00pm-6:59:59pm)  | 1                           | 150                         | \n",
       "| 2016-02                     | Weekday (7:00pm-11:59:59pm) | 1                           |  21                         | \n",
       "| 2016-02                     | Weekday (8:30am-2:59:59pm)  | 1                           | 208                         | \n",
       "| 2016-02                     | Weekend                     | 1                           |  83                         | \n",
       "| 2016-03                     | Weekday (12:00am-8:29:59am) | 1                           |  65                         | \n",
       "\n",
       "\n"
      ],
      "text/plain": [
       "  month   time                        stop_id origin_quantity\n",
       "1 2016-02 Weekday (12:00am-8:29:59am) 1        42            \n",
       "2 2016-02 Weekday (3:00pm-6:59:59pm)  1       150            \n",
       "3 2016-02 Weekday (7:00pm-11:59:59pm) 1        21            \n",
       "4 2016-02 Weekday (8:30am-2:59:59pm)  1       208            \n",
       "5 2016-02 Weekend                     1        83            \n",
       "6 2016-03 Weekday (12:00am-8:29:59am) 1        65            "
      ]
     },
     "metadata": {},
     "output_type": "display_data"
    }
   ],
   "source": [
    "SA2_stops_by_mode <- read_csv(\"Processed Data/1F/SA2_stops_by_mode.csv\", col_types = cols(AREASQKM16 = col_skip(), is_bus_stop = col_skip(), is_ferry_stop = col_skip(), is_train_station = col_skip(), is_tram_stop = col_skip(), stop_lat = col_skip(), stop_lon = col_skip(), stop_name = col_skip(), stop_url = col_skip()))\n",
    "trip_freq <- read_csv(\"Processed Data/1C/1C_trip_freq.csv\", col_types = cols(combined_quantity = col_skip(), destination_quantity = col_skip()))\n",
    "head(SA2_stops_by_mode)\n",
    "head(trip_freq)"
   ]
  },
  {
   "cell_type": "markdown",
   "metadata": {},
   "source": [
    "Next, we know we only want to focus on the first time bin in trip_freq (which in this dataset, is the string \"Weekday (12:00am-8:29:59am)\". After that, we don't need the time column anymore, so let's dump it too."
   ]
  },
  {
   "cell_type": "code",
   "execution_count": 29,
   "metadata": {},
   "outputs": [
    {
     "data": {
      "text/html": [
       "<table>\n",
       "<thead><tr><th scope=col>month</th><th scope=col>stop_id</th><th scope=col>origin_quantity</th></tr></thead>\n",
       "<tbody>\n",
       "\t<tr><td>2016-02</td><td>1      </td><td>42     </td></tr>\n",
       "\t<tr><td>2016-03</td><td>1      </td><td>65     </td></tr>\n",
       "\t<tr><td>2016-04</td><td>1      </td><td>49     </td></tr>\n",
       "\t<tr><td>2016-05</td><td>1      </td><td>73     </td></tr>\n",
       "\t<tr><td>2016-06</td><td>1      </td><td>73     </td></tr>\n",
       "\t<tr><td>2016-07</td><td>1      </td><td>79     </td></tr>\n",
       "</tbody>\n",
       "</table>\n"
      ],
      "text/latex": [
       "\\begin{tabular}{r|lll}\n",
       " month & stop\\_id & origin\\_quantity\\\\\n",
       "\\hline\n",
       "\t 2016-02 & 1       & 42     \\\\\n",
       "\t 2016-03 & 1       & 65     \\\\\n",
       "\t 2016-04 & 1       & 49     \\\\\n",
       "\t 2016-05 & 1       & 73     \\\\\n",
       "\t 2016-06 & 1       & 73     \\\\\n",
       "\t 2016-07 & 1       & 79     \\\\\n",
       "\\end{tabular}\n"
      ],
      "text/markdown": [
       "\n",
       "month | stop_id | origin_quantity | \n",
       "|---|---|---|---|---|---|\n",
       "| 2016-02 | 1       | 42      | \n",
       "| 2016-03 | 1       | 65      | \n",
       "| 2016-04 | 1       | 49      | \n",
       "| 2016-05 | 1       | 73      | \n",
       "| 2016-06 | 1       | 73      | \n",
       "| 2016-07 | 1       | 79      | \n",
       "\n",
       "\n"
      ],
      "text/plain": [
       "  month   stop_id origin_quantity\n",
       "1 2016-02 1       42             \n",
       "2 2016-03 1       65             \n",
       "3 2016-04 1       49             \n",
       "4 2016-05 1       73             \n",
       "5 2016-06 1       73             \n",
       "6 2016-07 1       79             "
      ]
     },
     "metadata": {},
     "output_type": "display_data"
    }
   ],
   "source": [
    "trip_freq <- subset(trip_freq, time == \"Weekday (12:00am-8:29:59am)\") \n",
    "trip_freq$time <- NULL\n",
    "head(trip_freq)"
   ]
  },
  {
   "cell_type": "markdown",
   "metadata": {},
   "source": [
    "Nest, we don't need it broken out by individual months, so let's just aggregate the count to stop_id. "
   ]
  },
  {
   "cell_type": "code",
   "execution_count": 30,
   "metadata": {},
   "outputs": [
    {
     "data": {
      "text/plain": [
       "    stop_id       origin_quantity \n",
       " Min.   :     1   Min.   :     1  \n",
       " 1st Qu.:  5462   1st Qu.:   111  \n",
       " Median :301338   Median :   362  \n",
       " Mean   :186437   Mean   :  3003  \n",
       " 3rd Qu.:313221   3rd Qu.:  1140  \n",
       " Max.   :600831   Max.   :422287  \n",
       "                  NA's   :3210    "
      ]
     },
     "metadata": {},
     "output_type": "display_data"
    }
   ],
   "source": [
    "trip_freq <- trip_freq %>% group_by (stop_id) %>% summarise(origin_quantity = sum(origin_quantity))\n",
    "summary(trip_freq)"
   ]
  },
  {
   "cell_type": "markdown",
   "metadata": {},
   "source": [
    "As the summary stats tell us, there are 3,210 stops that don't have any trips that fit these criteria (and are showing NAs in the origin_quantity column) - we ultimately want to know the number of these stops per SA2 area so we can correct the number of stops we're looking at for utilisation. We can't do anything with it now, but the code I plan to use after we aggregate is:"
   ]
  },
  {
   "cell_type": "code",
   "execution_count": 7,
   "metadata": {},
   "outputs": [],
   "source": [
    "#dataset_name$stops_no_trips <- sum(is.na(dataset_name$origin_quantity))"
   ]
  },
  {
   "cell_type": "markdown",
   "metadata": {},
   "source": [
    "Alright, let's join our modified trip_freq with 1F, aggregate to SA2 level and get a count of NA values. Not that I'm not doing an inner join, as I want to preserve the NA values from trip_freq."
   ]
  },
  {
   "cell_type": "code",
   "execution_count": 31,
   "metadata": {},
   "outputs": [
    {
     "data": {
      "text/html": [
       "<table>\n",
       "<thead><tr><th scope=col>stop_id</th><th scope=col>SA2Code</th><th scope=col>SA2Name</th><th scope=col>Pop</th><th scope=col>Score</th><th scope=col>Team_Member</th><th scope=col>origin_quantity</th></tr></thead>\n",
       "<tbody>\n",
       "\t<tr><td>1            </td><td>305011105    </td><td>Brisbane City</td><td>10192        </td><td>1083         </td><td>Steff        </td><td> 767         </td></tr>\n",
       "\t<tr><td>2            </td><td>305011105    </td><td>Brisbane City</td><td>10192        </td><td>1083         </td><td>Steff        </td><td> 259         </td></tr>\n",
       "\t<tr><td>3            </td><td>305011105    </td><td>Brisbane City</td><td>10192        </td><td>1083         </td><td>Steff        </td><td>  NA         </td></tr>\n",
       "\t<tr><td>4            </td><td>305011111    </td><td>Spring Hill  </td><td> 6063        </td><td>1028         </td><td>Dave         </td><td>  NA         </td></tr>\n",
       "\t<tr><td>5            </td><td>305011105    </td><td>Brisbane City</td><td>10192        </td><td>1083         </td><td>Steff        </td><td> 465         </td></tr>\n",
       "\t<tr><td>6            </td><td>305011105    </td><td>Brisbane City</td><td>10192        </td><td>1083         </td><td>Steff        </td><td>2400         </td></tr>\n",
       "</tbody>\n",
       "</table>\n"
      ],
      "text/latex": [
       "\\begin{tabular}{r|lllllll}\n",
       " stop\\_id & SA2Code & SA2Name & Pop & Score & Team\\_Member & origin\\_quantity\\\\\n",
       "\\hline\n",
       "\t 1             & 305011105     & Brisbane City & 10192         & 1083          & Steff         &  767         \\\\\n",
       "\t 2             & 305011105     & Brisbane City & 10192         & 1083          & Steff         &  259         \\\\\n",
       "\t 3             & 305011105     & Brisbane City & 10192         & 1083          & Steff         &   NA         \\\\\n",
       "\t 4             & 305011111     & Spring Hill   &  6063         & 1028          & Dave          &   NA         \\\\\n",
       "\t 5             & 305011105     & Brisbane City & 10192         & 1083          & Steff         &  465         \\\\\n",
       "\t 6             & 305011105     & Brisbane City & 10192         & 1083          & Steff         & 2400         \\\\\n",
       "\\end{tabular}\n"
      ],
      "text/markdown": [
       "\n",
       "stop_id | SA2Code | SA2Name | Pop | Score | Team_Member | origin_quantity | \n",
       "|---|---|---|---|---|---|\n",
       "| 1             | 305011105     | Brisbane City | 10192         | 1083          | Steff         |  767          | \n",
       "| 2             | 305011105     | Brisbane City | 10192         | 1083          | Steff         |  259          | \n",
       "| 3             | 305011105     | Brisbane City | 10192         | 1083          | Steff         |   NA          | \n",
       "| 4             | 305011111     | Spring Hill   |  6063         | 1028          | Dave          |   NA          | \n",
       "| 5             | 305011105     | Brisbane City | 10192         | 1083          | Steff         |  465          | \n",
       "| 6             | 305011105     | Brisbane City | 10192         | 1083          | Steff         | 2400          | \n",
       "\n",
       "\n"
      ],
      "text/plain": [
       "  stop_id SA2Code   SA2Name       Pop   Score Team_Member origin_quantity\n",
       "1 1       305011105 Brisbane City 10192 1083  Steff        767           \n",
       "2 2       305011105 Brisbane City 10192 1083  Steff        259           \n",
       "3 3       305011105 Brisbane City 10192 1083  Steff         NA           \n",
       "4 4       305011111 Spring Hill    6063 1028  Dave          NA           \n",
       "5 5       305011105 Brisbane City 10192 1083  Steff        465           \n",
       "6 6       305011105 Brisbane City 10192 1083  Steff       2400           "
      ]
     },
     "metadata": {},
     "output_type": "display_data"
    }
   ],
   "source": [
    "working_data <- join(SA2_stops_by_mode, trip_freq, by=\"stop_id\")\n",
    "head(working_data)"
   ]
  },
  {
   "cell_type": "markdown",
   "metadata": {},
   "source": [
    "Ok, experiments grouping by SA2 and preserving the count of NAs isn't working - any SA2 area where at least one stop has an NA is aggregating to an NA. So throwing out the approach above and coming up with a new one - let's subset this dataset to create a temporary dataset that only has the stop_ids of stops with an NA in origin_quantity, then replace all of the NA values in origin_quantity with a 0, then group to up to SA2 level, then join with our next temp variable and go from there."
   ]
  },
  {
   "cell_type": "code",
   "execution_count": 32,
   "metadata": {},
   "outputs": [
    {
     "data": {
      "text/html": [
       "<table>\n",
       "<thead><tr><th scope=col>SA2Code</th><th scope=col>SA2Name</th><th scope=col>Pop</th><th scope=col>Score</th><th scope=col>Team_Member</th><th scope=col>origin_quantity</th><th scope=col>number_of_stops</th><th scope=col>number_of_NAs</th></tr></thead>\n",
       "<tbody>\n",
       "\t<tr><td>112031254        </td><td>Tweed Heads      </td><td>19417            </td><td> 933             </td><td>Eric             </td><td> 11140           </td><td>  3              </td><td> 1               </td></tr>\n",
       "\t<tr><td>301011001        </td><td>Alexandra Hills  </td><td>16345            </td><td> 987             </td><td>Charlie          </td><td> 46707           </td><td>113              </td><td>25               </td></tr>\n",
       "\t<tr><td>301011002        </td><td>Belmont - Gumdale</td><td> 7375            </td><td>1093             </td><td>Steff            </td><td> 35990           </td><td> 47              </td><td>19               </td></tr>\n",
       "\t<tr><td>301011003        </td><td>Birkdale         </td><td>14923            </td><td>1034             </td><td>Dave             </td><td>128030           </td><td> 57              </td><td>15               </td></tr>\n",
       "\t<tr><td>301011004        </td><td>Capalaba         </td><td>17588            </td><td> 991             </td><td>Charlie          </td><td>127597           </td><td>120              </td><td>37               </td></tr>\n",
       "\t<tr><td>301011005        </td><td>Thorneside       </td><td> 3761            </td><td> 983             </td><td>Charlie          </td><td> 53504           </td><td> 26              </td><td> 7               </td></tr>\n",
       "</tbody>\n",
       "</table>\n"
      ],
      "text/latex": [
       "\\begin{tabular}{r|llllllll}\n",
       " SA2Code & SA2Name & Pop & Score & Team\\_Member & origin\\_quantity & number\\_of\\_stops & number\\_of\\_NAs\\\\\n",
       "\\hline\n",
       "\t 112031254         & Tweed Heads       & 19417             &  933              & Eric              &  11140            &   3               &  1               \\\\\n",
       "\t 301011001         & Alexandra Hills   & 16345             &  987              & Charlie           &  46707            & 113               & 25               \\\\\n",
       "\t 301011002         & Belmont - Gumdale &  7375             & 1093              & Steff             &  35990            &  47               & 19               \\\\\n",
       "\t 301011003         & Birkdale          & 14923             & 1034              & Dave              & 128030            &  57               & 15               \\\\\n",
       "\t 301011004         & Capalaba          & 17588             &  991              & Charlie           & 127597            & 120               & 37               \\\\\n",
       "\t 301011005         & Thorneside        &  3761             &  983              & Charlie           &  53504            &  26               &  7               \\\\\n",
       "\\end{tabular}\n"
      ],
      "text/markdown": [
       "\n",
       "SA2Code | SA2Name | Pop | Score | Team_Member | origin_quantity | number_of_stops | number_of_NAs | \n",
       "|---|---|---|---|---|---|\n",
       "| 112031254         | Tweed Heads       | 19417             |  933              | Eric              |  11140            |   3               |  1                | \n",
       "| 301011001         | Alexandra Hills   | 16345             |  987              | Charlie           |  46707            | 113               | 25                | \n",
       "| 301011002         | Belmont - Gumdale |  7375             | 1093              | Steff             |  35990            |  47               | 19                | \n",
       "| 301011003         | Birkdale          | 14923             | 1034              | Dave              | 128030            |  57               | 15                | \n",
       "| 301011004         | Capalaba          | 17588             |  991              | Charlie           | 127597            | 120               | 37                | \n",
       "| 301011005         | Thorneside        |  3761             |  983              | Charlie           |  53504            |  26               |  7                | \n",
       "\n",
       "\n"
      ],
      "text/plain": [
       "  SA2Code   SA2Name           Pop   Score Team_Member origin_quantity\n",
       "1 112031254 Tweed Heads       19417  933  Eric         11140         \n",
       "2 301011001 Alexandra Hills   16345  987  Charlie      46707         \n",
       "3 301011002 Belmont - Gumdale  7375 1093  Steff        35990         \n",
       "4 301011003 Birkdale          14923 1034  Dave        128030         \n",
       "5 301011004 Capalaba          17588  991  Charlie     127597         \n",
       "6 301011005 Thorneside         3761  983  Charlie      53504         \n",
       "  number_of_stops number_of_NAs\n",
       "1   3              1           \n",
       "2 113             25           \n",
       "3  47             19           \n",
       "4  57             15           \n",
       "5 120             37           \n",
       "6  26              7           "
      ]
     },
     "metadata": {},
     "output_type": "display_data"
    }
   ],
   "source": [
    "temp_NA <- working_data[is.na(working_data$origin_quantity),]\n",
    "temp_NA$SA2Code <- NULL\n",
    "temp_NA$SA2Name <- NULL\n",
    "temp_NA$Pop <- NULL\n",
    "temp_NA$Team_Member <- NULL\n",
    "temp_NA$Score <- 1\n",
    "temp_NA$origin_quantity <- NULL\n",
    "colnames(temp_NA)[colnames(temp_NA)==\"Score\"] <- \"number_of_NAs\"\n",
    "temp_NA <- join(SA2_stops_by_mode, temp_NA, by=\"stop_id\", type=\"inner\")\n",
    "temp_NA <- temp_NA %>% group_by (SA2Code) %>% summarise(number_of_NAs = sum(number_of_NAs))\n",
    "\n",
    "working_data[is.na(working_data)] <- 0\n",
    "\n",
    "temp_stop_count <- working_data %>% count(SA2Code)\n",
    "temp_stop_count <- temp_stop_count[!(temp_stop_count$SA2Code==0),]\n",
    "\n",
    "working_data <- working_data %>% group_by (SA2Code, SA2Name, Pop, Score, Team_Member) %>% summarise(origin_quantity = sum(origin_quantity))\n",
    "working_data <- working_data[!(working_data$Team_Member==\"unassigned\"),]\n",
    "\n",
    "working_data <- merge(working_data, temp_stop_count, by=\"SA2Code\")\n",
    "colnames(working_data)[colnames(working_data)==\"n\"] <- \"number_of_stops\"\n",
    "\n",
    "working_data <- merge(working_data, temp_NA, by=\"SA2Code\")\n",
    "head(working_data)"
   ]
  },
  {
   "cell_type": "markdown",
   "metadata": {},
   "source": [
    "Alright, that was a lot of code in one block!! What are we left with?\n",
    "- SA2Code and Name\n",
    "- Population\n",
    "- SAD Score and Team_Member\n",
    "- the number of stops that originated within each SA2 in the morning bin\n",
    "- the number of stops in each SA2 area\n",
    "- the number of stops in each SA2 area that had zero trips here\n",
    "\n",
    "What's next?\n",
    "- new column (useful_stops) calculated by number_of_stops _minus_ number_of_NAs (this represents the relevant number of stops per SA2 area for this analysis)\n",
    "- new column (stop_utilisation) calculated by origin_quantity _divided by_ useful stops (this represents an index of utilisation by public transport stops in each SA2 area\n",
    "- export dataset, import to Tableau, plot Score vs. stop_utilisation\n",
    "- analyse results"
   ]
  },
  {
   "cell_type": "code",
   "execution_count": 33,
   "metadata": {},
   "outputs": [
    {
     "data": {
      "text/html": [
       "<table>\n",
       "<thead><tr><th scope=col>SA2Code</th><th scope=col>SA2Name</th><th scope=col>Pop</th><th scope=col>Score</th><th scope=col>Team_Member</th><th scope=col>origin_quantity</th><th scope=col>number_of_stops</th><th scope=col>number_of_NAs</th><th scope=col>useful_stops</th><th scope=col>stop_utilisation</th><th scope=col>stop_utilisation_per_person</th></tr></thead>\n",
       "<tbody>\n",
       "\t<tr><td>112031254        </td><td>Tweed Heads      </td><td>19417            </td><td> 933             </td><td>Eric             </td><td> 11140           </td><td>  3              </td><td> 1               </td><td> 2               </td><td>5570.0000        </td><td>0.28686203       </td></tr>\n",
       "\t<tr><td>301011001        </td><td>Alexandra Hills  </td><td>16345            </td><td> 987             </td><td>Charlie          </td><td> 46707           </td><td>113              </td><td>25               </td><td>88               </td><td> 530.7614        </td><td>0.03247240       </td></tr>\n",
       "\t<tr><td>301011002        </td><td>Belmont - Gumdale</td><td> 7375            </td><td>1093             </td><td>Steff            </td><td> 35990           </td><td> 47              </td><td>19               </td><td>28               </td><td>1285.3571        </td><td>0.17428571       </td></tr>\n",
       "\t<tr><td>301011003        </td><td>Birkdale         </td><td>14923            </td><td>1034             </td><td>Dave             </td><td>128030           </td><td> 57              </td><td>15               </td><td>42               </td><td>3048.3333        </td><td>0.20427081       </td></tr>\n",
       "\t<tr><td>301011004        </td><td>Capalaba         </td><td>17588            </td><td> 991             </td><td>Charlie          </td><td>127597           </td><td>120              </td><td>37               </td><td>83               </td><td>1537.3133        </td><td>0.08740694       </td></tr>\n",
       "\t<tr><td>301011005        </td><td>Thorneside       </td><td> 3761            </td><td> 983             </td><td>Charlie          </td><td> 53504           </td><td> 26              </td><td> 7               </td><td>19               </td><td>2816.0000        </td><td>0.74873704       </td></tr>\n",
       "</tbody>\n",
       "</table>\n"
      ],
      "text/latex": [
       "\\begin{tabular}{r|lllllllllll}\n",
       " SA2Code & SA2Name & Pop & Score & Team\\_Member & origin\\_quantity & number\\_of\\_stops & number\\_of\\_NAs & useful\\_stops & stop\\_utilisation & stop\\_utilisation\\_per\\_person\\\\\n",
       "\\hline\n",
       "\t 112031254         & Tweed Heads       & 19417             &  933              & Eric              &  11140            &   3               &  1                &  2                & 5570.0000         & 0.28686203       \\\\\n",
       "\t 301011001         & Alexandra Hills   & 16345             &  987              & Charlie           &  46707            & 113               & 25                & 88                &  530.7614         & 0.03247240       \\\\\n",
       "\t 301011002         & Belmont - Gumdale &  7375             & 1093              & Steff             &  35990            &  47               & 19                & 28                & 1285.3571         & 0.17428571       \\\\\n",
       "\t 301011003         & Birkdale          & 14923             & 1034              & Dave              & 128030            &  57               & 15                & 42                & 3048.3333         & 0.20427081       \\\\\n",
       "\t 301011004         & Capalaba          & 17588             &  991              & Charlie           & 127597            & 120               & 37                & 83                & 1537.3133         & 0.08740694       \\\\\n",
       "\t 301011005         & Thorneside        &  3761             &  983              & Charlie           &  53504            &  26               &  7                & 19                & 2816.0000         & 0.74873704       \\\\\n",
       "\\end{tabular}\n"
      ],
      "text/markdown": [
       "\n",
       "SA2Code | SA2Name | Pop | Score | Team_Member | origin_quantity | number_of_stops | number_of_NAs | useful_stops | stop_utilisation | stop_utilisation_per_person | \n",
       "|---|---|---|---|---|---|\n",
       "| 112031254         | Tweed Heads       | 19417             |  933              | Eric              |  11140            |   3               |  1                |  2                | 5570.0000         | 0.28686203        | \n",
       "| 301011001         | Alexandra Hills   | 16345             |  987              | Charlie           |  46707            | 113               | 25                | 88                |  530.7614         | 0.03247240        | \n",
       "| 301011002         | Belmont - Gumdale |  7375             | 1093              | Steff             |  35990            |  47               | 19                | 28                | 1285.3571         | 0.17428571        | \n",
       "| 301011003         | Birkdale          | 14923             | 1034              | Dave              | 128030            |  57               | 15                | 42                | 3048.3333         | 0.20427081        | \n",
       "| 301011004         | Capalaba          | 17588             |  991              | Charlie           | 127597            | 120               | 37                | 83                | 1537.3133         | 0.08740694        | \n",
       "| 301011005         | Thorneside        |  3761             |  983              | Charlie           |  53504            |  26               |  7                | 19                | 2816.0000         | 0.74873704        | \n",
       "\n",
       "\n"
      ],
      "text/plain": [
       "  SA2Code   SA2Name           Pop   Score Team_Member origin_quantity\n",
       "1 112031254 Tweed Heads       19417  933  Eric         11140         \n",
       "2 301011001 Alexandra Hills   16345  987  Charlie      46707         \n",
       "3 301011002 Belmont - Gumdale  7375 1093  Steff        35990         \n",
       "4 301011003 Birkdale          14923 1034  Dave        128030         \n",
       "5 301011004 Capalaba          17588  991  Charlie     127597         \n",
       "6 301011005 Thorneside         3761  983  Charlie      53504         \n",
       "  number_of_stops number_of_NAs useful_stops stop_utilisation\n",
       "1   3              1             2           5570.0000       \n",
       "2 113             25            88            530.7614       \n",
       "3  47             19            28           1285.3571       \n",
       "4  57             15            42           3048.3333       \n",
       "5 120             37            83           1537.3133       \n",
       "6  26              7            19           2816.0000       \n",
       "  stop_utilisation_per_person\n",
       "1 0.28686203                 \n",
       "2 0.03247240                 \n",
       "3 0.17428571                 \n",
       "4 0.20427081                 \n",
       "5 0.08740694                 \n",
       "6 0.74873704                 "
      ]
     },
     "metadata": {},
     "output_type": "display_data"
    }
   ],
   "source": [
    "working_data$useful_stops <-  with(working_data, working_data$number_of_stops - working_data$number_of_NAs)\n",
    "working_data$stop_utilisation <-  with(working_data, working_data$origin_quantity / working_data$useful_stops)\n",
    "working_data$stop_utilisation_per_person <-  with(working_data, working_data$stop_utilisation / working_data$Pop)\n",
    "head(working_data)\n",
    "\n",
    "# write.csv(working_data, \"public_transport_utilisation.csv\", row.names = FALSE)"
   ]
  },
  {
   "cell_type": "markdown",
   "metadata": {},
   "source": [
    "Results visualisation - \n",
    "\n",
    "https://github.com/TheDataStarter/Lets-Go-card-/blob/master/viz/SAD%20score%20vs%20pt%20stop%20utilisation.png\n"
   ]
  }
 ],
 "metadata": {
  "kernelspec": {
   "display_name": "R",
   "language": "R",
   "name": "ir"
  },
  "language_info": {
   "codemirror_mode": "r",
   "file_extension": ".r",
   "mimetype": "text/x-r-source",
   "name": "R",
   "pygments_lexer": "r",
   "version": "3.4.3"
  }
 },
 "nbformat": 4,
 "nbformat_minor": 2
}
