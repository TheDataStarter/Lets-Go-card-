{
 "cells": [
  {
   "cell_type": "markdown",
   "metadata": {},
   "source": [
    "# Hypothesis - public transport is designed to serve people who use it to commute (for work, school, etc)"
   ]
  },
  {
   "cell_type": "markdown",
   "metadata": {},
   "source": [
    "Initialise needed libraries"
   ]
  },
  {
   "cell_type": "code",
   "execution_count": 2,
   "metadata": {},
   "outputs": [
    {
     "name": "stderr",
     "output_type": "stream",
     "text": [
      "Warning message:\n",
      "\"package 'readr' was built under R version 3.4.4\"Warning message:\n",
      "\"package 'plyr' was built under R version 3.4.4\"\n",
      "Attaching package: 'dplyr'\n",
      "\n",
      "The following objects are masked from 'package:plyr':\n",
      "\n",
      "    arrange, count, desc, failwith, id, mutate, rename, summarise,\n",
      "    summarize\n",
      "\n",
      "The following objects are masked from 'package:stats':\n",
      "\n",
      "    filter, lag\n",
      "\n",
      "The following objects are masked from 'package:base':\n",
      "\n",
      "    intersect, setdiff, setequal, union\n",
      "\n"
     ]
    }
   ],
   "source": [
    "library(readr)\n",
    "library(plyr)\n",
    "library(dplyr)\n",
    "# Note from Dave to Dave - ALWAYS load plyr before dplyr or group_by doesn't work properly\n",
    "\n",
    "# Next steps for Dave: \n",
    "# - see how many stops have more trips per hour in commuting times. If more than 50% - hypothesis is at least partially true. If more than say 80% - strong correlation. (or talk to Steff about using standard deviations or something?)\n",
    "# - If less than 50% - hypothesis is less true than random chance."
   ]
  },
  {
   "cell_type": "markdown",
   "metadata": {},
   "source": [
    "For this hypothesis, I want to test whether the number of stops (to be replaced with number of services once 1A is available) shows a closer correlation to the number of people using it during working hours (which I have chosen as between midnight and 7pm on weekdays) than those using it outside of working hours (which are 7pm-midnight on weekdays and all day weekends).\n",
    "\n",
    "Ideally, we would have better granularity over the starting time for the workday - but few/no services are operating a full 24 hours, so this is less of a problem.\n",
    "\n",
    "Obviously, not everyone using the service before 7pm on a weekday is commuting (and similarly, not everyone using it after 7pm or on weekends AREN'T using it to commute), but common sense suggests that the *majority* of the use will be for that purpose. Not suggesting that shift workers and weekend staff aren't real workers for a second!\n",
    "\n",
    "In an ideal world, the data would include the purpose of travel, but that both a) doesn't exist, and b) wouldn't be cost-effective to capture.\n",
    "\n",
    "For this hypothesis, we will be using the 1C trip_freq dataset to categorise trips into these categories above. The intention isn't to use absolute numbers, but relative numbers (to somewhat normalise the huge differences in window between the two categories).\n",
    "\n",
    "First, I'll read in the dataset, create a subset of all the values I am considering \"during the working day\" and aggregate each trip in this subset to a single number of trips (so combining all months and all three time periods)."
   ]
  },
  {
   "cell_type": "code",
   "execution_count": 3,
   "metadata": {},
   "outputs": [
    {
     "name": "stderr",
     "output_type": "stream",
     "text": [
      "Parsed with column specification:\n",
      "cols(\n",
      "  month = col_character(),\n",
      "  stop_id = col_integer(),\n",
      "  time = col_character(),\n",
      "  quantity = col_integer()\n",
      ")\n"
     ]
    },
    {
     "data": {
      "text/plain": [
       "    stop_id          quantity      \n",
       " Min.   :     1   Min.   :      1  \n",
       " 1st Qu.:  5398   1st Qu.:    125  \n",
       " Median :301285   Median :    570  \n",
       " Mean   :185225   Mean   :   7992  \n",
       " 3rd Qu.:313319   3rd Qu.:   2142  \n",
       " Max.   :600831   Max.   :7763894  "
      ]
     },
     "metadata": {},
     "output_type": "display_data"
    }
   ],
   "source": [
    "trip_freq <- read_csv(\"Processed Data/1C/trip_freq.csv\")\n",
    "trip_freq_working <- trip_freq[trip_freq$time==\"Weekday (12:00am-8:29:59am)\"|trip_freq$time==\"Weekday (8:30am-2:59:59pm)\" | trip_freq$time==\"Weekday (3:00pm-6:59:59pm)\",]\n",
    "working_stops <- trip_freq_working %>% group_by(stop_id) %>% summarise(quantity = sum(quantity))\n",
    "summary(working_stops)"
   ]
  },
  {
   "cell_type": "markdown",
   "metadata": {},
   "source": [
    "When looking at the summary statistics for working days, we can see that each trip:\n",
    "\n",
    "- Has between 1 and 7,763,894 people using it to access public transport.\n",
    "- Has a mean of 7,992 trips and a median of 570 trips.\n",
    "\n",
    "These will be useful in a second when we compare against non-working days, like so:"
   ]
  },
  {
   "cell_type": "code",
   "execution_count": 4,
   "metadata": {},
   "outputs": [
    {
     "data": {
      "text/plain": [
       "    stop_id          quantity      \n",
       " Min.   :     1   Min.   :      1  \n",
       " 1st Qu.:  4825   1st Qu.:     28  \n",
       " Median :300432   Median :    108  \n",
       " Mean   :173354   Mean   :   2547  \n",
       " 3rd Qu.:311365   3rd Qu.:    433  \n",
       " Max.   :600831   Max.   :1362041  "
      ]
     },
     "metadata": {},
     "output_type": "display_data"
    }
   ],
   "source": [
    "trip_freq_not_working <- trip_freq[trip_freq$time==\"Weekday (7:00pm-11:59:59pm)\"|trip_freq$time==\"Weekend\",]\n",
    "non_working_stops <- trip_freq_not_working %>% group_by(stop_id) %>% summarise(quantity = sum(quantity))\n",
    "summary(non_working_stops)"
   ]
  },
  {
   "cell_type": "markdown",
   "metadata": {},
   "source": [
    "When looking at the summary statistics for non working days, we can see that each trip:\n",
    "\n",
    "- Has between 1 and 1,362,041 people using it to access public transport.\n",
    "- Has a mean of 2,547 trips and a median of 108 trips.\n",
    "\n",
    "To more easily compare, I am going to merge both datasets into the one file where stop_id exists in both."
   ]
  },
  {
   "cell_type": "code",
   "execution_count": 5,
   "metadata": {},
   "outputs": [
    {
     "data": {
      "text/html": [
       "<table>\n",
       "<thead><tr><th scope=col>stop_id</th><th scope=col>working_time</th><th scope=col>non_working_time</th></tr></thead>\n",
       "<tbody>\n",
       "\t<tr><td>1    </td><td> 5761</td><td>1023 </td></tr>\n",
       "\t<tr><td>2    </td><td> 2041</td><td> 433 </td></tr>\n",
       "\t<tr><td>3    </td><td>   34</td><td>   3 </td></tr>\n",
       "\t<tr><td>5    </td><td> 2717</td><td> 424 </td></tr>\n",
       "\t<tr><td>6    </td><td>30501</td><td>3029 </td></tr>\n",
       "\t<tr><td>8    </td><td>52437</td><td>8590 </td></tr>\n",
       "</tbody>\n",
       "</table>\n"
      ],
      "text/latex": [
       "\\begin{tabular}{r|lll}\n",
       " stop\\_id & working\\_time & non\\_working\\_time\\\\\n",
       "\\hline\n",
       "\t 1     &  5761 & 1023 \\\\\n",
       "\t 2     &  2041 &  433 \\\\\n",
       "\t 3     &    34 &    3 \\\\\n",
       "\t 5     &  2717 &  424 \\\\\n",
       "\t 6     & 30501 & 3029 \\\\\n",
       "\t 8     & 52437 & 8590 \\\\\n",
       "\\end{tabular}\n"
      ],
      "text/markdown": [
       "\n",
       "stop_id | working_time | non_working_time | \n",
       "|---|---|---|---|---|---|\n",
       "| 1     |  5761 | 1023  | \n",
       "| 2     |  2041 |  433  | \n",
       "| 3     |    34 |    3  | \n",
       "| 5     |  2717 |  424  | \n",
       "| 6     | 30501 | 3029  | \n",
       "| 8     | 52437 | 8590  | \n",
       "\n",
       "\n"
      ],
      "text/plain": [
       "  stop_id working_time non_working_time\n",
       "1 1        5761        1023            \n",
       "2 2        2041         433            \n",
       "3 3          34           3            \n",
       "4 5        2717         424            \n",
       "5 6       30501        3029            \n",
       "6 8       52437        8590            "
      ]
     },
     "metadata": {},
     "output_type": "display_data"
    }
   ],
   "source": [
    "combined_stops <- merge(working_stops, non_working_stops, by=\"stop_id\")\n",
    "colnames(combined_stops)[colnames(combined_stops)==\"quantity.x\"] <- \"working_time\"\n",
    "colnames(combined_stops)[colnames(combined_stops)==\"quantity.y\"] <- \"non_working_time\"\n",
    "head(combined_stops)"
   ]
  },
  {
   "cell_type": "markdown",
   "metadata": {},
   "source": [
    "To help us understand the relationship between working time and non working time trips, I've added a new (calculated) column that calculates the percentage of weekend trips for each of the stops."
   ]
  },
  {
   "cell_type": "code",
   "execution_count": 6,
   "metadata": {},
   "outputs": [
    {
     "data": {
      "text/plain": [
       "    stop_id        working_time     non_working_time  weekend_percentage\n",
       " Min.   :     1   Min.   :      1   Min.   :      1   Min.   : 0.00225  \n",
       " 1st Qu.:  4826   1st Qu.:    307   1st Qu.:     28   1st Qu.: 6.90772  \n",
       " Median :300431   Median :    950   Median :    108   Median :11.99678  \n",
       " Mean   :173344   Mean   :  10696   Mean   :   2549   Mean   :13.72968  \n",
       " 3rd Qu.:311364   3rd Qu.:   3180   3rd Qu.:    433   3rd Qu.:18.56930  \n",
       " Max.   :600831   Max.   :7763894   Max.   :1362041   Max.   :98.44262  "
      ]
     },
     "metadata": {},
     "output_type": "display_data"
    }
   ],
   "source": [
    "combined_stops$weekend_percentage <- with(combined_stops, (non_working_time/(working_time + non_working_time)) * 100)\n",
    "summary(combined_stops)"
   ]
  },
  {
   "cell_type": "markdown",
   "metadata": {},
   "source": [
    "This set of summary statistics is both a good comparsion of working week trips vs. non-working week trips (from above), it also lets us drill down on the percentage of non-weekday trips:\n",
    "\n",
    "- while the mean and median are pretty close and between 12-14% of all trips, there are a number (46, in fact) of trips that have a greater than 50% percentage of non-commuting trips, including one at a whopping 98% of trips being taken outside of working hours\n",
    "\n",
    "The problem with comparing the raw figures of commute vs. non-commute is that commute represents a 5 day window (minus 5 hours a day), while non-commute is 2 days plus the extra five hour blocks. It's not comparing apples to apples. To normalise, I want to divide the trips by the weekly spread of hours to get a normalised number. It would make more sense to divide by the yearly spread of hours (given the universe covers a 12 month period), but as both datasets cover 12 months of data, I don't gain anything by doing this additional calculation - these figures will only be compared with each other, not presented as true facts about the data.\n",
    "\n",
    "- Commuter trips are 19 hours a day x 5 days = 95 hours a week.\n",
    "- Non-working trips are 2 x 24 hours + (5 x 5  hours) = 73 hours a week.\n",
    "\n",
    "(An alternative way of doing this would be to normalise on number of trips (from 1A) rather than spread of hours, but 1A isn't available for use yet (and I'm not sure it would be preferred in either case?)\n",
    "\n",
    "To implement this normalisation, I am creating two new (calculated) columns in our dataset to give the normalised hours. I will also add a third new column that gives the updated percentage of weekend stops, corrected for hours."
   ]
  },
  {
   "cell_type": "code",
   "execution_count": 7,
   "metadata": {},
   "outputs": [
    {
     "data": {
      "text/plain": [
       "    stop_id        working_time     non_working_time  weekend_percentage\n",
       " Min.   :     1   Min.   :      1   Min.   :      1   Min.   : 0.00225  \n",
       " 1st Qu.:  4826   1st Qu.:    307   1st Qu.:     28   1st Qu.: 6.90772  \n",
       " Median :300431   Median :    950   Median :    108   Median :11.99678  \n",
       " Mean   :173344   Mean   :  10696   Mean   :   2549   Mean   :13.72968  \n",
       " 3rd Qu.:311364   3rd Qu.:   3180   3rd Qu.:    433   3rd Qu.:18.56930  \n",
       " Max.   :600831   Max.   :7763894   Max.   :1362041   Max.   :98.44262  \n",
       " normalised_working_time normalised_non_working_time norm_weekend_percentage\n",
       " Min.   :    0.01        Min.   :    0.014           Min.   : 0.00293       \n",
       " 1st Qu.:    3.23        1st Qu.:    0.384           1st Qu.: 8.80618       \n",
       " Median :   10.00        Median :    1.479           Median :15.06749       \n",
       " Mean   :  112.59        Mean   :   34.920           Mean   :16.85188       \n",
       " 3rd Qu.:   33.47        3rd Qu.:    5.932           3rd Qu.:22.88484       \n",
       " Max.   :81725.20        Max.   :18658.096           Max.   :98.79895       "
      ]
     },
     "metadata": {},
     "output_type": "display_data"
    }
   ],
   "source": [
    "combined_stops$normalised_working_time <- with(combined_stops, working_time / 95)\n",
    "options(scipen=999) # to temporarily disable R's habit of automatically swapping to scientific notation\n",
    "combined_stops$normalised_non_working_time <- with(combined_stops, non_working_time / 73)\n",
    "combined_stops$norm_weekend_percentage <- with(combined_stops, (normalised_non_working_time/(normalised_working_time + normalised_non_working_time)) * 100)\n",
    "summary(combined_stops)\n",
    "options(scipen=0) # to restore R's default functionality"
   ]
  },
  {
   "cell_type": "markdown",
   "metadata": {},
   "source": [
    "At this point, looking at both the mean and median of the normalised weekend percentage, it is clear that there is a strong correlation between the design of the public transport network and the needs of people using it to commute. When considering the collection of stops, it is clear that the vast majority of the use is during working hours, even when correcting for the different periods of time in each window.\n",
    "\n",
    "Note - would still like to re-run using number of services rather than hours, but need 1A.\n",
    "\n",
    "To complete this piece of analysis, it is important to aggregate these results back to the SA2 level so we can compare any differences between socio-economic index.  To do this, I'll bring in 1F.\n",
    "\n",
    "The only columns I'm bringing in are stop_id, SA2Code, SA2Name and Team_Member for now, and I'll immediately join it to our combined_stops dataset based on stop_id (using an inner join to only keep stops for which we have data)."
   ]
  },
  {
   "cell_type": "code",
   "execution_count": 8,
   "metadata": {},
   "outputs": [
    {
     "data": {
      "text/html": [
       "<table>\n",
       "<thead><tr><th scope=col>stop_id</th><th scope=col>SA2Code</th><th scope=col>SA2Name</th><th scope=col>Team_Member</th><th scope=col>working_time</th><th scope=col>non_working_time</th><th scope=col>weekend_percentage</th><th scope=col>normalised_working_time</th><th scope=col>normalised_non_working_time</th><th scope=col>norm_weekend_percentage</th></tr></thead>\n",
       "<tbody>\n",
       "\t<tr><td>1            </td><td>305011105    </td><td>Brisbane City</td><td>Steff        </td><td> 5761        </td><td>1023         </td><td>15.079599    </td><td> 60.6421053  </td><td> 14.01369863 </td><td>18.77108     </td></tr>\n",
       "\t<tr><td>2            </td><td>305011105    </td><td>Brisbane City</td><td>Steff        </td><td> 2041        </td><td> 433         </td><td>17.502021    </td><td> 21.4842105  </td><td>  5.93150685 </td><td>21.63542     </td></tr>\n",
       "\t<tr><td>3            </td><td>305011105    </td><td>Brisbane City</td><td>Steff        </td><td>   34        </td><td>   3         </td><td> 8.108108    </td><td>  0.3578947  </td><td>  0.04109589 </td><td>10.29996     </td></tr>\n",
       "\t<tr><td>5            </td><td>305011105    </td><td>Brisbane City</td><td>Steff        </td><td> 2717        </td><td> 424         </td><td>13.498886    </td><td> 28.6000000  </td><td>  5.80821918 </td><td>16.88032     </td></tr>\n",
       "\t<tr><td>6            </td><td>305011105    </td><td>Brisbane City</td><td>Steff        </td><td>30501        </td><td>3029         </td><td> 9.033701    </td><td>321.0631579  </td><td> 41.49315068 </td><td>11.44461     </td></tr>\n",
       "\t<tr><td>8            </td><td>305011105    </td><td>Brisbane City</td><td>Steff        </td><td>52437        </td><td>8590         </td><td>14.075737    </td><td>551.9684211  </td><td>117.67123288 </td><td>17.57232     </td></tr>\n",
       "</tbody>\n",
       "</table>\n"
      ],
      "text/latex": [
       "\\begin{tabular}{r|llllllllll}\n",
       " stop\\_id & SA2Code & SA2Name & Team\\_Member & working\\_time & non\\_working\\_time & weekend\\_percentage & normalised\\_working\\_time & normalised\\_non\\_working\\_time & norm\\_weekend\\_percentage\\\\\n",
       "\\hline\n",
       "\t 1             & 305011105     & Brisbane City & Steff         &  5761         & 1023          & 15.079599     &  60.6421053   &  14.01369863  & 18.77108     \\\\\n",
       "\t 2             & 305011105     & Brisbane City & Steff         &  2041         &  433          & 17.502021     &  21.4842105   &   5.93150685  & 21.63542     \\\\\n",
       "\t 3             & 305011105     & Brisbane City & Steff         &    34         &    3          &  8.108108     &   0.3578947   &   0.04109589  & 10.29996     \\\\\n",
       "\t 5             & 305011105     & Brisbane City & Steff         &  2717         &  424          & 13.498886     &  28.6000000   &   5.80821918  & 16.88032     \\\\\n",
       "\t 6             & 305011105     & Brisbane City & Steff         & 30501         & 3029          &  9.033701     & 321.0631579   &  41.49315068  & 11.44461     \\\\\n",
       "\t 8             & 305011105     & Brisbane City & Steff         & 52437         & 8590          & 14.075737     & 551.9684211   & 117.67123288  & 17.57232     \\\\\n",
       "\\end{tabular}\n"
      ],
      "text/markdown": [
       "\n",
       "stop_id | SA2Code | SA2Name | Team_Member | working_time | non_working_time | weekend_percentage | normalised_working_time | normalised_non_working_time | norm_weekend_percentage | \n",
       "|---|---|---|---|---|---|\n",
       "| 1             | 305011105     | Brisbane City | Steff         |  5761         | 1023          | 15.079599     |  60.6421053   |  14.01369863  | 18.77108      | \n",
       "| 2             | 305011105     | Brisbane City | Steff         |  2041         |  433          | 17.502021     |  21.4842105   |   5.93150685  | 21.63542      | \n",
       "| 3             | 305011105     | Brisbane City | Steff         |    34         |    3          |  8.108108     |   0.3578947   |   0.04109589  | 10.29996      | \n",
       "| 5             | 305011105     | Brisbane City | Steff         |  2717         |  424          | 13.498886     |  28.6000000   |   5.80821918  | 16.88032      | \n",
       "| 6             | 305011105     | Brisbane City | Steff         | 30501         | 3029          |  9.033701     | 321.0631579   |  41.49315068  | 11.44461      | \n",
       "| 8             | 305011105     | Brisbane City | Steff         | 52437         | 8590          | 14.075737     | 551.9684211   | 117.67123288  | 17.57232      | \n",
       "\n",
       "\n"
      ],
      "text/plain": [
       "  stop_id SA2Code   SA2Name       Team_Member working_time non_working_time\n",
       "1 1       305011105 Brisbane City Steff        5761        1023            \n",
       "2 2       305011105 Brisbane City Steff        2041         433            \n",
       "3 3       305011105 Brisbane City Steff          34           3            \n",
       "4 5       305011105 Brisbane City Steff        2717         424            \n",
       "5 6       305011105 Brisbane City Steff       30501        3029            \n",
       "6 8       305011105 Brisbane City Steff       52437        8590            \n",
       "  weekend_percentage normalised_working_time normalised_non_working_time\n",
       "1 15.079599           60.6421053              14.01369863               \n",
       "2 17.502021           21.4842105               5.93150685               \n",
       "3  8.108108            0.3578947               0.04109589               \n",
       "4 13.498886           28.6000000               5.80821918               \n",
       "5  9.033701          321.0631579              41.49315068               \n",
       "6 14.075737          551.9684211             117.67123288               \n",
       "  norm_weekend_percentage\n",
       "1 18.77108               \n",
       "2 21.63542               \n",
       "3 10.29996               \n",
       "4 16.88032               \n",
       "5 11.44461               \n",
       "6 17.57232               "
      ]
     },
     "metadata": {},
     "output_type": "display_data"
    }
   ],
   "source": [
    "SA2_stops_by_mode <- read_csv(\"Processed Data/1F/SA2_stops_by_mode.csv\", col_types = cols(AREASQKM16 = col_skip(), Pop = col_skip(), Score = col_skip(), is_bus_stop = col_skip(), is_ferry_stop = col_skip(), is_train_station = col_skip(), is_tram_stop = col_skip(), stop_lat = col_skip(), stop_lon = col_skip(), stop_name = col_skip(), stop_url = col_skip()))\n",
    "SA2_combined <- join(SA2_stops_by_mode, combined_stops, by=\"stop_id\", type=\"inner\")\n",
    "head(SA2_combined)"
   ]
  },
  {
   "cell_type": "markdown",
   "metadata": {},
   "source": [
    "Finally, I'm going to use my existing code samples to aggregate these rows up to the SA2 level.\n",
    "\n",
    "There is probably a more effecient way of doing this, but this works for now."
   ]
  },
  {
   "cell_type": "code",
   "execution_count": 19,
   "metadata": {},
   "outputs": [
    {
     "data": {
      "text/html": [
       "<table>\n",
       "<thead><tr><th></th><th scope=col>SA2Code</th><th scope=col>SA2Name</th><th scope=col>Team_Member</th><th scope=col>normalised_working_time</th><th scope=col>normalised_non_working_time</th><th scope=col>norm_weekend_percentage</th></tr></thead>\n",
       "<tbody>\n",
       "\t<tr><th scope=row>218</th><td>311031318                   </td><td>Munruben - Park Ridge South </td><td>Dave                        </td><td>   2.8736842                </td><td>  0.01369863                </td><td>0.4744307                   </td></tr>\n",
       "\t<tr><th scope=row>252</th><td>314011387                   </td><td>Samford Valley              </td><td>Steff                       </td><td>   6.3789474                </td><td>  0.06849315                </td><td>1.0623309                   </td></tr>\n",
       "\t<tr><th scope=row>93</th><td>304031093                   </td><td>Corinda                     </td><td>Steff                       </td><td> 834.4000000                </td><td> 14.38356164                </td><td>1.6946089                   </td></tr>\n",
       "\t<tr><th scope=row>11</th><td>301021011                   </td><td>Sheldon - Mount Cotton      </td><td>Steff                       </td><td> 221.3157895                </td><td> 12.58904110                </td><td>5.3821210                   </td></tr>\n",
       "\t<tr><th scope=row>238</th><td>313021367                   </td><td>Elimbah                     </td><td>Charlie                     </td><td> 125.4947368                </td><td>  7.98630137                </td><td>5.9830980                   </td></tr>\n",
       "\t<tr><th scope=row>221</th><td>311051324                   </td><td>Cornubia - Carbrook         </td><td>Kate                        </td><td>  59.3473684                </td><td>  4.24657534                </td><td>6.6776411                   </td></tr>\n",
       "\t<tr><th scope=row>207</th><td>311011305                   </td><td>Beaudesert                  </td><td>Eric                        </td><td>   0.1684211                </td><td>  0.01369863                </td><td>7.5217736                   </td></tr>\n",
       "\t<tr><th scope=row>43</th><td>302041043                   </td><td>Deagon                      </td><td>Charlie                     </td><td>2163.8842105                </td><td>179.57534247                </td><td>7.6628309                   </td></tr>\n",
       "\t<tr><th scope=row>250</th><td>314011385                   </td><td>Eatons Hill                 </td><td>Steff                       </td><td> 384.6105263                </td><td> 32.50684932                </td><td>7.7932139                   </td></tr>\n",
       "\t<tr><th scope=row>251</th><td>314011386                   </td><td>The Hills District          </td><td>Kate                        </td><td> 654.7157895                </td><td> 55.36986301                </td><td>7.7976316                   </td></tr>\n",
       "\t<tr><th scope=row>242</th><td>313041375                   </td><td>Narangba                    </td><td>Dave                        </td><td>2991.1684211                </td><td>257.64383562                </td><td>7.9304009                   </td></tr>\n",
       "\t<tr><th scope=row>229</th><td>311061332                   </td><td>Rochedale South - Priestdale</td><td>Dave                        </td><td>1069.3894737                </td><td> 92.45205479                </td><td>7.9573722                   </td></tr>\n",
       "\t<tr><th scope=row>19</th><td>301031019                   </td><td>Wakerley                    </td><td>Steff                       </td><td> 709.8736842                </td><td> 61.52054795                </td><td>7.9752409                   </td></tr>\n",
       "\t<tr><th scope=row>185</th><td>310011276                   </td><td>Wacol                       </td><td>Eric                        </td><td>2248.8842105                </td><td>198.26027397                </td><td>8.1016987                   </td></tr>\n",
       "\t<tr><th scope=row>9</th><td>301021008                   </td><td>Ormiston                    </td><td>Kate                        </td><td>1216.4842105                </td><td>108.35616438                </td><td>8.1788090                   </td></tr>\n",
       "\t<tr><th scope=row>165</th><td>309071257                   </td><td>Pimpama                     </td><td>Charlie                     </td><td>1261.9368421                </td><td>114.43835616                </td><td>8.3144739                   </td></tr>\n",
       "\t<tr><th scope=row>240</th><td>313041372                   </td><td>Burpengary                  </td><td>Charlie                     </td><td>2581.8000000                </td><td>235.04109589                </td><td>8.3441376                   </td></tr>\n",
       "\t<tr><th scope=row>249</th><td>314011383                   </td><td>Cashmere                    </td><td>Kate                        </td><td> 299.1684211                </td><td> 27.63013699                </td><td>8.4547916                   </td></tr>\n",
       "\t<tr><th scope=row>22</th><td>302011022                   </td><td>Bald Hills                  </td><td>Dave                        </td><td>2454.7578947                </td><td>226.87671233                </td><td>8.4603887                   </td></tr>\n",
       "\t<tr><th scope=row>6</th><td>301011005                   </td><td>Thorneside                  </td><td>Charlie                     </td><td> 797.2526316                </td><td> 73.90410959                </td><td>8.4834458                   </td></tr>\n",
       "\t<tr><th scope=row>256</th><td>314031391                   </td><td>Bray Park                   </td><td>Charlie                     </td><td> 609.8736842                </td><td> 56.97260274                </td><td>8.5435885                   </td></tr>\n",
       "\t<tr><th scope=row>216</th><td>311031316                   </td><td>Hillcrest                   </td><td>Charlie                     </td><td> 296.1368421                </td><td> 28.08219178                </td><td>8.6614877                   </td></tr>\n",
       "\t<tr><th scope=row>26</th><td>302011026                   </td><td>McDowall                    </td><td>Steff                       </td><td> 957.9578947                </td><td> 91.02739726                </td><td>8.6776619                   </td></tr>\n",
       "\t<tr><th scope=row>191</th><td>310031284                   </td><td>Bundamba                    </td><td>Eric                        </td><td>2636.8947368                </td><td>251.21917808                </td><td>8.6983819                   </td></tr>\n",
       "\t<tr><th scope=row>253</th><td>314021388                   </td><td>Dakabin - Kallangur         </td><td>Eric                        </td><td>3175.4315789                </td><td>304.93150685                </td><td>8.7614855                   </td></tr>\n",
       "\t<tr><th scope=row>180</th><td>310011271                   </td><td>Darra - Sumner              </td><td>Charlie                     </td><td>5094.9894737                </td><td>493.56164384                </td><td>8.8316566                   </td></tr>\n",
       "\t<tr><th scope=row>205</th><td>310041303                   </td><td>Springfield                 </td><td>Charlie                     </td><td>1732.1368421                </td><td>169.67123288                </td><td>8.9215750                   </td></tr>\n",
       "\t<tr><th scope=row>283</th><td>316061441                   </td><td>Glass House Mountains       </td><td>Charlie                     </td><td> 292.8631579                </td><td> 30.01369863                </td><td>9.2957107                   </td></tr>\n",
       "\t<tr><th scope=row>102</th><td>304041104                   </td><td>Upper Kedron - Ferny Grove  </td><td>Steff                       </td><td>6163.9789474                </td><td>637.38356164                </td><td>9.3714099                   </td></tr>\n",
       "\t<tr><th scope=row>188</th><td>310021281                   </td><td>Lowood                      </td><td>Eric                        </td><td>  48.7157895                </td><td>  5.04109589                </td><td>9.3775818                   </td></tr>\n",
       "\t<tr><th scope=row>...</th><td>...</td><td>...</td><td>...</td><td>...</td><td>...</td><td>...</td></tr>\n",
       "\t<tr><th scope=row>152</th><td>309031240                      </td><td>Runaway Bay                    </td><td>Dave                           </td><td>  785.3789474                  </td><td>  333.4246575                  </td><td>29.80189                       </td></tr>\n",
       "\t<tr><th scope=row>107</th><td>305011109                      </td><td>New Farm                       </td><td>Steff                          </td><td> 7038.9157895                  </td><td> 2999.7671233                  </td><td>29.88208                       </td></tr>\n",
       "\t<tr><th scope=row>89</th><td>304021089                      </td><td>Fig Tree Pocket                </td><td>Steff                          </td><td>  823.2210526                  </td><td>  366.5068493                  </td><td>30.80594                       </td></tr>\n",
       "\t<tr><th scope=row>157</th><td>309061248                      </td><td>Nerang - Mount Nathan          </td><td>Charlie                        </td><td> 6234.4736842                  </td><td> 2845.3424658                  </td><td>31.33701                       </td></tr>\n",
       "\t<tr><th scope=row>174</th><td>309091540                      </td><td>Southport - North              </td><td>Eric                           </td><td>28578.1789474                  </td><td>13352.6986301                  </td><td>31.84455                       </td></tr>\n",
       "\t<tr><th scope=row>275</th><td>316031428                      </td><td>Mooloolaba - Alexandra Headland</td><td>Charlie                        </td><td> 2027.7789474                  </td><td>  952.6986301                  </td><td>31.96463                       </td></tr>\n",
       "\t<tr><th scope=row>277</th><td>316051435                      </td><td>Noosaville                     </td><td>Dave                           </td><td> 1142.3684211                  </td><td>  561.2602740                  </td><td>32.94499                       </td></tr>\n",
       "\t<tr><th scope=row>288</th><td>316071547                      </td><td>Eumundi - Yandina              </td><td>Charlie                        </td><td>  253.3368421                  </td><td>  125.7534247                  </td><td>33.17242                       </td></tr>\n",
       "\t<tr><th scope=row>108</th><td>305011110                      </td><td>South Brisbane                 </td><td>Steff                          </td><td>78962.1263158                  </td><td>40138.4931507                  </td><td>33.70133                       </td></tr>\n",
       "\t<tr><th scope=row>272</th><td>316031425                      </td><td>Coolum Beach                   </td><td>Dave                           </td><td>  857.3894737                  </td><td>  440.2876712                  </td><td>33.92891                       </td></tr>\n",
       "\t<tr><th scope=row>148</th><td>309031236                      </td><td>Biggera Waters                 </td><td>Charlie                        </td><td> 2833.3473684                  </td><td> 1488.2191781                  </td><td>34.43703                       </td></tr>\n",
       "\t<tr><th scope=row>69</th><td>303041069                      </td><td>Robertson                      </td><td>Dave                           </td><td> 4542.3894737                  </td><td> 2440.7123288                  </td><td>34.95169                       </td></tr>\n",
       "\t<tr><th scope=row>155</th><td>309061246                      </td><td>Carrara                        </td><td>Charlie                        </td><td>  559.2421053                  </td><td>  300.7945205                  </td><td>34.97462                       </td></tr>\n",
       "\t<tr><th scope=row>167</th><td>309081259                      </td><td>Clear Island Waters            </td><td>Kate                           </td><td>   81.4842105                  </td><td>   43.8356164                  </td><td>34.97900                       </td></tr>\n",
       "\t<tr><th scope=row>146</th><td>309021234                      </td><td>Palm Beach                     </td><td>Charlie                        </td><td> 2059.1473684                  </td><td> 1147.7397260                  </td><td>35.78984                       </td></tr>\n",
       "\t<tr><th scope=row>36</th><td>302031036                      </td><td>Brisbane Airport               </td><td>Steff                          </td><td> 2181.2421053                  </td><td> 1247.9726027                  </td><td>36.39237                       </td></tr>\n",
       "\t<tr><th scope=row>122</th><td>305031124                      </td><td>Hamilton (Qld)                 </td><td>Steff                          </td><td> 2722.1473684                  </td><td> 1564.8904110                  </td><td>36.50284                       </td></tr>\n",
       "\t<tr><th scope=row>276</th><td>316051434                      </td><td>Noosa Heads                    </td><td>Kate                           </td><td> 2080.7578947                  </td><td> 1208.7945205                  </td><td>36.74647                       </td></tr>\n",
       "\t<tr><th scope=row>280</th><td>316051543                      </td><td>Peregian Beach - Marcus Beach  </td><td>Kate                           </td><td>  295.4631579                  </td><td>  178.6027397                  </td><td>37.67467                       </td></tr>\n",
       "\t<tr><th scope=row>136</th><td>309011224                      </td><td>Broadbeach Waters              </td><td>Kate                           </td><td> 1244.7684211                  </td><td>  769.6301370                  </td><td>38.20645                       </td></tr>\n",
       "\t<tr><th scope=row>1</th><td>112031254                      </td><td>Tweed Heads                    </td><td>Eric                           </td><td>  737.1473684                  </td><td>  462.1917808                  </td><td>38.53720                       </td></tr>\n",
       "\t<tr><th scope=row>143</th><td>309021231                      </td><td>Currumbin - Tugun              </td><td>Charlie                        </td><td> 2852.1684211                  </td><td> 1803.8767123                  </td><td>38.74268                       </td></tr>\n",
       "\t<tr><th scope=row>141</th><td>309011229                      </td><td>Miami                          </td><td>Dave                           </td><td> 1193.8000000                  </td><td>  767.1232877                  </td><td>39.12051                       </td></tr>\n",
       "\t<tr><th scope=row>61</th><td>303031061                      </td><td>Macgregor (Qld)                </td><td>Dave                           </td><td> 1650.8631579                  </td><td> 1083.4931507                  </td><td>39.62516                       </td></tr>\n",
       "\t<tr><th scope=row>178</th><td>309101269                      </td><td>Main Beach                     </td><td>Kate                           </td><td> 2353.9052632                  </td><td> 1552.5753425                  </td><td>39.74358                       </td></tr>\n",
       "\t<tr><th scope=row>137</th><td>309011225                      </td><td>Burleigh Heads                 </td><td>Dave                           </td><td> 2276.2421053                  </td><td> 1505.6575342                  </td><td>39.81220                       </td></tr>\n",
       "\t<tr><th scope=row>142</th><td>309021230                      </td><td>Coolangatta                    </td><td>Charlie                        </td><td> 1252.8736842                  </td><td>  884.5890411                  </td><td>41.38500                       </td></tr>\n",
       "\t<tr><th scope=row>139</th><td>309011227                      </td><td>Mermaid Beach - Broadbeach     </td><td>Dave                           </td><td>18843.8947368                  </td><td>14780.8356164                  </td><td>43.95823                       </td></tr>\n",
       "\t<tr><th scope=row>293</th><td>319031514                      </td><td>Gympie Region                  </td><td>Eric                           </td><td>    0.4526316                  </td><td>    0.3561644                  </td><td>44.03637                       </td></tr>\n",
       "\t<tr><th scope=row>179</th><td>309101270                      </td><td>Surfers Paradise               </td><td>Charlie                        </td><td>21376.1052632                  </td><td>17817.6027397                  </td><td>45.46037                       </td></tr>\n",
       "</tbody>\n",
       "</table>\n"
      ],
      "text/latex": [
       "\\begin{tabular}{r|llllll}\n",
       "  & SA2Code & SA2Name & Team\\_Member & normalised\\_working\\_time & normalised\\_non\\_working\\_time & norm\\_weekend\\_percentage\\\\\n",
       "\\hline\n",
       "\t218 & 311031318                    & Munruben - Park Ridge South  & Dave                         &    2.8736842                 &   0.01369863                 & 0.4744307                   \\\\\n",
       "\t252 & 314011387                    & Samford Valley               & Steff                        &    6.3789474                 &   0.06849315                 & 1.0623309                   \\\\\n",
       "\t93 & 304031093                    & Corinda                      & Steff                        &  834.4000000                 &  14.38356164                 & 1.6946089                   \\\\\n",
       "\t11 & 301021011                    & Sheldon - Mount Cotton       & Steff                        &  221.3157895                 &  12.58904110                 & 5.3821210                   \\\\\n",
       "\t238 & 313021367                    & Elimbah                      & Charlie                      &  125.4947368                 &   7.98630137                 & 5.9830980                   \\\\\n",
       "\t221 & 311051324                    & Cornubia - Carbrook          & Kate                         &   59.3473684                 &   4.24657534                 & 6.6776411                   \\\\\n",
       "\t207 & 311011305                    & Beaudesert                   & Eric                         &    0.1684211                 &   0.01369863                 & 7.5217736                   \\\\\n",
       "\t43 & 302041043                    & Deagon                       & Charlie                      & 2163.8842105                 & 179.57534247                 & 7.6628309                   \\\\\n",
       "\t250 & 314011385                    & Eatons Hill                  & Steff                        &  384.6105263                 &  32.50684932                 & 7.7932139                   \\\\\n",
       "\t251 & 314011386                    & The Hills District           & Kate                         &  654.7157895                 &  55.36986301                 & 7.7976316                   \\\\\n",
       "\t242 & 313041375                    & Narangba                     & Dave                         & 2991.1684211                 & 257.64383562                 & 7.9304009                   \\\\\n",
       "\t229 & 311061332                    & Rochedale South - Priestdale & Dave                         & 1069.3894737                 &  92.45205479                 & 7.9573722                   \\\\\n",
       "\t19 & 301031019                    & Wakerley                     & Steff                        &  709.8736842                 &  61.52054795                 & 7.9752409                   \\\\\n",
       "\t185 & 310011276                    & Wacol                        & Eric                         & 2248.8842105                 & 198.26027397                 & 8.1016987                   \\\\\n",
       "\t9 & 301021008                    & Ormiston                     & Kate                         & 1216.4842105                 & 108.35616438                 & 8.1788090                   \\\\\n",
       "\t165 & 309071257                    & Pimpama                      & Charlie                      & 1261.9368421                 & 114.43835616                 & 8.3144739                   \\\\\n",
       "\t240 & 313041372                    & Burpengary                   & Charlie                      & 2581.8000000                 & 235.04109589                 & 8.3441376                   \\\\\n",
       "\t249 & 314011383                    & Cashmere                     & Kate                         &  299.1684211                 &  27.63013699                 & 8.4547916                   \\\\\n",
       "\t22 & 302011022                    & Bald Hills                   & Dave                         & 2454.7578947                 & 226.87671233                 & 8.4603887                   \\\\\n",
       "\t6 & 301011005                    & Thorneside                   & Charlie                      &  797.2526316                 &  73.90410959                 & 8.4834458                   \\\\\n",
       "\t256 & 314031391                    & Bray Park                    & Charlie                      &  609.8736842                 &  56.97260274                 & 8.5435885                   \\\\\n",
       "\t216 & 311031316                    & Hillcrest                    & Charlie                      &  296.1368421                 &  28.08219178                 & 8.6614877                   \\\\\n",
       "\t26 & 302011026                    & McDowall                     & Steff                        &  957.9578947                 &  91.02739726                 & 8.6776619                   \\\\\n",
       "\t191 & 310031284                    & Bundamba                     & Eric                         & 2636.8947368                 & 251.21917808                 & 8.6983819                   \\\\\n",
       "\t253 & 314021388                    & Dakabin - Kallangur          & Eric                         & 3175.4315789                 & 304.93150685                 & 8.7614855                   \\\\\n",
       "\t180 & 310011271                    & Darra - Sumner               & Charlie                      & 5094.9894737                 & 493.56164384                 & 8.8316566                   \\\\\n",
       "\t205 & 310041303                    & Springfield                  & Charlie                      & 1732.1368421                 & 169.67123288                 & 8.9215750                   \\\\\n",
       "\t283 & 316061441                    & Glass House Mountains        & Charlie                      &  292.8631579                 &  30.01369863                 & 9.2957107                   \\\\\n",
       "\t102 & 304041104                    & Upper Kedron - Ferny Grove   & Steff                        & 6163.9789474                 & 637.38356164                 & 9.3714099                   \\\\\n",
       "\t188 & 310021281                    & Lowood                       & Eric                         &   48.7157895                 &   5.04109589                 & 9.3775818                   \\\\\n",
       "\t... & ... & ... & ... & ... & ... & ...\\\\\n",
       "\t152 & 309031240                       & Runaway Bay                     & Dave                            &   785.3789474                   &   333.4246575                   & 29.80189                       \\\\\n",
       "\t107 & 305011109                       & New Farm                        & Steff                           &  7038.9157895                   &  2999.7671233                   & 29.88208                       \\\\\n",
       "\t89 & 304021089                       & Fig Tree Pocket                 & Steff                           &   823.2210526                   &   366.5068493                   & 30.80594                       \\\\\n",
       "\t157 & 309061248                       & Nerang - Mount Nathan           & Charlie                         &  6234.4736842                   &  2845.3424658                   & 31.33701                       \\\\\n",
       "\t174 & 309091540                       & Southport - North               & Eric                            & 28578.1789474                   & 13352.6986301                   & 31.84455                       \\\\\n",
       "\t275 & 316031428                       & Mooloolaba - Alexandra Headland & Charlie                         &  2027.7789474                   &   952.6986301                   & 31.96463                       \\\\\n",
       "\t277 & 316051435                       & Noosaville                      & Dave                            &  1142.3684211                   &   561.2602740                   & 32.94499                       \\\\\n",
       "\t288 & 316071547                       & Eumundi - Yandina               & Charlie                         &   253.3368421                   &   125.7534247                   & 33.17242                       \\\\\n",
       "\t108 & 305011110                       & South Brisbane                  & Steff                           & 78962.1263158                   & 40138.4931507                   & 33.70133                       \\\\\n",
       "\t272 & 316031425                       & Coolum Beach                    & Dave                            &   857.3894737                   &   440.2876712                   & 33.92891                       \\\\\n",
       "\t148 & 309031236                       & Biggera Waters                  & Charlie                         &  2833.3473684                   &  1488.2191781                   & 34.43703                       \\\\\n",
       "\t69 & 303041069                       & Robertson                       & Dave                            &  4542.3894737                   &  2440.7123288                   & 34.95169                       \\\\\n",
       "\t155 & 309061246                       & Carrara                         & Charlie                         &   559.2421053                   &   300.7945205                   & 34.97462                       \\\\\n",
       "\t167 & 309081259                       & Clear Island Waters             & Kate                            &    81.4842105                   &    43.8356164                   & 34.97900                       \\\\\n",
       "\t146 & 309021234                       & Palm Beach                      & Charlie                         &  2059.1473684                   &  1147.7397260                   & 35.78984                       \\\\\n",
       "\t36 & 302031036                       & Brisbane Airport                & Steff                           &  2181.2421053                   &  1247.9726027                   & 36.39237                       \\\\\n",
       "\t122 & 305031124                       & Hamilton (Qld)                  & Steff                           &  2722.1473684                   &  1564.8904110                   & 36.50284                       \\\\\n",
       "\t276 & 316051434                       & Noosa Heads                     & Kate                            &  2080.7578947                   &  1208.7945205                   & 36.74647                       \\\\\n",
       "\t280 & 316051543                       & Peregian Beach - Marcus Beach   & Kate                            &   295.4631579                   &   178.6027397                   & 37.67467                       \\\\\n",
       "\t136 & 309011224                       & Broadbeach Waters               & Kate                            &  1244.7684211                   &   769.6301370                   & 38.20645                       \\\\\n",
       "\t1 & 112031254                       & Tweed Heads                     & Eric                            &   737.1473684                   &   462.1917808                   & 38.53720                       \\\\\n",
       "\t143 & 309021231                       & Currumbin - Tugun               & Charlie                         &  2852.1684211                   &  1803.8767123                   & 38.74268                       \\\\\n",
       "\t141 & 309011229                       & Miami                           & Dave                            &  1193.8000000                   &   767.1232877                   & 39.12051                       \\\\\n",
       "\t61 & 303031061                       & Macgregor (Qld)                 & Dave                            &  1650.8631579                   &  1083.4931507                   & 39.62516                       \\\\\n",
       "\t178 & 309101269                       & Main Beach                      & Kate                            &  2353.9052632                   &  1552.5753425                   & 39.74358                       \\\\\n",
       "\t137 & 309011225                       & Burleigh Heads                  & Dave                            &  2276.2421053                   &  1505.6575342                   & 39.81220                       \\\\\n",
       "\t142 & 309021230                       & Coolangatta                     & Charlie                         &  1252.8736842                   &   884.5890411                   & 41.38500                       \\\\\n",
       "\t139 & 309011227                       & Mermaid Beach - Broadbeach      & Dave                            & 18843.8947368                   & 14780.8356164                   & 43.95823                       \\\\\n",
       "\t293 & 319031514                       & Gympie Region                   & Eric                            &     0.4526316                   &     0.3561644                   & 44.03637                       \\\\\n",
       "\t179 & 309101270                       & Surfers Paradise                & Charlie                         & 21376.1052632                   & 17817.6027397                   & 45.46037                       \\\\\n",
       "\\end{tabular}\n"
      ],
      "text/markdown": [
       "\n",
       "| <!--/--> | SA2Code | SA2Name | Team_Member | normalised_working_time | normalised_non_working_time | norm_weekend_percentage | \n",
       "|---|---|---|---|---|---|---|---|---|---|---|---|---|---|---|---|---|---|---|---|---|---|---|---|---|---|---|---|---|---|---|---|---|---|---|---|---|---|---|---|---|---|---|---|---|---|---|---|---|---|---|---|---|---|---|---|---|---|---|---|---|\n",
       "| 218 | 311031318                    | Munruben - Park Ridge South  | Dave                         |    2.8736842                 |   0.01369863                 | 0.4744307                    | \n",
       "| 252 | 314011387                    | Samford Valley               | Steff                        |    6.3789474                 |   0.06849315                 | 1.0623309                    | \n",
       "| 93 | 304031093                    | Corinda                      | Steff                        |  834.4000000                 |  14.38356164                 | 1.6946089                    | \n",
       "| 11 | 301021011                    | Sheldon - Mount Cotton       | Steff                        |  221.3157895                 |  12.58904110                 | 5.3821210                    | \n",
       "| 238 | 313021367                    | Elimbah                      | Charlie                      |  125.4947368                 |   7.98630137                 | 5.9830980                    | \n",
       "| 221 | 311051324                    | Cornubia - Carbrook          | Kate                         |   59.3473684                 |   4.24657534                 | 6.6776411                    | \n",
       "| 207 | 311011305                    | Beaudesert                   | Eric                         |    0.1684211                 |   0.01369863                 | 7.5217736                    | \n",
       "| 43 | 302041043                    | Deagon                       | Charlie                      | 2163.8842105                 | 179.57534247                 | 7.6628309                    | \n",
       "| 250 | 314011385                    | Eatons Hill                  | Steff                        |  384.6105263                 |  32.50684932                 | 7.7932139                    | \n",
       "| 251 | 314011386                    | The Hills District           | Kate                         |  654.7157895                 |  55.36986301                 | 7.7976316                    | \n",
       "| 242 | 313041375                    | Narangba                     | Dave                         | 2991.1684211                 | 257.64383562                 | 7.9304009                    | \n",
       "| 229 | 311061332                    | Rochedale South - Priestdale | Dave                         | 1069.3894737                 |  92.45205479                 | 7.9573722                    | \n",
       "| 19 | 301031019                    | Wakerley                     | Steff                        |  709.8736842                 |  61.52054795                 | 7.9752409                    | \n",
       "| 185 | 310011276                    | Wacol                        | Eric                         | 2248.8842105                 | 198.26027397                 | 8.1016987                    | \n",
       "| 9 | 301021008                    | Ormiston                     | Kate                         | 1216.4842105                 | 108.35616438                 | 8.1788090                    | \n",
       "| 165 | 309071257                    | Pimpama                      | Charlie                      | 1261.9368421                 | 114.43835616                 | 8.3144739                    | \n",
       "| 240 | 313041372                    | Burpengary                   | Charlie                      | 2581.8000000                 | 235.04109589                 | 8.3441376                    | \n",
       "| 249 | 314011383                    | Cashmere                     | Kate                         |  299.1684211                 |  27.63013699                 | 8.4547916                    | \n",
       "| 22 | 302011022                    | Bald Hills                   | Dave                         | 2454.7578947                 | 226.87671233                 | 8.4603887                    | \n",
       "| 6 | 301011005                    | Thorneside                   | Charlie                      |  797.2526316                 |  73.90410959                 | 8.4834458                    | \n",
       "| 256 | 314031391                    | Bray Park                    | Charlie                      |  609.8736842                 |  56.97260274                 | 8.5435885                    | \n",
       "| 216 | 311031316                    | Hillcrest                    | Charlie                      |  296.1368421                 |  28.08219178                 | 8.6614877                    | \n",
       "| 26 | 302011026                    | McDowall                     | Steff                        |  957.9578947                 |  91.02739726                 | 8.6776619                    | \n",
       "| 191 | 310031284                    | Bundamba                     | Eric                         | 2636.8947368                 | 251.21917808                 | 8.6983819                    | \n",
       "| 253 | 314021388                    | Dakabin - Kallangur          | Eric                         | 3175.4315789                 | 304.93150685                 | 8.7614855                    | \n",
       "| 180 | 310011271                    | Darra - Sumner               | Charlie                      | 5094.9894737                 | 493.56164384                 | 8.8316566                    | \n",
       "| 205 | 310041303                    | Springfield                  | Charlie                      | 1732.1368421                 | 169.67123288                 | 8.9215750                    | \n",
       "| 283 | 316061441                    | Glass House Mountains        | Charlie                      |  292.8631579                 |  30.01369863                 | 9.2957107                    | \n",
       "| 102 | 304041104                    | Upper Kedron - Ferny Grove   | Steff                        | 6163.9789474                 | 637.38356164                 | 9.3714099                    | \n",
       "| 188 | 310021281                    | Lowood                       | Eric                         |   48.7157895                 |   5.04109589                 | 9.3775818                    | \n",
       "| ... | ... | ... | ... | ... | ... | ... | \n",
       "| 152 | 309031240                       | Runaway Bay                     | Dave                            |   785.3789474                   |   333.4246575                   | 29.80189                        | \n",
       "| 107 | 305011109                       | New Farm                        | Steff                           |  7038.9157895                   |  2999.7671233                   | 29.88208                        | \n",
       "| 89 | 304021089                       | Fig Tree Pocket                 | Steff                           |   823.2210526                   |   366.5068493                   | 30.80594                        | \n",
       "| 157 | 309061248                       | Nerang - Mount Nathan           | Charlie                         |  6234.4736842                   |  2845.3424658                   | 31.33701                        | \n",
       "| 174 | 309091540                       | Southport - North               | Eric                            | 28578.1789474                   | 13352.6986301                   | 31.84455                        | \n",
       "| 275 | 316031428                       | Mooloolaba - Alexandra Headland | Charlie                         |  2027.7789474                   |   952.6986301                   | 31.96463                        | \n",
       "| 277 | 316051435                       | Noosaville                      | Dave                            |  1142.3684211                   |   561.2602740                   | 32.94499                        | \n",
       "| 288 | 316071547                       | Eumundi - Yandina               | Charlie                         |   253.3368421                   |   125.7534247                   | 33.17242                        | \n",
       "| 108 | 305011110                       | South Brisbane                  | Steff                           | 78962.1263158                   | 40138.4931507                   | 33.70133                        | \n",
       "| 272 | 316031425                       | Coolum Beach                    | Dave                            |   857.3894737                   |   440.2876712                   | 33.92891                        | \n",
       "| 148 | 309031236                       | Biggera Waters                  | Charlie                         |  2833.3473684                   |  1488.2191781                   | 34.43703                        | \n",
       "| 69 | 303041069                       | Robertson                       | Dave                            |  4542.3894737                   |  2440.7123288                   | 34.95169                        | \n",
       "| 155 | 309061246                       | Carrara                         | Charlie                         |   559.2421053                   |   300.7945205                   | 34.97462                        | \n",
       "| 167 | 309081259                       | Clear Island Waters             | Kate                            |    81.4842105                   |    43.8356164                   | 34.97900                        | \n",
       "| 146 | 309021234                       | Palm Beach                      | Charlie                         |  2059.1473684                   |  1147.7397260                   | 35.78984                        | \n",
       "| 36 | 302031036                       | Brisbane Airport                | Steff                           |  2181.2421053                   |  1247.9726027                   | 36.39237                        | \n",
       "| 122 | 305031124                       | Hamilton (Qld)                  | Steff                           |  2722.1473684                   |  1564.8904110                   | 36.50284                        | \n",
       "| 276 | 316051434                       | Noosa Heads                     | Kate                            |  2080.7578947                   |  1208.7945205                   | 36.74647                        | \n",
       "| 280 | 316051543                       | Peregian Beach - Marcus Beach   | Kate                            |   295.4631579                   |   178.6027397                   | 37.67467                        | \n",
       "| 136 | 309011224                       | Broadbeach Waters               | Kate                            |  1244.7684211                   |   769.6301370                   | 38.20645                        | \n",
       "| 1 | 112031254                       | Tweed Heads                     | Eric                            |   737.1473684                   |   462.1917808                   | 38.53720                        | \n",
       "| 143 | 309021231                       | Currumbin - Tugun               | Charlie                         |  2852.1684211                   |  1803.8767123                   | 38.74268                        | \n",
       "| 141 | 309011229                       | Miami                           | Dave                            |  1193.8000000                   |   767.1232877                   | 39.12051                        | \n",
       "| 61 | 303031061                       | Macgregor (Qld)                 | Dave                            |  1650.8631579                   |  1083.4931507                   | 39.62516                        | \n",
       "| 178 | 309101269                       | Main Beach                      | Kate                            |  2353.9052632                   |  1552.5753425                   | 39.74358                        | \n",
       "| 137 | 309011225                       | Burleigh Heads                  | Dave                            |  2276.2421053                   |  1505.6575342                   | 39.81220                        | \n",
       "| 142 | 309021230                       | Coolangatta                     | Charlie                         |  1252.8736842                   |   884.5890411                   | 41.38500                        | \n",
       "| 139 | 309011227                       | Mermaid Beach - Broadbeach      | Dave                            | 18843.8947368                   | 14780.8356164                   | 43.95823                        | \n",
       "| 293 | 319031514                       | Gympie Region                   | Eric                            |     0.4526316                   |     0.3561644                   | 44.03637                        | \n",
       "| 179 | 309101270                       | Surfers Paradise                | Charlie                         | 21376.1052632                   | 17817.6027397                   | 45.46037                        | \n",
       "\n",
       "\n"
      ],
      "text/plain": [
       "    SA2Code   SA2Name                         Team_Member\n",
       "218 311031318 Munruben - Park Ridge South     Dave       \n",
       "252 314011387 Samford Valley                  Steff      \n",
       "93  304031093 Corinda                         Steff      \n",
       "11  301021011 Sheldon - Mount Cotton          Steff      \n",
       "238 313021367 Elimbah                         Charlie    \n",
       "221 311051324 Cornubia - Carbrook             Kate       \n",
       "207 311011305 Beaudesert                      Eric       \n",
       "43  302041043 Deagon                          Charlie    \n",
       "250 314011385 Eatons Hill                     Steff      \n",
       "251 314011386 The Hills District              Kate       \n",
       "242 313041375 Narangba                        Dave       \n",
       "229 311061332 Rochedale South - Priestdale    Dave       \n",
       "19  301031019 Wakerley                        Steff      \n",
       "185 310011276 Wacol                           Eric       \n",
       "9   301021008 Ormiston                        Kate       \n",
       "165 309071257 Pimpama                         Charlie    \n",
       "240 313041372 Burpengary                      Charlie    \n",
       "249 314011383 Cashmere                        Kate       \n",
       "22  302011022 Bald Hills                      Dave       \n",
       "6   301011005 Thorneside                      Charlie    \n",
       "256 314031391 Bray Park                       Charlie    \n",
       "216 311031316 Hillcrest                       Charlie    \n",
       "26  302011026 McDowall                        Steff      \n",
       "191 310031284 Bundamba                        Eric       \n",
       "253 314021388 Dakabin - Kallangur             Eric       \n",
       "180 310011271 Darra - Sumner                  Charlie    \n",
       "205 310041303 Springfield                     Charlie    \n",
       "283 316061441 Glass House Mountains           Charlie    \n",
       "102 304041104 Upper Kedron - Ferny Grove      Steff      \n",
       "188 310021281 Lowood                          Eric       \n",
       "... ...       ...                             ...        \n",
       "152 309031240 Runaway Bay                     Dave       \n",
       "107 305011109 New Farm                        Steff      \n",
       "89  304021089 Fig Tree Pocket                 Steff      \n",
       "157 309061248 Nerang - Mount Nathan           Charlie    \n",
       "174 309091540 Southport - North               Eric       \n",
       "275 316031428 Mooloolaba - Alexandra Headland Charlie    \n",
       "277 316051435 Noosaville                      Dave       \n",
       "288 316071547 Eumundi - Yandina               Charlie    \n",
       "108 305011110 South Brisbane                  Steff      \n",
       "272 316031425 Coolum Beach                    Dave       \n",
       "148 309031236 Biggera Waters                  Charlie    \n",
       "69  303041069 Robertson                       Dave       \n",
       "155 309061246 Carrara                         Charlie    \n",
       "167 309081259 Clear Island Waters             Kate       \n",
       "146 309021234 Palm Beach                      Charlie    \n",
       "36  302031036 Brisbane Airport                Steff      \n",
       "122 305031124 Hamilton (Qld)                  Steff      \n",
       "276 316051434 Noosa Heads                     Kate       \n",
       "280 316051543 Peregian Beach - Marcus Beach   Kate       \n",
       "136 309011224 Broadbeach Waters               Kate       \n",
       "1   112031254 Tweed Heads                     Eric       \n",
       "143 309021231 Currumbin - Tugun               Charlie    \n",
       "141 309011229 Miami                           Dave       \n",
       "61  303031061 Macgregor (Qld)                 Dave       \n",
       "178 309101269 Main Beach                      Kate       \n",
       "137 309011225 Burleigh Heads                  Dave       \n",
       "142 309021230 Coolangatta                     Charlie    \n",
       "139 309011227 Mermaid Beach - Broadbeach      Dave       \n",
       "293 319031514 Gympie Region                   Eric       \n",
       "179 309101270 Surfers Paradise                Charlie    \n",
       "    normalised_working_time normalised_non_working_time norm_weekend_percentage\n",
       "218    2.8736842              0.01369863                0.4744307              \n",
       "252    6.3789474              0.06849315                1.0623309              \n",
       "93   834.4000000             14.38356164                1.6946089              \n",
       "11   221.3157895             12.58904110                5.3821210              \n",
       "238  125.4947368              7.98630137                5.9830980              \n",
       "221   59.3473684              4.24657534                6.6776411              \n",
       "207    0.1684211              0.01369863                7.5217736              \n",
       "43  2163.8842105            179.57534247                7.6628309              \n",
       "250  384.6105263             32.50684932                7.7932139              \n",
       "251  654.7157895             55.36986301                7.7976316              \n",
       "242 2991.1684211            257.64383562                7.9304009              \n",
       "229 1069.3894737             92.45205479                7.9573722              \n",
       "19   709.8736842             61.52054795                7.9752409              \n",
       "185 2248.8842105            198.26027397                8.1016987              \n",
       "9   1216.4842105            108.35616438                8.1788090              \n",
       "165 1261.9368421            114.43835616                8.3144739              \n",
       "240 2581.8000000            235.04109589                8.3441376              \n",
       "249  299.1684211             27.63013699                8.4547916              \n",
       "22  2454.7578947            226.87671233                8.4603887              \n",
       "6    797.2526316             73.90410959                8.4834458              \n",
       "256  609.8736842             56.97260274                8.5435885              \n",
       "216  296.1368421             28.08219178                8.6614877              \n",
       "26   957.9578947             91.02739726                8.6776619              \n",
       "191 2636.8947368            251.21917808                8.6983819              \n",
       "253 3175.4315789            304.93150685                8.7614855              \n",
       "180 5094.9894737            493.56164384                8.8316566              \n",
       "205 1732.1368421            169.67123288                8.9215750              \n",
       "283  292.8631579             30.01369863                9.2957107              \n",
       "102 6163.9789474            637.38356164                9.3714099              \n",
       "188   48.7157895              5.04109589                9.3775818              \n",
       "... ...                     ...                         ...                    \n",
       "152   785.3789474             333.4246575               29.80189               \n",
       "107  7038.9157895            2999.7671233               29.88208               \n",
       "89    823.2210526             366.5068493               30.80594               \n",
       "157  6234.4736842            2845.3424658               31.33701               \n",
       "174 28578.1789474           13352.6986301               31.84455               \n",
       "275  2027.7789474             952.6986301               31.96463               \n",
       "277  1142.3684211             561.2602740               32.94499               \n",
       "288   253.3368421             125.7534247               33.17242               \n",
       "108 78962.1263158           40138.4931507               33.70133               \n",
       "272   857.3894737             440.2876712               33.92891               \n",
       "148  2833.3473684            1488.2191781               34.43703               \n",
       "69   4542.3894737            2440.7123288               34.95169               \n",
       "155   559.2421053             300.7945205               34.97462               \n",
       "167    81.4842105              43.8356164               34.97900               \n",
       "146  2059.1473684            1147.7397260               35.78984               \n",
       "36   2181.2421053            1247.9726027               36.39237               \n",
       "122  2722.1473684            1564.8904110               36.50284               \n",
       "276  2080.7578947            1208.7945205               36.74647               \n",
       "280   295.4631579             178.6027397               37.67467               \n",
       "136  1244.7684211             769.6301370               38.20645               \n",
       "1     737.1473684             462.1917808               38.53720               \n",
       "143  2852.1684211            1803.8767123               38.74268               \n",
       "141  1193.8000000             767.1232877               39.12051               \n",
       "61   1650.8631579            1083.4931507               39.62516               \n",
       "178  2353.9052632            1552.5753425               39.74358               \n",
       "137  2276.2421053            1505.6575342               39.81220               \n",
       "142  1252.8736842             884.5890411               41.38500               \n",
       "139 18843.8947368           14780.8356164               43.95823               \n",
       "293     0.4526316               0.3561644               44.03637               \n",
       "179 21376.1052632           17817.6027397               45.46037               "
      ]
     },
     "metadata": {},
     "output_type": "display_data"
    }
   ],
   "source": [
    "options(scipen=999) # to temporarily disable R's habit of automatically swapping to scientific notation\n",
    "working_dataset1 <- SA2_combined %>% group_by(SA2Code, SA2Name, Team_Member) %>% summarise(normalised_working_time = sum(normalised_working_time))\n",
    "working_dataset2 <- SA2_combined %>% group_by(SA2Code) %>% summarise(normalised_non_working_time = sum(normalised_non_working_time))\n",
    "trips_commute_per_SA2 <- merge(working_dataset1, working_dataset2, by=\"SA2Code\")\n",
    "trips_commute_per_SA2$norm_weekend_percentage <- with(trips_commute_per_SA2, (normalised_non_working_time/(normalised_working_time + normalised_non_working_time)) * 100)\n",
    "trips_commute_per_SA2 <- trips_commute_per_SA2[order(trips_commute_per_SA2$norm_weekend_percentage),]\n",
    "#head(trips_commute_per_SA2)\n",
    "trips_commute_per_SA2\n",
    "options(scipen=0) # to restore R's default functionality"
   ]
  },
  {
   "cell_type": "code",
   "execution_count": 21,
   "metadata": {},
   "outputs": [
    {
     "data": {
      "text/plain": [
       "   Min. 1st Qu.  Median    Mean 3rd Qu.    Max. \n",
       " 0.4744 12.9022 16.7584 18.5170 22.7611 45.4604 "
      ]
     },
     "metadata": {},
     "output_type": "display_data"
    }
   ],
   "source": [
    "summary(trips_commute_per_SA2$norm_weekend_percentage)\n",
    "# write.csv(trips_commute_per_SA2,\"SA2__norm_weekend_percentage.csv\", row.names = FALSE) # in case you want a copy to play\n",
    "# around with - uploading to my Dave Outputs folder on Google Drive"
   ]
  },
  {
   "cell_type": "markdown",
   "metadata": {},
   "source": [
    "At this point, it is clear that there are no SA2 areas that has more public transport outside of working hours than there is during hours (despite finding that this is true with ~50 individual stops). There are a few SA2 areas that are above 40% non-commute travel, which are:\n",
    "\n",
    "- Surfers Paradise\n",
    "- Gympie Region *\n",
    "- Mermaid Beach - Broadbeach\n",
    "- Coolangatta\n",
    "\n",
    "With the exception of Gympie Region - all of these areas are popular tourist stops, so this result isn't an illogical one. (Gympie Region is an outlier, but has an extremely number of trips to use as a comparison).\n",
    "\n",
    "Final steps in this analysis is to break the SA2 groups into our assigned categories to consider if there are any differences based on SAD index."
   ]
  },
  {
   "cell_type": "code",
   "execution_count": 28,
   "metadata": {},
   "outputs": [
    {
     "data": {
      "text/plain": [
       "    SA2Code            SA2Name          Team_Member       \n",
       " Min.   :301011002   Length:61          Length:61         \n",
       " 1st Qu.:304011084   Class :character   Class :character  \n",
       " Median :304041104   Mode  :character   Mode  :character  \n",
       " Mean   :304418316                                        \n",
       " 3rd Qu.:305031122                                        \n",
       " Max.   :314011387                                        \n",
       " normalised_working_time normalised_non_working_time norm_weekend_percentage\n",
       " Min.   :     6.38       Min.   :    0.07            Min.   : 1.062         \n",
       " 1st Qu.:   927.66       1st Qu.:  132.12            1st Qu.:12.867         \n",
       " Median :  2811.19       Median :  617.97            Median :16.931         \n",
       " Mean   :  8813.81       Mean   : 2936.29            Mean   :17.632         \n",
       " 3rd Qu.:  5562.94       3rd Qu.: 1220.75            3rd Qu.:21.740         \n",
       " Max.   :207703.65       Max.   :71465.56            Max.   :36.503         "
      ]
     },
     "metadata": {},
     "output_type": "display_data"
    }
   ],
   "source": [
    "# Note - to use this code block, only uncomment one of the indiv_data lines. Trying to use more than one will overwrite with \n",
    "# the last one and not give the desired result.\n",
    "\n",
    "# indiv_data <- subset(trips_commute_per_SA2, Team_Member == \"Eric\") # only consider Eric's SA2 areas\n",
    "# indiv_data <- subset(trips_commute_per_SA2, Team_Member == \"Charlie\") # only consider Charlie's SA2 areas\n",
    "# indiv_data <- subset(trips_commute_per_SA2, Team_Member == \"Dave\") # only consider my SA2 areas\n",
    "# indiv_data <- subset(trips_commute_per_SA2, Team_Member == \"Kate\") # only consider Kate's SA2 areas\n",
    "indiv_data <- subset(trips_commute_per_SA2, Team_Member == \"Steff\") # only consider Steff's SA2 areas\n",
    "summary(indiv_data)"
   ]
  },
  {
   "cell_type": "markdown",
   "metadata": {},
   "source": [
    "Norm_weekend_percentage:\n",
    "- ALL SA2 - has scores between 0.47% and 45.56%, median is 16.76%, mean is 18.52%\n",
    "- Eric - has scores between 7.52% and 44.04%, median is 14.80%, mean is 17.02% (more commuter-focused that average)\n",
    "- Charlie - has scores between 5.98% and 45.46%, median is 19.82%, mean is 20.14% (less commuter-focused than average)\n",
    "- Dave - has scores between 0.47% and 43.99%, median is 17.55%, mean is 19.85% (less commuter-focused than average)\n",
    "- Kate - has scores between 6.68% and 39.74%, median of 15.91%, mean of 17.92% (more commuter-focused than average)\n",
    "- Steff - has scores between 1.06% and 36.50%, median is 16.93%, mean of 17.63% (pretty close to average, depending on whether you take mean or median)\n",
    "\n",
    "In short - no discernable pattern, so it's probably independant of socio-economic status."
   ]
  }
 ],
 "metadata": {
  "kernelspec": {
   "display_name": "R",
   "language": "R",
   "name": "ir"
  },
  "language_info": {
   "codemirror_mode": "r",
   "file_extension": ".r",
   "mimetype": "text/x-r-source",
   "name": "R",
   "pygments_lexer": "r",
   "version": "3.4.3"
  }
 },
 "nbformat": 4,
 "nbformat_minor": 2
}
